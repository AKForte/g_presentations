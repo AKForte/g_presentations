{
 "cells": [
  {
   "cell_type": "markdown",
   "metadata": {},
   "source": [
    "## Connect to the GIS"
   ]
  },
  {
   "cell_type": "code",
   "execution_count": 7,
   "metadata": {
    "collapsed": true
   },
   "outputs": [],
   "source": [
    "from arcgis.gis import *\n",
    "from arcgis import geoanalytics\n",
    "gis = GIS(\"https://dev003735.esri.com/portal\", \"admin\", \"esri.agp\")"
   ]
  },
  {
   "cell_type": "markdown",
   "metadata": {},
   "source": [
    "## Get the data store manger for gax server and list the data stores"
   ]
  },
  {
   "cell_type": "code",
   "execution_count": 6,
   "metadata": {
    "collapsed": false
   },
   "outputs": [
    {
     "data": {
      "text/plain": [
       "<DatastoreManager for https://dev003736.esri.com:6443/arcgis/admin>"
      ]
     },
     "execution_count": 6,
     "metadata": {},
     "output_type": "execute_result"
    }
   ],
   "source": [
    "dm_list = geoanalytics.get_datastores()\n",
    "dm_list"
   ]
  },
  {
   "cell_type": "code",
   "execution_count": 9,
   "metadata": {
    "collapsed": false
   },
   "outputs": [
    {
     "data": {
      "text/plain": [
       "[]"
      ]
     },
     "execution_count": 9,
     "metadata": {},
     "output_type": "execute_result"
    }
   ],
   "source": [
    "gax_dm = dm_list\n",
    "gax_dm.search()"
   ]
  },
  {
   "cell_type": "markdown",
   "metadata": {},
   "source": [
    "## Search my contents for big data file share items"
   ]
  },
  {
   "cell_type": "code",
   "execution_count": 10,
   "metadata": {
    "collapsed": false
   },
   "outputs": [
    {
     "data": {
      "text/plain": [
       "[]"
      ]
     },
     "execution_count": 10,
     "metadata": {},
     "output_type": "execute_result"
    }
   ],
   "source": [
    "BDFS_search_result = gis.content.search(\"\", item_type = \"big data file share\")\n",
    "BDFS_search_result"
   ]
  },
  {
   "cell_type": "markdown",
   "metadata": {},
   "source": [
    "## Add a big data file share"
   ]
  },
  {
   "cell_type": "code",
   "execution_count": 11,
   "metadata": {
    "collapsed": false
   },
   "outputs": [
    {
     "name": "stdout",
     "output_type": "stream",
     "text": [
      "Created Big Data file share for hurricanes_all\n"
     ]
    },
    {
     "data": {
      "text/plain": [
       "<Datastore title:\"/bigDataFileShares/hurricanes_all\" type:\"bigDataFileShare\">"
      ]
     },
     "execution_count": 11,
     "metadata": {},
     "output_type": "execute_result"
    }
   ],
   "source": [
    "gax_dm.add_bigdata(\"hurricanes_all\", '\\\\teton\\Atma_shared\\datasets\\big_data\\hurricanes\\full_dataset')"
   ]
  },
  {
   "cell_type": "code",
   "execution_count": 14,
   "metadata": {
    "collapsed": false
   },
   "outputs": [],
   "source": [
    "ds1 = gax_dm.search()[0]"
   ]
  },
  {
   "cell_type": "code",
   "execution_count": 18,
   "metadata": {
    "collapsed": false
   },
   "outputs": [
    {
     "data": {
      "text/plain": [
       "{'connectionString': '{crypt}LhHgS062epk3nd8dDcq0j6OZVIC1rG+4JAFaJSDFi3ojB7P2ig5V3STpIQmIQQhUzGNui942Ua8LLDNrEatujimxTbQkMAx6',\n",
       " 'connectionType': 'fileShare'}"
      ]
     },
     "execution_count": 18,
     "metadata": {},
     "output_type": "execute_result"
    }
   ],
   "source": [
    "ds1.info"
   ]
  },
  {
   "cell_type": "code",
   "execution_count": 6,
   "metadata": {
    "collapsed": false
   },
   "outputs": [
    {
     "data": {
      "text/plain": [
       "'https://dev002857.esri.com/arcgis/rest/services/DataStoreCatalogs/bigDataFileShares_ht_ui5/BigDataCatalogServer'"
      ]
     },
     "execution_count": 6,
     "metadata": {},
     "output_type": "execute_result"
    }
   ],
   "source": [
    "split_data_item = BDFS_search_result[0]\n",
    "split_data_item.url"
   ]
  },
  {
   "cell_type": "code",
   "execution_count": 7,
   "metadata": {
    "collapsed": false
   },
   "outputs": [
    {
     "data": {
      "text/plain": [
       "[<Layer url:\"https://dev002857.esri.com/arcgis/rest/services/DataStoreCatalogs/bigDataFileShares_ht_ui5/BigDataCatalogServer/h1842_h1852\">,\n",
       " <Layer url:\"https://dev002857.esri.com/arcgis/rest/services/DataStoreCatalogs/bigDataFileShares_ht_ui5/BigDataCatalogServer/h1852_h1862\">,\n",
       " <Layer url:\"https://dev002857.esri.com/arcgis/rest/services/DataStoreCatalogs/bigDataFileShares_ht_ui5/BigDataCatalogServer/h1862_h1872\">,\n",
       " <Layer url:\"https://dev002857.esri.com/arcgis/rest/services/DataStoreCatalogs/bigDataFileShares_ht_ui5/BigDataCatalogServer/h1872_h1882\">,\n",
       " <Layer url:\"https://dev002857.esri.com/arcgis/rest/services/DataStoreCatalogs/bigDataFileShares_ht_ui5/BigDataCatalogServer/h1882_h1892\">,\n",
       " <Layer url:\"https://dev002857.esri.com/arcgis/rest/services/DataStoreCatalogs/bigDataFileShares_ht_ui5/BigDataCatalogServer/h1892_h1902\">,\n",
       " <Layer url:\"https://dev002857.esri.com/arcgis/rest/services/DataStoreCatalogs/bigDataFileShares_ht_ui5/BigDataCatalogServer/h1902_h1912\">,\n",
       " <Layer url:\"https://dev002857.esri.com/arcgis/rest/services/DataStoreCatalogs/bigDataFileShares_ht_ui5/BigDataCatalogServer/h1912_h1922\">,\n",
       " <Layer url:\"https://dev002857.esri.com/arcgis/rest/services/DataStoreCatalogs/bigDataFileShares_ht_ui5/BigDataCatalogServer/h1922_h1932\">,\n",
       " <Layer url:\"https://dev002857.esri.com/arcgis/rest/services/DataStoreCatalogs/bigDataFileShares_ht_ui5/BigDataCatalogServer/h1932_h1942\">]"
      ]
     },
     "execution_count": 7,
     "metadata": {},
     "output_type": "execute_result"
    }
   ],
   "source": [
    "split_data_item.layers"
   ]
  },
  {
   "cell_type": "code",
   "execution_count": 8,
   "metadata": {
    "collapsed": false
   },
   "outputs": [
    {
     "data": {
      "text/plain": [
       "[<Layer url:\"https://dev002857.esri.com/arcgis/rest/services/DataStoreCatalogs/bigDataFileShares_full_dataset3/BigDataCatalogServer/full_dataset\">]"
      ]
     },
     "execution_count": 8,
     "metadata": {},
     "output_type": "execute_result"
    }
   ],
   "source": [
    "fullds_data_item = BDFS_search_result[5]\n",
    "fullds_data_item.layers"
   ]
  },
  {
   "cell_type": "markdown",
   "metadata": {},
   "source": [
    "# Aggregate using Reconstruct tracks big data task"
   ]
  },
  {
   "cell_type": "code",
   "execution_count": 9,
   "metadata": {
    "collapsed": true
   },
   "outputs": [],
   "source": [
    "input_layer = fullds_data_item.layers[0]"
   ]
  },
  {
   "cell_type": "markdown",
   "metadata": {},
   "source": [
    "### Inspect the manifest"
   ]
  },
  {
   "cell_type": "code",
   "execution_count": 10,
   "metadata": {
    "collapsed": true
   },
   "outputs": [],
   "source": [
    "ds_obj = gax_dm.search()[2]"
   ]
  },
  {
   "cell_type": "code",
   "execution_count": 11,
   "metadata": {
    "collapsed": false
   },
   "outputs": [
    {
     "data": {
      "text/plain": [
       "{'datasets': [{'format': {'extension': 'shp', 'type': 'shapefile'},\n",
       "   'geometry': {'geometryType': 'esriGeometryPoint',\n",
       "    'spatialReference': {'wkid': 4326}},\n",
       "   'name': 'full_dataset',\n",
       "   'schema': {'fields': [{'name': 'serial_num', 'type': 'esriFieldTypeString'},\n",
       "     {'name': 'season', 'type': 'esriFieldTypeBigInteger'},\n",
       "     {'name': 'num', 'type': 'esriFieldTypeBigInteger'},\n",
       "     {'name': 'basin', 'type': 'esriFieldTypeString'},\n",
       "     {'name': 'sub_basin', 'type': 'esriFieldTypeString'},\n",
       "     {'name': 'name', 'type': 'esriFieldTypeString'},\n",
       "     {'name': 'iso_time', 'type': 'esriFieldTypeString'},\n",
       "     {'name': 'nature', 'type': 'esriFieldTypeString'},\n",
       "     {'name': 'latitude', 'type': 'esriFieldTypeDouble'},\n",
       "     {'name': 'longitude', 'type': 'esriFieldTypeDouble'},\n",
       "     {'name': 'wind_wmo_', 'type': 'esriFieldTypeDouble'},\n",
       "     {'name': 'pres_wmo_', 'type': 'esriFieldTypeBigInteger'},\n",
       "     {'name': 'center', 'type': 'esriFieldTypeString'},\n",
       "     {'name': 'wind_wmo1', 'type': 'esriFieldTypeDouble'},\n",
       "     {'name': 'pres_wmo1', 'type': 'esriFieldTypeDouble'},\n",
       "     {'name': 'track_type', 'type': 'esriFieldTypeString'},\n",
       "     {'name': 'size', 'type': 'esriFieldTypeString'},\n",
       "     {'name': 'Wind', 'type': 'esriFieldTypeBigInteger'}]},\n",
       "   'time': {'fields': [{'formats': ['yyyy-MM-dd HH:mm:ss'],\n",
       "      'name': 'iso_time'}],\n",
       "    'timeReference': {'timeZone': 'UTC'},\n",
       "    'timeType': 'instant'}}]}"
      ]
     },
     "execution_count": 11,
     "metadata": {},
     "output_type": "execute_result"
    }
   ],
   "source": [
    "ds_obj.manifest"
   ]
  },
  {
   "cell_type": "markdown",
   "metadata": {},
   "source": [
    "## Execute big data tool"
   ]
  },
  {
   "cell_type": "code",
   "execution_count": 13,
   "metadata": {
    "collapsed": false
   },
   "outputs": [
    {
     "name": "stdout",
     "output_type": "stream",
     "text": [
      "Submitted.\n",
      "Executing...\n",
      "Executing (ReconstructTracks): ReconstructTracks \"Feature Set\" Serial_Num Geodesic # # # # {\"serviceProperties\":{\"serviceUrl\":\"http://Dev002759.esri.com/server/rest/services/Hosted/hurricane_tracks_agg_result_fullds5/FeatureServer\",\"name\":\"hurricane_tracks_agg_result_fullds5\"},\"itemProperties\":{\"itemId\":\"09599c5fd6904109b543b38d3224f6ed\"}} {}\n",
      "Start Time: Mon Oct 17 11:36:17 2016\n",
      "Using URL based GPRecordSet param: https://dev002857.esri.com/arcgis/rest/services/DataStoreCatalogs/bigDataFileShares_full_dataset3/BigDataCatalogServer/full_dataset\n",
      "{\"messageCode\":\"BD_101028\",\"message\":\"Starting new distributed job with 8 tasks.\",\"params\":{\"totalTasks\":\"8\"}}\n",
      "{\"messageCode\":\"BD_101029\",\"message\":\"1/8 distributed tasks completed.\",\"params\":{\"completedTasks\":\"1\",\"totalTasks\":\"8\"}}\n",
      "{\"messageCode\":\"BD_101029\",\"message\":\"5/8 distributed tasks completed.\",\"params\":{\"completedTasks\":\"5\",\"totalTasks\":\"8\"}}\n",
      "{\"messageCode\":\"BD_101029\",\"message\":\"7/8 distributed tasks completed.\",\"params\":{\"completedTasks\":\"7\",\"totalTasks\":\"8\"}}\n",
      "{\"messageCode\":\"BD_101029\",\"message\":\"8/8 distributed tasks completed.\",\"params\":{\"completedTasks\":\"8\",\"totalTasks\":\"8\"}}\n",
      "  interval = Some(Interval(MutableInstant(1848-01-11 06:00:00.000),MutableInstant(1899-12-26 06:00:00.000)))\n",
      "  count = 568\n",
      "{\"messageCode\":\"BD_0\",\"message\":\"Feature service layer created: http://Dev002759.esri.com/server/rest/services/Hosted/hurricane_tracks_agg_result_fullds5/FeatureServer/0\",\"params\":{\"serviceUrl\":\"http://Dev002759.esri.com/server/rest/services/Hosted/hurricane_tracks_agg_result_fullds5/FeatureServer/0\"}}\n",
      "Possible issues were found while reading 'inputLayer'\n",
      " * Some records have no time values or the time values were unable to be parsed\n",
      "      > GenericFeature(attributes=[1900032S20050,1900,7,SI,MM,XXXX900274,2/1/1900 6:00,NR,-19.9,50.2,0.0,0,reunion,-100.0,-100.0,split,0,0],geometry={\"x\":50.2,\"y\":-19.9},time=null)\n",
      "      > GenericFeature(attributes=[1900032S20050,1900,7,SI,MM,XXXX900274,2/2/1900 6:00,NR,-20.8,51.1,0.0,0,reunion,-100.0,-100.0,split,0,0],geometry={\"x\":51.1,\"y\":-20.8},time=null)\n",
      "      > GenericFeature(attributes=[1900032S20050,1900,7,SI,MM,XXXX900274,2/3/1900 6:00,NR,-23.2,53.3,0.0,0,reunion,-100.0,-100.0,split,0,0],geometry={\"x\":53.3,\"y\":-23.2},time=null)\n",
      "Succeeded at Mon Oct 17 11:37:18 2016 (Elapsed Time: 1 minutes 0 seconds)\n"
     ]
    }
   ],
   "source": [
    "agg_result = gis.tools.bigdata.reconstruct_tracks(input_layer,\n",
    "                                                 track_fields = 'Serial_Num',\n",
    "                                                 output_name = 'hurricane_tracks_agg_result_fullds5',\n",
    "                                                 method = 'GEODESIC')"
   ]
  },
  {
   "cell_type": "markdown",
   "metadata": {},
   "source": [
    "# Analyze results"
   ]
  },
  {
   "cell_type": "code",
   "execution_count": 14,
   "metadata": {
    "collapsed": false
   },
   "outputs": [
    {
     "data": {
      "text/html": [
       "<div class=\"item_container\" style=\"height: auto; overflow: hidden; border: 1px solid #cfcfcf; border-radius: 2px; background: #f6fafa; line-height: 1.21429em; padding: 10px;\">\n",
       "                    <div class=\"item_left\" style=\"width: 210px; float: left;\">\n",
       "                       <a href='https://dev002759.esri.com/portal/home/item.html?id=2363c03312d64e1a997cd191b79d7e25' target='_blank'>\n",
       "                        <img src='https://dev002759.esri.com/portal/portalimages/desktopapp.png' class=\"itemThumbnail\">\n",
       "                       </a>\n",
       "                    </div>\n",
       "\n",
       "                    <div class=\"item_right\"     style=\"float: none; width: auto; overflow: hidden;\">\n",
       "                        <a href='https://dev002759.esri.com/portal/home/item.html?id=2363c03312d64e1a997cd191b79d7e25' target='_blank'><b>hurricane_tracks_agg_result_fullds</b>\n",
       "                        </a>\n",
       "                        <br/>Analysis Feature Service generated from ReconstructTracks<img src='https://dev002759.esri.com/portal/home/js/jsapi/esri/css/images/item_type_icons/featureshosted16.png' style=\"vertical-align:middle;\">Feature Service by admin\n",
       "                        <br/>Last Modified: October 16, 2016\n",
       "                        <br/>0 comments, 0 views\n",
       "                    </div>\n",
       "                </div>\n",
       "                "
      ],
      "text/plain": [
       "<Item title:\"hurricane_tracks_agg_result_fullds\" type:Feature Service owner:admin>"
      ]
     },
     "execution_count": 14,
     "metadata": {},
     "output_type": "execute_result"
    }
   ],
   "source": [
    "agg_result = gis.content.search(\"hurricane_tracks_agg_result_fullds\")[0]\n",
    "agg_result"
   ]
  },
  {
   "cell_type": "code",
   "execution_count": 15,
   "metadata": {
    "collapsed": true
   },
   "outputs": [],
   "source": [
    "map1 = gis.map()\n",
    "map1"
   ]
  },
  {
   "cell_type": "code",
   "execution_count": 16,
   "metadata": {
    "collapsed": true
   },
   "outputs": [],
   "source": [
    "map1.add_layer(agg_result)"
   ]
  },
  {
   "cell_type": "code",
   "execution_count": 17,
   "metadata": {
    "collapsed": true
   },
   "outputs": [],
   "source": [
    "map1.start_time = '1842'\n",
    "map1.end_time = '1852'"
   ]
  },
  {
   "cell_type": "markdown",
   "metadata": {},
   "source": [
    "## Analyze the attribute info"
   ]
  },
  {
   "cell_type": "code",
   "execution_count": 18,
   "metadata": {
    "collapsed": false
   },
   "outputs": [
    {
     "data": {
      "text/plain": [
       "[<FeatureLayer url:\"http://Dev002759.esri.com/server/rest/services/Hosted/hurricane_tracks_agg_result_fullds/FeatureServer/0\">]"
      ]
     },
     "execution_count": 18,
     "metadata": {},
     "output_type": "execute_result"
    }
   ],
   "source": [
    "from arcgis.lyr import FeatureService\n",
    "from pandas.io.json import json_normalize\n",
    "\n",
    "agg_result_FS = FeatureService(agg_result.url, gis)\n",
    "agg_result_FL = agg_result_FS.layers\n",
    "agg_result_FL"
   ]
  },
  {
   "cell_type": "code",
   "execution_count": 19,
   "metadata": {
    "collapsed": false
   },
   "outputs": [
    {
     "data": {
      "text/html": [
       "<div>\n",
       "<table border=\"1\" class=\"dataframe\">\n",
       "  <thead>\n",
       "    <tr style=\"text-align: right;\">\n",
       "      <th></th>\n",
       "      <th>ANY_basin</th>\n",
       "      <th>ANY_center</th>\n",
       "      <th>ANY_iso_time</th>\n",
       "      <th>ANY_name</th>\n",
       "      <th>ANY_nature</th>\n",
       "      <th>ANY_size</th>\n",
       "      <th>ANY_sub_basin</th>\n",
       "      <th>ANY_track_type</th>\n",
       "      <th>COUNT</th>\n",
       "      <th>COUNT_Wind</th>\n",
       "      <th>...</th>\n",
       "      <th>VAR_latitude</th>\n",
       "      <th>VAR_longitude</th>\n",
       "      <th>VAR_num</th>\n",
       "      <th>VAR_pres_wmo1</th>\n",
       "      <th>VAR_pres_wmo_</th>\n",
       "      <th>VAR_season</th>\n",
       "      <th>VAR_wind_wmo1</th>\n",
       "      <th>VAR_wind_wmo_</th>\n",
       "      <th>globalid</th>\n",
       "      <th>serial_num</th>\n",
       "    </tr>\n",
       "  </thead>\n",
       "  <tbody>\n",
       "    <tr>\n",
       "      <th>0</th>\n",
       "      <td>SI</td>\n",
       "      <td>reunion</td>\n",
       "      <td>1848-01-11 06:00:00</td>\n",
       "      <td>XXXX848002</td>\n",
       "      <td>NR</td>\n",
       "      <td>0</td>\n",
       "      <td>MM</td>\n",
       "      <td>main</td>\n",
       "      <td>6.0</td>\n",
       "      <td>6.0</td>\n",
       "      <td>...</td>\n",
       "      <td>69.869667</td>\n",
       "      <td>17.237667</td>\n",
       "      <td>0.0</td>\n",
       "      <td>0.000000</td>\n",
       "      <td>0.000000</td>\n",
       "      <td>0.0</td>\n",
       "      <td>0.000000</td>\n",
       "      <td>0.000000</td>\n",
       "      <td>None</td>\n",
       "      <td>1848011S15057</td>\n",
       "    </tr>\n",
       "    <tr>\n",
       "      <th>1</th>\n",
       "      <td>NA</td>\n",
       "      <td>atcf</td>\n",
       "      <td>1852-08-19 00:00:00</td>\n",
       "      <td>NOT NAMED</td>\n",
       "      <td>TS</td>\n",
       "      <td>60000</td>\n",
       "      <td>MM</td>\n",
       "      <td>main</td>\n",
       "      <td>45.0</td>\n",
       "      <td>45.0</td>\n",
       "      <td>...</td>\n",
       "      <td>31.379980</td>\n",
       "      <td>51.831545</td>\n",
       "      <td>0.0</td>\n",
       "      <td>822.206487</td>\n",
       "      <td>20522.688889</td>\n",
       "      <td>0.0</td>\n",
       "      <td>330.821730</td>\n",
       "      <td>490.909091</td>\n",
       "      <td>None</td>\n",
       "      <td>1852232N21293</td>\n",
       "    </tr>\n",
       "    <tr>\n",
       "      <th>2</th>\n",
       "      <td>NA</td>\n",
       "      <td>atcf</td>\n",
       "      <td>1852-09-22 00:00:00</td>\n",
       "      <td>NOT NAMED</td>\n",
       "      <td>TS</td>\n",
       "      <td>50000</td>\n",
       "      <td>MM</td>\n",
       "      <td>main</td>\n",
       "      <td>36.0</td>\n",
       "      <td>36.0</td>\n",
       "      <td>...</td>\n",
       "      <td>28.048159</td>\n",
       "      <td>25.096286</td>\n",
       "      <td>0.0</td>\n",
       "      <td>0.000000</td>\n",
       "      <td>0.000000</td>\n",
       "      <td>0.0</td>\n",
       "      <td>74.865499</td>\n",
       "      <td>100.634921</td>\n",
       "      <td>None</td>\n",
       "      <td>1852266N16302</td>\n",
       "    </tr>\n",
       "    <tr>\n",
       "      <th>3</th>\n",
       "      <td>SI</td>\n",
       "      <td>reunion</td>\n",
       "      <td>1854-02-01 06:00:00</td>\n",
       "      <td>XXXX854010</td>\n",
       "      <td>NR</td>\n",
       "      <td>0</td>\n",
       "      <td>MM</td>\n",
       "      <td>main</td>\n",
       "      <td>4.0</td>\n",
       "      <td>4.0</td>\n",
       "      <td>...</td>\n",
       "      <td>4.542500</td>\n",
       "      <td>2.615833</td>\n",
       "      <td>0.0</td>\n",
       "      <td>0.000000</td>\n",
       "      <td>0.000000</td>\n",
       "      <td>0.0</td>\n",
       "      <td>0.000000</td>\n",
       "      <td>0.000000</td>\n",
       "      <td>None</td>\n",
       "      <td>1854032S17059</td>\n",
       "    </tr>\n",
       "    <tr>\n",
       "      <th>4</th>\n",
       "      <td>SI</td>\n",
       "      <td>reunion</td>\n",
       "      <td>1854-03-01 06:00:00</td>\n",
       "      <td>XXXX854011</td>\n",
       "      <td>NR</td>\n",
       "      <td>0</td>\n",
       "      <td>MM</td>\n",
       "      <td>main</td>\n",
       "      <td>4.0</td>\n",
       "      <td>4.0</td>\n",
       "      <td>...</td>\n",
       "      <td>4.430000</td>\n",
       "      <td>0.042500</td>\n",
       "      <td>0.0</td>\n",
       "      <td>0.000000</td>\n",
       "      <td>0.000000</td>\n",
       "      <td>0.0</td>\n",
       "      <td>0.000000</td>\n",
       "      <td>0.000000</td>\n",
       "      <td>None</td>\n",
       "      <td>1854060S15069</td>\n",
       "    </tr>\n",
       "  </tbody>\n",
       "</table>\n",
       "<p>5 rows × 95 columns</p>\n",
       "</div>"
      ],
      "text/plain": [
       "  ANY_basin ANY_center         ANY_iso_time    ANY_name ANY_nature ANY_size  \\\n",
       "0        SI    reunion  1848-01-11 06:00:00  XXXX848002         NR        0   \n",
       "1        NA       atcf  1852-08-19 00:00:00   NOT NAMED         TS    60000   \n",
       "2        NA       atcf  1852-09-22 00:00:00   NOT NAMED         TS    50000   \n",
       "3        SI    reunion  1854-02-01 06:00:00  XXXX854010         NR        0   \n",
       "4        SI    reunion  1854-03-01 06:00:00  XXXX854011         NR        0   \n",
       "\n",
       "  ANY_sub_basin ANY_track_type  COUNT  COUNT_Wind      ...        \\\n",
       "0            MM           main    6.0         6.0      ...         \n",
       "1            MM           main   45.0        45.0      ...         \n",
       "2            MM           main   36.0        36.0      ...         \n",
       "3            MM           main    4.0         4.0      ...         \n",
       "4            MM           main    4.0         4.0      ...         \n",
       "\n",
       "   VAR_latitude  VAR_longitude  VAR_num  VAR_pres_wmo1  VAR_pres_wmo_  \\\n",
       "0     69.869667      17.237667      0.0       0.000000       0.000000   \n",
       "1     31.379980      51.831545      0.0     822.206487   20522.688889   \n",
       "2     28.048159      25.096286      0.0       0.000000       0.000000   \n",
       "3      4.542500       2.615833      0.0       0.000000       0.000000   \n",
       "4      4.430000       0.042500      0.0       0.000000       0.000000   \n",
       "\n",
       "   VAR_season  VAR_wind_wmo1  VAR_wind_wmo_  globalid     serial_num  \n",
       "0         0.0       0.000000       0.000000      None  1848011S15057  \n",
       "1         0.0     330.821730     490.909091      None  1852232N21293  \n",
       "2         0.0      74.865499     100.634921      None  1852266N16302  \n",
       "3         0.0       0.000000       0.000000      None  1854032S17059  \n",
       "4         0.0       0.000000       0.000000      None  1854060S15069  \n",
       "\n",
       "[5 rows x 95 columns]"
      ]
     },
     "execution_count": 19,
     "metadata": {},
     "output_type": "execute_result"
    }
   ],
   "source": [
    "query_result = agg_result_FL[0].query(out_fields = \"*\", returnGeometry = False)\n",
    "\n",
    "att_data_frame = json_normalize(query_result)\n",
    "att_data_frame.columns = att_data_frame.columns.str.replace(\"attributes.\",\"\")\n",
    "att_data_frame.head()"
   ]
  },
  {
   "cell_type": "code",
   "execution_count": 20,
   "metadata": {
    "collapsed": false
   },
   "outputs": [
    {
     "data": {
      "text/plain": [
       "(568, 95)"
      ]
     },
     "execution_count": 20,
     "metadata": {},
     "output_type": "execute_result"
    }
   ],
   "source": [
    "att_data_frame.shape"
   ]
  },
  {
   "cell_type": "code",
   "execution_count": 21,
   "metadata": {
    "collapsed": false
   },
   "outputs": [
    {
     "data": {
      "text/plain": [
       "Index(['ANY_basin', 'ANY_center', 'ANY_iso_time', 'ANY_name', 'ANY_nature',\n",
       "       'ANY_size', 'ANY_sub_basin', 'ANY_track_type', 'COUNT', 'COUNT_Wind',\n",
       "       'COUNT_basin', 'COUNT_center', 'COUNT_iso_time', 'COUNT_latitude',\n",
       "       'COUNT_longitude', 'COUNT_name', 'COUNT_nature', 'COUNT_num',\n",
       "       'COUNT_pres_wmo1', 'COUNT_pres_wmo_', 'COUNT_season', 'COUNT_size',\n",
       "       'COUNT_sub_basin', 'COUNT_track_type', 'COUNT_wind_wmo1',\n",
       "       'COUNT_wind_wmo_', 'END_DATETIME', 'MAX_Wind', 'MAX_latitude',\n",
       "       'MAX_longitude', 'MAX_num', 'MAX_pres_wmo1', 'MAX_pres_wmo_',\n",
       "       'MAX_season', 'MAX_wind_wmo1', 'MAX_wind_wmo_', 'MEAN_Wind',\n",
       "       'MEAN_latitude', 'MEAN_longitude', 'MEAN_num', 'MEAN_pres_wmo1',\n",
       "       'MEAN_pres_wmo_', 'MEAN_season', 'MEAN_wind_wmo1', 'MEAN_wind_wmo_',\n",
       "       'MIN_Wind', 'MIN_latitude', 'MIN_longitude', 'MIN_num', 'MIN_pres_wmo1',\n",
       "       'MIN_pres_wmo_', 'MIN_season', 'MIN_wind_wmo1', 'MIN_wind_wmo_',\n",
       "       'OBJECTID', 'RANGE_Wind', 'RANGE_latitude', 'RANGE_longitude',\n",
       "       'RANGE_num', 'RANGE_pres_wmo1', 'RANGE_pres_wmo_', 'RANGE_season',\n",
       "       'RANGE_wind_wmo1', 'RANGE_wind_wmo_', 'SD_Wind', 'SD_latitude',\n",
       "       'SD_longitude', 'SD_num', 'SD_pres_wmo1', 'SD_pres_wmo_', 'SD_season',\n",
       "       'SD_wind_wmo1', 'SD_wind_wmo_', 'START_DATETIME', 'SUM_Wind',\n",
       "       'SUM_latitude', 'SUM_longitude', 'SUM_num', 'SUM_pres_wmo1',\n",
       "       'SUM_pres_wmo_', 'SUM_season', 'SUM_wind_wmo1', 'SUM_wind_wmo_',\n",
       "       'TRACK_DURATION', 'VAR_Wind', 'VAR_latitude', 'VAR_longitude',\n",
       "       'VAR_num', 'VAR_pres_wmo1', 'VAR_pres_wmo_', 'VAR_season',\n",
       "       'VAR_wind_wmo1', 'VAR_wind_wmo_', 'globalid', 'serial_num'],\n",
       "      dtype='object')"
      ]
     },
     "execution_count": 21,
     "metadata": {},
     "output_type": "execute_result"
    }
   ],
   "source": [
    "att_data_frame.columns"
   ]
  },
  {
   "cell_type": "markdown",
   "metadata": {},
   "source": [
    "## Has the number of hurricanes increased over time?"
   ]
  },
  {
   "cell_type": "code",
   "execution_count": 22,
   "metadata": {
    "collapsed": false
   },
   "outputs": [],
   "source": [
    "sorted_df = att_data_frame.sort_values('MEAN_season')"
   ]
  },
  {
   "cell_type": "code",
   "execution_count": 23,
   "metadata": {
    "collapsed": false
   },
   "outputs": [],
   "source": [
    "hurricane_freq = sorted_df.groupby('MEAN_season').count()"
   ]
  },
  {
   "cell_type": "code",
   "execution_count": 24,
   "metadata": {
    "collapsed": false
   },
   "outputs": [],
   "source": [
    "%matplotlib inline\n",
    "import matplotlib.pyplot as plt\n",
    "import numpy as np"
   ]
  },
  {
   "cell_type": "code",
   "execution_count": 25,
   "metadata": {
    "collapsed": false
   },
   "outputs": [],
   "source": [
    "x = np.asarray(hurricane_freq.axes[0])\n",
    "y = np.asarray(hurricane_freq['COUNT'])"
   ]
  },
  {
   "cell_type": "code",
   "execution_count": 26,
   "metadata": {
    "collapsed": false
   },
   "outputs": [
    {
     "data": {
      "text/plain": [
       "<Container object of 51 artists>"
      ]
     },
     "execution_count": 26,
     "metadata": {},
     "output_type": "execute_result"
    },
    {
     "data": {
      "image/png": "[encoded data removed]",
      "text/plain": [
       "<matplotlib.figure.Figure at 0x14ee57b9e48>"
      ]
     },
     "metadata": {},
     "output_type": "display_data"
    }
   ],
   "source": [
    "fig, ax = plt.subplots()\n",
    "ax.bar(x, y)"
   ]
  },
  {
   "cell_type": "markdown",
   "metadata": {},
   "source": [
    "### Fit a trend line"
   ]
  },
  {
   "cell_type": "code",
   "execution_count": 27,
   "metadata": {
    "collapsed": false
   },
   "outputs": [
    {
     "data": {
      "text/plain": [
       "array([  8.51067944e-02,  -1.48434647e+02])"
      ]
     },
     "execution_count": 27,
     "metadata": {},
     "output_type": "execute_result"
    }
   ],
   "source": [
    "fit1 = np.polyfit(x, y, deg=1)\n",
    "fit1"
   ]
  },
  {
   "cell_type": "code",
   "execution_count": 28,
   "metadata": {
    "collapsed": false
   },
   "outputs": [
    {
     "data": {
      "text/plain": [
       "[<matplotlib.lines.Line2D at 0x14ee5fd1550>]"
      ]
     },
     "execution_count": 28,
     "metadata": {},
     "output_type": "execute_result"
    }
   ],
   "source": [
    "ax.plot(x, x*fit1[0] + fit1[1], color='red', linewidth=4)"
   ]
  },
  {
   "cell_type": "code",
   "execution_count": 29,
   "metadata": {
    "collapsed": false
   },
   "outputs": [
    {
     "data": {
      "image/png": "[encoded data removed]",
      "text/plain": [
       "<matplotlib.figure.Figure at 0x14ee57b9e48>"
      ]
     },
     "execution_count": 29,
     "metadata": {},
     "output_type": "execute_result"
    }
   ],
   "source": [
    "fig"
   ]
  },
  {
   "cell_type": "markdown",
   "metadata": {},
   "source": [
    "# Has the duration of hurricanes increased over time?"
   ]
  },
  {
   "cell_type": "code",
   "execution_count": 30,
   "metadata": {
    "collapsed": false
   },
   "outputs": [
    {
     "data": {
      "text/html": [
       "<div>\n",
       "<table border=\"1\" class=\"dataframe\">\n",
       "  <thead>\n",
       "    <tr style=\"text-align: right;\">\n",
       "      <th></th>\n",
       "      <th>MEAN_season</th>\n",
       "      <th>MAX_wind_wmo_</th>\n",
       "      <th>VAR_pres_wmo1</th>\n",
       "      <th>TRACK_DURATION</th>\n",
       "    </tr>\n",
       "  </thead>\n",
       "  <tbody>\n",
       "    <tr>\n",
       "      <th>0</th>\n",
       "      <td>1848.0</td>\n",
       "      <td>0.0</td>\n",
       "      <td>0.0</td>\n",
       "      <td>432000000</td>\n",
       "    </tr>\n",
       "    <tr>\n",
       "      <th>166</th>\n",
       "      <td>1848.0</td>\n",
       "      <td>0.0</td>\n",
       "      <td>0.0</td>\n",
       "      <td>518400000</td>\n",
       "    </tr>\n",
       "    <tr>\n",
       "      <th>350</th>\n",
       "      <td>1848.0</td>\n",
       "      <td>0.0</td>\n",
       "      <td>0.0</td>\n",
       "      <td>864000000</td>\n",
       "    </tr>\n",
       "    <tr>\n",
       "      <th>467</th>\n",
       "      <td>1851.0</td>\n",
       "      <td>0.0</td>\n",
       "      <td>0.0</td>\n",
       "      <td>604800000</td>\n",
       "    </tr>\n",
       "    <tr>\n",
       "      <th>352</th>\n",
       "      <td>1851.0</td>\n",
       "      <td>100.0</td>\n",
       "      <td>0.0</td>\n",
       "      <td>1015200000</td>\n",
       "    </tr>\n",
       "    <tr>\n",
       "      <th>468</th>\n",
       "      <td>1851.0</td>\n",
       "      <td>50.0</td>\n",
       "      <td>0.0</td>\n",
       "      <td>324000000</td>\n",
       "    </tr>\n",
       "    <tr>\n",
       "      <th>351</th>\n",
       "      <td>1851.0</td>\n",
       "      <td>0.0</td>\n",
       "      <td>0.0</td>\n",
       "      <td>172800000</td>\n",
       "    </tr>\n",
       "    <tr>\n",
       "      <th>167</th>\n",
       "      <td>1851.0</td>\n",
       "      <td>80.0</td>\n",
       "      <td>0.0</td>\n",
       "      <td>259200000</td>\n",
       "    </tr>\n",
       "    <tr>\n",
       "      <th>469</th>\n",
       "      <td>1851.0</td>\n",
       "      <td>60.0</td>\n",
       "      <td>0.0</td>\n",
       "      <td>324000000</td>\n",
       "    </tr>\n",
       "    <tr>\n",
       "      <th>2</th>\n",
       "      <td>1852.0</td>\n",
       "      <td>80.0</td>\n",
       "      <td>0.0</td>\n",
       "      <td>756000000</td>\n",
       "    </tr>\n",
       "  </tbody>\n",
       "</table>\n",
       "</div>"
      ],
      "text/plain": [
       "     MEAN_season  MAX_wind_wmo_  VAR_pres_wmo1  TRACK_DURATION\n",
       "0         1848.0            0.0            0.0       432000000\n",
       "166       1848.0            0.0            0.0       518400000\n",
       "350       1848.0            0.0            0.0       864000000\n",
       "467       1851.0            0.0            0.0       604800000\n",
       "352       1851.0          100.0            0.0      1015200000\n",
       "468       1851.0           50.0            0.0       324000000\n",
       "351       1851.0            0.0            0.0       172800000\n",
       "167       1851.0           80.0            0.0       259200000\n",
       "469       1851.0           60.0            0.0       324000000\n",
       "2         1852.0           80.0            0.0       756000000"
      ]
     },
     "execution_count": 30,
     "metadata": {},
     "output_type": "execute_result"
    }
   ],
   "source": [
    "intensity_df = sorted_df[['MEAN_season', 'MAX_wind_wmo_','VAR_pres_wmo1', 'TRACK_DURATION']]\n",
    "intensity_df.head(10)"
   ]
  },
  {
   "cell_type": "code",
   "execution_count": 31,
   "metadata": {
    "collapsed": false
   },
   "outputs": [],
   "source": [
    "np_season = np.asarray(intensity_df['MEAN_season'])\n",
    "np_wind = np.asarray(intensity_df['MAX_wind_wmo_'])\n",
    "np_pressure = np.asarray(intensity_df['VAR_pres_wmo1'])\n",
    "np_duration = np.asarray(intensity_df['TRACK_DURATION'] / (1000*60*60*24))"
   ]
  },
  {
   "cell_type": "code",
   "execution_count": 32,
   "metadata": {
    "collapsed": false
   },
   "outputs": [
    {
     "data": {
      "text/plain": [
       "<matplotlib.collections.PathCollection at 0x14ee20cdeb8>"
      ]
     },
     "execution_count": 32,
     "metadata": {},
     "output_type": "execute_result"
    },
    {
     "data": {
      "image/png": "[encoded data removed]",
      "text/plain": [
       "<matplotlib.figure.Figure at 0x14ee20cd438>"
      ]
     },
     "metadata": {},
     "output_type": "display_data"
    }
   ],
   "source": [
    "fig2, ax2 = plt.subplots()\n",
    "ax2.scatter(np_season, np_duration, color='green')"
   ]
  },
  {
   "cell_type": "code",
   "execution_count": 33,
   "metadata": {
    "collapsed": false
   },
   "outputs": [
    {
     "data": {
      "text/plain": [
       "array([  7.77924491e-02,  -1.39884370e+02])"
      ]
     },
     "execution_count": 33,
     "metadata": {},
     "output_type": "execute_result"
    }
   ],
   "source": [
    "fit2_1 = np.polyfit(np_season, np_duration, deg=1)\n",
    "ax2.plot(np_season, np_season * fit2_1[0] + fit2_1[1], linewidth=4, color='red')\n",
    "fit2_1"
   ]
  },
  {
   "cell_type": "code",
   "execution_count": 34,
   "metadata": {
    "collapsed": false
   },
   "outputs": [
    {
     "data": {
      "image/png": "[encoded data removed]",
      "text/plain": [
       "<matplotlib.figure.Figure at 0x14ee20cd438>"
      ]
     },
     "execution_count": 34,
     "metadata": {},
     "output_type": "execute_result"
    }
   ],
   "source": [
    "fig2"
   ]
  },
  {
   "cell_type": "code",
   "execution_count": null,
   "metadata": {
    "collapsed": true
   },
   "outputs": [],
   "source": []
  }
 ],
 "metadata": {
  "anaconda-cloud": {},
  "kernelspec": {
   "display_name": "Python 3",
   "language": "python",
   "name": "python3"
  },
  "language_info": {
   "codemirror_mode": {
    "name": "ipython",
    "version": 3
   },
   "file_extension": ".py",
   "mimetype": "text/x-python",
   "name": "python",
   "nbconvert_exporter": "python",
   "pygments_lexer": "ipython3",
   "version": "3.5.2"
  }
 },
 "nbformat": 4,
 "nbformat_minor": 0
}
