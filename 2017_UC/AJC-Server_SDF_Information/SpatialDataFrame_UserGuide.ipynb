{
 "cells": [
  {
   "cell_type": "markdown",
   "metadata": {},
   "source": [
    "## The Spatial DataFrame"
   ]
  },
  {
   "cell_type": "markdown",
   "metadata": {},
   "source": [
    "### What is a Spatial DataFrame?\n",
    "\n",
    "A Spatial DataFrame is an extension of a Pandas' DataFrame object, which is a labeled data structure with columns of potentially different types. The Spatial DataFrame can be thought of as a feature class or table loaded into memeory.  It has a geometry column and a series of attribute columns.  \n",
    "\n",
    "*Note:*\n",
    "- The Spatial DataFrame can be used to work with feature classes and feature layer data.  \n",
    "- The Spatial DataFrame is designed to work with Python **3**.\n",
    "- The Spatial DataFrame can import/export data to and from services.\n",
    "\n",
    "### Licensing and Data Frames\n",
    "\n",
    "The Spatial DataFrame is designed to be used with an authenticated GIS object **or** ArcGIS Pro ArcPy.  If both of those are missing, the Spatial DataFrame will throw an exception.\n",
    "\n"
   ]
  },
  {
   "cell_type": "markdown",
   "metadata": {},
   "source": [
    "## Creating a SpatialDataFrame\n",
    "\n",
    "Spatial Dataframe is used to work with service data or local data using Pandas.\n",
    "\n",
    "Data Frames can be created from local data, service data, or from other data frames.  "
   ]
  },
  {
   "cell_type": "markdown",
   "metadata": {},
   "source": [
    "#### From Service Layer"
   ]
  },
  {
   "cell_type": "code",
   "execution_count": 1,
   "metadata": {
    "collapsed": false
   },
   "outputs": [
    {
     "name": "stdout",
     "output_type": "stream",
     "text": [
      "········\n"
     ]
    }
   ],
   "source": [
    "from arcgis.features import SpatialDataFrame\n",
    "from arcgis.features import FeatureLayer\n",
    "from arcgis.gis import GIS\n",
    "import getpass\n",
    "\n",
    "gis = GIS(url=\"https://agsapipor1.esri.com/portal\", \n",
    "          username=\"admin\", \n",
    "          password=getpass.getpass(),\n",
    "          verify_cert=False)"
   ]
  },
  {
   "cell_type": "code",
   "execution_count": 3,
   "metadata": {
    "collapsed": false
   },
   "outputs": [
    {
     "data": {
      "text/html": [
       "<div>\n",
       "<style>\n",
       "    .dataframe thead tr:only-child th {\n",
       "        text-align: right;\n",
       "    }\n",
       "\n",
       "    .dataframe thead th {\n",
       "        text-align: left;\n",
       "    }\n",
       "\n",
       "    .dataframe tbody tr th {\n",
       "        vertical-align: top;\n",
       "    }\n",
       "</style>\n",
       "<table border=\"1\" class=\"dataframe\">\n",
       "  <thead>\n",
       "    <tr style=\"text-align: right;\">\n",
       "      <th></th>\n",
       "      <th>block</th>\n",
       "      <th>creationti</th>\n",
       "      <th>lastmodifi</th>\n",
       "      <th>objectid</th>\n",
       "      <th>res</th>\n",
       "      <th>shape_star</th>\n",
       "      <th>shape_stle</th>\n",
       "      <th>st_area(shape)</th>\n",
       "      <th>st_length(shape)</th>\n",
       "      <th>SHAPE</th>\n",
       "    </tr>\n",
       "  </thead>\n",
       "  <tbody>\n",
       "    <tr>\n",
       "      <th>0</th>\n",
       "      <td></td>\n",
       "      <td>None</td>\n",
       "      <td>None</td>\n",
       "      <td>37831</td>\n",
       "      <td>1</td>\n",
       "      <td>76366.376771</td>\n",
       "      <td>1124.239169</td>\n",
       "      <td>76366.369931</td>\n",
       "      <td>1124.239104</td>\n",
       "      <td>{'rings': [[[505850.8437930122, 683364.4999688...</td>\n",
       "    </tr>\n",
       "    <tr>\n",
       "      <th>1</th>\n",
       "      <td></td>\n",
       "      <td>None</td>\n",
       "      <td>None</td>\n",
       "      <td>37832</td>\n",
       "      <td>1</td>\n",
       "      <td>76367.793389</td>\n",
       "      <td>1124.185333</td>\n",
       "      <td>76367.805749</td>\n",
       "      <td>1124.185328</td>\n",
       "      <td>{'rings': [[[505758.46864967793, 683662.500029...</td>\n",
       "    </tr>\n",
       "    <tr>\n",
       "      <th>2</th>\n",
       "      <td></td>\n",
       "      <td>None</td>\n",
       "      <td>None</td>\n",
       "      <td>37833</td>\n",
       "      <td>0</td>\n",
       "      <td>81941.731426</td>\n",
       "      <td>1177.762622</td>\n",
       "      <td>81941.699125</td>\n",
       "      <td>1177.762331</td>\n",
       "      <td>{'rings': [[[505643.6873831786, 683616.1251217...</td>\n",
       "    </tr>\n",
       "    <tr>\n",
       "      <th>3</th>\n",
       "      <td></td>\n",
       "      <td>None</td>\n",
       "      <td>None</td>\n",
       "      <td>37834</td>\n",
       "      <td>0</td>\n",
       "      <td>81954.882522</td>\n",
       "      <td>1177.729068</td>\n",
       "      <td>81954.845708</td>\n",
       "      <td>1177.728593</td>\n",
       "      <td>{'rings': [[[505473.93739459664, 683213.812606...</td>\n",
       "    </tr>\n",
       "    <tr>\n",
       "      <th>4</th>\n",
       "      <td></td>\n",
       "      <td>None</td>\n",
       "      <td>None</td>\n",
       "      <td>37835</td>\n",
       "      <td>1</td>\n",
       "      <td>88451.463286</td>\n",
       "      <td>1234.824606</td>\n",
       "      <td>88451.431165</td>\n",
       "      <td>1234.824367</td>\n",
       "      <td>{'rings': [[[506117.8750830963, 683809.9373981...</td>\n",
       "    </tr>\n",
       "  </tbody>\n",
       "</table>\n",
       "</div>"
      ],
      "text/plain": [
       "  block creationti lastmodifi  objectid  res    shape_star   shape_stle  \\\n",
       "0             None       None     37831    1  76366.376771  1124.239169   \n",
       "1             None       None     37832    1  76367.793389  1124.185333   \n",
       "2             None       None     37833    0  81941.731426  1177.762622   \n",
       "3             None       None     37834    0  81954.882522  1177.729068   \n",
       "4             None       None     37835    1  88451.463286  1234.824606   \n",
       "\n",
       "   st_area(shape)  st_length(shape)  \\\n",
       "0    76366.369931       1124.239104   \n",
       "1    76367.805749       1124.185328   \n",
       "2    81941.699125       1177.762331   \n",
       "3    81954.845708       1177.728593   \n",
       "4    88451.431165       1234.824367   \n",
       "\n",
       "                                               SHAPE  \n",
       "0  {'rings': [[[505850.8437930122, 683364.4999688...  \n",
       "1  {'rings': [[[505758.46864967793, 683662.500029...  \n",
       "2  {'rings': [[[505643.6873831786, 683616.1251217...  \n",
       "3  {'rings': [[[505473.93739459664, 683213.812606...  \n",
       "4  {'rings': [[[506117.8750830963, 683809.9373981...  "
      ]
     },
     "execution_count": 3,
     "metadata": {},
     "output_type": "execute_result"
    }
   ],
   "source": [
    "url = \"https://sampleserver6.arcgisonline.com/arcgis/rest/services/MontgomeryQuarters/MapServer/0\"\n",
    "sdf = SpatialDataFrame.from_layer(layer=FeatureLayer(url), gis=gis)\n",
    "sdf.head()"
   ]
  },
  {
   "cell_type": "markdown",
   "metadata": {},
   "source": [
    "#### From Feature Class"
   ]
  },
  {
   "cell_type": "code",
   "execution_count": 4,
   "metadata": {
    "collapsed": false
   },
   "outputs": [
    {
     "data": {
      "text/html": [
       "<div>\n",
       "<style>\n",
       "    .dataframe thead tr:only-child th {\n",
       "        text-align: right;\n",
       "    }\n",
       "\n",
       "    .dataframe thead th {\n",
       "        text-align: left;\n",
       "    }\n",
       "\n",
       "    .dataframe tbody tr th {\n",
       "        vertical-align: top;\n",
       "    }\n",
       "</style>\n",
       "<table border=\"1\" class=\"dataframe\">\n",
       "  <thead>\n",
       "    <tr style=\"text-align: right;\">\n",
       "      <th></th>\n",
       "      <th>ObjectID</th>\n",
       "      <th>NAME</th>\n",
       "      <th>FCC</th>\n",
       "      <th>LOC_ID</th>\n",
       "      <th>USERS</th>\n",
       "      <th>SHAPE</th>\n",
       "    </tr>\n",
       "  </thead>\n",
       "  <tbody>\n",
       "    <tr>\n",
       "      <th>0</th>\n",
       "      <td>0</td>\n",
       "      <td>Inuvik Airport</td>\n",
       "      <td>D59</td>\n",
       "      <td>CYEV</td>\n",
       "      <td></td>\n",
       "      <td>{'spatialReference': {'wkid': 4326, 'latestWki...</td>\n",
       "    </tr>\n",
       "    <tr>\n",
       "      <th>1</th>\n",
       "      <td>1</td>\n",
       "      <td>Inuvik Airport</td>\n",
       "      <td>D58</td>\n",
       "      <td>CYEV</td>\n",
       "      <td></td>\n",
       "      <td>{'spatialReference': {'wkid': 4326, 'latestWki...</td>\n",
       "    </tr>\n",
       "    <tr>\n",
       "      <th>2</th>\n",
       "      <td>2</td>\n",
       "      <td>Norman Wells Airport</td>\n",
       "      <td>D58</td>\n",
       "      <td>CYVQ</td>\n",
       "      <td></td>\n",
       "      <td>{'spatialReference': {'wkid': 4326, 'latestWki...</td>\n",
       "    </tr>\n",
       "    <tr>\n",
       "      <th>3</th>\n",
       "      <td>3</td>\n",
       "      <td>Norman Wells Airport</td>\n",
       "      <td>D59</td>\n",
       "      <td>CYVQ</td>\n",
       "      <td></td>\n",
       "      <td>{'spatialReference': {'wkid': 4326, 'latestWki...</td>\n",
       "    </tr>\n",
       "    <tr>\n",
       "      <th>4</th>\n",
       "      <td>4</td>\n",
       "      <td>Tuktoyaktuk Airport</td>\n",
       "      <td>D59</td>\n",
       "      <td>CYUB</td>\n",
       "      <td></td>\n",
       "      <td>{'spatialReference': {'wkid': 4326, 'latestWki...</td>\n",
       "    </tr>\n",
       "  </tbody>\n",
       "</table>\n",
       "</div>"
      ],
      "text/plain": [
       "   ObjectID                  NAME  FCC LOC_ID USERS  \\\n",
       "0         0        Inuvik Airport  D59   CYEV         \n",
       "1         1        Inuvik Airport  D58   CYEV         \n",
       "2         2  Norman Wells Airport  D58   CYVQ         \n",
       "3         3  Norman Wells Airport  D59   CYVQ         \n",
       "4         4   Tuktoyaktuk Airport  D59   CYUB         \n",
       "\n",
       "                                               SHAPE  \n",
       "0  {'spatialReference': {'wkid': 4326, 'latestWki...  \n",
       "1  {'spatialReference': {'wkid': 4326, 'latestWki...  \n",
       "2  {'spatialReference': {'wkid': 4326, 'latestWki...  \n",
       "3  {'spatialReference': {'wkid': 4326, 'latestWki...  \n",
       "4  {'spatialReference': {'wkid': 4326, 'latestWki...  "
      ]
     },
     "execution_count": 4,
     "metadata": {},
     "output_type": "execute_result"
    }
   ],
   "source": [
    "fc = r\"data/airports.sdc/airports\"\n",
    "shp_sdf = SpatialDataFrame.from_featureclass(fc)\n",
    "shp_sdf.head()"
   ]
  },
  {
   "cell_type": "markdown",
   "metadata": {},
   "source": [
    "#### From Another Data Frame"
   ]
  },
  {
   "cell_type": "code",
   "execution_count": 6,
   "metadata": {
    "collapsed": false
   },
   "outputs": [
    {
     "data": {
      "text/html": [
       "<div>\n",
       "<style>\n",
       "    .dataframe thead tr:only-child th {\n",
       "        text-align: right;\n",
       "    }\n",
       "\n",
       "    .dataframe thead th {\n",
       "        text-align: left;\n",
       "    }\n",
       "\n",
       "    .dataframe tbody tr th {\n",
       "        vertical-align: top;\n",
       "    }\n",
       "</style>\n",
       "<table border=\"1\" class=\"dataframe\">\n",
       "  <thead>\n",
       "    <tr style=\"text-align: right;\">\n",
       "      <th></th>\n",
       "      <th>A</th>\n",
       "      <th>B</th>\n",
       "      <th>C</th>\n",
       "      <th>SHAPE</th>\n",
       "    </tr>\n",
       "  </thead>\n",
       "  <tbody>\n",
       "    <tr>\n",
       "      <th>0</th>\n",
       "      <td>A</td>\n",
       "      <td>1</td>\n",
       "      <td>2.00</td>\n",
       "      <td>{'x': 0, 'y': 1, 'spatialReference': {'wkid': ...</td>\n",
       "    </tr>\n",
       "    <tr>\n",
       "      <th>1</th>\n",
       "      <td>B</td>\n",
       "      <td>13</td>\n",
       "      <td>-2.99</td>\n",
       "      <td>{'x': 1, 'y': 1, 'spatialReference': {'wkid': ...</td>\n",
       "    </tr>\n",
       "    <tr>\n",
       "      <th>2</th>\n",
       "      <td>C</td>\n",
       "      <td>-63</td>\n",
       "      <td>512.00</td>\n",
       "      <td>{'x': 2, 'y': 3, 'spatialReference': {'wkid': ...</td>\n",
       "    </tr>\n",
       "  </tbody>\n",
       "</table>\n",
       "</div>"
      ],
      "text/plain": [
       "   A   B       C                                              SHAPE\n",
       "0  A   1    2.00  {'x': 0, 'y': 1, 'spatialReference': {'wkid': ...\n",
       "1  B  13   -2.99  {'x': 1, 'y': 1, 'spatialReference': {'wkid': ...\n",
       "2  C -63  512.00  {'x': 2, 'y': 3, 'spatialReference': {'wkid': ..."
      ]
     },
     "execution_count": 6,
     "metadata": {},
     "output_type": "execute_result"
    }
   ],
   "source": [
    "import pandas as pd\n",
    "import arcpy\n",
    "from arcgis.features import SpatialDataFrame\n",
    "from arcgis.geometry import _types\n",
    "attributes = [['A', 1, 2],\n",
    "              ['B', 13, -2.99],\n",
    "              ['C', 1-(4**3), 2**9]]\n",
    "coords = [[0,1], [1,1], [2,3]]\n",
    "column_names = ['A', \"B\", \"C\"]\n",
    "df = pd.DataFrame.from_records(data=attributes, columns=column_names)\n",
    "sdf_manual = SpatialDataFrame(df,\n",
    "                       geometry=[arcpy.PointGeometry(arcpy.Point(X=r[0], Y=r[1])) for r in coords])\n",
    "sdf_manual.head()"
   ]
  },
  {
   "cell_type": "markdown",
   "metadata": {},
   "source": [
    "## Working with Spatial DataFrames\n",
    "\n",
    "SpatialDataFrame objects are very versatile.  They allow for a user to quickly manipulate data and save it to disk, or with a bit of code, push it back to a service. \n",
    "<hr/>\n",
    "Some **common** tasks outlined are:\n",
    "\n",
    "* create spatial index \n",
    "* accessing geometry operations\n",
    "* converting to feature classes"
   ]
  },
  {
   "cell_type": "markdown",
   "metadata": {},
   "source": [
    "#### Creating and Using a spatial index\n",
    "\n",
    "Spatial indexes allow for the quick quering of spatial data based on a given extent (x/y lower left and x/y upper right).  By default, the spatial index create a QuadTree index.  Indexes are generated after data is loaded into the dataframe:\n",
    "\n"
   ]
  },
  {
   "cell_type": "code",
   "execution_count": 7,
   "metadata": {
    "collapsed": true
   },
   "outputs": [],
   "source": [
    "spatial_index = sdf.sindex"
   ]
  },
  {
   "cell_type": "code",
   "execution_count": 8,
   "metadata": {
    "collapsed": false
   },
   "outputs": [
    {
     "data": {
      "text/plain": [
       "(504008.531204678, 683193.93764594896, 509180.59369517898, 687996.81255461299)"
      ]
     },
     "execution_count": 8,
     "metadata": {},
     "output_type": "execute_result"
    }
   ],
   "source": [
    "sdf.geoextent"
   ]
  },
  {
   "cell_type": "markdown",
   "metadata": {},
   "source": [
    "To query the spatial index, a boundary extent needs to be specified and outputs a list of indexes for the intersecting points."
   ]
  },
  {
   "cell_type": "code",
   "execution_count": 9,
   "metadata": {
    "collapsed": false
   },
   "outputs": [
    {
     "data": {
      "text/plain": [
       "{53, 61, 62}"
      ]
     },
     "execution_count": 9,
     "metadata": {},
     "output_type": "execute_result"
    }
   ],
   "source": [
    "found_rows = spatial_index.intersect([508008.531204678, 683193.93764594896, \n",
    "                                      509180.59369517898, 687996.81255461299])\n",
    "found_rows"
   ]
  },
  {
   "cell_type": "markdown",
   "metadata": {},
   "source": [
    "Using the Pandas' iloc function, you can extract a subset of rows:"
   ]
  },
  {
   "cell_type": "code",
   "execution_count": 10,
   "metadata": {
    "collapsed": false
   },
   "outputs": [
    {
     "data": {
      "text/html": [
       "<div>\n",
       "<style>\n",
       "    .dataframe thead tr:only-child th {\n",
       "        text-align: right;\n",
       "    }\n",
       "\n",
       "    .dataframe thead th {\n",
       "        text-align: left;\n",
       "    }\n",
       "\n",
       "    .dataframe tbody tr th {\n",
       "        vertical-align: top;\n",
       "    }\n",
       "</style>\n",
       "<table border=\"1\" class=\"dataframe\">\n",
       "  <thead>\n",
       "    <tr style=\"text-align: right;\">\n",
       "      <th></th>\n",
       "      <th>block</th>\n",
       "      <th>creationti</th>\n",
       "      <th>lastmodifi</th>\n",
       "      <th>objectid</th>\n",
       "      <th>res</th>\n",
       "      <th>shape_star</th>\n",
       "      <th>shape_stle</th>\n",
       "      <th>st_area(shape)</th>\n",
       "      <th>st_length(shape)</th>\n",
       "      <th>SHAPE</th>\n",
       "    </tr>\n",
       "  </thead>\n",
       "  <tbody>\n",
       "    <tr>\n",
       "      <th>53</th>\n",
       "      <td></td>\n",
       "      <td>None</td>\n",
       "      <td>None</td>\n",
       "      <td>37884</td>\n",
       "      <td>0</td>\n",
       "      <td>190661.940156</td>\n",
       "      <td>1896.868382</td>\n",
       "      <td>190661.973507</td>\n",
       "      <td>1896.868152</td>\n",
       "      <td>{'rings': [[[507958.8438420966, 685702.7498855...</td>\n",
       "    </tr>\n",
       "    <tr>\n",
       "      <th>61</th>\n",
       "      <td></td>\n",
       "      <td>None</td>\n",
       "      <td>None</td>\n",
       "      <td>37892</td>\n",
       "      <td>0</td>\n",
       "      <td>502170.893555</td>\n",
       "      <td>3931.285454</td>\n",
       "      <td>502170.925421</td>\n",
       "      <td>3931.285105</td>\n",
       "      <td>{'rings': [[[508637.62496484444, 685089.562463...</td>\n",
       "    </tr>\n",
       "    <tr>\n",
       "      <th>62</th>\n",
       "      <td></td>\n",
       "      <td>None</td>\n",
       "      <td>None</td>\n",
       "      <td>37893</td>\n",
       "      <td>0</td>\n",
       "      <td>502197.298770</td>\n",
       "      <td>3929.750429</td>\n",
       "      <td>502197.244447</td>\n",
       "      <td>3929.750280</td>\n",
       "      <td>{'rings': [[[507331.56261634454, 684289.000088...</td>\n",
       "    </tr>\n",
       "  </tbody>\n",
       "</table>\n",
       "</div>"
      ],
      "text/plain": [
       "   block creationti lastmodifi  objectid  res     shape_star   shape_stle  \\\n",
       "53             None       None     37884    0  190661.940156  1896.868382   \n",
       "61             None       None     37892    0  502170.893555  3931.285454   \n",
       "62             None       None     37893    0  502197.298770  3929.750429   \n",
       "\n",
       "    st_area(shape)  st_length(shape)  \\\n",
       "53   190661.973507       1896.868152   \n",
       "61   502170.925421       3931.285105   \n",
       "62   502197.244447       3929.750280   \n",
       "\n",
       "                                                SHAPE  \n",
       "53  {'rings': [[[507958.8438420966, 685702.7498855...  \n",
       "61  {'rings': [[[508637.62496484444, 685089.562463...  \n",
       "62  {'rings': [[[507331.56261634454, 684289.000088...  "
      ]
     },
     "execution_count": 10,
     "metadata": {},
     "output_type": "execute_result"
    }
   ],
   "source": [
    "sub_set = sdf.loc[found_rows]\n",
    "sub_set.head()"
   ]
  },
  {
   "cell_type": "markdown",
   "metadata": {},
   "source": [
    "* **Note** if arcpy is installed to further parse down the data can be done using the selection shape.  Let's assume we have a polygon gemetry"
   ]
  },
  {
   "cell_type": "markdown",
   "metadata": {},
   "source": [
    "### Spatial Selections\n",
    "\n",
    "Spatial DataFrames have the ability to select by spatial location.\n",
    "\n",
    "#### Example Selecting by Location"
   ]
  },
  {
   "cell_type": "code",
   "execution_count": 11,
   "metadata": {
    "collapsed": false
   },
   "outputs": [
    {
     "data": {
      "text/html": [
       "<div>\n",
       "<style>\n",
       "    .dataframe thead tr:only-child th {\n",
       "        text-align: right;\n",
       "    }\n",
       "\n",
       "    .dataframe thead th {\n",
       "        text-align: left;\n",
       "    }\n",
       "\n",
       "    .dataframe tbody tr th {\n",
       "        vertical-align: top;\n",
       "    }\n",
       "</style>\n",
       "<table border=\"1\" class=\"dataframe\">\n",
       "  <thead>\n",
       "    <tr style=\"text-align: right;\">\n",
       "      <th></th>\n",
       "      <th>block</th>\n",
       "      <th>creationti</th>\n",
       "      <th>lastmodifi</th>\n",
       "      <th>objectid</th>\n",
       "      <th>res</th>\n",
       "      <th>shape_star</th>\n",
       "      <th>shape_stle</th>\n",
       "      <th>st_area(shape)</th>\n",
       "      <th>st_length(shape)</th>\n",
       "      <th>SHAPE</th>\n",
       "    </tr>\n",
       "  </thead>\n",
       "  <tbody>\n",
       "    <tr>\n",
       "      <th>61</th>\n",
       "      <td></td>\n",
       "      <td>None</td>\n",
       "      <td>None</td>\n",
       "      <td>37892</td>\n",
       "      <td>0</td>\n",
       "      <td>502170.893555</td>\n",
       "      <td>3931.285454</td>\n",
       "      <td>502170.925421</td>\n",
       "      <td>3931.285105</td>\n",
       "      <td>{'rings': [[[508637.62496484444, 685089.562463...</td>\n",
       "    </tr>\n",
       "  </tbody>\n",
       "</table>\n",
       "</div>"
      ],
      "text/plain": [
       "   block creationti lastmodifi  objectid  res     shape_star   shape_stle  \\\n",
       "61             None       None     37892    0  502170.893555  3931.285454   \n",
       "\n",
       "    st_area(shape)  st_length(shape)  \\\n",
       "61   502170.925421       3931.285105   \n",
       "\n",
       "                                                SHAPE  \n",
       "61  {'rings': [[[508637.62496484444, 685089.562463...  "
      ]
     },
     "execution_count": 11,
     "metadata": {},
     "output_type": "execute_result"
    }
   ],
   "source": [
    "# Requires arcpy\n",
    "geom = sdf.iloc[61]['SHAPE']\n",
    "q = sub_set.disjoint(geom) == False\n",
    "sub_set[q]"
   ]
  },
  {
   "cell_type": "markdown",
   "metadata": {},
   "source": [
    "<hr/>\n",
    "#### Working with Geometries\n",
    "\n"
   ]
  },
  {
   "cell_type": "markdown",
   "metadata": {},
   "source": [
    "The geometry column can be accessed by the following: "
   ]
  },
  {
   "cell_type": "code",
   "execution_count": 12,
   "metadata": {
    "collapsed": true
   },
   "outputs": [],
   "source": [
    "geometry_column = sdf.geometry"
   ]
  },
  {
   "cell_type": "markdown",
   "metadata": {},
   "source": [
    "* the default geometry column name is 'SHAPE'"
   ]
  },
  {
   "cell_type": "markdown",
   "metadata": {},
   "source": [
    "To access the geometry operations such as projectAs and clip, the **arcpy** module must be installed, or these operations will all return NULL results.  \n",
    "<hr/>\n",
    "\n",
    "The geometry column provides a rich selections of operations.  \n",
    "\n",
    "Common operations\n",
    "\n",
    "- disjoint\n",
    "- clip by extent\n",
    "- reproject\n",
    "- get length and area\n",
    "\n",
    "exist on the geometry column and on each geometry object.  When an operation is executed on the geometry column, the result returns a Pandas' Series object.\n",
    "\n",
    "<div>\n",
    "\n",
    "<img src='staticimgs/SDF_Geometry.png' align='left'/>\n",
    "</div>\n",
    "\n",
    "The operations are further explained on the Spatial DataFrame help page.\n"
   ]
  },
  {
   "cell_type": "markdown",
   "metadata": {},
   "source": [
    "##### Reprojecting the Dataframe\n",
    "\n",
    "To reproject the dataframe, use the arcpy.SpatialReference object and pass it into the arcgis.geometry.projectAs()."
   ]
  },
  {
   "cell_type": "code",
   "execution_count": 13,
   "metadata": {
    "collapsed": false
   },
   "outputs": [],
   "source": [
    "import arcpy\n",
    "sr = arcpy.SpatialReference(4326)\n",
    "sdf.geometry = sdf.geometry.project_as(sr)"
   ]
  },
  {
   "cell_type": "markdown",
   "metadata": {},
   "source": [
    "### Saving you Work\n",
    "\n",
    "Just like reading data, Spatial DataFrames can save the data you work with to various output formats.  These operations require **arcpy, pyshp or a authenticated GIS object** to save locallly or to a service.\n",
    "\n",
    "Users can exports either the whole dataset to disk, or can export DataFrames with queries applied.  \n",
    "\n",
    "#### Example: Saving DataFrame to a Feature Class"
   ]
  },
  {
   "cell_type": "code",
   "execution_count": 17,
   "metadata": {
    "collapsed": false
   },
   "outputs": [
    {
     "name": "stdout",
     "output_type": "stream",
     "text": [
      "C:\\Users\\andr5624\\AppData\\Local\\Temp\\scratch.gdb\\airports\n"
     ]
    }
   ],
   "source": [
    "import arcpy\n",
    "scratch_gdb = arcpy.env.scratchGDB\n",
    "ds = shp_sdf.to_featureclass(out_location=scratch_gdb, out_name=\"airports\")\n",
    "print(ds)"
   ]
  },
  {
   "cell_type": "markdown",
   "metadata": {
    "collapsed": true
   },
   "source": [
    "#### Example: Import Spatial DataFrame to Enterprise GIS\n",
    "\n",
    "The GIS content object can import Spatial DataFrames directly as a hosted feature service.  "
   ]
  },
  {
   "cell_type": "code",
   "execution_count": 22,
   "metadata": {
    "collapsed": false
   },
   "outputs": [],
   "source": [
    "gis = GIS(username=\"*****\", password=\"*****\")"
   ]
  },
  {
   "cell_type": "code",
   "execution_count": 23,
   "metadata": {
    "collapsed": false
   },
   "outputs": [
    {
     "data": {
      "text/html": [
       "<div class=\"item_container\" style=\"height: auto; overflow: hidden; border: 1px solid #cfcfcf; border-radius: 2px; background: #f6fafa; line-height: 1.21429em; padding: 10px;\">\n",
       "                    <div class=\"item_left\" style=\"width: 210px; float: left;\">\n",
       "                       <a href='http://arcgissolutions.maps.arcgis.com/home/item.html?id=ef7823671e844b71a3aefae143c447a1' target='_blank'>\n",
       "                        <img src='http://static.arcgis.com/images/desktopapp.png' class=\"itemThumbnail\">\n",
       "                       </a>\n",
       "                    </div>\n",
       "\n",
       "                    <div class=\"item_right\"     style=\"float: none; width: auto; overflow: hidden;\">\n",
       "                        <a href='http://arcgissolutions.maps.arcgis.com/home/item.html?id=ef7823671e844b71a3aefae143c447a1' target='_blank'><b>WorldAirports</b>\n",
       "                        </a>\n",
       "                        <br/><img src='http://arcgissolutions.maps.arcgis.com/home/js/jsapi/esri/css/images/item_type_icons/featureshosted16.png' style=\"vertical-align:middle;\">Feature Layer Collection by AndrewSolutions\n",
       "                        <br/>Last Modified: June 30, 2017\n",
       "                        <br/>0 comments, 0 views\n",
       "                    </div>\n",
       "                </div>\n",
       "                "
      ],
      "text/plain": [
       "<Item title:\"WorldAirports\" type:Feature Layer Collection owner:AndrewSolutions>"
      ]
     },
     "execution_count": 23,
     "metadata": {},
     "output_type": "execute_result"
    }
   ],
   "source": [
    "gis.content.import_data(df=shp_sdf, title=\"WorldAirports\")"
   ]
  }
 ],
 "metadata": {
  "kernelspec": {
   "display_name": "Python 3",
   "language": "python",
   "name": "python3"
  },
  "language_info": {
   "codemirror_mode": {
    "name": "ipython",
    "version": 3
   },
   "file_extension": ".py",
   "mimetype": "text/x-python",
   "name": "python",
   "nbconvert_exporter": "python",
   "pygments_lexer": "ipython3",
   "version": "3.5.3"
  }
 },
 "nbformat": 4,
 "nbformat_minor": 2
}
