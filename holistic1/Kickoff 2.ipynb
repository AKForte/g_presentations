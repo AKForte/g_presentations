{
 "cells": [
  {
   "cell_type": "markdown",
   "metadata": {
    "nbpresent": {
     "id": "dcf33f25-6d5c-4d3c-a040-39e5492a670d"
    }
   },
   "source": [
    "![API image](./API_homepage.PNG)"
   ]
  },
  {
   "cell_type": "markdown",
   "metadata": {
    "nbpresent": {
     "id": "73f112de-defd-4132-bcc6-bcdea5b42f4c"
    }
   },
   "source": [
    "# Vision\n",
    "\n",
    "ArcGIS - a very capcable ecosystem of products.\n",
    "Need - an API to orchestrate and automate the various elements of a GIS\n",
    "\n",
    "Thus, ArcGIS Python API is Pythonic API to your GIS. It seeks to provide:\n",
    "    - Information model for your GIS\n",
    "    - Viz capability\n",
    "    - Editing capability\n",
    "    - Analysis"
   ]
  },
  {
   "cell_type": "markdown",
   "metadata": {
    "nbpresent": {
     "id": "26fbbc52-6edb-4d3f-9417-f7908de549d2"
    }
   },
   "source": [
    "# Vision ...\n",
    "\n",
    "Aggregated users to 4 personas:\n",
    "  - GIS Admins\n",
    "  - Scientists\n",
    "  - Publishers\n",
    "  - Power users"
   ]
  },
  {
   "cell_type": "code",
   "execution_count": null,
   "metadata": {
    "collapsed": true,
    "nbpresent": {
     "id": "2377f6c9-3653-4ef4-a667-44266b099dbf"
    }
   },
   "outputs": [],
   "source": []
  }
 ],
 "metadata": {
  "kernelspec": {
   "display_name": "Python 3",
   "language": "python",
   "name": "python3"
  },
  "language_info": {
   "codemirror_mode": {
    "name": "ipython",
    "version": 3
   },
   "file_extension": ".py",
   "mimetype": "text/x-python",
   "name": "python",
   "nbconvert_exporter": "python",
   "pygments_lexer": "ipython3",
   "version": "3.5.2"
  },
  "nbpresent": {
   "slides": {
    "50f3f39c-9ed6-410c-9028-2c823e33a66c": {
     "id": "50f3f39c-9ed6-410c-9028-2c823e33a66c",
     "prev": null,
     "regions": {
      "40ca529c-4df8-4f41-af8b-5e1e76382dcb": {
       "attrs": {
        "height": 0.8,
        "width": 0.8,
        "x": 0.1,
        "y": 0.1
       },
       "content": {
        "cell": "dcf33f25-6d5c-4d3c-a040-39e5492a670d",
        "part": "whole"
       },
       "id": "40ca529c-4df8-4f41-af8b-5e1e76382dcb"
      }
     }
    },
    "ce4f1848-32aa-49c0-804f-5fe88dad3896": {
     "id": "ce4f1848-32aa-49c0-804f-5fe88dad3896",
     "prev": "e816f8ad-4b5d-442f-9f50-9be171814efa",
     "regions": {
      "0720c23a-a572-449b-94ac-eb0ac55beba5": {
       "attrs": {
        "height": 0.8,
        "width": 0.8,
        "x": 0.1,
        "y": 0.1
       },
       "content": {
        "cell": "26fbbc52-6edb-4d3f-9417-f7908de549d2",
        "part": "whole"
       },
       "id": "0720c23a-a572-449b-94ac-eb0ac55beba5"
      }
     }
    },
    "e64f404f-f3c4-4d58-aa92-cb6a6f4fc1c7": {
     "id": "e64f404f-f3c4-4d58-aa92-cb6a6f4fc1c7",
     "prev": "ce4f1848-32aa-49c0-804f-5fe88dad3896",
     "regions": {
      "ae40ddc5-1d94-42c3-8b04-65d1599f2c3c": {
       "attrs": {
        "height": 0.8,
        "width": 0.8,
        "x": 0.1,
        "y": 0.1
       },
       "content": {
        "cell": "2377f6c9-3653-4ef4-a667-44266b099dbf",
        "part": "whole"
       },
       "id": "ae40ddc5-1d94-42c3-8b04-65d1599f2c3c"
      }
     }
    },
    "e816f8ad-4b5d-442f-9f50-9be171814efa": {
     "id": "e816f8ad-4b5d-442f-9f50-9be171814efa",
     "prev": "50f3f39c-9ed6-410c-9028-2c823e33a66c",
     "regions": {
      "0de67e2b-789e-4309-87f4-414ce645bc4d": {
       "attrs": {
        "height": 0.8,
        "width": 0.8,
        "x": 0.1,
        "y": 0.1
       },
       "content": {
        "cell": "73f112de-defd-4132-bcc6-bcdea5b42f4c",
        "part": "whole"
       },
       "id": "0de67e2b-789e-4309-87f4-414ce645bc4d"
      }
     }
    }
   },
   "themes": {}
  }
 },
 "nbformat": 4,
 "nbformat_minor": 1
}
