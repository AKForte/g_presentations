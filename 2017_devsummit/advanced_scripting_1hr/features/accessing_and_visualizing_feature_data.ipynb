{
 "cells": [
  {
   "cell_type": "markdown",
   "metadata": {},
   "source": [
    "# Accessing and visualizing feature data\n",
    "\n",
    " - from feature service with multiple layers\n",
    " - from feature collection items\n",
    " - from a map service with feature access enabled"
   ]
  },
  {
   "cell_type": "code",
   "execution_count": 1,
   "metadata": {
    "collapsed": true
   },
   "outputs": [],
   "source": [
    "from arcgis.gis import *\n",
    "from getpass import getpass"
   ]
  },
  {
   "cell_type": "code",
   "execution_count": 2,
   "metadata": {},
   "outputs": [
    {
     "name": "stdout",
     "output_type": "stream",
     "text": [
      "········\n"
     ]
    },
    {
     "name": "stderr",
     "output_type": "stream",
     "text": [
      "Unable to generate token.\n",
      "Invalid username or password.\n"
     ]
    },
    {
     "ename": "RuntimeError",
     "evalue": "Unable to generate token.\nInvalid username or password.\n(Error Code: 400)",
     "output_type": "error",
     "traceback": [
      "\u001b[0;31m---------------------------------------------------------------------------\u001b[0m",
      "\u001b[0;31mRuntimeError\u001b[0m                              Traceback (most recent call last)",
      "\u001b[0;32m<ipython-input-2-4b39c91b02b4>\u001b[0m in \u001b[0;36m<module>\u001b[0;34m()\u001b[0m\n\u001b[1;32m      1\u001b[0m \u001b[0mpassword\u001b[0m\u001b[0;34m=\u001b[0m\u001b[0mgetpass\u001b[0m\u001b[0;34m(\u001b[0m\u001b[0;34m)\u001b[0m\u001b[0;34m\u001b[0m\u001b[0m\n\u001b[0;32m----> 2\u001b[0;31m \u001b[0mgis\u001b[0m \u001b[0;34m=\u001b[0m \u001b[0mGIS\u001b[0m\u001b[0;34m(\u001b[0m\u001b[0;34m\"https://pycontraptions.maps.arcgis.com\"\u001b[0m\u001b[0;34m,\u001b[0m \u001b[0;34m\"atma_mani\"\u001b[0m\u001b[0;34m,\u001b[0m \u001b[0mpassword\u001b[0m\u001b[0;34m)\u001b[0m\u001b[0;34m\u001b[0m\u001b[0m\n\u001b[0m",
      "\u001b[0;32m~/anaconda/envs/arcgis_v12/lib/python3.5/site-packages/arcgis/gis/__init__.py\u001b[0m in \u001b[0;36m__init__\u001b[0;34m(self, url, username, password, key_file, cert_file, verify_cert, set_active, client_id, profile)\u001b[0m\n\u001b[1;32m    144\u001b[0m         \u001b[0mself\u001b[0m\u001b[0;34m.\u001b[0m\u001b[0m_datastores_list\u001b[0m \u001b[0;34m=\u001b[0m \u001b[0;32mNone\u001b[0m\u001b[0;34m\u001b[0m\u001b[0m\n\u001b[1;32m    145\u001b[0m         self._portal = portalpy.Portal(self._url, self._username, self._password, self._key_file, self._cert_file,\n\u001b[0;32m--> 146\u001b[0;31m                                        verify_cert=self._verify_cert, client_id=self._client_id)\n\u001b[0m\u001b[1;32m    147\u001b[0m         \u001b[0;32mif\u001b[0m \u001b[0murl\u001b[0m\u001b[0;34m.\u001b[0m\u001b[0mlower\u001b[0m\u001b[0;34m(\u001b[0m\u001b[0;34m)\u001b[0m\u001b[0;34m.\u001b[0m\u001b[0mfind\u001b[0m\u001b[0;34m(\u001b[0m\u001b[0;34m\"www.arcgis.com\"\u001b[0m\u001b[0;34m)\u001b[0m \u001b[0;34m>\u001b[0m \u001b[0;34m-\u001b[0m\u001b[0;36m1\u001b[0m \u001b[0;32mand\u001b[0m\u001b[0;31m \u001b[0m\u001b[0;31m\\\u001b[0m\u001b[0;34m\u001b[0m\u001b[0m\n\u001b[1;32m    148\u001b[0m            \u001b[0mself\u001b[0m\u001b[0;34m.\u001b[0m\u001b[0m_portal\u001b[0m\u001b[0;34m.\u001b[0m\u001b[0mis_logged_in\u001b[0m\u001b[0;34m:\u001b[0m\u001b[0;34m\u001b[0m\u001b[0m\n",
      "\u001b[0;32m~/anaconda/envs/arcgis_v12/lib/python3.5/site-packages/arcgis/_impl/portalpy.py\u001b[0m in \u001b[0;36m__init__\u001b[0;34m(self, url, username, password, key_file, cert_file, expiration, referer, proxy_host, proxy_port, connection, workdir, tokenurl, verify_cert, client_id)\u001b[0m\n\u001b[1;32m    161\u001b[0m                                              \u001b[0mproxy_port\u001b[0m\u001b[0;34m=\u001b[0m\u001b[0mproxy_port\u001b[0m\u001b[0;34m,\u001b[0m\u001b[0;34m\u001b[0m\u001b[0m\n\u001b[1;32m    162\u001b[0m                                              \u001b[0mverify_cert\u001b[0m\u001b[0;34m=\u001b[0m\u001b[0mverify_cert\u001b[0m\u001b[0;34m,\u001b[0m\u001b[0;34m\u001b[0m\u001b[0m\n\u001b[0;32m--> 163\u001b[0;31m                                              client_id=client_id)\n\u001b[0m\u001b[1;32m    164\u001b[0m         \u001b[0;31m#self.get_version(True)\u001b[0m\u001b[0;34m\u001b[0m\u001b[0;34m\u001b[0m\u001b[0m\n\u001b[1;32m    165\u001b[0m         \u001b[0mself\u001b[0m\u001b[0;34m.\u001b[0m\u001b[0mget_properties\u001b[0m\u001b[0;34m(\u001b[0m\u001b[0;32mTrue\u001b[0m\u001b[0;34m)\u001b[0m\u001b[0;34m\u001b[0m\u001b[0m\n",
      "\u001b[0;32m~/anaconda/envs/arcgis_v12/lib/python3.5/site-packages/arcgis/_impl/connection.py\u001b[0m in \u001b[0;36m__init__\u001b[0;34m(self, baseurl, tokenurl, username, password, key_file, cert_file, expiration, all_ssl, referer, proxy_host, proxy_port, connection, verify_cert, client_id)\u001b[0m\n\u001b[1;32m    279\u001b[0m \u001b[0;34m\u001b[0m\u001b[0m\n\u001b[1;32m    280\u001b[0m         \u001b[0;32mif\u001b[0m \u001b[0mcert_file\u001b[0m \u001b[0;32mis\u001b[0m \u001b[0;32mNone\u001b[0m \u001b[0;32mand\u001b[0m \u001b[0mkey_file\u001b[0m \u001b[0;32mis\u001b[0m \u001b[0;32mNone\u001b[0m\u001b[0;34m:\u001b[0m\u001b[0;34m\u001b[0m\u001b[0m\n\u001b[0;32m--> 281\u001b[0;31m             \u001b[0mself\u001b[0m\u001b[0;34m.\u001b[0m\u001b[0mlogin\u001b[0m\u001b[0;34m(\u001b[0m\u001b[0musername\u001b[0m\u001b[0;34m,\u001b[0m \u001b[0mpassword\u001b[0m\u001b[0;34m,\u001b[0m \u001b[0mexpiration\u001b[0m\u001b[0;34m,\u001b[0m \u001b[0mclient_id\u001b[0m\u001b[0;34m)\u001b[0m\u001b[0;34m\u001b[0m\u001b[0m\n\u001b[0m\u001b[1;32m    282\u001b[0m \u001b[0;34m\u001b[0m\u001b[0m\n\u001b[1;32m    283\u001b[0m     \u001b[0;31m#----------------------------------------------------------------------\u001b[0m\u001b[0;34m\u001b[0m\u001b[0;34m\u001b[0m\u001b[0m\n",
      "\u001b[0;32m~/anaconda/envs/arcgis_v12/lib/python3.5/site-packages/arcgis/_impl/connection.py\u001b[0m in \u001b[0;36mlogin\u001b[0;34m(self, username, password, expiration, client_id)\u001b[0m\n\u001b[1;32m    510\u001b[0m \u001b[0;34m\u001b[0m\u001b[0m\n\u001b[1;32m    511\u001b[0m             \u001b[0;32mif\u001b[0m \u001b[0musername\u001b[0m \u001b[0;32mis\u001b[0m \u001b[0;32mnot\u001b[0m \u001b[0;32mNone\u001b[0m \u001b[0;32mand\u001b[0m \u001b[0mpassword\u001b[0m \u001b[0;32mis\u001b[0m \u001b[0;32mnot\u001b[0m \u001b[0;32mNone\u001b[0m\u001b[0;34m:\u001b[0m\u001b[0;34m\u001b[0m\u001b[0m\n\u001b[0;32m--> 512\u001b[0;31m                 \u001b[0mnewtoken\u001b[0m \u001b[0;34m=\u001b[0m \u001b[0mself\u001b[0m\u001b[0;34m.\u001b[0m\u001b[0mgenerate_token\u001b[0m\u001b[0;34m(\u001b[0m\u001b[0musername\u001b[0m\u001b[0;34m,\u001b[0m \u001b[0mpassword\u001b[0m\u001b[0;34m,\u001b[0m \u001b[0mexpiration\u001b[0m\u001b[0;34m,\u001b[0m \u001b[0mclient_id\u001b[0m\u001b[0;34m)\u001b[0m\u001b[0;34m\u001b[0m\u001b[0m\n\u001b[0m\u001b[1;32m    513\u001b[0m \u001b[0;34m\u001b[0m\u001b[0m\n\u001b[1;32m    514\u001b[0m                 \u001b[0;32mif\u001b[0m \u001b[0mnewtoken\u001b[0m\u001b[0;34m:\u001b[0m\u001b[0;34m\u001b[0m\u001b[0m\n",
      "\u001b[0;32m~/anaconda/envs/arcgis_v12/lib/python3.5/site-packages/arcgis/_impl/connection.py\u001b[0m in \u001b[0;36mgenerate_token\u001b[0;34m(self, username, password, expiration, client_id)\u001b[0m\n\u001b[1;32m    392\u001b[0m                 \u001b[0;32mif\u001b[0m \u001b[0mself\u001b[0m\u001b[0;34m.\u001b[0m\u001b[0mbaseurl\u001b[0m\u001b[0;34m.\u001b[0m\u001b[0mendswith\u001b[0m\u001b[0;34m(\u001b[0m\u001b[0;34m'/'\u001b[0m\u001b[0;34m)\u001b[0m\u001b[0;34m:\u001b[0m\u001b[0;34m\u001b[0m\u001b[0m\n\u001b[1;32m    393\u001b[0m                     resp = self.post('generateToken', postdata,\n\u001b[0;32m--> 394\u001b[0;31m                                      ssl=True, add_token=False)\n\u001b[0m\u001b[1;32m    395\u001b[0m                 \u001b[0;32melse\u001b[0m\u001b[0;34m:\u001b[0m\u001b[0;34m\u001b[0m\u001b[0m\n\u001b[1;32m    396\u001b[0m                     resp = self.post('/generateToken', postdata,\n",
      "\u001b[0;32m~/anaconda/envs/arcgis_v12/lib/python3.5/site-packages/arcgis/_impl/connection.py\u001b[0m in \u001b[0;36mpost\u001b[0;34m(self, path, postdata, files, ssl, compress, is_retry, use_ordered_dict, add_token, verify_cert, token, try_json, out_folder, file_name, force_bytes, add_headers)\u001b[0m\n\u001b[1;32m   1081\u001b[0m                 \u001b[0;32melif\u001b[0m \u001b[0merrorcode\u001b[0m \u001b[0;34m==\u001b[0m \u001b[0;36m498\u001b[0m\u001b[0;34m:\u001b[0m\u001b[0;34m\u001b[0m\u001b[0m\n\u001b[1;32m   1082\u001b[0m                     \u001b[0;32mraise\u001b[0m \u001b[0mRuntimeError\u001b[0m\u001b[0;34m(\u001b[0m\u001b[0;34m'Invalid token'\u001b[0m\u001b[0;34m)\u001b[0m\u001b[0;34m\u001b[0m\u001b[0m\n\u001b[0;32m-> 1083\u001b[0;31m                 \u001b[0mself\u001b[0m\u001b[0;34m.\u001b[0m\u001b[0m_handle_json_error\u001b[0m\u001b[0;34m(\u001b[0m\u001b[0mresp_json\u001b[0m\u001b[0;34m[\u001b[0m\u001b[0;34m'error'\u001b[0m\u001b[0;34m]\u001b[0m\u001b[0;34m,\u001b[0m \u001b[0merrorcode\u001b[0m\u001b[0;34m)\u001b[0m\u001b[0;34m\u001b[0m\u001b[0m\n\u001b[0m\u001b[1;32m   1084\u001b[0m                 \u001b[0;32mreturn\u001b[0m \u001b[0;32mNone\u001b[0m\u001b[0;34m\u001b[0m\u001b[0m\n\u001b[1;32m   1085\u001b[0m         \u001b[0;32mexcept\u001b[0m \u001b[0mAttributeError\u001b[0m\u001b[0;34m:\u001b[0m\u001b[0;34m\u001b[0m\u001b[0m\n",
      "\u001b[0;32m~/anaconda/envs/arcgis_v12/lib/python3.5/site-packages/arcgis/_impl/connection.py\u001b[0m in \u001b[0;36m_handle_json_error\u001b[0;34m(self, error, errorcode)\u001b[0m\n\u001b[1;32m   1101\u001b[0m \u001b[0;34m\u001b[0m\u001b[0m\n\u001b[1;32m   1102\u001b[0m         \u001b[0merrormessage\u001b[0m \u001b[0;34m=\u001b[0m \u001b[0merrormessage\u001b[0m \u001b[0;34m+\u001b[0m \u001b[0;34m\"\\n(Error Code: \"\u001b[0m \u001b[0;34m+\u001b[0m \u001b[0mstr\u001b[0m\u001b[0;34m(\u001b[0m\u001b[0merrorcode\u001b[0m\u001b[0;34m)\u001b[0m \u001b[0;34m+\u001b[0m\u001b[0;34m\")\"\u001b[0m\u001b[0;34m\u001b[0m\u001b[0m\n\u001b[0;32m-> 1103\u001b[0;31m         \u001b[0;32mraise\u001b[0m \u001b[0mRuntimeError\u001b[0m\u001b[0;34m(\u001b[0m\u001b[0merrormessage\u001b[0m\u001b[0;34m)\u001b[0m\u001b[0;34m\u001b[0m\u001b[0m\n\u001b[0m\u001b[1;32m   1104\u001b[0m \u001b[0;34m\u001b[0m\u001b[0m\n\u001b[1;32m   1105\u001b[0m \u001b[0;32mclass\u001b[0m \u001b[0m_StrictURLopener\u001b[0m\u001b[0;34m(\u001b[0m\u001b[0mrequest\u001b[0m\u001b[0;34m.\u001b[0m\u001b[0mFancyURLopener\u001b[0m\u001b[0;34m)\u001b[0m\u001b[0;34m:\u001b[0m\u001b[0;34m\u001b[0m\u001b[0m\n",
      "\u001b[0;31mRuntimeError\u001b[0m: Unable to generate token.\nInvalid username or password.\n(Error Code: 400)"
     ]
    }
   ],
   "source": [
    "password=getpass()\n",
    "gis = GIS(\"https://pycontraptions.maps.arcgis.com\", \"atma_mani\", password)"
   ]
  },
  {
   "cell_type": "markdown",
   "metadata": {},
   "source": [
    "Search for a feature service titled 'fortune_500_styled_wfl'"
   ]
  },
  {
   "cell_type": "code",
   "execution_count": 50,
   "metadata": {},
   "outputs": [
    {
     "data": {
      "text/plain": [
       "[<Item title:\"fortune_500_styled_wfl\" type:Feature Service owner:atma_mani>]"
      ]
     },
     "execution_count": 50,
     "metadata": {},
     "output_type": "execute_result"
    }
   ],
   "source": [
    "search_result = gis.content.search('title:fortune_500_styled_wfl', item_type = 'Feature Layer')\n",
    "search_result"
   ]
  },
  {
   "cell_type": "code",
   "execution_count": 51,
   "metadata": {},
   "outputs": [
    {
     "data": {
      "text/html": [
       "<div class=\"item_container\" style=\"height: auto; overflow: hidden; border: 1px solid #cfcfcf; border-radius: 2px; background: #f6fafa; line-height: 1.21429em; padding: 10px;\">\n",
       "                    <div class=\"item_left\" style=\"width: 210px; float: left;\">\n",
       "                       <a href='https://pycontraptions.maps.arcgis.com/home/item.html?id=0a3a3963fb4a452b8c34c484f8383b48' target='_blank'>\n",
       "                        <img src='data:image/png;base64,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' width='200' height='133' class=\"itemThumbnail\">\n",
       "                       </a>\n",
       "                    </div>\n",
       "\n",
       "                    <div class=\"item_right\"     style=\"float: none; width: auto; overflow: hidden;\">\n",
       "                        <a href='https://pycontraptions.maps.arcgis.com/home/item.html?id=0a3a3963fb4a452b8c34c484f8383b48' target='_blank'><b>fortune_500_styled_wfl</b>\n",
       "                        </a>\n",
       "                        <br/>fortune 500<img src='https://pycontraptions.maps.arcgis.com/home/js/jsapi/esri/css/images/item_type_icons/featureshosted16.png' style=\"vertical-align:middle;\">Feature Layer Collection by atma_mani\n",
       "                        <br/>Last Modified: March 04, 2017\n",
       "                        <br/>0 comments, 6 views\n",
       "                    </div>\n",
       "                </div>\n",
       "                "
      ],
      "text/plain": [
       "<Item title:\"fortune_500_styled_wfl\" type:Feature Service owner:atma_mani>"
      ]
     },
     "execution_count": 51,
     "metadata": {},
     "output_type": "execute_result"
    }
   ],
   "source": [
    "fortune_fl_item = search_result[0]\n",
    "fortune_fl_item"
   ]
  },
  {
   "cell_type": "markdown",
   "metadata": {},
   "source": [
    "Notice that this is a **Feature Layer Collection**"
   ]
  },
  {
   "cell_type": "markdown",
   "metadata": {},
   "source": [
    "### Accessing a Feature Layer Collection\n",
    "A Feature Layer Collection is simply a collection of Feature Layer objects"
   ]
  },
  {
   "cell_type": "code",
   "execution_count": 52,
   "metadata": {},
   "outputs": [],
   "source": [
    "from arcgis.features import FeatureLayerCollection"
   ]
  },
  {
   "cell_type": "code",
   "execution_count": 53,
   "metadata": {},
   "outputs": [
    {
     "data": {
      "text/plain": [
       "'https://services7.arcgis.com/xo9aDUkMXBivHk37/arcgis/rest/services/fortune_500_styled/FeatureServer'"
      ]
     },
     "execution_count": 53,
     "metadata": {},
     "output_type": "execute_result"
    }
   ],
   "source": [
    "fortune_fl_item.url"
   ]
  },
  {
   "cell_type": "markdown",
   "metadata": {},
   "source": [
    "Notice the url ends with a `FeatureServer`. We can use this URL to instantiate a `FeatureLayerCollection` object."
   ]
  },
  {
   "cell_type": "code",
   "execution_count": 54,
   "metadata": {},
   "outputs": [
    {
     "data": {
      "text/plain": [
       "arcgis.features.layer.FeatureLayerCollection"
      ]
     },
     "execution_count": 54,
     "metadata": {},
     "output_type": "execute_result"
    }
   ],
   "source": [
    "flc = FeatureLayerCollection(fortune_fl_item.url, gis)\n",
    "type(flc)"
   ]
  },
  {
   "cell_type": "code",
   "execution_count": 55,
   "metadata": {},
   "outputs": [
    {
     "data": {
      "text/plain": [
       "[<FeatureLayer url:\"https://services7.arcgis.com/xo9aDUkMXBivHk37/arcgis/rest/services/fortune_500_styled/FeatureServer/0\">,\n",
       " <FeatureLayer url:\"https://services7.arcgis.com/xo9aDUkMXBivHk37/arcgis/rest/services/fortune_500_styled/FeatureServer/1\">,\n",
       " <FeatureLayer url:\"https://services7.arcgis.com/xo9aDUkMXBivHk37/arcgis/rest/services/fortune_500_styled/FeatureServer/2\">,\n",
       " <FeatureLayer url:\"https://services7.arcgis.com/xo9aDUkMXBivHk37/arcgis/rest/services/fortune_500_styled/FeatureServer/3\">]"
      ]
     },
     "execution_count": 55,
     "metadata": {},
     "output_type": "execute_result"
    }
   ],
   "source": [
    "flc.layers"
   ]
  },
  {
   "cell_type": "code",
   "execution_count": 56,
   "metadata": {},
   "outputs": [
    {
     "data": {
      "text/plain": [
       "arcgis.features.layer.FeatureLayer"
      ]
     },
     "execution_count": 56,
     "metadata": {},
     "output_type": "execute_result"
    }
   ],
   "source": [
    "flc_ly1 = flc.layers[0]\n",
    "type(flc_ly1)"
   ]
  },
  {
   "cell_type": "markdown",
   "metadata": {},
   "source": [
    "Thus `FeatureLayerCollection.layers` = `[FeatureLayer]` objects"
   ]
  },
  {
   "cell_type": "markdown",
   "metadata": {},
   "source": [
    "## Accessing a Feature Layer"
   ]
  },
  {
   "cell_type": "code",
   "execution_count": 57,
   "metadata": {},
   "outputs": [
    {
     "data": {
      "text/plain": [
       "arcgis.features.layer.FeatureLayer"
      ]
     },
     "execution_count": 57,
     "metadata": {},
     "output_type": "execute_result"
    }
   ],
   "source": [
    "fl_list = fortune_fl_item.layers\n",
    "type(fl_list[0])"
   ]
  },
  {
   "cell_type": "markdown",
   "metadata": {},
   "source": [
    "Thus FeatureLayer objects can be directly obtained from Item objects as well"
   ]
  },
  {
   "cell_type": "code",
   "execution_count": 58,
   "metadata": {},
   "outputs": [
    {
     "data": {
      "text/plain": [
       "[<FeatureLayer url:\"https://services7.arcgis.com/xo9aDUkMXBivHk37/arcgis/rest/services/fortune_500_styled/FeatureServer/0\">,\n",
       " <FeatureLayer url:\"https://services7.arcgis.com/xo9aDUkMXBivHk37/arcgis/rest/services/fortune_500_styled/FeatureServer/1\">,\n",
       " <FeatureLayer url:\"https://services7.arcgis.com/xo9aDUkMXBivHk37/arcgis/rest/services/fortune_500_styled/FeatureServer/2\">,\n",
       " <FeatureLayer url:\"https://services7.arcgis.com/xo9aDUkMXBivHk37/arcgis/rest/services/fortune_500_styled/FeatureServer/3\">]"
      ]
     },
     "execution_count": 58,
     "metadata": {},
     "output_type": "execute_result"
    }
   ],
   "source": [
    "fl_list"
   ]
  },
  {
   "cell_type": "code",
   "execution_count": 59,
   "metadata": {},
   "outputs": [
    {
     "name": "stdout",
     "output_type": "stream",
     "text": [
      "cities_over1mil\n",
      "Fortune_500_Corporate_HQ\n",
      "cities_over100k\n",
      "Counties\n"
     ]
    }
   ],
   "source": [
    "for layer in fl_list:\n",
    "    print(layer.properties.name)"
   ]
  },
  {
   "cell_type": "code",
   "execution_count": 60,
   "metadata": {
    "collapsed": true
   },
   "outputs": [],
   "source": [
    "cities_million_pop = fl_list[0]"
   ]
  },
  {
   "cell_type": "code",
   "execution_count": 61,
   "metadata": {},
   "outputs": [
    {
     "data": {
      "text/plain": [
       "{\n",
       "  \"spatialReference\": {\n",
       "    \"wkid\": 102100,\n",
       "    \"latestWkid\": 3857\n",
       "  },\n",
       "  \"xmin\": -13627667.422245564,\n",
       "  \"xmax\": -8238277.595337318,\n",
       "  \"ymax\": 5210794.33529687,\n",
       "  \"ymin\": 3473190.4835932995\n",
       "}"
      ]
     },
     "execution_count": 61,
     "metadata": {},
     "output_type": "execute_result"
    }
   ],
   "source": [
    "cities_million_pop.properties.extent"
   ]
  },
  {
   "cell_type": "code",
   "execution_count": 62,
   "metadata": {
    "collapsed": true
   },
   "outputs": [],
   "source": [
    "map1 = gis.map('USA')\n",
    "map1"
   ]
  },
  {
   "cell_type": "code",
   "execution_count": 63,
   "metadata": {
    "collapsed": true
   },
   "outputs": [],
   "source": [
    "map1.add_layer(cities_million_pop)"
   ]
  },
  {
   "cell_type": "markdown",
   "metadata": {},
   "source": [
    "You can visualize `FeatureLayer` objects on the map widget"
   ]
  },
  {
   "cell_type": "markdown",
   "metadata": {},
   "source": [
    "## Accessing FeatureSet objects\n",
    "Let us query the FeatureLayer objected created above to get a `FeatureSet` in return"
   ]
  },
  {
   "cell_type": "code",
   "execution_count": 80,
   "metadata": {},
   "outputs": [
    {
     "data": {
      "text/plain": [
       "'Create,Delete,Query,Update,Editing'"
      ]
     },
     "execution_count": 80,
     "metadata": {},
     "output_type": "execute_result"
    }
   ],
   "source": [
    "cities_million_pop.properties.capabilities"
   ]
  },
  {
   "cell_type": "markdown",
   "metadata": {},
   "source": [
    "Let us write an empty query so we can get all the features"
   ]
  },
  {
   "cell_type": "code",
   "execution_count": 78,
   "metadata": {},
   "outputs": [
    {
     "data": {
      "text/plain": [
       "arcgis.features.feature.FeatureSet"
      ]
     },
     "execution_count": 78,
     "metadata": {},
     "output_type": "execute_result"
    }
   ],
   "source": [
    "cities_mil_fset = cities_million_pop.query()\n",
    "type(cities_mil_fset)"
   ]
  },
  {
   "cell_type": "code",
   "execution_count": 66,
   "metadata": {},
   "outputs": [
    {
     "data": {
      "text/plain": [
       "'esriGeometryPoint'"
      ]
     },
     "execution_count": 66,
     "metadata": {},
     "output_type": "execute_result"
    }
   ],
   "source": [
    "cities_mil_fset.geometry_type"
   ]
  },
  {
   "cell_type": "code",
   "execution_count": 67,
   "metadata": {},
   "outputs": [
    {
     "data": {
      "text/plain": [
       "{'latestWkid': 3857, 'wkid': 102100}"
      ]
     },
     "execution_count": 67,
     "metadata": {},
     "output_type": "execute_result"
    }
   ],
   "source": [
    "cities_mil_fset.spatial_reference"
   ]
  },
  {
   "cell_type": "code",
   "execution_count": 79,
   "metadata": {},
   "outputs": [
    {
     "data": {
      "text/html": [
       "<div>\n",
       "<table border=\"1\" class=\"dataframe\">\n",
       "  <thead>\n",
       "    <tr style=\"text-align: right;\">\n",
       "      <th></th>\n",
       "      <th>FEATURE</th>\n",
       "      <th>NAME</th>\n",
       "      <th>POP</th>\n",
       "      <th>geometry.x</th>\n",
       "      <th>geometry.y</th>\n",
       "    </tr>\n",
       "    <tr>\n",
       "      <th>OBJECTID</th>\n",
       "      <th></th>\n",
       "      <th></th>\n",
       "      <th></th>\n",
       "      <th></th>\n",
       "      <th></th>\n",
       "    </tr>\n",
       "  </thead>\n",
       "  <tbody>\n",
       "    <tr>\n",
       "      <th>1</th>\n",
       "      <td>Population greater than 999,999   County Seat</td>\n",
       "      <td>Los Angeles</td>\n",
       "      <td>3485398</td>\n",
       "      <td>-1.316297e+07</td>\n",
       "      <td>4.035820e+06</td>\n",
       "    </tr>\n",
       "    <tr>\n",
       "      <th>2</th>\n",
       "      <td>Population greater than 999,999   County Seat</td>\n",
       "      <td>San Diego</td>\n",
       "      <td>1110549</td>\n",
       "      <td>-1.304195e+07</td>\n",
       "      <td>3.857562e+06</td>\n",
       "    </tr>\n",
       "    <tr>\n",
       "      <th>3</th>\n",
       "      <td>Population greater than 999,999   County Seat</td>\n",
       "      <td>New York City</td>\n",
       "      <td>7322564</td>\n",
       "      <td>-8.238278e+06</td>\n",
       "      <td>4.970310e+06</td>\n",
       "    </tr>\n",
       "    <tr>\n",
       "      <th>4</th>\n",
       "      <td>Population greater than 999,999   County Seat</td>\n",
       "      <td>Philadelphia</td>\n",
       "      <td>1585577</td>\n",
       "      <td>-8.367174e+06</td>\n",
       "      <td>4.859018e+06</td>\n",
       "    </tr>\n",
       "    <tr>\n",
       "      <th>5</th>\n",
       "      <td>Population greater than 999,999   County Seat</td>\n",
       "      <td>Dallas</td>\n",
       "      <td>1006877</td>\n",
       "      <td>-1.077579e+07</td>\n",
       "      <td>3.866612e+06</td>\n",
       "    </tr>\n",
       "    <tr>\n",
       "      <th>6</th>\n",
       "      <td>Population greater than 999,999   County Seat</td>\n",
       "      <td>Houston</td>\n",
       "      <td>1630553</td>\n",
       "      <td>-1.061585e+07</td>\n",
       "      <td>3.473191e+06</td>\n",
       "    </tr>\n",
       "    <tr>\n",
       "      <th>7</th>\n",
       "      <td>Population greater than 999,999   County Seat</td>\n",
       "      <td>Chicago</td>\n",
       "      <td>2783726</td>\n",
       "      <td>-9.757182e+06</td>\n",
       "      <td>5.138534e+06</td>\n",
       "    </tr>\n",
       "    <tr>\n",
       "      <th>8</th>\n",
       "      <td>Population greater than 999,999   County Seat</td>\n",
       "      <td>Detroit</td>\n",
       "      <td>1027974</td>\n",
       "      <td>-9.244611e+06</td>\n",
       "      <td>5.210796e+06</td>\n",
       "    </tr>\n",
       "  </tbody>\n",
       "</table>\n",
       "</div>"
      ],
      "text/plain": [
       "                                                FEATURE           NAME  \\\n",
       "OBJECTID                                                                 \n",
       "1         Population greater than 999,999   County Seat    Los Angeles   \n",
       "2         Population greater than 999,999   County Seat      San Diego   \n",
       "3         Population greater than 999,999   County Seat  New York City   \n",
       "4         Population greater than 999,999   County Seat   Philadelphia   \n",
       "5         Population greater than 999,999   County Seat         Dallas   \n",
       "6         Population greater than 999,999   County Seat        Houston   \n",
       "7         Population greater than 999,999   County Seat        Chicago   \n",
       "8         Population greater than 999,999   County Seat        Detroit   \n",
       "\n",
       "              POP    geometry.x    geometry.y  \n",
       "OBJECTID                                       \n",
       "1         3485398 -1.316297e+07  4.035820e+06  \n",
       "2         1110549 -1.304195e+07  3.857562e+06  \n",
       "3         7322564 -8.238278e+06  4.970310e+06  \n",
       "4         1585577 -8.367174e+06  4.859018e+06  \n",
       "5         1006877 -1.077579e+07  3.866612e+06  \n",
       "6         1630553 -1.061585e+07  3.473191e+06  \n",
       "7         2783726 -9.757182e+06  5.138534e+06  \n",
       "8         1027974 -9.244611e+06  5.210796e+06  "
      ]
     },
     "execution_count": 79,
     "metadata": {},
     "output_type": "execute_result"
    }
   ],
   "source": [
    "cities_mil_fset.df"
   ]
  },
  {
   "cell_type": "markdown",
   "metadata": {},
   "source": [
    "## Accessing Feature objects\n",
    "Now get the `Features` from cities over 1 million population `FeatureSet`"
   ]
  },
  {
   "cell_type": "code",
   "execution_count": 69,
   "metadata": {},
   "outputs": [
    {
     "data": {
      "text/plain": [
       "list"
      ]
     },
     "execution_count": 69,
     "metadata": {},
     "output_type": "execute_result"
    }
   ],
   "source": [
    "cities_mil_features = cities_mil_fset.features\n",
    "type(cities_mil_features)"
   ]
  },
  {
   "cell_type": "code",
   "execution_count": 70,
   "metadata": {},
   "outputs": [
    {
     "data": {
      "text/plain": [
       "8"
      ]
     },
     "execution_count": 70,
     "metadata": {},
     "output_type": "execute_result"
    }
   ],
   "source": [
    "len(cities_mil_features)"
   ]
  },
  {
   "cell_type": "code",
   "execution_count": 71,
   "metadata": {},
   "outputs": [
    {
     "data": {
      "text/plain": [
       "arcgis.features.feature.Feature"
      ]
     },
     "execution_count": 71,
     "metadata": {},
     "output_type": "execute_result"
    }
   ],
   "source": [
    "type(cities_mil_features[0])"
   ]
  },
  {
   "cell_type": "code",
   "execution_count": 72,
   "metadata": {},
   "outputs": [],
   "source": [
    "f1= cities_mil_features[0]"
   ]
  },
  {
   "cell_type": "code",
   "execution_count": 73,
   "metadata": {},
   "outputs": [
    {
     "data": {
      "text/plain": [
       "{'x': -13162974.851296365, 'y': 4035820.2117743446}"
      ]
     },
     "execution_count": 73,
     "metadata": {},
     "output_type": "execute_result"
    }
   ],
   "source": [
    "f1.geometry"
   ]
  },
  {
   "cell_type": "markdown",
   "metadata": {},
   "source": [
    "# Editing features"
   ]
  },
  {
   "cell_type": "code",
   "execution_count": 74,
   "metadata": {},
   "outputs": [
    {
     "data": {
      "text/plain": [
       "{'FEATURE': 'Population greater than 999,999   County Seat',\n",
       " 'NAME': 'New York',\n",
       " 'OBJECTID': 3,\n",
       " 'POP': 7322564}"
      ]
     },
     "execution_count": 74,
     "metadata": {},
     "output_type": "execute_result"
    }
   ],
   "source": [
    "# select 'NAME=New York'\n",
    "ny_feature = [f for f in cities_mil_features if f.attributes['NAME']=='New York'][0]\n",
    "ny_feature.attributes"
   ]
  },
  {
   "cell_type": "code",
   "execution_count": 75,
   "metadata": {
    "collapsed": true
   },
   "outputs": [],
   "source": [
    "import copy\n",
    "ny_edit = copy.deepcopy(ny_feature)\n",
    "ny_edit.attributes['NAME'] = 'New York City'"
   ]
  },
  {
   "cell_type": "code",
   "execution_count": 76,
   "metadata": {},
   "outputs": [
    {
     "data": {
      "text/plain": [
       "{\"attributes\": {\"FEATURE\": \"Population greater than 999,999   County Seat\", \"NAME\": \"New York City\", \"POP\": 7322564, \"OBJECTID\": 3}, \"geometry\": {\"x\": -8238277.756585079, \"y\": 4970310.197143376}}"
      ]
     },
     "execution_count": 76,
     "metadata": {},
     "output_type": "execute_result"
    }
   ],
   "source": [
    "ny_edit"
   ]
  },
  {
   "cell_type": "code",
   "execution_count": 77,
   "metadata": {},
   "outputs": [
    {
     "data": {
      "text/plain": [
       "{'addResults': [],\n",
       " 'deleteResults': [],\n",
       " 'updateResults': [{'globalId': None, 'objectId': 3, 'success': True}]}"
      ]
     },
     "execution_count": 77,
     "metadata": {},
     "output_type": "execute_result"
    }
   ],
   "source": [
    "update_result = cities_million_pop.edit_features(updates=[ny_edit])\n",
    "update_result"
   ]
  },
  {
   "cell_type": "code",
   "execution_count": null,
   "metadata": {
    "collapsed": true
   },
   "outputs": [],
   "source": []
  }
 ],
 "metadata": {
  "kernelspec": {
   "display_name": "Python 3",
   "language": "python",
   "name": "python3"
  },
  "language_info": {
   "codemirror_mode": {
    "name": "ipython",
    "version": 3
   },
   "file_extension": ".py",
   "mimetype": "text/x-python",
   "name": "python",
   "nbconvert_exporter": "python",
   "pygments_lexer": "ipython3",
   "version": "3.5.3"
  },
  "widgets": {
   "state": {
    "02fed0786532426ab868fe91a82e0941": {
     "views": [
      {
       "cell_index": 22
      }
     ]
    }
   },
   "version": "1.2.0"
  }
 },
 "nbformat": 4,
 "nbformat_minor": 2
}
