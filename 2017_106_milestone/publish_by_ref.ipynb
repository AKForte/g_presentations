{
 "cells": [
  {
   "cell_type": "markdown",
   "metadata": {},
   "source": [
    "# Publishing services to a federated server by reference\n",
    "#### Import library and connect to the ArcGIS Enterprise"
   ]
  },
  {
   "cell_type": "code",
   "execution_count": 3,
   "metadata": {},
   "outputs": [
    {
     "name": "stdout",
     "output_type": "stream",
     "text": [
      "Enter password: ········\n"
     ]
    }
   ],
   "source": [
    "from arcgis.gis import GIS\n",
    "gis = GIS(\"https://dev005219.esri.com/portal\",'admin', verify_cert=False)"
   ]
  },
  {
   "cell_type": "markdown",
   "metadata": {},
   "source": [
    "### Inspect the list of servers"
   ]
  },
  {
   "cell_type": "code",
   "execution_count": 4,
   "metadata": {},
   "outputs": [
    {
     "data": {
      "text/plain": [
       "[<Server at https://Dev005219.esri.com:6443/arcgis>]"
      ]
     },
     "execution_count": 4,
     "metadata": {},
     "output_type": "execute_result"
    }
   ],
   "source": [
    "server_list = gis.admin.servers.list()\n",
    "server_list"
   ]
  },
  {
   "cell_type": "markdown",
   "metadata": {},
   "source": [
    "### Inspect services on the server"
   ]
  },
  {
   "cell_type": "code",
   "execution_count": 6,
   "metadata": {},
   "outputs": [
    {
     "data": {
      "text/plain": [
       "[<Service at https://Dev005219.esri.com:6443/arcgis/admin/services/Hosted/WFL_usa.FeatureServer>]"
      ]
     },
     "execution_count": 6,
     "metadata": {},
     "output_type": "execute_result"
    }
   ],
   "source": [
    "server1 = server_list[0]\n",
    "# server1.services.list()\n",
    "server1.services.list(folder='Hosted')"
   ]
  },
  {
   "cell_type": "markdown",
   "metadata": {},
   "source": [
    "#### Inspect data stores on the server"
   ]
  },
  {
   "cell_type": "code",
   "execution_count": 7,
   "metadata": {},
   "outputs": [
    {
     "name": "stdout",
     "output_type": "stream",
     "text": [
      "egdb | /enterpriseDatabases/AGSDataStore_ds_ktdsimmo\n",
      "folder | /fileShares/heart_health\n",
      "nosql | /nosqlDatabases/AGSDataStore_nosqldb_tcs_jnyfdw7q\n"
     ]
    }
   ],
   "source": [
    "data_store_list = server1.datastores.list()\n",
    "for data_store in data_store_list:\n",
    "    print(data_store.properties.type + \" | \" + data_store.properties.path)"
   ]
  },
  {
   "cell_type": "markdown",
   "metadata": {},
   "source": [
    "#### Register a new data store"
   ]
  },
  {
   "cell_type": "code",
   "execution_count": 28,
   "metadata": {},
   "outputs": [
    {
     "data": {
      "text/plain": [
       "<Datastore title:\"https://Dev005219.esri.com:6443/arcgis/admin/data/items/fileShares/heart_health\" type:\"folder\">"
      ]
     },
     "execution_count": 28,
     "metadata": {},
     "output_type": "execute_result"
    }
   ],
   "source": [
    "heart_health_data = server1.datastores.add_folder(name='heart_health', \n",
    "                              server_path=\"\\\\\\\\qalab_server\\\\pydata\\\\v106\\\\geosaurus\\\\data_prep\\\\SDs\\\\by_ref\")\n",
    "heart_health_data"
   ]
  },
  {
   "cell_type": "code",
   "execution_count": 29,
   "metadata": {},
   "outputs": [
    {
     "data": {
      "text/plain": [
       "{\n",
       "  \"path\": \"/fileShares/heart_health\",\n",
       "  \"type\": \"folder\",\n",
       "  \"info\": {\n",
       "    \"path\": \"\\\\\\\\qalab_server\\\\pydata\\\\v106\\\\geosaurus\\\\data_prep\\\\SDs\\\\by_ref\",\n",
       "    \"dataStoreConnectionType\": \"shared\"\n",
       "  },\n",
       "  \"id\": \"870d1b15-54a7-4fb6-9b95-9d676c898eb0\"\n",
       "}"
      ]
     },
     "execution_count": 29,
     "metadata": {},
     "output_type": "execute_result"
    }
   ],
   "source": [
    "#inspect the properties\n",
    "heart_health_data.properties"
   ]
  },
  {
   "cell_type": "code",
   "execution_count": 30,
   "metadata": {},
   "outputs": [
    {
     "data": {
      "text/plain": [
       "True"
      ]
     },
     "execution_count": 30,
     "metadata": {},
     "output_type": "execute_result"
    }
   ],
   "source": [
    "#validate data store\n",
    "heart_health_data.validate()"
   ]
  },
  {
   "cell_type": "markdown",
   "metadata": {},
   "source": [
    "## Publish SD file to the server"
   ]
  },
  {
   "cell_type": "code",
   "execution_count": 8,
   "metadata": {},
   "outputs": [
    {
     "name": "stdout",
     "output_type": "stream",
     "text": [
      "{'name': 'System/CachingControllers', 'type': 'GPServer'}\n",
      "{'name': 'System/CachingToolsEx', 'type': 'GPServer'}\n",
      "{'name': 'System/CachingTools', 'type': 'GPServer'}\n",
      "{'name': 'System/DynamicMappingHost', 'type': 'MapServer'}\n",
      "{'name': 'System/PublishingToolsEx', 'type': 'GPServer'}\n",
      "{'name': 'System/PublishingTools', 'type': 'GPServer'}\n"
     ]
    },
    {
     "name": "stderr",
     "output_type": "stream",
     "text": [
      "WARNING 086222: Output directory in service definition is not set or is invalid. Using default output directory.\n",
      "WARNING 086224: Cache directory in service definition is not set or is invalid. Using default cache directory.\n"
     ]
    },
    {
     "data": {
      "text/plain": [
       "True"
      ]
     },
     "execution_count": 8,
     "metadata": {},
     "output_type": "execute_result"
    }
   ],
   "source": [
    "server1.services.publish_sd('/Users/atma6951/Documents/GIS_data/file_formats/sd/heart_attacks_byref.sd')"
   ]
  },
  {
   "cell_type": "markdown",
   "metadata": {
    "collapsed": true
   },
   "source": [
    "### Consume the map image layer"
   ]
  },
  {
   "cell_type": "code",
   "execution_count": 16,
   "metadata": {},
   "outputs": [
    {
     "ename": "IndexError",
     "evalue": "list index out of range",
     "output_type": "error",
     "traceback": [
      "\u001b[0;31m---------------------------------------------------------------------------\u001b[0m",
      "\u001b[0;31mIndexError\u001b[0m                                Traceback (most recent call last)",
      "\u001b[0;32m<ipython-input-16-14ff9027b566>\u001b[0m in \u001b[0;36m<module>\u001b[0;34m()\u001b[0m\n\u001b[0;32m----> 1\u001b[0;31m \u001b[0mgis\u001b[0m\u001b[0;34m.\u001b[0m\u001b[0mcontent\u001b[0m\u001b[0;34m.\u001b[0m\u001b[0msearch\u001b[0m\u001b[0;34m(\u001b[0m\u001b[0;34m\"heart attacks\"\u001b[0m\u001b[0;34m)\u001b[0m\u001b[0;34m[\u001b[0m\u001b[0;36m0\u001b[0m\u001b[0;34m]\u001b[0m\u001b[0;34m\u001b[0m\u001b[0m\n\u001b[0m",
      "\u001b[0;31mIndexError\u001b[0m: list index out of range"
     ]
    }
   ],
   "source": [
    "gis.content.search(\"heart attacks\")[0]"
   ]
  },
  {
   "cell_type": "code",
   "execution_count": null,
   "metadata": {
    "collapsed": true
   },
   "outputs": [],
   "source": []
  }
 ],
 "metadata": {
  "kernelspec": {
   "display_name": "Python 3",
   "language": "python",
   "name": "python3"
  },
  "language_info": {
   "codemirror_mode": {
    "name": "ipython",
    "version": 3
   },
   "file_extension": ".py",
   "mimetype": "text/x-python",
   "name": "python",
   "nbconvert_exporter": "python",
   "pygments_lexer": "ipython3",
   "version": "3.6.2"
  }
 },
 "nbformat": 4,
 "nbformat_minor": 1
}
