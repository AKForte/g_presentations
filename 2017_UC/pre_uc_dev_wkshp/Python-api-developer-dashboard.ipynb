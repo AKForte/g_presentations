{
 "cells": [
  {
   "cell_type": "markdown",
   "metadata": {},
   "source": [
    "# <center> Earthquakes over time dashboard </center>"
   ]
  },
  {
   "cell_type": "markdown",
   "metadata": {},
   "source": [
    "This notebook demonstrates how developers can quickly build dashboard style apps using Jupyter notebook and ArcGIS API for Python. To run this you need `jupyter-dashboard` installed in your `conda` environment."
   ]
  },
  {
   "cell_type": "code",
   "execution_count": 23,
   "metadata": {},
   "outputs": [],
   "source": [
    "#import libraries\n",
    "from arcgis.gis import *\n",
    "import matplotlib.pyplot as plt\n",
    "import seaborn as sns\n",
    "import numpy as np\n",
    "import pandas as pd\n",
    "%matplotlib inline\n",
    "from datetime import datetime\n",
    "from dateutil import parser"
   ]
  },
  {
   "cell_type": "markdown",
   "metadata": {
    "collapsed": true
   },
   "source": [
    "## Access earthquakes feature layer"
   ]
  },
  {
   "cell_type": "code",
   "execution_count": 3,
   "metadata": {},
   "outputs": [
    {
     "data": {
      "text/html": [
       "<div class=\"item_container\" style=\"height: auto; overflow: hidden; border: 1px solid #cfcfcf; border-radius: 2px; background: #f6fafa; line-height: 1.21429em; padding: 10px;\">\n",
       "                    <div class=\"item_left\" style=\"width: 210px; float: left;\">\n",
       "                       <a href='https://python.playground.esri.com/portal/home/item.html?id=14c2e85bbc6e4ff892180c5b9d5bc5bd' target='_blank'>\n",
       "                        <img src='data:image/png;base64,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' width='200' height='133' class=\"itemThumbnail\">\n",
       "                       </a>\n",
       "                    </div>\n",
       "\n",
       "                    <div class=\"item_right\"     style=\"float: none; width: auto; overflow: hidden;\">\n",
       "                        <a href='https://python.playground.esri.com/portal/home/item.html?id=14c2e85bbc6e4ff892180c5b9d5bc5bd' target='_blank'><b>earthquakes</b>\n",
       "                        </a>\n",
       "                        <br/><img src='https://python.playground.esri.com/portal/home/js/jsapi/esri/css/images/item_type_icons/featureshosted16.png' style=\"vertical-align:middle;\">Feature Layer Collection by arcgis_python\n",
       "                        <br/>Last Modified: July 02, 2017\n",
       "                        <br/>0 comments, 1 views\n",
       "                    </div>\n",
       "                </div>\n",
       "                "
      ],
      "text/plain": [
       "<Item title:\"earthquakes\" type:Feature Layer Collection owner:arcgis_python>"
      ]
     },
     "execution_count": 3,
     "metadata": {},
     "output_type": "execute_result"
    }
   ],
   "source": [
    "gis = GIS(\"https://python.playground.esri.com/portal\",\"arcgis_python\",\"amazing_arcgis_123\")\n",
    "eq_item = gis.content.search(\"title:earthquakes & owner:arcgis_python\", \"feature layer\")[0]\n",
    "eq_item"
   ]
  },
  {
   "cell_type": "code",
   "execution_count": 4,
   "metadata": {},
   "outputs": [
    {
     "data": {
      "text/html": [
       "<div>\n",
       "<table border=\"1\" class=\"dataframe\">\n",
       "  <thead>\n",
       "    <tr style=\"text-align: right;\">\n",
       "      <th></th>\n",
       "      <th>datetime_</th>\n",
       "      <th>depth</th>\n",
       "      <th>distance</th>\n",
       "      <th>eventid</th>\n",
       "      <th>gap</th>\n",
       "      <th>latitude</th>\n",
       "      <th>longitude</th>\n",
       "      <th>magnitude</th>\n",
       "      <th>magtype</th>\n",
       "      <th>nbstations</th>\n",
       "      <th>objectid</th>\n",
       "      <th>rms</th>\n",
       "      <th>source</th>\n",
       "      <th>SHAPE</th>\n",
       "    </tr>\n",
       "  </thead>\n",
       "  <tbody>\n",
       "    <tr>\n",
       "      <th>0</th>\n",
       "      <td>1898/06/29 18:36:00.00</td>\n",
       "      <td>0.0</td>\n",
       "      <td>None</td>\n",
       "      <td>None</td>\n",
       "      <td>None</td>\n",
       "      <td>52.00</td>\n",
       "      <td>172.0</td>\n",
       "      <td>7.6</td>\n",
       "      <td>ML</td>\n",
       "      <td>0.0</td>\n",
       "      <td>1</td>\n",
       "      <td>None</td>\n",
       "      <td>AK</td>\n",
       "      <td>{'x': 19146952.416399997, 'y': 6800125.454400003}</td>\n",
       "    </tr>\n",
       "    <tr>\n",
       "      <th>1</th>\n",
       "      <td>1898/10/11 16:37:32.70</td>\n",
       "      <td>0.0</td>\n",
       "      <td>None</td>\n",
       "      <td>None</td>\n",
       "      <td>None</td>\n",
       "      <td>50.71</td>\n",
       "      <td>-179.5</td>\n",
       "      <td>6.9</td>\n",
       "      <td>ML</td>\n",
       "      <td>0.0</td>\n",
       "      <td>2</td>\n",
       "      <td>None</td>\n",
       "      <td>AK</td>\n",
       "      <td>{'x': -19981848.597399995, 'y': 6570155.513000...</td>\n",
       "    </tr>\n",
       "    <tr>\n",
       "      <th>2</th>\n",
       "      <td>1899/07/14 13:32:00.00</td>\n",
       "      <td>0.0</td>\n",
       "      <td>None</td>\n",
       "      <td>None</td>\n",
       "      <td>None</td>\n",
       "      <td>60.00</td>\n",
       "      <td>-150.0</td>\n",
       "      <td>7.2</td>\n",
       "      <td>ML</td>\n",
       "      <td>0.0</td>\n",
       "      <td>3</td>\n",
       "      <td>None</td>\n",
       "      <td>AK</td>\n",
       "      <td>{'x': -16697923.618999999, 'y': 8399737.889800...</td>\n",
       "    </tr>\n",
       "    <tr>\n",
       "      <th>3</th>\n",
       "      <td>1899/09/04 00:22:00.00</td>\n",
       "      <td>25.0</td>\n",
       "      <td>None</td>\n",
       "      <td>None</td>\n",
       "      <td>None</td>\n",
       "      <td>60.00</td>\n",
       "      <td>-142.0</td>\n",
       "      <td>8.3</td>\n",
       "      <td>ML</td>\n",
       "      <td>0.0</td>\n",
       "      <td>4</td>\n",
       "      <td>None</td>\n",
       "      <td>AK</td>\n",
       "      <td>{'x': -15807367.692599999, 'y': 8399737.889800...</td>\n",
       "    </tr>\n",
       "    <tr>\n",
       "      <th>4</th>\n",
       "      <td>1899/09/04 04:40:00.00</td>\n",
       "      <td>0.0</td>\n",
       "      <td>None</td>\n",
       "      <td>None</td>\n",
       "      <td>None</td>\n",
       "      <td>60.00</td>\n",
       "      <td>-142.0</td>\n",
       "      <td>6.9</td>\n",
       "      <td>ML</td>\n",
       "      <td>0.0</td>\n",
       "      <td>5</td>\n",
       "      <td>None</td>\n",
       "      <td>AK</td>\n",
       "      <td>{'x': -15807367.692599999, 'y': 8399737.889800...</td>\n",
       "    </tr>\n",
       "  </tbody>\n",
       "</table>\n",
       "</div>"
      ],
      "text/plain": [
       "                datetime_  depth distance eventid   gap  latitude  longitude  \\\n",
       "0  1898/06/29 18:36:00.00    0.0     None    None  None     52.00      172.0   \n",
       "1  1898/10/11 16:37:32.70    0.0     None    None  None     50.71     -179.5   \n",
       "2  1899/07/14 13:32:00.00    0.0     None    None  None     60.00     -150.0   \n",
       "3  1899/09/04 00:22:00.00   25.0     None    None  None     60.00     -142.0   \n",
       "4  1899/09/04 04:40:00.00    0.0     None    None  None     60.00     -142.0   \n",
       "\n",
       "   magnitude magtype  nbstations  objectid   rms source  \\\n",
       "0        7.6      ML         0.0         1  None     AK   \n",
       "1        6.9      ML         0.0         2  None     AK   \n",
       "2        7.2      ML         0.0         3  None     AK   \n",
       "3        8.3      ML         0.0         4  None     AK   \n",
       "4        6.9      ML         0.0         5  None     AK   \n",
       "\n",
       "                                               SHAPE  \n",
       "0  {'x': 19146952.416399997, 'y': 6800125.454400003}  \n",
       "1  {'x': -19981848.597399995, 'y': 6570155.513000...  \n",
       "2  {'x': -16697923.618999999, 'y': 8399737.889800...  \n",
       "3  {'x': -15807367.692599999, 'y': 8399737.889800...  \n",
       "4  {'x': -15807367.692599999, 'y': 8399737.889800...  "
      ]
     },
     "execution_count": 4,
     "metadata": {},
     "output_type": "execute_result"
    }
   ],
   "source": [
    "eq_flayer = eq_item.layers[0]\n",
    "eq_fset = eq_flayer.query()\n",
    "eq_df = eq_fset.df\n",
    "eq_df.head()"
   ]
  },
  {
   "cell_type": "code",
   "execution_count": 5,
   "metadata": {},
   "outputs": [
    {
     "data": {
      "text/plain": [
       "(77037, 14)"
      ]
     },
     "execution_count": 5,
     "metadata": {},
     "output_type": "execute_result"
    }
   ],
   "source": [
    "eq_df.shape"
   ]
  },
  {
   "cell_type": "code",
   "execution_count": 6,
   "metadata": {},
   "outputs": [
    {
     "data": {
      "text/plain": [
       "arcgis.features._data.geodataset.geodataframe.SpatialDataFrame"
      ]
     },
     "execution_count": 6,
     "metadata": {},
     "output_type": "execute_result"
    }
   ],
   "source": [
    "type(eq_df)"
   ]
  },
  {
   "cell_type": "markdown",
   "metadata": {},
   "source": [
    "#### Parse datetime_ column to Python DateTime obj"
   ]
  },
  {
   "cell_type": "code",
   "execution_count": 26,
   "metadata": {},
   "outputs": [],
   "source": [
    "eq_df['new_datetime'] = eq_df['datetime_'].apply(lambda x: parser.parse(x))"
   ]
  },
  {
   "cell_type": "code",
   "execution_count": 28,
   "metadata": {},
   "outputs": [],
   "source": [
    "# eq_df.to_csv('earthquakes_newdt.csv')"
   ]
  },
  {
   "cell_type": "markdown",
   "metadata": {},
   "source": [
    "### Plot the number and intensity of hurricanes over time"
   ]
  },
  {
   "cell_type": "code",
   "execution_count": 35,
   "metadata": {
    "collapsed": true
   },
   "outputs": [],
   "source": [
    "eq_years = eq_df['new_datetime'].apply(lambda x : x.year)"
   ]
  },
  {
   "cell_type": "code",
   "execution_count": 34,
   "metadata": {},
   "outputs": [
    {
     "data": {
      "text/plain": [
       "<seaborn.axisgrid.JointGrid at 0x11b19d438>"
      ]
     },
     "execution_count": 34,
     "metadata": {},
     "output_type": "execute_result"
    },
    {
     "data": {
      "image/png": "[encoded data removed]",
      "text/plain": [
       "<matplotlib.figure.Figure at 0x11b19db38>"
      ]
     },
     "metadata": {},
     "output_type": "display_data"
    }
   ],
   "source": [
    "eq_small = eq_df.head(1000)\n",
    "sns.jointplot(eq_small['new_datetime'].apply(lambda x: x.year), eq_small['magnitude'])"
   ]
  },
  {
   "cell_type": "code",
   "execution_count": 51,
   "metadata": {},
   "outputs": [
    {
     "data": {
      "text/plain": [
       "<seaborn.axisgrid.JointGrid at 0x11ef904a8>"
      ]
     },
     "execution_count": 51,
     "metadata": {},
     "output_type": "execute_result"
    },
    {
     "data": {
      "image/png": "[encoded data removed]",
      "text/plain": [
       "<matplotlib.figure.Figure at 0x11ef90860>"
      ]
     },
     "metadata": {},
     "output_type": "display_data"
    }
   ],
   "source": [
    "g1 = sns.jointplot(eq_years, eq_df['magnitude'], size=8, space=0)\n",
    "g1.set_axis_labels(xlabel='years', ylabel='magnitude')\n",
    "g1"
   ]
  },
  {
   "cell_type": "code",
   "execution_count": 50,
   "metadata": {},
   "outputs": [
    {
     "data": {
      "text/plain": [
       "<seaborn.axisgrid.JointGrid at 0x12131e1d0>"
      ]
     },
     "execution_count": 50,
     "metadata": {},
     "output_type": "execute_result"
    },
    {
     "data": {
      "image/png": "[encoded data removed]",
      "text/plain": [
       "<matplotlib.figure.Figure at 0x12131e400>"
      ]
     },
     "metadata": {},
     "output_type": "display_data"
    }
   ],
   "source": [
    "g2 = sns.jointplot(eq_years, eq_df['magnitude'], kind='kde', size=8)\n",
    "g2.set_axis_labels(xlabel='years', ylabel= 'magnitude')\n",
    "g2"
   ]
  },
  {
   "cell_type": "markdown",
   "metadata": {},
   "source": [
    "## Get finer picture"
   ]
  },
  {
   "cell_type": "code",
   "execution_count": 48,
   "metadata": {},
   "outputs": [
    {
     "data": {
      "text/plain": [
       "2011"
      ]
     },
     "execution_count": 48,
     "metadata": {},
     "output_type": "execute_result"
    }
   ],
   "source": [
    "eq_years.max()"
   ]
  },
  {
   "cell_type": "code",
   "execution_count": 53,
   "metadata": {
    "collapsed": true
   },
   "outputs": [],
   "source": [
    "from ipywidgets import widgets"
   ]
  },
  {
   "cell_type": "code",
   "execution_count": 54,
   "metadata": {},
   "outputs": [
    {
     "data": {
      "application/vnd.jupyter.widget-view+json": {
       "model_id": "721f48f7f04943b3a8184ef33cabed43"
      }
     },
     "metadata": {},
     "output_type": "display_data"
    }
   ],
   "source": [
    "widgets.IntSlider()"
   ]
  },
  {
   "cell_type": "code",
   "execution_count": 57,
   "metadata": {},
   "outputs": [
    {
     "data": {
      "application/vnd.jupyter.widget-view+json": {
       "model_id": "0417d7b0236d4f4a83b9f9162e70ecb4"
      }
     },
     "metadata": {},
     "output_type": "display_data"
    }
   ],
   "source": [
    "w1 = widgets.IntRangeSlider(\n",
    "    value=[1980, 1990],\n",
    "    min=1900,\n",
    "    max=2010,\n",
    "    step=10,\n",
    "    description='10 year intervals: ',\n",
    "    disabled=False,\n",
    "    continuous_update=False,\n",
    "    orientation='horizontal',\n",
    "    readout=True,\n",
    "    readout_format='i',\n",
    ")\n",
    "w1"
   ]
  },
  {
   "cell_type": "code",
   "execution_count": 61,
   "metadata": {},
   "outputs": [
    {
     "data": {
      "text/plain": [
       "(1920, 1960)"
      ]
     },
     "execution_count": 61,
     "metadata": {},
     "output_type": "execute_result"
    }
   ],
   "source": [
    "w1.value"
   ]
  },
  {
   "cell_type": "markdown",
   "metadata": {},
   "source": [
    "## Throw in the map"
   ]
  },
  {
   "cell_type": "code",
   "execution_count": 62,
   "metadata": {},
   "outputs": [
    {
     "data": {
      "application/vnd.jupyter.widget-view+json": {
       "model_id": "807a842c86ea41a290aa4d4c2f9e16cc"
      }
     },
     "metadata": {},
     "output_type": "display_data"
    }
   ],
   "source": [
    "map1 = gis.map()\n",
    "map1"
   ]
  },
  {
   "cell_type": "code",
   "execution_count": 64,
   "metadata": {},
   "outputs": [],
   "source": [
    "map1.add_layer(eq_item)"
   ]
  },
  {
   "cell_type": "code",
   "execution_count": 67,
   "metadata": {},
   "outputs": [],
   "source": [
    "map1.set_time_extent('1890','1900')"
   ]
  },
  {
   "cell_type": "code",
   "execution_count": 69,
   "metadata": {
    "collapsed": true
   },
   "outputs": [],
   "source": [
    "map1.extent"
   ]
  },
  {
   "cell_type": "code",
   "execution_count": 75,
   "metadata": {},
   "outputs": [
    {
     "data": {
      "text/plain": [
       "{'_addlayer': '{\"type\": \"FeatureLayer\", \"url\": \"http://python.playground.esri.com/server/rest/services/Hosted/earthquakes/FeatureServer/0?token=2bfMoQtwW8feO4gkf0Xt9Zy1KBviMbLWV6gPBQ2ugwZGzjjdGkIpdyBKdqc7OO-omlSX8YO0i4CkPsIG_KVeyOyZWLQMBmc99GWsYq46mdFhvMb0SRTvrtOQOKURjZcU\"}',\n",
       " '_arcgis_url': 'https://python.playground.esri.com/portal/sharing/rest/content/items',\n",
       " '_dom_classes': (),\n",
       " '_extent': '',\n",
       " '_jsextent': '',\n",
       " '_model_module': 'jupyter-js-widgets',\n",
       " '_model_module_version': '*',\n",
       " '_model_name': 'DOMWidgetModel',\n",
       " '_swipe_div': 'swipeDivIF819O',\n",
       " '_token_info': '{\"server\": \"https://python.playground.esri.com/portal/sharing/rest/\", \"tokenurl\": \"https://python.playground.esri.com/portal/sharing/rest/generateToken\", \"username\": \"arcgis_python\", \"password\": \"amazing_arcgis_123\"}',\n",
       " '_view_module': 'mapview',\n",
       " '_view_module_version': '*',\n",
       " '_view_name': 'MapView',\n",
       " 'basemap': 'topo',\n",
       " 'center': [0, 0],\n",
       " 'end_time': '1900',\n",
       " 'id': '',\n",
       " 'layout': 'IPY_MODEL_914a8d374337435589edacd805e0893b',\n",
       " 'mode': 'navigate',\n",
       " 'msg_throttle': 1,\n",
       " 'start_time': '1890',\n",
       " 'width': '100%',\n",
       " 'zoom': 2}"
      ]
     },
     "execution_count": 75,
     "metadata": {},
     "output_type": "execute_result"
    }
   ],
   "source": [
    "map1.get_state()"
   ]
  },
  {
   "cell_type": "markdown",
   "metadata": {},
   "source": [
    "## time try"
   ]
  },
  {
   "cell_type": "code",
   "execution_count": 76,
   "metadata": {
    "collapsed": true
   },
   "outputs": [],
   "source": [
    "gis2 = GIS()\n",
    "ls_water = gis2.content.search(\"Land Water Boundary (453) 1990-2010\", \n",
    "                               max_items=1, outside_org = True)[0]"
   ]
  },
  {
   "cell_type": "code",
   "execution_count": 77,
   "metadata": {},
   "outputs": [
    {
     "data": {
      "text/html": [
       "<div class=\"item_container\" style=\"height: auto; overflow: hidden; border: 1px solid #cfcfcf; border-radius: 2px; background: #f6fafa; line-height: 1.21429em; padding: 10px;\">\n",
       "                    <div class=\"item_left\" style=\"width: 210px; float: left;\">\n",
       "                       <a href='http://www.arcgis.com/home/item.html?id=64482ef4d29e413f9822c41348af3b08' target='_blank'>\n",
       "                        <img src='http://www.arcgis.com/sharing/rest//content/items/64482ef4d29e413f9822c41348af3b08/info/thumbnail/ago_downloaded.png' class=\"itemThumbnail\">\n",
       "                       </a>\n",
       "                    </div>\n",
       "\n",
       "                    <div class=\"item_right\"     style=\"float: none; width: auto; overflow: hidden;\">\n",
       "                        <a href='http://www.arcgis.com/home/item.html?id=64482ef4d29e413f9822c41348af3b08' target='_blank'><b>Land / Water Boundary (453) 1990-2010 (Mature Support)</b>\n",
       "                        </a>\n",
       "                        <br/>This image's band combination (4 5 3) offers added definition of land/water boundaries and highlights subtle details not readily apparent in the visible bands alone.<img src='http://www.arcgis.com/home/js/jsapi/esri/css/images/item_type_icons/imagery16.png' style=\"vertical-align:middle;\">Imagery Layer by esri\n",
       "                        <br/>Last Modified: January 13, 2016\n",
       "                        <br/>0 comments, 244,512 views\n",
       "                    </div>\n",
       "                </div>\n",
       "                "
      ],
      "text/plain": [
       "<Item title:\"Land / Water Boundary (453) 1990-2010 (Mature Support)\" type:Imagery Layer owner:esri>"
      ]
     },
     "execution_count": 77,
     "metadata": {},
     "output_type": "execute_result"
    }
   ],
   "source": [
    "ls_water"
   ]
  },
  {
   "cell_type": "code",
   "execution_count": 78,
   "metadata": {},
   "outputs": [
    {
     "data": {
      "application/vnd.jupyter.widget-view+json": {
       "model_id": "d0364c1f3e4d4043b9f63a1ed7010280"
      }
     },
     "metadata": {},
     "output_type": "display_data"
    }
   ],
   "source": [
    "map2 = gis.map()\n",
    "map2"
   ]
  },
  {
   "cell_type": "code",
   "execution_count": 79,
   "metadata": {
    "collapsed": true
   },
   "outputs": [],
   "source": [
    "map2.add_layer(ls_water)"
   ]
  },
  {
   "cell_type": "code",
   "execution_count": 85,
   "metadata": {
    "collapsed": true
   },
   "outputs": [],
   "source": [
    "map2.set_time_extent('1/1/2004 UTC', '1/1/2005 UTC')"
   ]
  },
  {
   "cell_type": "code",
   "execution_count": 91,
   "metadata": {},
   "outputs": [
    {
     "data": {
      "application/vnd.jupyter.widget-view+json": {
       "model_id": "827b9a4b201645fa940d91fa02b09669"
      }
     },
     "metadata": {},
     "output_type": "display_data"
    },
    {
     "ename": "AttributeError",
     "evalue": "'str' object has no attribute 'value'",
     "output_type": "error",
     "traceback": [
      "\u001b[0;31m---------------------------------------------------------------------------\u001b[0m",
      "\u001b[0;31mAttributeError\u001b[0m                            Traceback (most recent call last)",
      "\u001b[0;32m/Users/atma6951/anaconda/envs/geosaurus_gold/lib/python3.6/site-packages/ipywidgets/widgets/widget.py\u001b[0m in \u001b[0;36m_handle_msg\u001b[0;34m(self, msg)\u001b[0m\n\u001b[1;32m    456\u001b[0m                 \u001b[0;32mfor\u001b[0m \u001b[0mi\u001b[0m\u001b[0;34m,\u001b[0m\u001b[0mk\u001b[0m \u001b[0;32min\u001b[0m \u001b[0menumerate\u001b[0m\u001b[0;34m(\u001b[0m\u001b[0mdata\u001b[0m\u001b[0;34m.\u001b[0m\u001b[0mget\u001b[0m\u001b[0;34m(\u001b[0m\u001b[0;34m'buffer_keys'\u001b[0m\u001b[0;34m,\u001b[0m \u001b[0;34m[\u001b[0m\u001b[0;34m]\u001b[0m\u001b[0;34m)\u001b[0m\u001b[0;34m)\u001b[0m\u001b[0;34m:\u001b[0m\u001b[0;34m\u001b[0m\u001b[0m\n\u001b[1;32m    457\u001b[0m                     \u001b[0msync_data\u001b[0m\u001b[0;34m[\u001b[0m\u001b[0mk\u001b[0m\u001b[0;34m]\u001b[0m \u001b[0;34m=\u001b[0m \u001b[0mmsg\u001b[0m\u001b[0;34m[\u001b[0m\u001b[0;34m'buffers'\u001b[0m\u001b[0;34m]\u001b[0m\u001b[0;34m[\u001b[0m\u001b[0mi\u001b[0m\u001b[0;34m]\u001b[0m\u001b[0;34m\u001b[0m\u001b[0m\n\u001b[0;32m--> 458\u001b[0;31m                 \u001b[0mself\u001b[0m\u001b[0;34m.\u001b[0m\u001b[0mset_state\u001b[0m\u001b[0;34m(\u001b[0m\u001b[0msync_data\u001b[0m\u001b[0;34m)\u001b[0m \u001b[0;31m# handles all methods\u001b[0m\u001b[0;34m\u001b[0m\u001b[0m\n\u001b[0m\u001b[1;32m    459\u001b[0m \u001b[0;34m\u001b[0m\u001b[0m\n\u001b[1;32m    460\u001b[0m         \u001b[0;31m# Handle a state request.\u001b[0m\u001b[0;34m\u001b[0m\u001b[0;34m\u001b[0m\u001b[0m\n",
      "\u001b[0;32m/Users/atma6951/anaconda/envs/geosaurus_gold/lib/python3.6/site-packages/ipywidgets/widgets/widget.py\u001b[0m in \u001b[0;36mset_state\u001b[0;34m(self, sync_data)\u001b[0m\n\u001b[1;32m    330\u001b[0m         \u001b[0;31m# be locked when the hold_trait_notification context manager is\u001b[0m\u001b[0;34m\u001b[0m\u001b[0;34m\u001b[0m\u001b[0m\n\u001b[1;32m    331\u001b[0m         \u001b[0;31m# released and notifications are fired.\u001b[0m\u001b[0;34m\u001b[0m\u001b[0;34m\u001b[0m\u001b[0m\n\u001b[0;32m--> 332\u001b[0;31m         \u001b[0;32mwith\u001b[0m \u001b[0mself\u001b[0m\u001b[0;34m.\u001b[0m\u001b[0m_lock_property\u001b[0m\u001b[0;34m(\u001b[0m\u001b[0;34m**\u001b[0m\u001b[0msync_data\u001b[0m\u001b[0;34m)\u001b[0m\u001b[0;34m,\u001b[0m \u001b[0mself\u001b[0m\u001b[0;34m.\u001b[0m\u001b[0mhold_trait_notifications\u001b[0m\u001b[0;34m(\u001b[0m\u001b[0;34m)\u001b[0m\u001b[0;34m:\u001b[0m\u001b[0;34m\u001b[0m\u001b[0m\n\u001b[0m\u001b[1;32m    333\u001b[0m             \u001b[0;32mfor\u001b[0m \u001b[0mname\u001b[0m \u001b[0;32min\u001b[0m \u001b[0msync_data\u001b[0m\u001b[0;34m:\u001b[0m\u001b[0;34m\u001b[0m\u001b[0m\n\u001b[1;32m    334\u001b[0m                 \u001b[0;32mif\u001b[0m \u001b[0mname\u001b[0m \u001b[0;32min\u001b[0m \u001b[0mself\u001b[0m\u001b[0;34m.\u001b[0m\u001b[0mkeys\u001b[0m\u001b[0;34m:\u001b[0m\u001b[0;34m\u001b[0m\u001b[0m\n",
      "\u001b[0;32m/Users/atma6951/anaconda/envs/geosaurus_gold/lib/python3.6/contextlib.py\u001b[0m in \u001b[0;36m__enter__\u001b[0;34m(self)\u001b[0m\n\u001b[1;32m     80\u001b[0m     \u001b[0;32mdef\u001b[0m \u001b[0m__enter__\u001b[0m\u001b[0;34m(\u001b[0m\u001b[0mself\u001b[0m\u001b[0;34m)\u001b[0m\u001b[0;34m:\u001b[0m\u001b[0;34m\u001b[0m\u001b[0m\n\u001b[1;32m     81\u001b[0m         \u001b[0;32mtry\u001b[0m\u001b[0;34m:\u001b[0m\u001b[0;34m\u001b[0m\u001b[0m\n\u001b[0;32m---> 82\u001b[0;31m             \u001b[0;32mreturn\u001b[0m \u001b[0mnext\u001b[0m\u001b[0;34m(\u001b[0m\u001b[0mself\u001b[0m\u001b[0;34m.\u001b[0m\u001b[0mgen\u001b[0m\u001b[0;34m)\u001b[0m\u001b[0;34m\u001b[0m\u001b[0m\n\u001b[0m\u001b[1;32m     83\u001b[0m         \u001b[0;32mexcept\u001b[0m \u001b[0mStopIteration\u001b[0m\u001b[0;34m:\u001b[0m\u001b[0;34m\u001b[0m\u001b[0m\n\u001b[1;32m     84\u001b[0m             \u001b[0;32mraise\u001b[0m \u001b[0mRuntimeError\u001b[0m\u001b[0;34m(\u001b[0m\u001b[0;34m\"generator didn't yield\"\u001b[0m\u001b[0;34m)\u001b[0m \u001b[0;32mfrom\u001b[0m \u001b[0;32mNone\u001b[0m\u001b[0;34m\u001b[0m\u001b[0m\n",
      "\u001b[0;32m/Users/atma6951/anaconda/envs/geosaurus_gold/lib/python3.6/site-packages/ipywidgets/widgets/widget.py\u001b[0m in \u001b[0;36m_lock_property\u001b[0;34m(self, **properties)\u001b[0m\n\u001b[1;32m    410\u001b[0m         \u001b[0mflawed\u001b[0m\u001b[0;34m.\u001b[0m  \u001b[0mIn\u001b[0m \u001b[0mthe\u001b[0m \u001b[0mfuture\u001b[0m \u001b[0mwe\u001b[0m \u001b[0mmay\u001b[0m \u001b[0mwant\u001b[0m \u001b[0mto\u001b[0m \u001b[0mlook\u001b[0m \u001b[0minto\u001b[0m \u001b[0mbuffering\u001b[0m \u001b[0mstate\u001b[0m \u001b[0mchanges\u001b[0m\u001b[0;34m\u001b[0m\u001b[0m\n\u001b[1;32m    411\u001b[0m         back to the front-end.\"\"\"\n\u001b[0;32m--> 412\u001b[0;31m         \u001b[0mself\u001b[0m\u001b[0;34m.\u001b[0m\u001b[0m_property_lock\u001b[0m \u001b[0;34m=\u001b[0m \u001b[0mproperties\u001b[0m\u001b[0;34m\u001b[0m\u001b[0m\n\u001b[0m\u001b[1;32m    413\u001b[0m         \u001b[0;32mtry\u001b[0m\u001b[0;34m:\u001b[0m\u001b[0;34m\u001b[0m\u001b[0m\n\u001b[1;32m    414\u001b[0m             \u001b[0;32myield\u001b[0m\u001b[0;34m\u001b[0m\u001b[0m\n",
      "\u001b[0;32m/Users/atma6951/anaconda/envs/geosaurus_gold/lib/python3.6/site-packages/traitlets/traitlets.py\u001b[0m in \u001b[0;36m__set__\u001b[0;34m(self, obj, value)\u001b[0m\n\u001b[1;32m    583\u001b[0m             \u001b[0;32mraise\u001b[0m \u001b[0mTraitError\u001b[0m\u001b[0;34m(\u001b[0m\u001b[0;34m'The \"%s\" trait is read-only.'\u001b[0m \u001b[0;34m%\u001b[0m \u001b[0mself\u001b[0m\u001b[0;34m.\u001b[0m\u001b[0mname\u001b[0m\u001b[0;34m)\u001b[0m\u001b[0;34m\u001b[0m\u001b[0m\n\u001b[1;32m    584\u001b[0m         \u001b[0;32melse\u001b[0m\u001b[0;34m:\u001b[0m\u001b[0;34m\u001b[0m\u001b[0m\n\u001b[0;32m--> 585\u001b[0;31m             \u001b[0mself\u001b[0m\u001b[0;34m.\u001b[0m\u001b[0mset\u001b[0m\u001b[0;34m(\u001b[0m\u001b[0mobj\u001b[0m\u001b[0;34m,\u001b[0m \u001b[0mvalue\u001b[0m\u001b[0;34m)\u001b[0m\u001b[0;34m\u001b[0m\u001b[0m\n\u001b[0m\u001b[1;32m    586\u001b[0m \u001b[0;34m\u001b[0m\u001b[0m\n\u001b[1;32m    587\u001b[0m     \u001b[0;32mdef\u001b[0m \u001b[0m_validate\u001b[0m\u001b[0;34m(\u001b[0m\u001b[0mself\u001b[0m\u001b[0;34m,\u001b[0m \u001b[0mobj\u001b[0m\u001b[0;34m,\u001b[0m \u001b[0mvalue\u001b[0m\u001b[0;34m)\u001b[0m\u001b[0;34m:\u001b[0m\u001b[0;34m\u001b[0m\u001b[0m\n",
      "\u001b[0;32m/Users/atma6951/anaconda/envs/geosaurus_gold/lib/python3.6/site-packages/traitlets/traitlets.py\u001b[0m in \u001b[0;36mset\u001b[0;34m(self, obj, value)\u001b[0m\n\u001b[1;32m    572\u001b[0m             \u001b[0;31m# we explicitly compare silent to True just in case the equality\u001b[0m\u001b[0;34m\u001b[0m\u001b[0;34m\u001b[0m\u001b[0m\n\u001b[1;32m    573\u001b[0m             \u001b[0;31m# comparison above returns something other than True/False\u001b[0m\u001b[0;34m\u001b[0m\u001b[0;34m\u001b[0m\u001b[0m\n\u001b[0;32m--> 574\u001b[0;31m             \u001b[0mobj\u001b[0m\u001b[0;34m.\u001b[0m\u001b[0m_notify_trait\u001b[0m\u001b[0;34m(\u001b[0m\u001b[0mself\u001b[0m\u001b[0;34m.\u001b[0m\u001b[0mname\u001b[0m\u001b[0;34m,\u001b[0m \u001b[0mold_value\u001b[0m\u001b[0;34m,\u001b[0m \u001b[0mnew_value\u001b[0m\u001b[0;34m)\u001b[0m\u001b[0;34m\u001b[0m\u001b[0m\n\u001b[0m\u001b[1;32m    575\u001b[0m \u001b[0;34m\u001b[0m\u001b[0m\n\u001b[1;32m    576\u001b[0m     \u001b[0;32mdef\u001b[0m \u001b[0m__set__\u001b[0m\u001b[0;34m(\u001b[0m\u001b[0mself\u001b[0m\u001b[0;34m,\u001b[0m \u001b[0mobj\u001b[0m\u001b[0;34m,\u001b[0m \u001b[0mvalue\u001b[0m\u001b[0;34m)\u001b[0m\u001b[0;34m:\u001b[0m\u001b[0;34m\u001b[0m\u001b[0m\n",
      "\u001b[0;32m/Users/atma6951/anaconda/envs/geosaurus_gold/lib/python3.6/site-packages/traitlets/traitlets.py\u001b[0m in \u001b[0;36m_notify_trait\u001b[0;34m(self, name, old_value, new_value)\u001b[0m\n\u001b[1;32m   1137\u001b[0m             \u001b[0mnew\u001b[0m\u001b[0;34m=\u001b[0m\u001b[0mnew_value\u001b[0m\u001b[0;34m,\u001b[0m\u001b[0;34m\u001b[0m\u001b[0m\n\u001b[1;32m   1138\u001b[0m             \u001b[0mowner\u001b[0m\u001b[0;34m=\u001b[0m\u001b[0mself\u001b[0m\u001b[0;34m,\u001b[0m\u001b[0;34m\u001b[0m\u001b[0m\n\u001b[0;32m-> 1139\u001b[0;31m             \u001b[0mtype\u001b[0m\u001b[0;34m=\u001b[0m\u001b[0;34m'change'\u001b[0m\u001b[0;34m,\u001b[0m\u001b[0;34m\u001b[0m\u001b[0m\n\u001b[0m\u001b[1;32m   1140\u001b[0m         ))\n\u001b[1;32m   1141\u001b[0m \u001b[0;34m\u001b[0m\u001b[0m\n",
      "\u001b[0;32m/Users/atma6951/anaconda/envs/geosaurus_gold/lib/python3.6/site-packages/ipywidgets/widgets/widget.py\u001b[0m in \u001b[0;36mnotify_change\u001b[0;34m(self, change)\u001b[0m\n\u001b[1;32m    396\u001b[0m                 \u001b[0;31m# Send new state to front-end\u001b[0m\u001b[0;34m\u001b[0m\u001b[0;34m\u001b[0m\u001b[0m\n\u001b[1;32m    397\u001b[0m                 \u001b[0mself\u001b[0m\u001b[0;34m.\u001b[0m\u001b[0msend_state\u001b[0m\u001b[0;34m(\u001b[0m\u001b[0mkey\u001b[0m\u001b[0;34m=\u001b[0m\u001b[0mname\u001b[0m\u001b[0;34m)\u001b[0m\u001b[0;34m\u001b[0m\u001b[0m\n\u001b[0;32m--> 398\u001b[0;31m         \u001b[0mLoggingConfigurable\u001b[0m\u001b[0;34m.\u001b[0m\u001b[0mnotify_change\u001b[0m\u001b[0;34m(\u001b[0m\u001b[0mself\u001b[0m\u001b[0;34m,\u001b[0m \u001b[0mchange\u001b[0m\u001b[0;34m)\u001b[0m\u001b[0;34m\u001b[0m\u001b[0m\n\u001b[0m\u001b[1;32m    399\u001b[0m \u001b[0;34m\u001b[0m\u001b[0m\n\u001b[1;32m    400\u001b[0m     \u001b[0;31m#-------------------------------------------------------------------------\u001b[0m\u001b[0;34m\u001b[0m\u001b[0;34m\u001b[0m\u001b[0m\n",
      "\u001b[0;32m/Users/atma6951/anaconda/envs/geosaurus_gold/lib/python3.6/site-packages/traitlets/traitlets.py\u001b[0m in \u001b[0;36mnotify_change\u001b[0;34m(self, change)\u001b[0m\n\u001b[1;32m   1174\u001b[0m                 \u001b[0mc\u001b[0m \u001b[0;34m=\u001b[0m \u001b[0mgetattr\u001b[0m\u001b[0;34m(\u001b[0m\u001b[0mself\u001b[0m\u001b[0;34m,\u001b[0m \u001b[0mc\u001b[0m\u001b[0;34m.\u001b[0m\u001b[0mname\u001b[0m\u001b[0;34m)\u001b[0m\u001b[0;34m\u001b[0m\u001b[0m\n\u001b[1;32m   1175\u001b[0m \u001b[0;34m\u001b[0m\u001b[0m\n\u001b[0;32m-> 1176\u001b[0;31m             \u001b[0mc\u001b[0m\u001b[0;34m(\u001b[0m\u001b[0mchange\u001b[0m\u001b[0;34m)\u001b[0m\u001b[0;34m\u001b[0m\u001b[0m\n\u001b[0m\u001b[1;32m   1177\u001b[0m \u001b[0;34m\u001b[0m\u001b[0m\n\u001b[1;32m   1178\u001b[0m     \u001b[0;32mdef\u001b[0m \u001b[0m_add_notifiers\u001b[0m\u001b[0;34m(\u001b[0m\u001b[0mself\u001b[0m\u001b[0;34m,\u001b[0m \u001b[0mhandler\u001b[0m\u001b[0;34m,\u001b[0m \u001b[0mname\u001b[0m\u001b[0;34m,\u001b[0m \u001b[0mtype\u001b[0m\u001b[0;34m)\u001b[0m\u001b[0;34m:\u001b[0m\u001b[0;34m\u001b[0m\u001b[0m\n",
      "\u001b[0;32m/Users/atma6951/anaconda/envs/geosaurus_gold/lib/python3.6/site-packages/traitlets/traitlets.py\u001b[0m in \u001b[0;36m__call__\u001b[0;34m(self, change)\u001b[0m\n\u001b[1;32m    698\u001b[0m             \u001b[0mself\u001b[0m\u001b[0;34m.\u001b[0m\u001b[0mcb\u001b[0m\u001b[0;34m(\u001b[0m\u001b[0;34m)\u001b[0m\u001b[0;34m\u001b[0m\u001b[0m\n\u001b[1;32m    699\u001b[0m         \u001b[0;32melif\u001b[0m \u001b[0mself\u001b[0m\u001b[0;34m.\u001b[0m\u001b[0mnargs\u001b[0m \u001b[0;34m==\u001b[0m \u001b[0;36m1\u001b[0m\u001b[0;34m:\u001b[0m\u001b[0;34m\u001b[0m\u001b[0m\n\u001b[0;32m--> 700\u001b[0;31m             \u001b[0mself\u001b[0m\u001b[0;34m.\u001b[0m\u001b[0mcb\u001b[0m\u001b[0;34m(\u001b[0m\u001b[0mchange\u001b[0m\u001b[0;34m.\u001b[0m\u001b[0mname\u001b[0m\u001b[0;34m)\u001b[0m\u001b[0;34m\u001b[0m\u001b[0m\n\u001b[0m\u001b[1;32m    701\u001b[0m         \u001b[0;32melif\u001b[0m \u001b[0mself\u001b[0m\u001b[0;34m.\u001b[0m\u001b[0mnargs\u001b[0m \u001b[0;34m==\u001b[0m \u001b[0;36m2\u001b[0m\u001b[0;34m:\u001b[0m\u001b[0;34m\u001b[0m\u001b[0m\n\u001b[1;32m    702\u001b[0m             \u001b[0mself\u001b[0m\u001b[0;34m.\u001b[0m\u001b[0mcb\u001b[0m\u001b[0;34m(\u001b[0m\u001b[0mchange\u001b[0m\u001b[0;34m.\u001b[0m\u001b[0mname\u001b[0m\u001b[0;34m,\u001b[0m \u001b[0mchange\u001b[0m\u001b[0;34m.\u001b[0m\u001b[0mnew\u001b[0m\u001b[0;34m)\u001b[0m\u001b[0;34m\u001b[0m\u001b[0m\n",
      "\u001b[0;32m<ipython-input-92-a0528ac6755b>\u001b[0m in \u001b[0;36mon_slider_move\u001b[0;34m(b)\u001b[0m\n\u001b[1;32m      1\u001b[0m \u001b[0;32mdef\u001b[0m \u001b[0mon_slider_move\u001b[0m\u001b[0;34m(\u001b[0m\u001b[0mb\u001b[0m\u001b[0;34m)\u001b[0m\u001b[0;34m:\u001b[0m\u001b[0;34m\u001b[0m\u001b[0m\n\u001b[0;32m----> 2\u001b[0;31m     \u001b[0mprint\u001b[0m\u001b[0;34m(\u001b[0m\u001b[0mb\u001b[0m\u001b[0;34m.\u001b[0m\u001b[0mvalue\u001b[0m\u001b[0;34m)\u001b[0m\u001b[0;34m\u001b[0m\u001b[0m\n\u001b[0m\u001b[1;32m      3\u001b[0m \u001b[0mw2\u001b[0m\u001b[0;34m.\u001b[0m\u001b[0mon_trait_change\u001b[0m\u001b[0;34m(\u001b[0m\u001b[0mon_slider_move\u001b[0m\u001b[0;34m)\u001b[0m\u001b[0;34m\u001b[0m\u001b[0m\n",
      "\u001b[0;31mAttributeError\u001b[0m: 'str' object has no attribute 'value'"
     ]
    }
   ],
   "source": [
    "w2 = widgets.IntSlider(value=2005,\n",
    "    min=1990,\n",
    "    max=2010,\n",
    "    step=1,\n",
    "    description='1 year intervals: ',\n",
    "    disabled=False,\n",
    "    continuous_update=False,\n",
    "    orientation='horizontal',\n",
    "    readout=True,\n",
    "    readout_format='i',\n",
    ")\n",
    "w2"
   ]
  },
  {
   "cell_type": "code",
   "execution_count": 92,
   "metadata": {},
   "outputs": [
    {
     "name": "stderr",
     "output_type": "stream",
     "text": [
      "/Users/atma6951/anaconda/envs/geosaurus_gold/lib/python3.6/site-packages/ipykernel_launcher.py:3: DeprecationWarning: on_trait_change is deprecated in traitlets 4.1: use observe instead\n",
      "  This is separate from the ipykernel package so we can avoid doing imports until\n"
     ]
    }
   ],
   "source": [
    "def on_slider_move(b):\n",
    "    print(b.value)\n",
    "w2.on_trait_change(on_slider_move)"
   ]
  },
  {
   "cell_type": "code",
   "execution_count": 93,
   "metadata": {},
   "outputs": [
    {
     "data": {
      "text/plain": [
       "2005"
      ]
     },
     "execution_count": 93,
     "metadata": {},
     "output_type": "execute_result"
    }
   ],
   "source": [
    "w2.value"
   ]
  },
  {
   "cell_type": "code",
   "execution_count": null,
   "metadata": {
    "collapsed": true
   },
   "outputs": [],
   "source": []
  }
 ],
 "metadata": {
  "kernelspec": {
   "display_name": "Python 3",
   "language": "python",
   "name": "python3"
  },
  "language_info": {
   "codemirror_mode": {
    "name": "ipython",
    "version": 3
   },
   "file_extension": ".py",
   "mimetype": "text/x-python",
   "name": "python",
   "nbconvert_exporter": "python",
   "pygments_lexer": "ipython3",
   "version": "3.6.1"
  }
 },
 "nbformat": 4,
 "nbformat_minor": 2
}
