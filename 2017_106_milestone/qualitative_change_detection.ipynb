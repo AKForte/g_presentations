{
 "cells": [
  {
   "cell_type": "markdown",
   "metadata": {},
   "source": [
    "## Qualitative change detection - vegetation changes in Redlands\n",
    "\n",
    "Import library and search for Landsat imagery layer"
   ]
  },
  {
   "cell_type": "code",
   "execution_count": null,
   "metadata": {},
   "outputs": [],
   "source": [
    "from arcgis.gis import GIS\n",
    "gis = GIS('https://python.playground.esri.com/portal', 'arcgis_python', 'amazing_arcgis_123')\n",
    "landsat_item = gis.content.search('Multispectral Landsat', 'Imagery Layer', outside_org=True)[0]\n",
    "landsat = landsat_item.layers[0]\n",
    "landsat_item"
   ]
  },
  {
   "cell_type": "markdown",
   "metadata": {},
   "source": [
    "### Select images of Redlands area"
   ]
  },
  {
   "cell_type": "code",
   "execution_count": null,
   "metadata": {
    "collapsed": true
   },
   "outputs": [],
   "source": [
    "from arcgis.geocoding import geocode\n",
    "area = geocode('Redlands, CA', out_sr=landsat.properties.spatialReference)[0]"
   ]
  },
  {
   "cell_type": "code",
   "execution_count": null,
   "metadata": {
    "collapsed": true
   },
   "outputs": [],
   "source": [
    "import arcgis\n",
    "selected = landsat.filter_by(where=\"CloudCover <=0.10\", \n",
    "                   geometry=arcgis.geometry.filters.intersects(area['extent']))"
   ]
  },
  {
   "cell_type": "markdown",
   "metadata": {},
   "source": [
    "You can query the filtered rasters as a FeatureSet:"
   ]
  },
  {
   "cell_type": "code",
   "execution_count": null,
   "metadata": {
    "collapsed": true
   },
   "outputs": [],
   "source": [
    "fs = selected.query(out_fields=\"AcquisitionDate, CloudCover, WRS_Row, WRS_Path\", \n",
    "              return_geometry=True,\n",
    "              return_distinct_values=False,\n",
    "              order_by_fields=\"AcquisitionDate\")"
   ]
  },
  {
   "cell_type": "markdown",
   "metadata": {},
   "source": [
    "Attributes of the selected rasters can be queried using a Pandas dataframe using the 'df' property of the FeatureSet."
   ]
  },
  {
   "cell_type": "code",
   "execution_count": null,
   "metadata": {},
   "outputs": [],
   "source": [
    "import pandas as pd\n",
    "df = fs.df\n",
    "df['Time'] = pd.to_datetime(df['AcquisitionDate'], unit='ms')\n",
    "df[(df['Time'] > '2015-07') & (df['Time'] <'2016-05')]"
   ]
  },
  {
   "cell_type": "markdown",
   "metadata": {
    "collapsed": true
   },
   "source": [
    "### Change Detection"
   ]
  },
  {
   "cell_type": "code",
   "execution_count": null,
   "metadata": {
    "collapsed": true
   },
   "outputs": [],
   "source": [
    "summer_2015 = landsat.filter_by('OBJECTID=160262')\n",
    "spring_2016 = landsat.filter_by('OBJECTID=278577')"
   ]
  },
  {
   "cell_type": "markdown",
   "metadata": {},
   "source": [
    "#### NDVI diff"
   ]
  },
  {
   "cell_type": "code",
   "execution_count": null,
   "metadata": {
    "collapsed": true
   },
   "outputs": [],
   "source": [
    "ndvi_diff = ndvi(spring_2016, '5 4') - ndvi(summer_2015, '5 4')"
   ]
  },
  {
   "cell_type": "markdown",
   "metadata": {},
   "source": [
    "#### Remap NDVI and apply a colormap"
   ]
  },
  {
   "cell_type": "code",
   "execution_count": null,
   "metadata": {},
   "outputs": [],
   "source": [
    "threshold = 0.1\n",
    "ndvi_diff_remap = remap(ndvi_diff, input_ranges=[threshold, 1], output_values=[1],\n",
    "                       no_data_ranges=[-1, threshold], astype='u8')\n",
    "\n",
    "ndvi_diff_colormap = colormap(ndvi_diff_remap, colormap=[[1, 124, 252, 0]], astype='u8')"
   ]
  },
  {
   "cell_type": "markdown",
   "metadata": {},
   "source": [
    "The difference image and threshold mask can be visualized using the map widget:"
   ]
  },
  {
   "cell_type": "code",
   "execution_count": null,
   "metadata": {},
   "outputs": [],
   "source": [
    "redlands_map = gis.map('Redlands, CA')\n",
    "redlands_map.basemap='satellite'\n",
    "redlands_map"
   ]
  },
  {
   "cell_type": "code",
   "execution_count": null,
   "metadata": {
    "collapsed": true
   },
   "outputs": [],
   "source": [
    "redlands_map.add_layer(ndvi_diff_colormap)"
   ]
  },
  {
   "cell_type": "code",
   "execution_count": null,
   "metadata": {
    "collapsed": true
   },
   "outputs": [],
   "source": []
  }
 ],
 "metadata": {
  "anaconda-cloud": {},
  "kernelspec": {
   "display_name": "Python 3",
   "language": "python",
   "name": "python3"
  },
  "language_info": {
   "codemirror_mode": {
    "name": "ipython",
    "version": 3
   },
   "file_extension": ".py",
   "mimetype": "text/x-python",
   "name": "python",
   "nbconvert_exporter": "python",
   "pygments_lexer": "ipython3",
   "version": "3.6.2"
  },
  "widgets": {
   "state": {
    "0bb14917ae444251b7499563c218d953": {
     "views": [
      {
       "cell_index": 15
      }
     ]
    },
    "2cc9047a8a594f8684b4669c22bf79a0": {
     "views": [
      {
       "cell_index": 108
      }
     ]
    },
    "4edabc6ef0e24627b42cb0c660bf6604": {
     "views": [
      {
       "cell_index": 63
      }
     ]
    },
    "791da45ff9494ec29cf7830f5b6a7171": {
     "views": [
      {
       "cell_index": 22
      }
     ]
    },
    "900a2ca4f84840c79f24456d96b598bf": {
     "views": [
      {
       "cell_index": 92
      }
     ]
    },
    "caaea9d1204d4689ba62a8acb257b845": {
     "views": [
      {
       "cell_index": 91
      }
     ]
    },
    "ce17c050ebb44e77bf073a6552c3522f": {
     "views": [
      {
       "cell_index": 74
      }
     ]
    }
   },
   "version": "1.2.0"
  }
 },
 "nbformat": 4,
 "nbformat_minor": 2
}
