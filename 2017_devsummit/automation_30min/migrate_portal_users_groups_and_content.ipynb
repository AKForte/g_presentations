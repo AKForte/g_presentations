{
 "cells": [
  {
   "cell_type": "markdown",
   "metadata": {},
   "source": [
    "# Clone Portal users, groups and content\n",
    "\n",
    "This sample notebook can be used for cloning a portal, from say, a staging to a production environment. It clones the users, groups and the content. It does not copy over services and data though, and works at the tier of portal items."
   ]
  },
  {
   "cell_type": "code",
   "execution_count": 1,
   "metadata": {
    "collapsed": false
   },
   "outputs": [],
   "source": [
    "from arcgis.gis import GIS\n",
    "from IPython.display import display\n",
    "from getpass import getpass"
   ]
  },
  {
   "cell_type": "markdown",
   "metadata": {},
   "source": [
    "## Define the source and target portals\n",
    "To start with, define the source and target portals. Connect to them using accounts with administrative privileges:"
   ]
  },
  {
   "cell_type": "code",
   "execution_count": 2,
   "metadata": {
    "collapsed": false
   },
   "outputs": [
    {
     "name": "stdout",
     "output_type": "stream",
     "text": [
      "········\n",
      "········\n"
     ]
    }
   ],
   "source": [
    "source_password = getpass()\n",
    "target_password = getpass()\n",
    "source = GIS(\"https://dev003327.esri.com/portal\", \"admin\", source_password, verify_cert=False)\n",
    "target = GIS(\"https://dev003735.esri.com/portal\", \"admin\", target_password)\n",
    "target_admin_username = 'admin'"
   ]
  },
  {
   "cell_type": "markdown",
   "metadata": {},
   "source": [
    "# Users\n",
    "List the users in the source and target portals:"
   ]
  },
  {
   "cell_type": "code",
   "execution_count": 6,
   "metadata": {
    "collapsed": false
   },
   "outputs": [
    {
     "data": {
      "text/plain": [
       "[<User username:adams.powell>,\n",
       " <User username:allen.price>,\n",
       " <User username:anderson.bailey>,\n",
       " <User username:baker.long>,\n",
       " <User username:brown.rogers>,\n",
       " <User username:campbell.bryant>,\n",
       " <User username:carter.flores>,\n",
       " <User username:clark.ramirez>,\n",
       " <User username:davis.reed>,\n",
       " <User username:edwards.griffin>,\n",
       " <User username:evans.russell>,\n",
       " <User username:garcia.torres>,\n",
       " <User username:gonzalez.patterson>,\n",
       " <User username:green.perry>,\n",
       " <User username:hall.sanders>,\n",
       " <User username:harris.cox>,\n",
       " <User username:hernandez.wood>,\n",
       " <User username:hill.coleman>,\n",
       " <User username:jackson.cooper>,\n",
       " <User username:johnson.stewart>,\n",
       " <User username:jones.morris>,\n",
       " <User username:king.barnes>,\n",
       " <User username:lee.brooks>,\n",
       " <User username:lewis.watson>,\n",
       " <User username:lopez.henderson>,\n",
       " <User username:martin.howard>,\n",
       " <User username:martinez.peterson>,\n",
       " <User username:miller.cook>,\n",
       " <User username:mitchell.washington>,\n",
       " <User username:moore.bell>,\n",
       " <User username:nelson.hughes>,\n",
       " <User username:parker.alexander>,\n",
       " <User username:perez.butler>,\n",
       " <User username:phillips.gonzales>,\n",
       " <User username:roberts.simmons>,\n",
       " <User username:robinson.gray>,\n",
       " <User username:rodriguez.james>,\n",
       " <User username:scott.jenkins>,\n",
       " <User username:smith.collins>,\n",
       " <User username:taylor.murphy>,\n",
       " <User username:thomas.rivera>,\n",
       " <User username:thompson.ward>,\n",
       " <User username:turner.foster>,\n",
       " <User username:walker.kelly>,\n",
       " <User username:white.richardson>,\n",
       " <User username:williams.sanchez>,\n",
       " <User username:wilson.morgan>,\n",
       " <User username:wright.ross>,\n",
       " <User username:young.bennett>]"
      ]
     },
     "execution_count": 6,
     "metadata": {},
     "output_type": "execute_result"
    }
   ],
   "source": [
    "#!esri_ & !admin\n",
    "source_users = source.users.search('!esri_ & !admin')\n",
    "source_users"
   ]
  },
  {
   "cell_type": "code",
   "execution_count": 7,
   "metadata": {
    "collapsed": false
   },
   "outputs": [
    {
     "data": {
      "text/plain": [
       "49"
      ]
     },
     "execution_count": 7,
     "metadata": {},
     "output_type": "execute_result"
    }
   ],
   "source": [
    "len(source_users)"
   ]
  },
  {
   "cell_type": "markdown",
   "metadata": {},
   "source": [
    "### Limit number of users for demo purpose"
   ]
  },
  {
   "cell_type": "code",
   "execution_count": 8,
   "metadata": {
    "collapsed": false
   },
   "outputs": [
    {
     "data": {
      "text/plain": [
       "5"
      ]
     },
     "execution_count": 8,
     "metadata": {},
     "output_type": "execute_result"
    }
   ],
   "source": [
    "source_users = source_users[:5]\n",
    "len(source_users)"
   ]
  },
  {
   "cell_type": "code",
   "execution_count": 9,
   "metadata": {
    "collapsed": false
   },
   "outputs": [
    {
     "data": {
      "text/plain": [
       "[<User username:admin>,\n",
       " <User username:arcgis_python_api>,\n",
       " <User username:esri_boundaries>,\n",
       " <User username:esri_demographics>,\n",
       " <User username:esri_livingatlas>,\n",
       " <User username:esri_nav>,\n",
       " <User username:publisher1>,\n",
       " <User username:system_publisher>]"
      ]
     },
     "execution_count": 9,
     "metadata": {},
     "output_type": "execute_result"
    }
   ],
   "source": [
    "target_users = target.users.search()\n",
    "target_users"
   ]
  },
  {
   "cell_type": "markdown",
   "metadata": {},
   "source": [
    "If source users are already in the target, run the following code to delete them:"
   ]
  },
  {
   "cell_type": "code",
   "execution_count": 10,
   "metadata": {
    "collapsed": true
   },
   "outputs": [],
   "source": [
    "# create a list of system accounts that should not be modified\n",
    "systemusers = ['system_publisher', 'esri_nav', 'esri_livingatlas', \n",
    "               'esri_boundaries', 'esri_demographics']"
   ]
  },
  {
   "cell_type": "markdown",
   "metadata": {},
   "source": [
    "### Remove existing users from target portal\n",
    "Assign their content to admin account and delete the account"
   ]
  },
  {
   "cell_type": "markdown",
   "metadata": {
    "collapsed": false
   },
   "source": [
    "for srcuser in source_users:\n",
    "    if not srcuser.username in system_users:\n",
    "        #don't delete the account used to connect\n",
    "        if srcuser.username != target_admin_username:\n",
    "            try:\n",
    "                targetusr = target.users.get(srcuser.username)\n",
    "                if targetusr is not None:\n",
    "                    print('Deleting user: ' + targetusr.fullName)\n",
    "                    targetusr.reassign_to(target_admin_username)\n",
    "                    targetusr.delete()\n",
    "            except:\n",
    "                print('User {} does not exist in Target Portal'.format(srcuser.username))"
   ]
  },
  {
   "cell_type": "markdown",
   "metadata": {},
   "source": [
    "### Copy Users\n",
    "Create a function that will accept connection to the target portal, user objects and password to create users with."
   ]
  },
  {
   "cell_type": "code",
   "execution_count": 11,
   "metadata": {
    "collapsed": false
   },
   "outputs": [
    {
     "data": {
      "text/html": [
       "<div class=\"9item_container\" style=\"height: auto; overflow: hidden; border: 1px solid #cfcfcf; border-radius: 2px; background: #f6fafa; line-height: 1.21429em; padding: 10px;\">\n",
       "                    <div class=\"item_left\" style=\"width: 210px; float: left;\">\n",
       "                       <a href='https://dev003327.esri.com/portal/home/user.html?user=adams.powell' target='_blank'>\n",
       "                        <img src='https://dev003327.esri.com/portal/home/js/arcgisonline/css/images/no-user-thumb.jpg' class=\"itemThumbnail\">\n",
       "                       </a>\n",
       "                    </div>\n",
       "\n",
       "                    <div class=\"item_right\" style=\"float: none; width: auto; overflow: hidden;\">\n",
       "                        <a href='https://dev003327.esri.com/portal/home/user.html?user=adams.powell' target='_blank'><b>Adams Powell</b>\n",
       "                        </a>\n",
       "                        <br/><br/><b>Bio</b>: None\n",
       "                        <br/><b>First Name</b>: Adams\n",
       "                        <br/><b>Last Name</b>: Powell\n",
       "                        <br/><b>Username</b>: adams.powell\n",
       "                        <br/><b>Joined</b>: March 07, 2017\n",
       "\n",
       "                    </div>\n",
       "                </div>\n",
       "                "
      ],
      "text/plain": [
       "<User username:adams.powell>"
      ]
     },
     "execution_count": 11,
     "metadata": {},
     "output_type": "execute_result"
    }
   ],
   "source": [
    "su1 = source_users[0]\n",
    "su1"
   ]
  },
  {
   "cell_type": "code",
   "execution_count": 13,
   "metadata": {
    "collapsed": false
   },
   "outputs": [
    {
     "data": {
      "text/plain": [
       "dict_keys(['storageQuota', 'preferredView', 'description', 'modified', 'email', 'mfaEnabled', 'fullName', 'username', 'tags', 'provider', '_workdir', 'lastName', 'groups', 'lastLogin', 'thumbnail', 'region', 'created', 'level', 'units', 'role', '_hydrated', 'orgId', 'storageUsage', '_portal', 'validateUserProfile', 'culture', 'privileges', 'firstName', '_gis', 'userType', 'idpUsername', 'access', 'favGroupId', 'disabled'])"
      ]
     },
     "execution_count": 13,
     "metadata": {},
     "output_type": "execute_result"
    }
   ],
   "source": [
    "su1.__dict__.keys()"
   ]
  },
  {
   "cell_type": "code",
   "execution_count": 14,
   "metadata": {
    "collapsed": true
   },
   "outputs": [],
   "source": [
    "def copy_user(target_portal, source_user, password):\n",
    "    # See if the user has firstName and lastName properties\n",
    "    try:\n",
    "        first_name = source_user.firstName\n",
    "        last_name = source_user.lastName\n",
    "    except:\n",
    "        # if not, split the fullName\n",
    "        full_name = source_user.fullName\n",
    "        first_name = full_name.split()[0]\n",
    "        try:\n",
    "            last_name = full_name.split()[1]\n",
    "        except:\n",
    "            last_name = 'NoLastName'\n",
    "\n",
    "    try:\n",
    "        # create user\n",
    "        target_user = target_portal.users.create(source_user.username, password, first_name, last_name,\n",
    "                                          source_user.email, source_user.description, source_user.role)\n",
    "\n",
    "        # update user properties\n",
    "        target_user.update(source_user.access, source_user.preferredView,\n",
    "                           source_user.description, source_user.tags, source_user.get_thumbnail_link(),\n",
    "                           culture=source_user.culture, region=source_user.region)\n",
    "        return target_user\n",
    "    \n",
    "    except Exception as Ex:\n",
    "        print(str(Ex))\n",
    "        print(\"Unable to create user \"+ source_user.username)\n",
    "        return None"
   ]
  },
  {
   "cell_type": "markdown",
   "metadata": {},
   "source": [
    "For each user in source portal, make a corresponding user in target portal:"
   ]
  },
  {
   "cell_type": "code",
   "execution_count": 15,
   "metadata": {
    "collapsed": false,
    "scrolled": true
   },
   "outputs": [
    {
     "name": "stdout",
     "output_type": "stream",
     "text": [
      "Creating user: adams.powell\n",
      "Creating user: allen.price\n",
      "Creating user: anderson.bailey\n",
      "Creating user: baker.long\n",
      "Creating user: brown.rogers\n"
     ]
    }
   ],
   "source": [
    "for user in source_users:\n",
    "    print(\"Creating user: \" + user.username)\n",
    "    copy_user(target, user, 'TestPassword@123')"
   ]
  },
  {
   "cell_type": "markdown",
   "metadata": {},
   "source": [
    "Verify that users have been added to target portal:"
   ]
  },
  {
   "cell_type": "code",
   "execution_count": 16,
   "metadata": {
    "collapsed": false
   },
   "outputs": [
    {
     "data": {
      "text/plain": [
       "[<User username:adams.powell>,\n",
       " <User username:admin>,\n",
       " <User username:allen.price>,\n",
       " <User username:anderson.bailey>,\n",
       " <User username:arcgis_python_api>,\n",
       " <User username:baker.long>,\n",
       " <User username:brown.rogers>,\n",
       " <User username:esri_boundaries>,\n",
       " <User username:esri_demographics>,\n",
       " <User username:esri_livingatlas>,\n",
       " <User username:esri_nav>,\n",
       " <User username:publisher1>,\n",
       " <User username:system_publisher>]"
      ]
     },
     "execution_count": 16,
     "metadata": {},
     "output_type": "execute_result"
    }
   ],
   "source": [
    "target_users = target.users.search()\n",
    "target_users"
   ]
  },
  {
   "cell_type": "markdown",
   "metadata": {},
   "source": [
    "Thus users have been successfully added to the target portal"
   ]
  },
  {
   "cell_type": "markdown",
   "metadata": {},
   "source": [
    "# Groups"
   ]
  },
  {
   "cell_type": "markdown",
   "metadata": {},
   "source": [
    "List the groups in the source and target portals:"
   ]
  },
  {
   "cell_type": "code",
   "execution_count": 17,
   "metadata": {
    "collapsed": false
   },
   "outputs": [
    {
     "data": {
      "text/plain": [
       "[<Group title:\"Central Services\" owner:admin>,\n",
       " <Group title:\"Compliance\" owner:admin>,\n",
       " <Group title:\"Customer Service, Finance, Billing and Accounting\" owner:admin>,\n",
       " <Group title:\"Demographic Content\" owner:admin>]"
      ]
     },
     "execution_count": 17,
     "metadata": {},
     "output_type": "execute_result"
    }
   ],
   "source": [
    "#source_groups = source.groups.search()\n",
    "source_groups = source.groups.search(\"!owner:esri_* & !Basemaps\")\n",
    "source_groups"
   ]
  },
  {
   "cell_type": "code",
   "execution_count": 18,
   "metadata": {
    "collapsed": false
   },
   "outputs": [
    {
     "data": {
      "text/plain": [
       "[<Group title:\"Featured Maps and Apps\" owner:admin>]"
      ]
     },
     "execution_count": 18,
     "metadata": {},
     "output_type": "execute_result"
    }
   ],
   "source": [
    "#target_groups = target.groups.search()\n",
    "target_groups = target.groups.search(\"!owner:esri_*\")\n",
    "target_groups"
   ]
  },
  {
   "cell_type": "markdown",
   "metadata": {},
   "source": [
    "If source groups are already in the target, run the following code to delete them. If the group belongs to any of built-in user accounts, don't delete it."
   ]
  },
  {
   "cell_type": "markdown",
   "metadata": {
    "collapsed": false
   },
   "source": [
    "for tg in target_groups:\n",
    "    for sg in source_groups:\n",
    "        if sg.title == tg.title and (not tg.owner in systemusers):\n",
    "            print(\"Cleaning up group {} in target Portal...\".format(tg.title))\n",
    "            tg.delete()\n",
    "            break"
   ]
  },
  {
   "cell_type": "markdown",
   "metadata": {},
   "source": [
    "## Copy Groups"
   ]
  },
  {
   "cell_type": "code",
   "execution_count": 19,
   "metadata": {
    "collapsed": true
   },
   "outputs": [],
   "source": [
    "import tempfile\n",
    "\n",
    "GROUP_COPY_PROPERTIES = ['title', 'description', 'tags', 'snippet', 'phone',\n",
    "                         'access', 'isInvitationOnly']\n",
    "\n",
    "def copy_group(target, source, group):\n",
    "    \"\"\" Copy group to the target portal.\"\"\"\n",
    "    with tempfile.TemporaryDirectory() as temp_dir:\n",
    "        # Create new groups with the subset of properties we want to\n",
    "        # copy to the target portal. Handle switching between org and\n",
    "        # public access when going from an org in a multitenant portal\n",
    "        # and a single tenant portal\n",
    "        target_group = {}\n",
    "        \n",
    "        for property_name in GROUP_COPY_PROPERTIES:\n",
    "            target_group[property_name] = group[property_name]\n",
    "\n",
    "        if target_group['access'] == 'org' and target.properties['portalMode'] == 'singletenant':\n",
    "            target_group['access'] = 'public'\n",
    "        elif target_group['access'] == 'public'\\\n",
    "             and source.properties['portalMode'] == 'singletenant'\\\n",
    "             and target.properties['portalMode'] == 'multitenant'\\\n",
    "             and 'id' in target.properties: # is org\n",
    "            target_group['access'] = 'org'\n",
    "\n",
    "        # Handle the thumbnail (if one exists)\n",
    "        thumbnail_file = None\n",
    "        if 'thumbnail' in group:\n",
    "            target_group['thumbnail'] = group.download_thumbnail(temp_dir)\n",
    "\n",
    "        # Create the group in the target portal\n",
    "        copied_group = target.groups.create_from_dict(target_group)\n",
    "        \n",
    "         # Reassign all groups to correct owners, add users, and find shared items\n",
    "        members = group.get_members()\n",
    "        if not members['owner'] == target_admin_username:\n",
    "            copied_group.reassign_to(members['owner'])\n",
    "        if members['users']:\n",
    "            copied_group.add_users(members['users'])\n",
    "        return copied_group"
   ]
  },
  {
   "cell_type": "markdown",
   "metadata": {},
   "source": [
    "For each group in source portal, make a corresponding group in target portal and a create a dictionary of source group id and corresponding group id in target portal:"
   ]
  },
  {
   "cell_type": "code",
   "execution_count": 20,
   "metadata": {
    "collapsed": false
   },
   "outputs": [
    {
     "name": "stdout",
     "output_type": "stream",
     "text": [
      "Copying group: Central Services\n",
      "Copying group: Compliance\n",
      "Copying group: Customer Service, Finance, Billing and Accounting\n",
      "Copying group: Demographic Content\n"
     ]
    }
   ],
   "source": [
    "copied_groups = {}\n",
    "for group in source_groups:\n",
    "    print(\"Copying group: \" + group.title)\n",
    "    tgt_group = copy_group(target, source, group)\n",
    "    copied_groups[group.groupid] = tgt_group.groupid"
   ]
  },
  {
   "cell_type": "markdown",
   "metadata": {},
   "source": [
    "Verify that groups have been created in the target portal:"
   ]
  },
  {
   "cell_type": "code",
   "execution_count": 21,
   "metadata": {
    "collapsed": false
   },
   "outputs": [
    {
     "data": {
      "text/plain": [
       "[<Group title:\"Central Services\" owner:admin>,\n",
       " <Group title:\"Compliance\" owner:admin>,\n",
       " <Group title:\"Customer Service, Finance, Billing and Accounting\" owner:admin>,\n",
       " <Group title:\"Demographic Content\" owner:admin>,\n",
       " <Group title:\"Esri Boundary Layers\" owner:esri_boundaries>,\n",
       " <Group title:\"Esri Demographic Layers\" owner:esri_demographics>,\n",
       " <Group title:\"Featured Maps and Apps\" owner:admin>,\n",
       " <Group title:\"Living Atlas\" owner:esri_livingatlas>,\n",
       " <Group title:\"Living Atlas Analysis Layers\" owner:esri_livingatlas>,\n",
       " <Group title:\"Navigator Maps\" owner:esri_nav>]"
      ]
     },
     "execution_count": 21,
     "metadata": {},
     "output_type": "execute_result"
    }
   ],
   "source": [
    "target_groups = target.groups.search()\n",
    "target_groups"
   ]
  },
  {
   "cell_type": "markdown",
   "metadata": {},
   "source": [
    "Print the mapping of source and target group ids:"
   ]
  },
  {
   "cell_type": "code",
   "execution_count": 22,
   "metadata": {
    "collapsed": false
   },
   "outputs": [
    {
     "data": {
      "text/plain": [
       "{'0558325eac9942b6aaa3453016ecc91c': '1d07937d440d4cf598ca2eedb3027482',\n",
       " '1a50448b8d3747a0bb7a4fcf821879d6': 'aefcd77d89f64112b0243e8b2518aa87',\n",
       " '6fcb60c6581e4aef86a34adeaa42f90c': '2567bcde140e495db40be4f4a3255351',\n",
       " '7a9ea7b178ed4c498455ea36f9281146': 'b73f27e1b8c5454aaa57c4dbe7c3ad3f'}"
      ]
     },
     "execution_count": 22,
     "metadata": {},
     "output_type": "execute_result"
    }
   ],
   "source": [
    "copied_groups"
   ]
  },
  {
   "cell_type": "markdown",
   "metadata": {},
   "source": [
    "With this part of the sample, we have successfully created users, groups and added the appropriate users to these groups."
   ]
  },
  {
   "cell_type": "code",
   "execution_count": 23,
   "metadata": {
    "collapsed": false
   },
   "outputs": [
    {
     "data": {
      "text/plain": [
       "{'admins': ['admin'],\n",
       " 'owner': 'admin',\n",
       " 'users': ['baker.long', 'brown.rogers', 'adams.powell', 'anderson.bailey']}"
      ]
     },
     "execution_count": 23,
     "metadata": {},
     "output_type": "execute_result"
    }
   ],
   "source": [
    "group1 = target_groups[0]\n",
    "group1.get_members()"
   ]
  },
  {
   "cell_type": "markdown",
   "metadata": {},
   "source": [
    "# Items"
   ]
  },
  {
   "cell_type": "markdown",
   "metadata": {},
   "source": [
    "Copying items consists of multiple steps. The following section of the sample does the following\n",
    "\n",
    " 1. Create a dictionary of itemIds and `Item` objects for each user in each folder\n",
    " 2. Prepare sharing information for each item"
   ]
  },
  {
   "cell_type": "markdown",
   "metadata": {},
   "source": [
    "## Create a dictionary of itemIds and item objects\n",
    "Do this for each user and each folder in the user account"
   ]
  },
  {
   "cell_type": "code",
   "execution_count": 24,
   "metadata": {
    "collapsed": false
   },
   "outputs": [
    {
     "name": "stdout",
     "output_type": "stream",
     "text": [
      "Collecting item ids for adams.powell...\n",
      "Collecting item ids for allen.price...\n",
      "Collecting item ids for anderson.bailey...\n",
      "Collecting item ids for baker.long...\n",
      "Collecting item ids for brown.rogers...\n"
     ]
    }
   ],
   "source": [
    "source_items_by_id = {}\n",
    "for user in source_users:\n",
    "    print(\"Collecting item ids for {}...\".format(user.username))\n",
    "    user_content = user.items()\n",
    "    # Copy item ids from root folder first\n",
    "    for item in user_content:\n",
    "        source_items_by_id[item.itemid] = item \n",
    "    # Copy item ids from folders next\n",
    "    folders = user.folders\n",
    "    for folder in folders:\n",
    "        folder_items = user.items(folder=folder['title'])\n",
    "        for item in folder_items:\n",
    "            source_items_by_id[item.itemid] = item"
   ]
  },
  {
   "cell_type": "code",
   "execution_count": 25,
   "metadata": {
    "collapsed": false
   },
   "outputs": [
    {
     "data": {
      "text/plain": [
       "{'332b3e2370b74ba3a2a5d3893f4dd904': <Item title:\"Allen Price response locations\" type:Web Map owner:allen.price>,\n",
       " '3e7b1b056b124fb0b48398bdfe36577d': <Item title:\"Brown Rogers response locations\" type:Web Map owner:brown.rogers>,\n",
       " '3ff2216d367244b99578a710d97d2be7': <Item title:\"OH\" type:Feature Service owner:allen.price>,\n",
       " '5b2d580eff584fa597b2eb0d8b2d7498': <Item title:\"OH\" type:CSV owner:allen.price>,\n",
       " '8502a55fd04e489a8c5f43c303f46be6': <Item title:\"WY\" type:Feature Service owner:baker.long>,\n",
       " '859405481aad42bc89f0f258f8534cca': <Item title:\"SC\" type:Feature Service owner:adams.powell>,\n",
       " 'aff676230201458ebb679bc0ac35e70e': <Item title:\"AR\" type:CSV owner:brown.rogers>,\n",
       " 'b3e690006a964cceb0c7b0aced1ad283': <Item title:\"Baker Long response locations\" type:Web Map owner:baker.long>,\n",
       " 'bd7062097d234088af4194c35b540a50': <Item title:\"AR\" type:Feature Service owner:brown.rogers>,\n",
       " 'ebeedb8a91d642e6b1248d6c625e1101': <Item title:\"Adams Powell response locations\" type:Web Map owner:adams.powell>,\n",
       " 'f96c298a199441108ad3743785f6263c': <Item title:\"WY\" type:CSV owner:baker.long>,\n",
       " 'fc5fe1f03a2a4c2b80606a6a221d07fb': <Item title:\"SC\" type:CSV owner:adams.powell>}"
      ]
     },
     "execution_count": 25,
     "metadata": {},
     "output_type": "execute_result"
    }
   ],
   "source": [
    "source_items_by_id"
   ]
  },
  {
   "cell_type": "markdown",
   "metadata": {},
   "source": [
    "## Prepare sharing information for each item"
   ]
  },
  {
   "cell_type": "code",
   "execution_count": 26,
   "metadata": {
    "collapsed": false,
    "scrolled": false
   },
   "outputs": [],
   "source": [
    "# Remap the group id of items to point to new group id\n",
    "for group in source_groups:\n",
    "    target_group_id = copied_groups[group.groupid]\n",
    "    for group_item in group.content():\n",
    "        try:\n",
    "            item = source_items_by_id[group_item.itemid]\n",
    "            if item is not None:\n",
    "                if not 'groups'in item:\n",
    "                    item['groups'] = []\n",
    "                item['groups'].append(target_group_id)\n",
    "        except:\n",
    "            print(\"Not found item : \" + group_item.itemid)"
   ]
  },
  {
   "cell_type": "markdown",
   "metadata": {},
   "source": [
    "### Print a mapping of item and its group membership"
   ]
  },
  {
   "cell_type": "code",
   "execution_count": 27,
   "metadata": {
    "collapsed": false
   },
   "outputs": [
    {
     "name": "stdout",
     "output_type": "stream",
     "text": [
      "\n",
      "SC                                       # \n",
      "OH                                       # \n",
      "Allen Price response locations           # \n",
      "WY                                       # \n",
      "SC                                       # \n",
      "Adams Powell response locations          # \n",
      "Brown Rogers response locations          # \n",
      "Baker Long response locations            # \n",
      "AR                                       # \n",
      "OH                                       # \n",
      "WY                                       # \n",
      "AR                                       # "
     ]
    }
   ],
   "source": [
    "for key in source_items_by_id.keys():\n",
    "    item = source_items_by_id[key]\n",
    "    print(\"\\n{:40s}\".format(item.title), end = \" # \")\n",
    "    if 'groups' in item:\n",
    "        print(item.access, end = \" # \")\n",
    "        print(item.groups, end = \"\")"
   ]
  },
  {
   "cell_type": "markdown",
   "metadata": {
    "collapsed": true
   },
   "source": [
    "## Copy Items"
   ]
  },
  {
   "cell_type": "code",
   "execution_count": 28,
   "metadata": {
    "collapsed": false
   },
   "outputs": [],
   "source": [
    "TEXT_BASED_ITEM_TYPES = frozenset(['Web Map', 'Feature Service', 'Map Service','Web Scene',\n",
    "                                   'Image Service', 'Feature Collection', \n",
    "                                   'Feature Collection Template',\n",
    "                                   'Web Mapping Application', 'Mobile Application', \n",
    "                                   'Symbol Set', 'Color Set',\n",
    "                                   'Windows Viewer Configuration'])\n",
    "ITEM_COPY_PROPERTIES = ['title', 'type', 'typeKeywords', 'description', 'tags',\n",
    "                        'snippet', 'extent', 'spatialReference', 'name',\n",
    "                        'accessInformation', 'licenseInfo', 'culture', 'url', ]\n",
    "\n",
    "def copy_item(target, owner, folder, item):\n",
    "    with tempfile.TemporaryDirectory() as temp_dir:\n",
    "        copy_item = {}\n",
    "        for property_name in ITEM_COPY_PROPERTIES:\n",
    "            copy_item[property_name] = item[property_name]\n",
    "\n",
    "        data_file = None\n",
    "        if item.type in TEXT_BASED_ITEM_TYPES:\n",
    "            # If its a text-based item, then read the text and add it to the request.\n",
    "            if item.size > 0:\n",
    "                text = item.get_data(False)\n",
    "                #textstr = text.decode('utf-8')\n",
    "                copy_item['text'] = text\n",
    "        elif item.size > 0: # download data for all other types, not just item.type in FILE_BASED_ITEM_TYPES:\n",
    "            # download data and add to the request as a file\n",
    "            data_file = item.download(temp_dir)\n",
    "\n",
    "        thumbnail_file = item.download_thumbnail(temp_dir)\n",
    "\n",
    "        metadata_file = item.download_metadata(temp_dir)\n",
    "\n",
    "        # Add the item to the target portal\n",
    "        copied_item = target.content.add(copy_item, data_file, thumbnail_file, \n",
    "                                         metadata_file, owner, folder)\n",
    "\n",
    "        return copied_item"
   ]
  },
  {
   "cell_type": "code",
   "execution_count": 29,
   "metadata": {
    "collapsed": false
   },
   "outputs": [],
   "source": [
    "RELATIONSHIP_TYPES = frozenset(['Map2Service', 'WMA2Code',\n",
    "                                'Map2FeatureCollection', 'MobileApp2Code', 'Service2Data',\n",
    "                                'Service2Service'])\n",
    "\n",
    "def copy_relationships(target, copied_items, src_item, relationships, owner, folder):\n",
    "    \n",
    "    target_item_id = copied_items.get(src_item.itemid)\n",
    "    if target_item_id is not None:\n",
    "        target_item = target.content.get(target_item_id)\n",
    "\n",
    "        for rel_type in RELATIONSHIP_TYPES:\n",
    "            src_rel_items = src_item.related_items(rel_type)\n",
    "\n",
    "            for src_rel_item in src_rel_items:\n",
    "                print(\"***Found related items for \" + src_rel_item.title)\n",
    "                source_rel_id = src_rel_item.itemid\n",
    "\n",
    "                # See if it's already been copied to the target\n",
    "                target_rel_id = copied_items.get(source_rel_id)\n",
    "                if not target_rel_id:\n",
    "                    # If not, then copy it to the target - folder may have moved though?\n",
    "                    target_rel_item = clone_item(target, owner, folder, src_rel_item)\n",
    "\n",
    "                    if target_rel_item is not None:\n",
    "                        # add relationship from target_item to copied item\n",
    "                        result = target_item.add_relationship(target_rel_item, rel_type)\n",
    "\n",
    "                        if not result:\n",
    "                            print('Unable to add relationship from ' +  target_item.itemid + ' to ' + target_rel_item.itemid)\n",
    "                    else:\n",
    "                        print(\"@@@Error Cloning Item \"+src_rel_item.title)"
   ]
  },
  {
   "cell_type": "code",
   "execution_count": 30,
   "metadata": {
    "collapsed": false,
    "scrolled": false
   },
   "outputs": [
    {
     "name": "stdout",
     "output_type": "stream",
     "text": [
      "**************\n",
      "adams.powell\n"
     ]
    },
    {
     "data": {
      "text/html": [
       "<div class=\"item_container\" style=\"height: auto; overflow: hidden; border: 1px solid #cfcfcf; border-radius: 2px; background: #f6fafa; line-height: 1.21429em; padding: 10px;\">\n",
       "                    <div class=\"item_left\" style=\"width: 210px; float: left;\">\n",
       "                       <a href='https://dev003327.esri.com/portal/home/item.html?id=bd7062097d234088af4194c35b540a50' target='_blank'>\n",
       "                        <img src='https://dev003327.esri.com/portal/portalimages/desktopapp.png' class=\"itemThumbnail\">\n",
       "                       </a>\n",
       "                    </div>\n",
       "\n",
       "                    <div class=\"item_right\"     style=\"float: none; width: auto; overflow: hidden;\">\n",
       "                        <a href='https://dev003327.esri.com/portal/home/item.html?id=bd7062097d234088af4194c35b540a50' target='_blank'><b>AR</b>\n",
       "                        </a>\n",
       "                        <br/><img src='https://dev003327.esri.com/portal/home/js/jsapi/esri/css/images/item_type_icons/featureshosted16.png' style=\"vertical-align:middle;\">Feature Layer Collection by brown.rogers\n",
       "                        <br/>Last Modified: March 07, 2017\n",
       "                        <br/>0 comments, 10 views\n",
       "                    </div>\n",
       "                </div>\n",
       "                "
      ],
      "text/plain": [
       "<Item title:\"AR\" type:Feature Service owner:brown.rogers>"
      ]
     },
     "metadata": {},
     "output_type": "display_data"
    },
    {
     "data": {
      "text/html": [
       "<div class=\"item_container\" style=\"height: auto; overflow: hidden; border: 1px solid #cfcfcf; border-radius: 2px; background: #f6fafa; line-height: 1.21429em; padding: 10px;\">\n",
       "                    <div class=\"item_left\" style=\"width: 210px; float: left;\">\n",
       "                       <a href='https://dev003327.esri.com/portal/home/item.html?id=aff676230201458ebb679bc0ac35e70e' target='_blank'>\n",
       "                        <img src='https://dev003327.esri.com/portal/portalimages/desktopapp.png' class=\"itemThumbnail\">\n",
       "                       </a>\n",
       "                    </div>\n",
       "\n",
       "                    <div class=\"item_right\"     style=\"float: none; width: auto; overflow: hidden;\">\n",
       "                        <a href='https://dev003327.esri.com/portal/home/item.html?id=aff676230201458ebb679bc0ac35e70e' target='_blank'><b>AR</b>\n",
       "                        </a>\n",
       "                        <br/><img src='https://dev003327.esri.com/portal/home/js/jsapi/esri/css/images/item_type_icons/layers16.png' style=\"vertical-align:middle;\">CSV by brown.rogers\n",
       "                        <br/>Last Modified: March 07, 2017\n",
       "                        <br/>0 comments, 12 views\n",
       "                    </div>\n",
       "                </div>\n",
       "                "
      ],
      "text/plain": [
       "<Item title:\"AR\" type:CSV owner:brown.rogers>"
      ]
     },
     "metadata": {},
     "output_type": "display_data"
    },
    {
     "data": {
      "text/html": [
       "<div class=\"item_container\" style=\"height: auto; overflow: hidden; border: 1px solid #cfcfcf; border-radius: 2px; background: #f6fafa; line-height: 1.21429em; padding: 10px;\">\n",
       "                    <div class=\"item_left\" style=\"width: 210px; float: left;\">\n",
       "                       <a href='https://dev003327.esri.com/portal/home/item.html?id=3e7b1b056b124fb0b48398bdfe36577d' target='_blank'>\n",
       "                        <img src='https://dev003327.esri.com/portal/portalimages/desktopapp.png' class=\"itemThumbnail\">\n",
       "                       </a>\n",
       "                    </div>\n",
       "\n",
       "                    <div class=\"item_right\"     style=\"float: none; width: auto; overflow: hidden;\">\n",
       "                        <a href='https://dev003327.esri.com/portal/home/item.html?id=3e7b1b056b124fb0b48398bdfe36577d' target='_blank'><b>Brown Rogers response locations</b>\n",
       "                        </a>\n",
       "                        <br/>Areas affected by Hurricane Matthew under the supervision ofBrown Rogers<img src='https://dev003327.esri.com/portal/home/js/jsapi/esri/css/images/item_type_icons/maps16.png' style=\"vertical-align:middle;\">Web Map by brown.rogers\n",
       "                        <br/>Last Modified: March 07, 2017\n",
       "                        <br/>0 comments, 10 views\n",
       "                    </div>\n",
       "                </div>\n",
       "                "
      ],
      "text/plain": [
       "<Item title:\"Brown Rogers response locations\" type:Web Map owner:brown.rogers>"
      ]
     },
     "metadata": {},
     "output_type": "display_data"
    },
    {
     "name": "stdout",
     "output_type": "stream",
     "text": [
      "**************\n",
      "allen.price\n"
     ]
    },
    {
     "data": {
      "text/html": [
       "<div class=\"item_container\" style=\"height: auto; overflow: hidden; border: 1px solid #cfcfcf; border-radius: 2px; background: #f6fafa; line-height: 1.21429em; padding: 10px;\">\n",
       "                    <div class=\"item_left\" style=\"width: 210px; float: left;\">\n",
       "                       <a href='https://dev003327.esri.com/portal/home/item.html?id=bd7062097d234088af4194c35b540a50' target='_blank'>\n",
       "                        <img src='https://dev003327.esri.com/portal/portalimages/desktopapp.png' class=\"itemThumbnail\">\n",
       "                       </a>\n",
       "                    </div>\n",
       "\n",
       "                    <div class=\"item_right\"     style=\"float: none; width: auto; overflow: hidden;\">\n",
       "                        <a href='https://dev003327.esri.com/portal/home/item.html?id=bd7062097d234088af4194c35b540a50' target='_blank'><b>AR</b>\n",
       "                        </a>\n",
       "                        <br/><img src='https://dev003327.esri.com/portal/home/js/jsapi/esri/css/images/item_type_icons/featureshosted16.png' style=\"vertical-align:middle;\">Feature Layer Collection by brown.rogers\n",
       "                        <br/>Last Modified: March 07, 2017\n",
       "                        <br/>0 comments, 10 views\n",
       "                    </div>\n",
       "                </div>\n",
       "                "
      ],
      "text/plain": [
       "<Item title:\"AR\" type:Feature Service owner:brown.rogers>"
      ]
     },
     "metadata": {},
     "output_type": "display_data"
    },
    {
     "data": {
      "text/html": [
       "<div class=\"item_container\" style=\"height: auto; overflow: hidden; border: 1px solid #cfcfcf; border-radius: 2px; background: #f6fafa; line-height: 1.21429em; padding: 10px;\">\n",
       "                    <div class=\"item_left\" style=\"width: 210px; float: left;\">\n",
       "                       <a href='https://dev003327.esri.com/portal/home/item.html?id=aff676230201458ebb679bc0ac35e70e' target='_blank'>\n",
       "                        <img src='https://dev003327.esri.com/portal/portalimages/desktopapp.png' class=\"itemThumbnail\">\n",
       "                       </a>\n",
       "                    </div>\n",
       "\n",
       "                    <div class=\"item_right\"     style=\"float: none; width: auto; overflow: hidden;\">\n",
       "                        <a href='https://dev003327.esri.com/portal/home/item.html?id=aff676230201458ebb679bc0ac35e70e' target='_blank'><b>AR</b>\n",
       "                        </a>\n",
       "                        <br/><img src='https://dev003327.esri.com/portal/home/js/jsapi/esri/css/images/item_type_icons/layers16.png' style=\"vertical-align:middle;\">CSV by brown.rogers\n",
       "                        <br/>Last Modified: March 07, 2017\n",
       "                        <br/>0 comments, 12 views\n",
       "                    </div>\n",
       "                </div>\n",
       "                "
      ],
      "text/plain": [
       "<Item title:\"AR\" type:CSV owner:brown.rogers>"
      ]
     },
     "metadata": {},
     "output_type": "display_data"
    },
    {
     "data": {
      "text/html": [
       "<div class=\"item_container\" style=\"height: auto; overflow: hidden; border: 1px solid #cfcfcf; border-radius: 2px; background: #f6fafa; line-height: 1.21429em; padding: 10px;\">\n",
       "                    <div class=\"item_left\" style=\"width: 210px; float: left;\">\n",
       "                       <a href='https://dev003327.esri.com/portal/home/item.html?id=3e7b1b056b124fb0b48398bdfe36577d' target='_blank'>\n",
       "                        <img src='https://dev003327.esri.com/portal/portalimages/desktopapp.png' class=\"itemThumbnail\">\n",
       "                       </a>\n",
       "                    </div>\n",
       "\n",
       "                    <div class=\"item_right\"     style=\"float: none; width: auto; overflow: hidden;\">\n",
       "                        <a href='https://dev003327.esri.com/portal/home/item.html?id=3e7b1b056b124fb0b48398bdfe36577d' target='_blank'><b>Brown Rogers response locations</b>\n",
       "                        </a>\n",
       "                        <br/>Areas affected by Hurricane Matthew under the supervision ofBrown Rogers<img src='https://dev003327.esri.com/portal/home/js/jsapi/esri/css/images/item_type_icons/maps16.png' style=\"vertical-align:middle;\">Web Map by brown.rogers\n",
       "                        <br/>Last Modified: March 07, 2017\n",
       "                        <br/>0 comments, 10 views\n",
       "                    </div>\n",
       "                </div>\n",
       "                "
      ],
      "text/plain": [
       "<Item title:\"Brown Rogers response locations\" type:Web Map owner:brown.rogers>"
      ]
     },
     "metadata": {},
     "output_type": "display_data"
    },
    {
     "name": "stdout",
     "output_type": "stream",
     "text": [
      "**************\n",
      "anderson.bailey\n"
     ]
    },
    {
     "data": {
      "text/html": [
       "<div class=\"item_container\" style=\"height: auto; overflow: hidden; border: 1px solid #cfcfcf; border-radius: 2px; background: #f6fafa; line-height: 1.21429em; padding: 10px;\">\n",
       "                    <div class=\"item_left\" style=\"width: 210px; float: left;\">\n",
       "                       <a href='https://dev003327.esri.com/portal/home/item.html?id=bd7062097d234088af4194c35b540a50' target='_blank'>\n",
       "                        <img src='https://dev003327.esri.com/portal/portalimages/desktopapp.png' class=\"itemThumbnail\">\n",
       "                       </a>\n",
       "                    </div>\n",
       "\n",
       "                    <div class=\"item_right\"     style=\"float: none; width: auto; overflow: hidden;\">\n",
       "                        <a href='https://dev003327.esri.com/portal/home/item.html?id=bd7062097d234088af4194c35b540a50' target='_blank'><b>AR</b>\n",
       "                        </a>\n",
       "                        <br/><img src='https://dev003327.esri.com/portal/home/js/jsapi/esri/css/images/item_type_icons/featureshosted16.png' style=\"vertical-align:middle;\">Feature Layer Collection by brown.rogers\n",
       "                        <br/>Last Modified: March 07, 2017\n",
       "                        <br/>0 comments, 10 views\n",
       "                    </div>\n",
       "                </div>\n",
       "                "
      ],
      "text/plain": [
       "<Item title:\"AR\" type:Feature Service owner:brown.rogers>"
      ]
     },
     "metadata": {},
     "output_type": "display_data"
    },
    {
     "data": {
      "text/html": [
       "<div class=\"item_container\" style=\"height: auto; overflow: hidden; border: 1px solid #cfcfcf; border-radius: 2px; background: #f6fafa; line-height: 1.21429em; padding: 10px;\">\n",
       "                    <div class=\"item_left\" style=\"width: 210px; float: left;\">\n",
       "                       <a href='https://dev003327.esri.com/portal/home/item.html?id=aff676230201458ebb679bc0ac35e70e' target='_blank'>\n",
       "                        <img src='https://dev003327.esri.com/portal/portalimages/desktopapp.png' class=\"itemThumbnail\">\n",
       "                       </a>\n",
       "                    </div>\n",
       "\n",
       "                    <div class=\"item_right\"     style=\"float: none; width: auto; overflow: hidden;\">\n",
       "                        <a href='https://dev003327.esri.com/portal/home/item.html?id=aff676230201458ebb679bc0ac35e70e' target='_blank'><b>AR</b>\n",
       "                        </a>\n",
       "                        <br/><img src='https://dev003327.esri.com/portal/home/js/jsapi/esri/css/images/item_type_icons/layers16.png' style=\"vertical-align:middle;\">CSV by brown.rogers\n",
       "                        <br/>Last Modified: March 07, 2017\n",
       "                        <br/>0 comments, 12 views\n",
       "                    </div>\n",
       "                </div>\n",
       "                "
      ],
      "text/plain": [
       "<Item title:\"AR\" type:CSV owner:brown.rogers>"
      ]
     },
     "metadata": {},
     "output_type": "display_data"
    },
    {
     "data": {
      "text/html": [
       "<div class=\"item_container\" style=\"height: auto; overflow: hidden; border: 1px solid #cfcfcf; border-radius: 2px; background: #f6fafa; line-height: 1.21429em; padding: 10px;\">\n",
       "                    <div class=\"item_left\" style=\"width: 210px; float: left;\">\n",
       "                       <a href='https://dev003327.esri.com/portal/home/item.html?id=3e7b1b056b124fb0b48398bdfe36577d' target='_blank'>\n",
       "                        <img src='https://dev003327.esri.com/portal/portalimages/desktopapp.png' class=\"itemThumbnail\">\n",
       "                       </a>\n",
       "                    </div>\n",
       "\n",
       "                    <div class=\"item_right\"     style=\"float: none; width: auto; overflow: hidden;\">\n",
       "                        <a href='https://dev003327.esri.com/portal/home/item.html?id=3e7b1b056b124fb0b48398bdfe36577d' target='_blank'><b>Brown Rogers response locations</b>\n",
       "                        </a>\n",
       "                        <br/>Areas affected by Hurricane Matthew under the supervision ofBrown Rogers<img src='https://dev003327.esri.com/portal/home/js/jsapi/esri/css/images/item_type_icons/maps16.png' style=\"vertical-align:middle;\">Web Map by brown.rogers\n",
       "                        <br/>Last Modified: March 07, 2017\n",
       "                        <br/>0 comments, 10 views\n",
       "                    </div>\n",
       "                </div>\n",
       "                "
      ],
      "text/plain": [
       "<Item title:\"Brown Rogers response locations\" type:Web Map owner:brown.rogers>"
      ]
     },
     "metadata": {},
     "output_type": "display_data"
    },
    {
     "name": "stdout",
     "output_type": "stream",
     "text": [
      "**************\n",
      "baker.long\n"
     ]
    },
    {
     "data": {
      "text/html": [
       "<div class=\"item_container\" style=\"height: auto; overflow: hidden; border: 1px solid #cfcfcf; border-radius: 2px; background: #f6fafa; line-height: 1.21429em; padding: 10px;\">\n",
       "                    <div class=\"item_left\" style=\"width: 210px; float: left;\">\n",
       "                       <a href='https://dev003327.esri.com/portal/home/item.html?id=bd7062097d234088af4194c35b540a50' target='_blank'>\n",
       "                        <img src='https://dev003327.esri.com/portal/portalimages/desktopapp.png' class=\"itemThumbnail\">\n",
       "                       </a>\n",
       "                    </div>\n",
       "\n",
       "                    <div class=\"item_right\"     style=\"float: none; width: auto; overflow: hidden;\">\n",
       "                        <a href='https://dev003327.esri.com/portal/home/item.html?id=bd7062097d234088af4194c35b540a50' target='_blank'><b>AR</b>\n",
       "                        </a>\n",
       "                        <br/><img src='https://dev003327.esri.com/portal/home/js/jsapi/esri/css/images/item_type_icons/featureshosted16.png' style=\"vertical-align:middle;\">Feature Layer Collection by brown.rogers\n",
       "                        <br/>Last Modified: March 07, 2017\n",
       "                        <br/>0 comments, 10 views\n",
       "                    </div>\n",
       "                </div>\n",
       "                "
      ],
      "text/plain": [
       "<Item title:\"AR\" type:Feature Service owner:brown.rogers>"
      ]
     },
     "metadata": {},
     "output_type": "display_data"
    },
    {
     "data": {
      "text/html": [
       "<div class=\"item_container\" style=\"height: auto; overflow: hidden; border: 1px solid #cfcfcf; border-radius: 2px; background: #f6fafa; line-height: 1.21429em; padding: 10px;\">\n",
       "                    <div class=\"item_left\" style=\"width: 210px; float: left;\">\n",
       "                       <a href='https://dev003327.esri.com/portal/home/item.html?id=aff676230201458ebb679bc0ac35e70e' target='_blank'>\n",
       "                        <img src='https://dev003327.esri.com/portal/portalimages/desktopapp.png' class=\"itemThumbnail\">\n",
       "                       </a>\n",
       "                    </div>\n",
       "\n",
       "                    <div class=\"item_right\"     style=\"float: none; width: auto; overflow: hidden;\">\n",
       "                        <a href='https://dev003327.esri.com/portal/home/item.html?id=aff676230201458ebb679bc0ac35e70e' target='_blank'><b>AR</b>\n",
       "                        </a>\n",
       "                        <br/><img src='https://dev003327.esri.com/portal/home/js/jsapi/esri/css/images/item_type_icons/layers16.png' style=\"vertical-align:middle;\">CSV by brown.rogers\n",
       "                        <br/>Last Modified: March 07, 2017\n",
       "                        <br/>0 comments, 12 views\n",
       "                    </div>\n",
       "                </div>\n",
       "                "
      ],
      "text/plain": [
       "<Item title:\"AR\" type:CSV owner:brown.rogers>"
      ]
     },
     "metadata": {},
     "output_type": "display_data"
    },
    {
     "data": {
      "text/html": [
       "<div class=\"item_container\" style=\"height: auto; overflow: hidden; border: 1px solid #cfcfcf; border-radius: 2px; background: #f6fafa; line-height: 1.21429em; padding: 10px;\">\n",
       "                    <div class=\"item_left\" style=\"width: 210px; float: left;\">\n",
       "                       <a href='https://dev003327.esri.com/portal/home/item.html?id=3e7b1b056b124fb0b48398bdfe36577d' target='_blank'>\n",
       "                        <img src='https://dev003327.esri.com/portal/portalimages/desktopapp.png' class=\"itemThumbnail\">\n",
       "                       </a>\n",
       "                    </div>\n",
       "\n",
       "                    <div class=\"item_right\"     style=\"float: none; width: auto; overflow: hidden;\">\n",
       "                        <a href='https://dev003327.esri.com/portal/home/item.html?id=3e7b1b056b124fb0b48398bdfe36577d' target='_blank'><b>Brown Rogers response locations</b>\n",
       "                        </a>\n",
       "                        <br/>Areas affected by Hurricane Matthew under the supervision ofBrown Rogers<img src='https://dev003327.esri.com/portal/home/js/jsapi/esri/css/images/item_type_icons/maps16.png' style=\"vertical-align:middle;\">Web Map by brown.rogers\n",
       "                        <br/>Last Modified: March 07, 2017\n",
       "                        <br/>0 comments, 10 views\n",
       "                    </div>\n",
       "                </div>\n",
       "                "
      ],
      "text/plain": [
       "<Item title:\"Brown Rogers response locations\" type:Web Map owner:brown.rogers>"
      ]
     },
     "metadata": {},
     "output_type": "display_data"
    },
    {
     "name": "stdout",
     "output_type": "stream",
     "text": [
      "**************\n",
      "brown.rogers\n"
     ]
    },
    {
     "data": {
      "text/html": [
       "<div class=\"item_container\" style=\"height: auto; overflow: hidden; border: 1px solid #cfcfcf; border-radius: 2px; background: #f6fafa; line-height: 1.21429em; padding: 10px;\">\n",
       "                    <div class=\"item_left\" style=\"width: 210px; float: left;\">\n",
       "                       <a href='https://dev003327.esri.com/portal/home/item.html?id=bd7062097d234088af4194c35b540a50' target='_blank'>\n",
       "                        <img src='https://dev003327.esri.com/portal/portalimages/desktopapp.png' class=\"itemThumbnail\">\n",
       "                       </a>\n",
       "                    </div>\n",
       "\n",
       "                    <div class=\"item_right\"     style=\"float: none; width: auto; overflow: hidden;\">\n",
       "                        <a href='https://dev003327.esri.com/portal/home/item.html?id=bd7062097d234088af4194c35b540a50' target='_blank'><b>AR</b>\n",
       "                        </a>\n",
       "                        <br/><img src='https://dev003327.esri.com/portal/home/js/jsapi/esri/css/images/item_type_icons/featureshosted16.png' style=\"vertical-align:middle;\">Feature Layer Collection by brown.rogers\n",
       "                        <br/>Last Modified: March 07, 2017\n",
       "                        <br/>0 comments, 10 views\n",
       "                    </div>\n",
       "                </div>\n",
       "                "
      ],
      "text/plain": [
       "<Item title:\"AR\" type:Feature Service owner:brown.rogers>"
      ]
     },
     "metadata": {},
     "output_type": "display_data"
    },
    {
     "data": {
      "text/html": [
       "<div class=\"item_container\" style=\"height: auto; overflow: hidden; border: 1px solid #cfcfcf; border-radius: 2px; background: #f6fafa; line-height: 1.21429em; padding: 10px;\">\n",
       "                    <div class=\"item_left\" style=\"width: 210px; float: left;\">\n",
       "                       <a href='https://dev003327.esri.com/portal/home/item.html?id=aff676230201458ebb679bc0ac35e70e' target='_blank'>\n",
       "                        <img src='https://dev003327.esri.com/portal/portalimages/desktopapp.png' class=\"itemThumbnail\">\n",
       "                       </a>\n",
       "                    </div>\n",
       "\n",
       "                    <div class=\"item_right\"     style=\"float: none; width: auto; overflow: hidden;\">\n",
       "                        <a href='https://dev003327.esri.com/portal/home/item.html?id=aff676230201458ebb679bc0ac35e70e' target='_blank'><b>AR</b>\n",
       "                        </a>\n",
       "                        <br/><img src='https://dev003327.esri.com/portal/home/js/jsapi/esri/css/images/item_type_icons/layers16.png' style=\"vertical-align:middle;\">CSV by brown.rogers\n",
       "                        <br/>Last Modified: March 07, 2017\n",
       "                        <br/>0 comments, 12 views\n",
       "                    </div>\n",
       "                </div>\n",
       "                "
      ],
      "text/plain": [
       "<Item title:\"AR\" type:CSV owner:brown.rogers>"
      ]
     },
     "metadata": {},
     "output_type": "display_data"
    },
    {
     "data": {
      "text/html": [
       "<div class=\"item_container\" style=\"height: auto; overflow: hidden; border: 1px solid #cfcfcf; border-radius: 2px; background: #f6fafa; line-height: 1.21429em; padding: 10px;\">\n",
       "                    <div class=\"item_left\" style=\"width: 210px; float: left;\">\n",
       "                       <a href='https://dev003327.esri.com/portal/home/item.html?id=3e7b1b056b124fb0b48398bdfe36577d' target='_blank'>\n",
       "                        <img src='https://dev003327.esri.com/portal/portalimages/desktopapp.png' class=\"itemThumbnail\">\n",
       "                       </a>\n",
       "                    </div>\n",
       "\n",
       "                    <div class=\"item_right\"     style=\"float: none; width: auto; overflow: hidden;\">\n",
       "                        <a href='https://dev003327.esri.com/portal/home/item.html?id=3e7b1b056b124fb0b48398bdfe36577d' target='_blank'><b>Brown Rogers response locations</b>\n",
       "                        </a>\n",
       "                        <br/>Areas affected by Hurricane Matthew under the supervision ofBrown Rogers<img src='https://dev003327.esri.com/portal/home/js/jsapi/esri/css/images/item_type_icons/maps16.png' style=\"vertical-align:middle;\">Web Map by brown.rogers\n",
       "                        <br/>Last Modified: March 07, 2017\n",
       "                        <br/>0 comments, 10 views\n",
       "                    </div>\n",
       "                </div>\n",
       "                "
      ],
      "text/plain": [
       "<Item title:\"Brown Rogers response locations\" type:Web Map owner:brown.rogers>"
      ]
     },
     "metadata": {},
     "output_type": "display_data"
    }
   ],
   "source": [
    "copied_items = {}\n",
    "relationships = RELATIONSHIP_TYPES\n",
    "\n",
    "for user in source_users:\n",
    "    #if not user.username in systemusers:\n",
    "    print(\"**************\\n\"+user.username)\n",
    "    usercontent = user.items()\n",
    "    folders = user.folders\n",
    "    for item in user_content:\n",
    "        try:\n",
    "            copied_item = copy_item(target, user, None, item)\n",
    "            if copied_item is not None:\n",
    "                copied_items[item.itemid] = copied_item.itemid\n",
    "                # share the item\n",
    "                copied_item.share(item.access == 'public',\n",
    "                                    item.access in ['org', 'public'],\n",
    "                                    source_items_by_id[item.itemid].groups \n",
    "                                        if 'groups' in source_items_by_id[item.itemid]\n",
    "                                        else None)\n",
    "                display(item)\n",
    "            else:\n",
    "                print('Error copying ' + item.title)\n",
    "        except:\n",
    "            print(\"Error copying \" + item.title)\n",
    "\n",
    "        for folder in folders:\n",
    "            target.content.create_folder(folder, user)\n",
    "            folder_items = user.items(folder['title'])\n",
    "            for item in folderitems:\n",
    "                try:\n",
    "                    copied_item = copy_item(target, user, folder['title'], item)\n",
    "                    if copied_item is not None:\n",
    "                        copied_items[item.itemid] = copied_item.itemid\n",
    "\n",
    "                        # share the item\n",
    "                        copied_item.share(item.access == 'public',\n",
    "                                          item.access in ['org', 'public'],\n",
    "                                          source_items_by_id[item.itemid].groups \n",
    "                                              if 'groups' in source_items_by_id[item.itemid]\n",
    "                                              else None)\n",
    "                    else:\n",
    "                        print('Error copying ' + item.title)\n",
    "                except:\n",
    "                    print(\"Error copying \" + item.title )\n",
    "\n",
    "        # Copy the related items for this user (if specified)\n",
    "        if relationships:\n",
    "            for folder in folders:\n",
    "                folder_items = user_content[folder]\n",
    "                for item in folder_items:\n",
    "                    try:\n",
    "                        copy_relationships(target, copied_items, item, \n",
    "                                           relationships, user, folder)\n",
    "                    except:\n",
    "                        print(\"Error setting relationship for: \" + item.title)\n"
   ]
  },
  {
   "cell_type": "code",
   "execution_count": 31,
   "metadata": {
    "collapsed": true
   },
   "outputs": [],
   "source": [
    "AR = target.content.search(\"AR\", item_type='Feature Layer')[0]"
   ]
  },
  {
   "cell_type": "code",
   "execution_count": 32,
   "metadata": {
    "collapsed": false
   },
   "outputs": [
    {
     "data": {
      "text/plain": [
       "'http://Dev003327.esri.com/server/rest/services/Hosted/AR/FeatureServer'"
      ]
     },
     "execution_count": 32,
     "metadata": {},
     "output_type": "execute_result"
    }
   ],
   "source": [
    "AR.url"
   ]
  },
  {
   "cell_type": "code",
   "execution_count": null,
   "metadata": {
    "collapsed": true
   },
   "outputs": [],
   "source": []
  }
 ],
 "metadata": {
  "kernelspec": {
   "display_name": "Python 3",
   "language": "python",
   "name": "python3"
  },
  "language_info": {
   "codemirror_mode": {
    "name": "ipython",
    "version": 3
   },
   "file_extension": ".py",
   "mimetype": "text/x-python",
   "name": "python",
   "nbconvert_exporter": "python",
   "pygments_lexer": "ipython3",
   "version": "3.5.3"
  }
 },
 "nbformat": 4,
 "nbformat_minor": 0
}
