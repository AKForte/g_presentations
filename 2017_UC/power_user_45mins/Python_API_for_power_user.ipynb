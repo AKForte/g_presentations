{
 "cells": [
  {
   "cell_type": "markdown",
   "metadata": {
    "slideshow": {
     "slide_type": "slide"
    }
   },
   "source": [
    "<center><h1> ArcGIS API for Python</h1></center>\n",
    "<center><h2> for the Power GIS User</h2></center>"
   ]
  },
  {
   "cell_type": "markdown",
   "metadata": {
    "slideshow": {
     "slide_type": "slide"
    }
   },
   "source": [
    "## Why use notebooks?\n",
    " 1. Prototpying ideas\n",
    " 2. Reproducivle research\n",
    " 2. Integration with Pandas and plotting libraries\n",
    " 3. Integration with ArcGIS\n",
    " 4. [numeours extensions](http://jupyter-contrib-nbextensions.readthedocs.io/en/latest/)"
   ]
  },
  {
   "cell_type": "markdown",
   "metadata": {
    "collapsed": true,
    "slideshow": {
     "slide_type": "subslide"
    }
   },
   "source": [
    "### 1. Prototyping ideas\n",
    "<img src=\"prototype_analysis.png\" height=\"500\" width=\"500\">"
   ]
  },
  {
   "cell_type": "markdown",
   "metadata": {
    "slideshow": {
     "slide_type": "subslide"
    }
   },
   "source": [
    "### 2. Integration with pandas and plotting libraries"
   ]
  },
  {
   "cell_type": "code",
   "execution_count": 2,
   "metadata": {
    "slideshow": {
     "slide_type": "fragment"
    }
   },
   "outputs": [
    {
     "data": {
      "text/html": [
       "<div>\n",
       "<table border=\"1\" class=\"dataframe\">\n",
       "  <thead>\n",
       "    <tr style=\"text-align: right;\">\n",
       "      <th></th>\n",
       "      <th>Unnamed: 0</th>\n",
       "      <th>X</th>\n",
       "      <th>Y</th>\n",
       "      <th>ProgramName</th>\n",
       "      <th>ProjectTitle</th>\n",
       "      <th>DamageExtent</th>\n",
       "      <th>ID</th>\n",
       "    </tr>\n",
       "  </thead>\n",
       "  <tbody>\n",
       "    <tr>\n",
       "      <th>0</th>\n",
       "      <td>0</td>\n",
       "      <td>-118.213772</td>\n",
       "      <td>34.032372</td>\n",
       "      <td>Municipal Facilities R and P</td>\n",
       "      <td>Boyle Heights Sports Center</td>\n",
       "      <td>95</td>\n",
       "      <td>35</td>\n",
       "    </tr>\n",
       "    <tr>\n",
       "      <th>1</th>\n",
       "      <td>1</td>\n",
       "      <td>-118.245915</td>\n",
       "      <td>34.045172</td>\n",
       "      <td>Municipal Facilities R and P</td>\n",
       "      <td>Engine Company 23 Arts Center</td>\n",
       "      <td>76</td>\n",
       "      <td>20565</td>\n",
       "    </tr>\n",
       "    <tr>\n",
       "      <th>2</th>\n",
       "      <td>2</td>\n",
       "      <td>-118.245911</td>\n",
       "      <td>34.045161</td>\n",
       "      <td>Municipal Facilities R and P</td>\n",
       "      <td>Engine Company 23 Arts Center</td>\n",
       "      <td>76</td>\n",
       "      <td>20566</td>\n",
       "    </tr>\n",
       "    <tr>\n",
       "      <th>3</th>\n",
       "      <td>3</td>\n",
       "      <td>-118.407213</td>\n",
       "      <td>34.235234</td>\n",
       "      <td>Bridge Improvement Program</td>\n",
       "      <td>Laurel Canyon Blvd Bridge-1233</td>\n",
       "      <td>78</td>\n",
       "      <td>771</td>\n",
       "    </tr>\n",
       "    <tr>\n",
       "      <th>4</th>\n",
       "      <td>4</td>\n",
       "      <td>-118.317632</td>\n",
       "      <td>34.025554</td>\n",
       "      <td>Wastewater - CSP</td>\n",
       "      <td>Wilshire Area System Swr Rehab</td>\n",
       "      <td>58</td>\n",
       "      <td>768</td>\n",
       "    </tr>\n",
       "  </tbody>\n",
       "</table>\n",
       "</div>"
      ],
      "text/plain": [
       "   Unnamed: 0           X          Y                   ProgramName  \\\n",
       "0           0 -118.213772  34.032372  Municipal Facilities R and P   \n",
       "1           1 -118.245915  34.045172  Municipal Facilities R and P   \n",
       "2           2 -118.245911  34.045161  Municipal Facilities R and P   \n",
       "3           3 -118.407213  34.235234    Bridge Improvement Program   \n",
       "4           4 -118.317632  34.025554              Wastewater - CSP   \n",
       "\n",
       "                     ProjectTitle  DamageExtent     ID  \n",
       "0     Boyle Heights Sports Center            95     35  \n",
       "1   Engine Company 23 Arts Center            76  20565  \n",
       "2   Engine Company 23 Arts Center            76  20566  \n",
       "3  Laurel Canyon Blvd Bridge-1233            78    771  \n",
       "4  Wilshire Area System Swr Rehab            58    768  "
      ]
     },
     "execution_count": 2,
     "metadata": {},
     "output_type": "execute_result"
    }
   ],
   "source": [
    "# read and display a csv file\n",
    "import pandas as pd\n",
    "csv = pd.read_csv('major_earthquakes.csv')\n",
    "csv.head()"
   ]
  },
  {
   "cell_type": "code",
   "execution_count": 3,
   "metadata": {
    "slideshow": {
     "slide_type": "fragment"
    }
   },
   "outputs": [
    {
     "data": {
      "text/plain": [
       "array([[<matplotlib.axes._subplots.AxesSubplot object at 0x11905c5c0>]], dtype=object)"
      ]
     },
     "execution_count": 3,
     "metadata": {},
     "output_type": "execute_result"
    },
    {
     "data": {
      "image/png": "[encoded data removed]",
      "text/plain": [
       "<matplotlib.figure.Figure at 0x118fbc320>"
      ]
     },
     "metadata": {},
     "output_type": "display_data"
    }
   ],
   "source": [
    "import matplotlib.pyplot as plt\n",
    "%matplotlib inline\n",
    "csv.hist('DamageExtent')"
   ]
  },
  {
   "cell_type": "markdown",
   "metadata": {
    "collapsed": true,
    "slideshow": {
     "slide_type": "subslide"
    }
   },
   "source": [
    "### 3. Integration with ArcGIS"
   ]
  },
  {
   "cell_type": "code",
   "execution_count": 2,
   "metadata": {
    "slideshow": {
     "slide_type": "fragment"
    }
   },
   "outputs": [
    {
     "data": {
      "application/vnd.jupyter.widget-view+json": {
       "model_id": "e170cda45cf541c7b7c6fecdca2e5cd9"
      }
     },
     "metadata": {},
     "output_type": "display_data"
    }
   ],
   "source": [
    "from arcgis.gis import *\n",
    "gis = GIS()\n",
    "m1 = gis.map()\n",
    "m1"
   ]
  },
  {
   "cell_type": "code",
   "execution_count": 5,
   "metadata": {
    "collapsed": true,
    "slideshow": {
     "slide_type": "fragment"
    }
   },
   "outputs": [],
   "source": [
    "eq = gis.content.search(\"earthquakes\", \"feature layer\")[0]\n",
    "m1.add_layer(eq)"
   ]
  },
  {
   "cell_type": "markdown",
   "metadata": {
    "slideshow": {
     "slide_type": "subslide"
    }
   },
   "source": [
    "### 4. Growing open source project, lots of extensions\n",
    " 1. Collapsible headings\n",
    " 2. RISE - presentations\n",
    " 3. [list of extensions](http://jupyter-contrib-nbextensions.readthedocs.io/en/latest/)"
   ]
  },
  {
   "cell_type": "markdown",
   "metadata": {},
   "source": [
    "## How to get notebooks on your computer?\n",
    " 1. Through ArcGIS Pro\n",
    " 2. Install conda\n",
    " 3. Try the live notebooks"
   ]
  },
  {
   "cell_type": "markdown",
   "metadata": {
    "slideshow": {
     "slide_type": "slide"
    }
   },
   "source": [
    "## How to use notebooks and best practices"
   ]
  },
  {
   "cell_type": "markdown",
   "metadata": {
    "slideshow": {
     "slide_type": "subslide"
    }
   },
   "source": [
    "### Notebooks walk through\n",
    " 1. Cell types - markdown, code\n",
    " 2. Running cells\n",
    " 3. Using intellisense\n",
    " 4. REPL - read evaluate print loop"
   ]
  },
  {
   "cell_type": "markdown",
   "metadata": {
    "slideshow": {
     "slide_type": "subslide"
    }
   },
   "source": [
    "Markdown - headings\n",
    "# H1\n",
    "## H2\n",
    "### H3\n",
    "#### H4"
   ]
  },
  {
   "cell_type": "markdown",
   "metadata": {
    "slideshow": {
     "slide_type": "fragment"
    }
   },
   "source": [
    "Markdown - bold, italics, code snippet\n",
    "\n",
    "**this is bold**\n",
    "\n",
    "_this is italics_ and this is not"
   ]
  },
  {
   "cell_type": "markdown",
   "metadata": {},
   "source": [
    "embed images\n",
    "![](http://mms.businesswire.com/media/20170615005128/en/570118/4/esri_logo17.jpg)"
   ]
  },
  {
   "cell_type": "code",
   "execution_count": null,
   "metadata": {
    "collapsed": true,
    "slideshow": {
     "slide_type": "subslide"
    }
   },
   "outputs": [],
   "source": [
    "#this is a code cell\n",
    "1+2\n",
    "\n",
    "# run this by hitting `shift + enter`"
   ]
  },
  {
   "cell_type": "code",
   "execution_count": null,
   "metadata": {
    "collapsed": true,
    "slideshow": {
     "slide_type": "fragment"
    }
   },
   "outputs": [],
   "source": [
    "# code cell\n",
    "import sys\n",
    "sys.version"
   ]
  },
  {
   "cell_type": "code",
   "execution_count": null,
   "metadata": {
    "collapsed": true,
    "slideshow": {
     "slide_type": "subslide"
    }
   },
   "outputs": [],
   "source": [
    "# fixing errors - intellisense\n",
    "sys.pth"
   ]
  },
  {
   "cell_type": "markdown",
   "metadata": {
    "slideshow": {
     "slide_type": "subslide"
    }
   },
   "source": [
    "#### Using intellisense - Python API"
   ]
  },
  {
   "cell_type": "code",
   "execution_count": null,
   "metadata": {
    "collapsed": true,
    "slideshow": {
     "slide_type": "fragment"
    }
   },
   "outputs": [],
   "source": [
    "from arcgis.gis import *\n",
    "gis = GIS()"
   ]
  },
  {
   "cell_type": "code",
   "execution_count": null,
   "metadata": {
    "collapsed": true,
    "slideshow": {
     "slide_type": "fragment"
    }
   },
   "outputs": [],
   "source": [
    "#look for the basemaps groups in arcgis online\n",
    "#use intellisense - dot notation\n",
    "gis.\n"
   ]
  },
  {
   "cell_type": "code",
   "execution_count": null,
   "metadata": {
    "collapsed": true,
    "slideshow": {
     "slide_type": "subslide"
    }
   },
   "outputs": [],
   "source": [
    "#build a query - look up method parameters, pull up help into new page\n",
    "gis.groups.search?"
   ]
  },
  {
   "cell_type": "code",
   "execution_count": null,
   "metadata": {
    "collapsed": true,
    "slideshow": {
     "slide_type": "fragment"
    }
   },
   "outputs": [],
   "source": [
    "#REPL\n",
    "groups_list = gis.groups.search(\"basemaps\")\n",
    "groups_list"
   ]
  },
  {
   "cell_type": "markdown",
   "metadata": {
    "slideshow": {
     "slide_type": "slide"
    }
   },
   "source": [
    "### Notebooks - best practices\n",
    " 1. Don't pull all your code in 1 cell\n",
    " 2. Add documentation\n",
    " 3. Use password hiders\n",
    " 4. Share notebooks on github"
   ]
  },
  {
   "cell_type": "code",
   "execution_count": null,
   "metadata": {
    "collapsed": true,
    "slideshow": {
     "slide_type": "subslide"
    }
   },
   "outputs": [],
   "source": [
    "from arcgis.gis import GIS\n",
    "ago_gis = GIS(\"https://python.playground.esri.com/portal\", \"atma.mani\")"
   ]
  },
  {
   "cell_type": "code",
   "execution_count": null,
   "metadata": {
    "collapsed": true,
    "slideshow": {
     "slide_type": "fragment"
    }
   },
   "outputs": [],
   "source": [
    "ago_gis"
   ]
  },
  {
   "cell_type": "markdown",
   "metadata": {},
   "source": [
    "## Reproducible research"
   ]
  },
  {
   "cell_type": "markdown",
   "metadata": {},
   "source": [
    "### Sharing notebooks"
   ]
  }
 ],
 "metadata": {
  "celltoolbar": "Slideshow",
  "kernelspec": {
   "display_name": "Python 3",
   "language": "python",
   "name": "python3"
  },
  "language_info": {
   "codemirror_mode": {
    "name": "ipython",
    "version": 3
   },
   "file_extension": ".py",
   "mimetype": "text/x-python",
   "name": "python",
   "nbconvert_exporter": "python",
   "pygments_lexer": "ipython3",
   "version": "3.6.1"
  },
  "livereveal": {
   "scroll": true
  }
 },
 "nbformat": 4,
 "nbformat_minor": 2
}
