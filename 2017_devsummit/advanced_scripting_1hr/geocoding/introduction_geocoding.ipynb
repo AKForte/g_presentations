{
 "cells": [
  {
   "cell_type": "markdown",
   "metadata": {},
   "source": [
    "# An introduction to geocoding\n",
    "\n",
    "Geocoders are tools to which you pass in an address / place of interest and it gives back the coordinates of that place.\n",
    "\n",
    "The **`arcgis.geocoding`** module provides types and functions for geocoding, batch geocoding and reverse geocoding."
   ]
  },
  {
   "cell_type": "code",
   "execution_count": 45,
   "metadata": {
    "collapsed": false
   },
   "outputs": [
    {
     "name": "stdout",
     "output_type": "stream",
     "text": [
      "········\n"
     ]
    }
   ],
   "source": [
    "from arcgis.gis import GIS\n",
    "from arcgis import geocoding\n",
    "from getpass import getpass\n",
    "password = getpass()"
   ]
  },
  {
   "cell_type": "code",
   "execution_count": 46,
   "metadata": {
    "collapsed": false
   },
   "outputs": [],
   "source": [
    "gis = GIS(\"http://www.arcgis.com\", \"atma_mani\", password)"
   ]
  },
  {
   "cell_type": "markdown",
   "metadata": {},
   "source": [
    "## Geocoding addresses\n",
    "All geocoding operations are handled by `geocode()` function. It can geocode\n",
    " \n",
    " 1. single line address\n",
    " 2. multi field address\n",
    " 3. points of interest\n",
    " 4. administrative place names\n",
    " 5. postal codes"
   ]
  },
  {
   "cell_type": "code",
   "execution_count": 47,
   "metadata": {
    "collapsed": false
   },
   "outputs": [
    {
     "data": {
      "text/plain": [
       "[{'address': 'Palm Springs, California, United States',\n",
       "  'attributes': {'AddBldg': '',\n",
       "   'AddNum': '',\n",
       "   'AddNumFrom': '',\n",
       "   'AddNumTo': '',\n",
       "   'Addr_type': 'POI',\n",
       "   'City': '',\n",
       "   'Country': 'USA',\n",
       "   'DisplayX': -116.545291,\n",
       "   'DisplayY': 33.830299,\n",
       "   'Distance': 0,\n",
       "   'LangCode': '',\n",
       "   'Loc_name': 'Gaz.WorldGazetteer.POI1',\n",
       "   'Match_addr': 'Palm Springs, California, United States',\n",
       "   'Nbrhd': '',\n",
       "   'Phone': '',\n",
       "   'PlaceName': 'Palm Springs',\n",
       "   'Place_addr': '',\n",
       "   'Postal': '',\n",
       "   'PostalExt': '',\n",
       "   'Rank': '8.69',\n",
       "   'Region': 'California',\n",
       "   'Score': 100,\n",
       "   'Side': '',\n",
       "   'StAddr': '',\n",
       "   'StDir': '',\n",
       "   'StName': '',\n",
       "   'StPreDir': '',\n",
       "   'StPreType': '',\n",
       "   'StType': '',\n",
       "   'Subregion': 'Riverside',\n",
       "   'Type': 'City',\n",
       "   'URL': '',\n",
       "   'X': -116.545291,\n",
       "   'Xmax': -116.405291,\n",
       "   'Xmin': -116.685291,\n",
       "   'Y': 33.830299,\n",
       "   'Ymax': 33.970299,\n",
       "   'Ymin': 33.690299},\n",
       "  'extent': {'xmax': -116.405291,\n",
       "   'xmin': -116.685291,\n",
       "   'ymax': 33.970299,\n",
       "   'ymin': 33.690299},\n",
       "  'location': {'x': -116.54528957999969, 'y': 33.83029877300049},\n",
       "  'score': 100},\n",
       " {'address': 'Palm Springs',\n",
       "  'attributes': {'AddBldg': '',\n",
       "   'AddNum': '',\n",
       "   'AddNumFrom': '',\n",
       "   'AddNumTo': '',\n",
       "   'Addr_type': 'POI',\n",
       "   'City': 'Palm Desert',\n",
       "   'Country': 'USA',\n",
       "   'DisplayX': -116.309759,\n",
       "   'DisplayY': 33.762746,\n",
       "   'Distance': 0,\n",
       "   'LangCode': 'ENG',\n",
       "   'Loc_name': 'Gaz.WorldGazetteer.POI2',\n",
       "   'Match_addr': 'Palm Springs',\n",
       "   'Nbrhd': '',\n",
       "   'Phone': '(760)345-2236',\n",
       "   'PlaceName': 'Palm Springs',\n",
       "   'Place_addr': '77500 Varner Rd, Palm Desert, California',\n",
       "   'Postal': '',\n",
       "   'PostalExt': '',\n",
       "   'Rank': '22',\n",
       "   'Region': 'California',\n",
       "   'Score': 100,\n",
       "   'Side': '',\n",
       "   'StAddr': '77500 Varner Rd',\n",
       "   'StDir': '',\n",
       "   'StName': '',\n",
       "   'StPreDir': '',\n",
       "   'StPreType': '',\n",
       "   'StType': '',\n",
       "   'Subregion': 'Riverside',\n",
       "   'Type': 'Campground',\n",
       "   'URL': 'http://palmsprings.com',\n",
       "   'X': -116.309759,\n",
       "   'Xmax': -116.304759,\n",
       "   'Xmin': -116.314759,\n",
       "   'Y': 33.762746,\n",
       "   'Ymax': 33.767746,\n",
       "   'Ymin': 33.757746},\n",
       "  'extent': {'xmax': -116.304759,\n",
       "   'xmin': -116.314759,\n",
       "   'ymax': 33.767746,\n",
       "   'ymin': 33.757746},\n",
       "  'location': {'x': -116.30975798099968, 'y': 33.762746267000466},\n",
       "  'score': 100},\n",
       " {'address': 'Palm Spring, California, United States',\n",
       "  'attributes': {'AddBldg': '',\n",
       "   'AddNum': '',\n",
       "   'AddNumFrom': '',\n",
       "   'AddNumTo': '',\n",
       "   'Addr_type': 'POI',\n",
       "   'City': '',\n",
       "   'Country': 'USA',\n",
       "   'DisplayX': -117.766019,\n",
       "   'DisplayY': 36.813057,\n",
       "   'Distance': 0,\n",
       "   'LangCode': '',\n",
       "   'Loc_name': 'Gaz.WorldGazetteer.POI1',\n",
       "   'Match_addr': 'Palm Spring, California, United States',\n",
       "   'Nbrhd': '',\n",
       "   'Phone': '',\n",
       "   'PlaceName': 'Palm Spring',\n",
       "   'Place_addr': '',\n",
       "   'Postal': '',\n",
       "   'PostalExt': '',\n",
       "   'Rank': '30',\n",
       "   'Region': 'California',\n",
       "   'Score': 100,\n",
       "   'Side': '',\n",
       "   'StAddr': '',\n",
       "   'StDir': '',\n",
       "   'StName': '',\n",
       "   'StPreDir': '',\n",
       "   'StPreType': '',\n",
       "   'StType': '',\n",
       "   'Subregion': 'Inyo County',\n",
       "   'Type': 'Spring',\n",
       "   'URL': '',\n",
       "   'X': -117.766019,\n",
       "   'Xmax': -117.761019,\n",
       "   'Xmin': -117.771019,\n",
       "   'Y': 36.813057,\n",
       "   'Ymax': 36.818057,\n",
       "   'Ymin': 36.808057},\n",
       "  'extent': {'xmax': -117.761019,\n",
       "   'xmin': -117.771019,\n",
       "   'ymax': 36.818057,\n",
       "   'ymin': 36.808057},\n",
       "  'location': {'x': -117.76601775599971, 'y': 36.813057089000495},\n",
       "  'score': 100},\n",
       " {'address': 'Palm Spring, California, United States',\n",
       "  'attributes': {'AddBldg': '',\n",
       "   'AddNum': '',\n",
       "   'AddNumFrom': '',\n",
       "   'AddNumTo': '',\n",
       "   'Addr_type': 'POI',\n",
       "   'City': '',\n",
       "   'Country': 'USA',\n",
       "   'DisplayX': -116.218071,\n",
       "   'DisplayY': 32.919989,\n",
       "   'Distance': 0,\n",
       "   'LangCode': '',\n",
       "   'Loc_name': 'Gaz.WorldGazetteer.POI1',\n",
       "   'Match_addr': 'Palm Spring, California, United States',\n",
       "   'Nbrhd': '',\n",
       "   'Phone': '',\n",
       "   'PlaceName': 'Palm Spring',\n",
       "   'Place_addr': '',\n",
       "   'Postal': '',\n",
       "   'PostalExt': '',\n",
       "   'Rank': '30',\n",
       "   'Region': 'California',\n",
       "   'Score': 100,\n",
       "   'Side': '',\n",
       "   'StAddr': '',\n",
       "   'StDir': '',\n",
       "   'StName': '',\n",
       "   'StPreDir': '',\n",
       "   'StPreType': '',\n",
       "   'StType': '',\n",
       "   'Subregion': 'San Diego County',\n",
       "   'Type': 'Spring',\n",
       "   'URL': '',\n",
       "   'X': -116.218071,\n",
       "   'Xmax': -116.213071,\n",
       "   'Xmin': -116.223071,\n",
       "   'Y': 32.919989,\n",
       "   'Ymax': 32.924989,\n",
       "   'Ymin': 32.914989},\n",
       "  'extent': {'xmax': -116.213071,\n",
       "   'xmin': -116.223071,\n",
       "   'ymax': 32.924989,\n",
       "   'ymin': 32.914989},\n",
       "  'location': {'x': -116.21806961699968, 'y': 32.91998905200046},\n",
       "  'score': 100}]"
      ]
     },
     "execution_count": 47,
     "metadata": {},
     "output_type": "execute_result"
    }
   ],
   "source": [
    "results = geocoding.geocode('Palm Springs, CA')\n",
    "results"
   ]
  },
  {
   "cell_type": "code",
   "execution_count": 48,
   "metadata": {
    "collapsed": false
   },
   "outputs": [
    {
     "data": {
      "text/plain": [
       "4"
      ]
     },
     "execution_count": 48,
     "metadata": {},
     "output_type": "execute_result"
    }
   ],
   "source": [
    "len(results)"
   ]
  },
  {
   "cell_type": "code",
   "execution_count": 49,
   "metadata": {
    "collapsed": false
   },
   "outputs": [
    {
     "data": {
      "text/plain": [
       "{'address': 'Palm Springs, California, United States',\n",
       " 'attributes': {'AddBldg': '',\n",
       "  'AddNum': '',\n",
       "  'AddNumFrom': '',\n",
       "  'AddNumTo': '',\n",
       "  'Addr_type': 'POI',\n",
       "  'City': '',\n",
       "  'Country': 'USA',\n",
       "  'DisplayX': -116.545291,\n",
       "  'DisplayY': 33.830299,\n",
       "  'Distance': 0,\n",
       "  'LangCode': '',\n",
       "  'Loc_name': 'Gaz.WorldGazetteer.POI1',\n",
       "  'Match_addr': 'Palm Springs, California, United States',\n",
       "  'Nbrhd': '',\n",
       "  'Phone': '',\n",
       "  'PlaceName': 'Palm Springs',\n",
       "  'Place_addr': '',\n",
       "  'Postal': '',\n",
       "  'PostalExt': '',\n",
       "  'Rank': '8.69',\n",
       "  'Region': 'California',\n",
       "  'Score': 100,\n",
       "  'Side': '',\n",
       "  'StAddr': '',\n",
       "  'StDir': '',\n",
       "  'StName': '',\n",
       "  'StPreDir': '',\n",
       "  'StPreType': '',\n",
       "  'StType': '',\n",
       "  'Subregion': 'Riverside',\n",
       "  'Type': 'City',\n",
       "  'URL': '',\n",
       "  'X': -116.545291,\n",
       "  'Xmax': -116.405291,\n",
       "  'Xmin': -116.685291,\n",
       "  'Y': 33.830299,\n",
       "  'Ymax': 33.970299,\n",
       "  'Ymin': 33.690299},\n",
       " 'extent': {'xmax': -116.405291,\n",
       "  'xmin': -116.685291,\n",
       "  'ymax': 33.970299,\n",
       "  'ymin': 33.690299},\n",
       " 'location': {'x': -116.54528957999969, 'y': 33.83029877300049},\n",
       " 'score': 100}"
      ]
     },
     "execution_count": 49,
     "metadata": {},
     "output_type": "execute_result"
    }
   ],
   "source": [
    "results[0]"
   ]
  },
  {
   "cell_type": "code",
   "execution_count": 50,
   "metadata": {
    "collapsed": true
   },
   "outputs": [],
   "source": [
    "map1 = gis.map('Palm Springs, CA')\n",
    "map1"
   ]
  },
  {
   "cell_type": "code",
   "execution_count": 51,
   "metadata": {
    "collapsed": false
   },
   "outputs": [],
   "source": [
    "map1.draw(results[0]['location'])"
   ]
  },
  {
   "cell_type": "markdown",
   "metadata": {},
   "source": [
    "### Geocode single line addresses "
   ]
  },
  {
   "cell_type": "code",
   "execution_count": 52,
   "metadata": {
    "collapsed": false
   },
   "outputs": [
    {
     "data": {
      "text/plain": [
       "15"
      ]
     },
     "execution_count": 52,
     "metadata": {},
     "output_type": "execute_result"
    }
   ],
   "source": [
    "r2 = geocoding.geocode('150 S Indian Canyon Dr, Palm Springs, CA')\n",
    "len(r2)"
   ]
  },
  {
   "cell_type": "code",
   "execution_count": 53,
   "metadata": {
    "collapsed": false
   },
   "outputs": [
    {
     "data": {
      "text/plain": [
       "[100,\n",
       " 100,\n",
       " 92.43,\n",
       " 79,\n",
       " 100,\n",
       " 100,\n",
       " 90.54,\n",
       " 90.54,\n",
       " 89.56,\n",
       " 100,\n",
       " 95.48,\n",
       " 95.48,\n",
       " 95.48,\n",
       " 94.29,\n",
       " 89.77]"
      ]
     },
     "execution_count": 53,
     "metadata": {},
     "output_type": "execute_result"
    }
   ],
   "source": [
    "[r['score'] for r in r2]"
   ]
  },
  {
   "cell_type": "code",
   "execution_count": 54,
   "metadata": {
    "collapsed": false
   },
   "outputs": [
    {
     "data": {
      "text/plain": [
       "['100  :  150 S Indian Canyon Dr, Palm Springs, California, 92262',\n",
       " '100  :  150 S Indian Canyon Dr, Palm Springs, California, 92262',\n",
       " '92.43  :  150 N Indian Canyon Dr, Palm Springs, California, 92262',\n",
       " '79  :  151 S Indian Canyon Dr, Palm Springs, California, 92262',\n",
       " '100  :  S Indian Canyon Dr, Palm Springs, California, 92264',\n",
       " '100  :  S Indian Canyon Dr, Palm Springs, California, 92262',\n",
       " '90.54  :  N Indian Canyon Dr, Palm Springs, California, 92262',\n",
       " '90.54  :  N Indian Canyon Dr, Palm Springs, California, 92258',\n",
       " '89.56  :  N Indian Canyon Dr, North Palm Springs, California, 92258',\n",
       " '100  :  Palm Springs, California',\n",
       " '95.48  :  Palm Springs, Florida',\n",
       " '95.48  :  Palm Springs, Arizona',\n",
       " '95.48  :  Palm Springs, Florida',\n",
       " '94.29  :  North Palm Springs, California',\n",
       " '89.77  :  Palm Springs Estates, Florida']"
      ]
     },
     "execution_count": 54,
     "metadata": {},
     "output_type": "execute_result"
    }
   ],
   "source": [
    "[str(r['score']) +\"  :  \"+ r['attributes']['Match_addr'] for r in r2]"
   ]
  },
  {
   "cell_type": "markdown",
   "metadata": {},
   "source": [
    "### Geocode multi field address"
   ]
  },
  {
   "cell_type": "code",
   "execution_count": 55,
   "metadata": {
    "collapsed": false
   },
   "outputs": [
    {
     "data": {
      "text/plain": [
       "9"
      ]
     },
     "execution_count": 55,
     "metadata": {},
     "output_type": "execute_result"
    }
   ],
   "source": [
    "multi_field_address = { \n",
    "    \"Address\" : \"150 S Indian Canyon Dr\",\n",
    "    \"City\" : \"Palm Springs\",\n",
    "    \"Region\" : \"CA\",\n",
    "    \"Subregion\":\"Riverside\",\n",
    "    \"Postal\" : 92262,\n",
    "    \"Country\":\"USA\"\n",
    "    }\n",
    "r_multi_fields = geocoding.geocode(multi_field_address)\n",
    "len(r_multi_fields)"
   ]
  },
  {
   "cell_type": "code",
   "execution_count": 56,
   "metadata": {
    "collapsed": false
   },
   "outputs": [
    {
     "data": {
      "text/plain": [
       "['100  :  150 S Indian Canyon Dr, Palm Springs, California, 92262',\n",
       " '100  :  150 S Indian Canyon Dr, Palm Springs, California, 92262',\n",
       " '92.43  :  150 N Indian Canyon Dr, Palm Springs, California, 92262',\n",
       " '79  :  151 S Indian Canyon Dr, Palm Springs, California, 92262',\n",
       " '100  :  S Indian Canyon Dr, Palm Springs, California, 92262',\n",
       " '90.54  :  N Indian Canyon Dr, Palm Springs, California, 92262',\n",
       " '100  :  92262, Palm Springs, California',\n",
       " '100  :  Palm Springs, California',\n",
       " '96.54  :  North Palm Springs, California']"
      ]
     },
     "execution_count": 56,
     "metadata": {},
     "output_type": "execute_result"
    }
   ],
   "source": [
    "[str(r['score']) +\"  :  \"+ r['attributes']['Match_addr'] for r in r_multi_fields]"
   ]
  },
  {
   "cell_type": "markdown",
   "metadata": {},
   "source": [
    "### Searching within an exent\n",
    "Find restaurants within walking distance of this training center (Hard Rock Hotel, Palm Springs)"
   ]
  },
  {
   "cell_type": "code",
   "execution_count": 57,
   "metadata": {
    "collapsed": false
   },
   "outputs": [],
   "source": [
    "# first create an extent. to do that lets geocode Hard Rock hotel and get the extent for the first result\n",
    "conv_center = geocoding.geocode('Palm Springs Convention Center, California')[0]\n",
    "map3 = gis.map('Palm Springs Convention Center', zoomlevel=17)\n",
    "map3"
   ]
  },
  {
   "cell_type": "code",
   "execution_count": 58,
   "metadata": {
    "collapsed": false
   },
   "outputs": [
    {
     "data": {
      "text/plain": [
       "4"
      ]
     },
     "execution_count": 58,
     "metadata": {},
     "output_type": "execute_result"
    }
   ],
   "source": [
    "restaurants = geocoding.geocode('restaurant',search_extent=conv_center['extent'], max_locations=15)\n",
    "len(restaurants)"
   ]
  },
  {
   "cell_type": "code",
   "execution_count": 59,
   "metadata": {
    "collapsed": true
   },
   "outputs": [],
   "source": [
    "for shop in restaurants:\n",
    "    popup = { \n",
    "    \"title\" : shop['attributes']['PlaceName'], \n",
    "    \"content\" : shop['attributes']['Place_addr']\n",
    "    }\n",
    "    map3.draw(shop['location'],popup)"
   ]
  },
  {
   "cell_type": "code",
   "execution_count": null,
   "metadata": {
    "collapsed": false
   },
   "outputs": [],
   "source": [
    "from IPython.display import display\n",
    "\n",
    "arcgis_online = GIS() #connecting anonymously\n",
    "search_result = arcgis_online.content.search('Geocoder', item_type='geocoding service', max_items=3)\n",
    "for item in search_result:\n",
    "    display(item)"
   ]
  },
  {
   "cell_type": "markdown",
   "metadata": {},
   "source": [
    "## Batch geocoding"
   ]
  },
  {
   "cell_type": "code",
   "execution_count": 60,
   "metadata": {
    "collapsed": true
   },
   "outputs": [],
   "source": [
    "addresses = [\"380 New York St, Redlands, CA\", \n",
    "             \"1 World Way, Los Angeles, CA\",\n",
    "             \"1200 Getty Center Drive, Los Angeles, CA\", \n",
    "             \"5905 Wilshire Boulevard, Los Angeles, CA\",\n",
    "             \"100 Universal City Plaza, Universal City, CA 91608\",\n",
    "             \"4800 Oak Grove Dr, Pasadena, CA 91109\"]"
   ]
  },
  {
   "cell_type": "code",
   "execution_count": 61,
   "metadata": {
    "collapsed": true
   },
   "outputs": [],
   "source": [
    "results = geocoding.batch_geocode(addresses)"
   ]
  },
  {
   "cell_type": "code",
   "execution_count": 62,
   "metadata": {
    "collapsed": false
   },
   "outputs": [
    {
     "data": {
      "text/plain": [
       "6"
      ]
     },
     "execution_count": 62,
     "metadata": {},
     "output_type": "execute_result"
    }
   ],
   "source": [
    "len(results)"
   ]
  },
  {
   "cell_type": "code",
   "execution_count": 63,
   "metadata": {
    "collapsed": true
   },
   "outputs": [],
   "source": [
    "map5 = gis.map('Los Angeles, CA')\n",
    "map5"
   ]
  },
  {
   "cell_type": "code",
   "execution_count": 64,
   "metadata": {
    "collapsed": true
   },
   "outputs": [],
   "source": [
    "for address in results:\n",
    "    map5.draw(address['location'])"
   ]
  },
  {
   "cell_type": "markdown",
   "metadata": {},
   "source": [
    "## Reverse geocoding"
   ]
  },
  {
   "cell_type": "code",
   "execution_count": 65,
   "metadata": {
    "collapsed": false
   },
   "outputs": [
    {
     "data": {
      "text/plain": [
       "{'address': {'Address': '6 Avenue Gustave Eiffel',\n",
       "  'City': 'Paris',\n",
       "  'CountryCode': 'FRA',\n",
       "  'Loc_name': 'FRA.PointAddress',\n",
       "  'Match_addr': '6 Avenue Gustave Eiffel, 75007, 7e Arrondissement, Paris, Île-de-France',\n",
       "  'Neighborhood': '7e Arrondissement',\n",
       "  'Postal': '75007',\n",
       "  'PostalExt': None,\n",
       "  'Region': 'Île-de-France',\n",
       "  'Subregion': 'Paris'},\n",
       " 'location': {'spatialReference': {'latestWkid': 4326, 'wkid': 4326},\n",
       "  'x': 2.29465293958984,\n",
       "  'y': 48.85748501186063}}"
      ]
     },
     "execution_count": 65,
     "metadata": {},
     "output_type": "execute_result"
    }
   ],
   "source": [
    "reverse_geocode_results = geocoding.reverse_geocode([2.2945, 48.8583])\n",
    "reverse_geocode_results"
   ]
  },
  {
   "cell_type": "code",
   "execution_count": 66,
   "metadata": {
    "collapsed": false
   },
   "outputs": [
    {
     "name": "stderr",
     "output_type": "stream",
     "text": [
      "Cannot perform query. Invalid query parameters.\n",
      "Unable to find address for the specified location.\n"
     ]
    },
    {
     "name": "stdout",
     "output_type": "stream",
     "text": [
      "Couldn't match address. Try another place...\n",
      "600 E Tahquitz Canyon Way, Palm Springs, California, 92262\n",
      "707 E Tahquitz Canyon Way, Palm Springs, California, 92262\n",
      "801 E Tahquitz Canyon Way, Palm Springs, California, 92262\n"
     ]
    }
   ],
   "source": [
    "map6 = gis.map('Palm springs convention center, Palm Springs, CA', 16)\n",
    "map6"
   ]
  },
  {
   "cell_type": "code",
   "execution_count": 67,
   "metadata": {
    "collapsed": true
   },
   "outputs": [],
   "source": [
    "def find_addr(map6, g):\n",
    "    try:\n",
    "        geocoded = geocoding.reverse_geocode(g)\n",
    "        print(geocoded['address']['Match_addr'])\n",
    "    except:\n",
    "        print(\"Couldn't match address. Try another place...\")"
   ]
  },
  {
   "cell_type": "code",
   "execution_count": 68,
   "metadata": {
    "collapsed": true
   },
   "outputs": [],
   "source": [
    "map6.on_click(find_addr)"
   ]
  },
  {
   "cell_type": "code",
   "execution_count": null,
   "metadata": {
    "collapsed": true
   },
   "outputs": [],
   "source": []
  }
 ],
 "metadata": {
  "anaconda-cloud": {},
  "kernelspec": {
   "display_name": "Python 3",
   "language": "python",
   "name": "python3"
  },
  "language_info": {
   "codemirror_mode": {
    "name": "ipython",
    "version": 3
   },
   "file_extension": ".py",
   "mimetype": "text/x-python",
   "name": "python",
   "nbconvert_exporter": "python",
   "pygments_lexer": "ipython3",
   "version": "3.5.3"
  },
  "widgets": {
   "state": {
    "6c17a22f7c0a4f6288be29b5c9141965": {
     "views": [
      {
       "cell_index": 25
      }
     ]
    },
    "73f2fba418054d17beaad12db41e4e99": {
     "views": [
      {
       "cell_index": 7
      }
     ]
    },
    "a215fe896cc74c4094a663b0371b54f2": {
     "views": [
      {
       "cell_index": 29
      }
     ]
    },
    "ac896a0b76d34e76b4362471ce8a614d": {
     "views": [
      {
       "cell_index": 17
      }
     ]
    }
   },
   "version": "1.2.0"
  }
 },
 "nbformat": 4,
 "nbformat_minor": 0
}
