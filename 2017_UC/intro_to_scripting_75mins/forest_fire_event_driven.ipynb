{
 "cells": [
  {
   "cell_type": "code",
   "execution_count": 2,
   "metadata": {
    "collapsed": true
   },
   "outputs": [],
   "source": [
    "from arcgis.gis import *\n",
    "import datetime\n",
    "gis = GIS(\"https://www.arcgis.com\",\"demo_deldev\",\"P@ssword123\")"
   ]
  },
  {
   "cell_type": "markdown",
   "metadata": {},
   "source": [
    "## Get live fires item"
   ]
  },
  {
   "cell_type": "code",
   "execution_count": 12,
   "metadata": {},
   "outputs": [
    {
     "data": {
      "text/html": [
       "<div class=\"9item_container\" style=\"height: auto; overflow: hidden; border: 1px solid #cfcfcf; border-radius: 2px; background: #f6fafa; line-height: 1.21429em; padding: 10px;\">\n",
       "                    <div class=\"item_left\" style=\"width: 210px; float: left;\">\n",
       "                       <a href='https://deldev.maps.arcgis.com/home/group.html?id=77dccaa097854b5e8fdd55aec887614f' target='_blank'>\n",
       "                        <img src='data:image/png;base64,iVBORw0KGgoAAAANSUhEUgAAAEEAAABBCAYAAACO98lFAAAACXBIWXMAAAsTAAALEwEAmpwYAAAAGXRFWHRTb2Z0d2FyZQBBZG9iZSBJbWFnZVJlYWR5ccllPAAABNxJREFUeNrsm1tIFFEYx78VI0ttDbrH4ma37aFyS6iQcM0so5eNiuxCZAQFPWR0IwjWIIigIKmol9CH0nqIth6isFKhrChKuq4FJVlUdtNK2K7b940zMrvNjGd2xnZ39nwwzs7t6PzO//uf75xFWygUgmSPFODBIXAIHAKHwCFwCBwCh8AhcAi9RGpfNr68+m5cTExq10yzxQwCxc4Sl6Hn914MGGqDnufpEOt0MDOkHpVUwdLDrApihrCycoUHdxW4FYinGnErP7mpplnvC3Wd2CPs01ftUjxmeSGjaaYbggigvnCKB3JzciH4IwiBV4GC+vsN9/CaOxoQRnJbDkBLEWYr4SAB8Ez2dB+lA4wYPEL4iCAO4s4TAYzOTSXDqbk6EeZOK4VhWY6exiJ7XEsBvb2QGYpghTCVFBAZzuFOkKXHP4qhaH7eDFWXdkPZfF8YiIT0BMaoCFMMSUT8fPnuKVgxZxtTI18qN8KgTUfiyxPIBLFHC+QvR9H6rlUySCkK1BSDacP8R0UCUFJC5HnbrzawBa8C/H4vvpkDyorWmgqhnExQlgICADzXSdfkN5Jpkmf8r6KLzr9sb4Ha+tMQYdxCGkLGanMgkPvTKCCaoNYQ2UijhmSacsU4hk78p932jjYhTdretwh+sXDGWlXfUFMCxbWH50HVuB/X488SczxBfFlPNIppenIL/WB72I13ntbB9UfnYMH0Elg3bzn4b/jhdkudAEKvyRHEJfkLlI2bIQ1TVeoCSmw/btk6FNspQgpXDObmn7SlcPxmFx5gb/5uB9v3JhiZ8Q02e8shrV+acJvL4YKapjtwX8H1exsJUvrIGP2LZnmzlUxOLVrbW+1VddV+VIxTUgzCDO1Y7BNy9sGL6/Ds9T0YnGGHSTkumOma2QOA4kbgJix0F8LkMS7dEyiqRWgoVjTuVEfUEJgAvP38FmobT0FHV0fPc/Ti8nv2nV4n5Kcb2yvOXQ9Z6VlhbQR/BoU2MgaMQgD5UfUkFWOCCSqkIanQsDF+/wXQX+Uu+uPlhZHeQPXA2SY/jBudB0Xu0rBrdccaoHiDh6kdMlMqxshkpaGYjJh8qDsNDUI4dOUAbJ2/RfEaKSAaADR8kfzffHonGOH40W7DQyiBUC7GAsYhsIaWYqTUobx90haAzIHDUfqFsMyTL/T4+A36FEBD65lrh+FL10emBZOVlRCSjFtpsmcaBC3FUBy9cAwlvwxKC71gTx9i6HcRgKIpsyEa4ybbiOmiSt6EYlPaIQXoTUPnMOHds+N6eY3SINo0NBoJv8ZIaagV+y8diN81Rur5nDxnXICMGQRpBBgrgpCOI/eWg8CyGsTyXEoiQ+jtmyDWEMd900IVKhU2yRJqEMrO4vzed7IieSFgaVmNm422rx++ag45VlCMIU/wzvICKYa2zCGZlksHpnCLpSuLYiwLIZahNw217k9NUAZk3FWsaSgz+DLLQCDjxl11d80QvpxHaSif0lOaUrpaegKV1J7AIXAIHAKHEFMIUqGhtk+GucNuLEp8VJhQUHEizRek65aHgIUGlVsVrIqhpXC5UuTHlpxFaiimExVjx8+duNnjXTGmQdCjGD469OGMMlrjtiX6vwnjBIrU5xMPhTTESRN9+dqThqJKrQuBpwOHwCFwCGbHXwEGAGN0KD94SgTUAAAAAElFTkSuQmCC' ' class=\"itemThumbnail\">\n",
       "                       </a>\n",
       "                    </div>\n",
       "\n",
       "                    <div class=\"item_right\" style=\"float: none; width: auto; overflow: hidden;\">\n",
       "                        <a href='https://deldev.maps.arcgis.com/home/group.html?id=77dccaa097854b5e8fdd55aec887614f' target='_blank'><b>LA County Emergency Management</b>\n",
       "                        </a>\n",
       "                        <br/>\n",
       "                        <br/><b>Summary</b>: LA County Emergency Management\n",
       "                        <br/><b>Description</b>: <span style='text-align: left; color: rgb(0, 0, 0); text-transform: none; text-indent: 0px; letter-spacing: normal; font-family: &quot;Helvetica Neue&quot;, Helvetica, Arial, sans-serif; font-size: 14px; font-style: normal; font-weight: normal; word-spacing: 0px; float: none; display: inline !important; white-space: normal; orphans: 2; widows: 2; background-color: rgb(255, 255, 255); font-variant-ligatures: normal; font-variant-caps: normal; -webkit-text-stroke-width: 0px;'>This group contains a collection of maps, apps and layers that are published as the authoritative common map for the county of Los Angeles.</span>\n",
       "                        <br/><b>Owner</b>: demo_deldev\n",
       "                        <br/><b>Created</b>: September 27, 2016\n",
       "\n",
       "                    </div>\n",
       "                </div>\n",
       "                "
      ],
      "text/plain": [
       "<Group title:\"LA County Emergency Management\" owner:demo_deldev>"
      ]
     },
     "execution_count": 12,
     "metadata": {},
     "output_type": "execute_result"
    }
   ],
   "source": [
    "# get our group\n",
    "group = gis.groups.search('LA County Emergency Management')[0]\n",
    "group"
   ]
  },
  {
   "cell_type": "code",
   "execution_count": 13,
   "metadata": {},
   "outputs": [
    {
     "data": {
      "text/plain": [
       "[<Item title:\"Active California Fires\" type:Feature Layer Collection owner:demo_deldev>,\n",
       " <Item title:\"Critical Infrastructure in Southern California\" type:Feature Layer Collection owner:demo_deldev>,\n",
       " <Item title:\"LA County Infrastructure at Risk\" type:Web Map owner:demo_deldev>]"
      ]
     },
     "execution_count": 13,
     "metadata": {},
     "output_type": "execute_result"
    }
   ],
   "source": [
    "# list items in the group\n",
    "group.content()"
   ]
  },
  {
   "cell_type": "code",
   "execution_count": 14,
   "metadata": {
    "collapsed": true
   },
   "outputs": [],
   "source": [
    "fires= group.content()[0]"
   ]
  },
  {
   "cell_type": "code",
   "execution_count": 7,
   "metadata": {},
   "outputs": [
    {
     "data": {
      "text/plain": [
       "1480249497000"
      ]
     },
     "execution_count": 7,
     "metadata": {},
     "output_type": "execute_result"
    }
   ],
   "source": [
    "fires.modified"
   ]
  },
  {
   "cell_type": "code",
   "execution_count": 10,
   "metadata": {},
   "outputs": [
    {
     "data": {
      "text/plain": [
       "datetime.datetime(2016, 11, 27, 4, 24, 57)"
      ]
     },
     "execution_count": 10,
     "metadata": {},
     "output_type": "execute_result"
    }
   ],
   "source": [
    "datetime.datetime.fromtimestamp(fires.modified/1000.0)"
   ]
  },
  {
   "cell_type": "code",
   "execution_count": 15,
   "metadata": {},
   "outputs": [
    {
     "data": {
      "text/plain": [
       "datetime.datetime(2017, 7, 12, 8, 35, 10)"
      ]
     },
     "execution_count": 15,
     "metadata": {},
     "output_type": "execute_result"
    }
   ],
   "source": [
    "datetime.datetime.fromtimestamp(fires.modified/1000.0)"
   ]
  },
  {
   "cell_type": "code",
   "execution_count": null,
   "metadata": {
    "collapsed": true
   },
   "outputs": [],
   "source": []
  }
 ],
 "metadata": {
  "kernelspec": {
   "display_name": "Python 3",
   "language": "python",
   "name": "python3"
  },
  "language_info": {
   "codemirror_mode": {
    "name": "ipython",
    "version": 3
   },
   "file_extension": ".py",
   "mimetype": "text/x-python",
   "name": "python",
   "nbconvert_exporter": "python",
   "pygments_lexer": "ipython3",
   "version": "3.5.3"
  }
 },
 "nbformat": 4,
 "nbformat_minor": 2
}
