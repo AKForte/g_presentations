{
 "cells": [
  {
   "cell_type": "markdown",
   "metadata": {},
   "source": [
    "# Service definitions\n",
    "\n",
    "Feature layers, in addition to features & layer definition, carry a lot of properties that inform client applications about their state, version, capabilities, extent, allowed operations etc, which make up its definition. Head over to the [documentation page](http://resources.arcgis.com/en/help/arcgis-rest-api/index.html#/Feature_Service/02r3000000z2000000/) to know about this in detail."
   ]
  },
  {
   "cell_type": "code",
   "execution_count": 1,
   "metadata": {
    "collapsed": true
   },
   "outputs": [],
   "source": [
    "# connect to your GIS with publisher or higher privileges\n",
    "from arcgis.gis import GIS\n",
    "from getpass import getpass"
   ]
  },
  {
   "cell_type": "code",
   "execution_count": 2,
   "metadata": {
    "collapsed": false
   },
   "outputs": [
    {
     "name": "stdout",
     "output_type": "stream",
     "text": [
      "········\n"
     ]
    }
   ],
   "source": [
    "password = getpass()\n",
    "gis = GIS('https://pycontraptions.maps.arcgis.com', 'atma_mani', password)"
   ]
  },
  {
   "cell_type": "code",
   "execution_count": 4,
   "metadata": {
    "collapsed": false
   },
   "outputs": [
    {
     "data": {
      "text/html": [
       "<div class=\"item_container\" style=\"height: auto; overflow: hidden; border: 1px solid #cfcfcf; border-radius: 2px; background: #f6fafa; line-height: 1.21429em; padding: 10px;\">\n",
       "                    <div class=\"item_left\" style=\"width: 210px; float: left;\">\n",
       "                       <a href='https://pycontraptions.maps.arcgis.com/home/item.html?id=8196dd3071b3481e8b1fde551da5772f' target='_blank'>\n",
       "                        <img src='data:image/png;base64,iVBORw0KGgoAAAANSUhEUgAAAMgAAACFCAIAAACR/CB7AAAACXBIWXMAAA7EAAAOxAGVKw4bAAAD2ElEQVR4nO3cT0gUUQDH8dl/Lpv5hxQFKbdMI6OyjSioU4URVB6iLkXQv4uXLoURUTc9FAQRRVAUdSsiIggSOkQkldIhtAiUVBzDNTdWKVd315kO0SabLs3Yjyi+n+Oy89jDl/d2Z988j23bBvCnef/2B8D/ibAgQViQICxIEBYkCAsShAUJwoIEYUGCsCBBWJhV1DSjAwPurvXwXyF+dWtV6Z5wSaiyYCptj/XE3xw4teXQUUcjEBZmML67LrSxwtjaaLy8Ndk32N02tur5O0cjsBQi2+OrlzwVQbtmsVVRZNVUG8vCJXai9eIFR4P4RR8O/y7rozkZM71D832t5620kYyNGj19yYFeR4OwFCJbPB5PHFyet67Ul+ezUtbkWDL/3IdU1CwpK//9QZixkK24uPjZk9G61ER6nhFIegIp69WV5nonVRnMWJjNy4f3eluajJBv6fGW9Tv3Or2csCDBr0JIEBYkCAsShAUJwoIEYUGCsCBBWJAgLPwZWbsCufOOuZpxVyBhYa5m3BXIUgj33nZ03Dx1YsZdgWybgRvXFgf2rayqrSzofW1OVnl/3RVIWHBj/9oV35e/TdXXE8/apz4NZ3YFzh/2W5VLWArh2LESb2b5K1xd29E68uWFGevo/9JuGp1DbQ0Lq+5eZ8aCY0tDoemb4q0d4f6Ud7A7ZhQVLNke2VwW/HyjnbDgzMmNkSNbaxKjQ5nlL/kpvroiuKFxjS80z0qnJ0ZiRk8fYcGZgpFoWdh4+mg48mNTfF3eVCIRyPqaxX0sONPZ2Vl6pj5vXen9tmHv+zFPvt9rJorH7Uh9Yebhi65dpwkLjj0IeCPbfmZ0J+45/OLrq9tXRy43Zx6+ICy4cbbIH17g9+T7U8F0Q3mwa9fp+sam6W8gLLiU+/kwwsJcRU3TsO3yRYumv0hYcC/HaUeEBfdynHbEXzpwKfdpR9wghUu5TztiKYRLuU87YsaCS7lPO2LGwpzMdjeLsCDBr0JIEBYkCAsShAUJwoIEYUGCsCBBWJAgLEgQFiQICxKEBQnCggRhQYKwIEFYkCAsSBAWJAgLEoQFCcKCBGFBgrAgQViQICxIEBYkCAsShAUJwoIEYUGCsCBBWJAgLEgQFiQICxKEBQnCggRhQYKwIEFYkCAsSBAWJAgLEoQFCcKCBGFBgrAgQViQICxIEBYkCAsShAUJwoIEYUGCsCBBWJAgLEgQFiQICxKEBQnCggRhQYKwIEFYkCAsSBAWJAgLEoQFCcKCBGFBgrAgQViQICxIEBYkCAsShAUJwoIEYUGCsCBBWJAgLEgQFiS+AYi8o664vkEXAAAAAElFTkSuQmCC' width='200' height='133' class=\"itemThumbnail\">\n",
       "                       </a>\n",
       "                    </div>\n",
       "\n",
       "                    <div class=\"item_right\"     style=\"float: none; width: auto; overflow: hidden;\">\n",
       "                        <a href='https://pycontraptions.maps.arcgis.com/home/item.html?id=8196dd3071b3481e8b1fde551da5772f' target='_blank'><b>Ports along west coast</b>\n",
       "                        </a>\n",
       "                        <br/><img src='https://pycontraptions.maps.arcgis.com/home/js/jsapi/esri/css/images/item_type_icons/featureshosted16.png' style=\"vertical-align:middle;\">Feature Layer Collection by atma_mani\n",
       "                        <br/>Last Modified: March 04, 2017\n",
       "                        <br/>0 comments, 1 views\n",
       "                    </div>\n",
       "                </div>\n",
       "                "
      ],
      "text/plain": [
       "<Item title:\"Ports along west coast\" type:Feature Service owner:atma_mani>"
      ]
     },
     "execution_count": 4,
     "metadata": {},
     "output_type": "execute_result"
    }
   ],
   "source": [
    "search_result= gis.content.search(\"Ports along west coast\", \"Feature Layer\")\n",
    "ports_item = search_result[0]\n",
    "ports_item"
   ]
  },
  {
   "cell_type": "markdown",
   "metadata": {},
   "source": [
    "Inspect the properties of [Feature Service](https://services7.arcgis.com/xo9aDUkMXBivHk37/ArcGIS/rest/services/ports_west_USA/FeatureServer)\n",
    " - inspect what properties are found on the service vs layer within the service"
   ]
  },
  {
   "cell_type": "markdown",
   "metadata": {},
   "source": [
    "### Inspect the properties using `FeatureLayerCollection` and `FeatureLayer` objects"
   ]
  },
  {
   "cell_type": "code",
   "execution_count": 5,
   "metadata": {
    "collapsed": false
   },
   "outputs": [],
   "source": [
    "from arcgis.features import FeatureLayerCollection\n",
    "ports_flc = FeatureLayerCollection.fromitem(ports_item)"
   ]
  },
  {
   "cell_type": "markdown",
   "metadata": {},
   "source": [
    "Inspect the properties of Feature Service using `FeatureLayerCollection.properties`"
   ]
  },
  {
   "cell_type": "code",
   "execution_count": 6,
   "metadata": {
    "collapsed": false
   },
   "outputs": [
    {
     "data": {
      "text/plain": [
       "{\n",
       "  \"supportsApplyEditsWithGlobalIds\": false,\n",
       "  \"maxRecordCount\": 2000,\n",
       "  \"units\": \"esriMeters\",\n",
       "  \"supportedQueryFormats\": \"JSON\",\n",
       "  \"capabilities\": \"Query\",\n",
       "  \"syncEnabled\": false,\n",
       "  \"serviceDescription\": \"\",\n",
       "  \"currentVersion\": 10.41,\n",
       "  \"hasStaticData\": true,\n",
       "  \"serviceItemId\": \"8196dd3071b3481e8b1fde551da5772f\",\n",
       "  \"allowGeometryUpdates\": true,\n",
       "  \"layers\": [\n",
       "    {\n",
       "      \"name\": \"ports_west_USA\",\n",
       "      \"defaultVisibility\": true,\n",
       "      \"subLayerIds\": null,\n",
       "      \"maxScale\": 0,\n",
       "      \"parentLayerId\": -1,\n",
       "      \"id\": 0,\n",
       "      \"minScale\": 73957191,\n",
       "      \"geometryType\": \"esriGeometryPoint\"\n",
       "    }\n",
       "  ],\n",
       "  \"supportsDisconnectedEditing\": false,\n",
       "  \"initialExtent\": {\n",
       "    \"xmax\": -13044640.570137383,\n",
       "    \"ymax\": 5721784.0173567245,\n",
       "    \"ymin\": 2241467.1730974796,\n",
       "    \"xmin\": -17764735.368653413,\n",
       "    \"spatialReference\": {\n",
       "      \"wkid\": 102100,\n",
       "      \"latestWkid\": 3857\n",
       "    }\n",
       "  },\n",
       "  \"editorTrackingInfo\": {\n",
       "    \"enableEditorTracking\": false,\n",
       "    \"enableOwnershipAccessControl\": false,\n",
       "    \"allowAnonymousToUpdate\": true,\n",
       "    \"allowOthersToUpdate\": true,\n",
       "    \"allowOthersToQuery\": true,\n",
       "    \"allowOthersToDelete\": false,\n",
       "    \"allowAnonymousToDelete\": true\n",
       "  },\n",
       "  \"tables\": [],\n",
       "  \"spatialReference\": {\n",
       "    \"wkid\": 102100,\n",
       "    \"latestWkid\": 3857\n",
       "  },\n",
       "  \"fullExtent\": {\n",
       "    \"xmax\": -13044640.570137383,\n",
       "    \"ymax\": 5721784.0173567245,\n",
       "    \"ymin\": 2241467.1730974796,\n",
       "    \"xmin\": -17764735.368653413,\n",
       "    \"spatialReference\": {\n",
       "      \"wkid\": 102100,\n",
       "      \"latestWkid\": 3857\n",
       "    }\n",
       "  },\n",
       "  \"description\": \"\",\n",
       "  \"xssPreventionInfo\": {\n",
       "    \"xssPreventionEnabled\": true,\n",
       "    \"xssInputRule\": \"rejectInvalid\",\n",
       "    \"xssPreventionRule\": \"InputOnly\"\n",
       "  },\n",
       "  \"hasVersionedData\": false,\n",
       "  \"size\": 32768,\n",
       "  \"copyrightText\": \"\"\n",
       "}"
      ]
     },
     "execution_count": 6,
     "metadata": {},
     "output_type": "execute_result"
    }
   ],
   "source": [
    "ports_flc.properties"
   ]
  },
  {
   "cell_type": "markdown",
   "metadata": {},
   "source": [
    "Now inspect the properties of the feature layer similarly"
   ]
  },
  {
   "cell_type": "code",
   "execution_count": 7,
   "metadata": {
    "collapsed": false
   },
   "outputs": [
    {
     "data": {
      "text/plain": [
       "{\n",
       "  \"name\": \"ports_west_USA\",\n",
       "  \"supportsCalculate\": true,\n",
       "  \"objectIdField\": \"FID\",\n",
       "  \"isDataVersioned\": false,\n",
       "  \"extent\": {\n",
       "    \"xmax\": -13044640.570137383,\n",
       "    \"ymax\": 5721784.0173567245,\n",
       "    \"ymin\": 2241467.1730974796,\n",
       "    \"xmin\": -17764735.368653413,\n",
       "    \"spatialReference\": {\n",
       "      \"wkid\": 102100,\n",
       "      \"latestWkid\": 3857\n",
       "    }\n",
       "  },\n",
       "  \"relationships\": [],\n",
       "  \"drawingInfo\": {\n",
       "    \"renderer\": {\n",
       "      \"symbol\": {\n",
       "        \"contentType\": \"image/png\",\n",
       "        \"height\": 15,\n",
       "        \"imageData\": \"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\",\n",
       "        \"type\": \"esriPMS\",\n",
       "        \"width\": 15,\n",
       "        \"url\": \"RedSphere.png\"\n",
       "      },\n",
       "      \"type\": \"simple\"\n",
       "    }\n",
       "  },\n",
       "  \"editingInfo\": {\n",
       "    \"lastEditDate\": 1488656448403\n",
       "  },\n",
       "  \"capabilities\": \"Query\",\n",
       "  \"currentVersion\": 10.41,\n",
       "  \"hasStaticData\": true,\n",
       "  \"defaultVisibility\": true,\n",
       "  \"supportsAttachmentsByUploadId\": true,\n",
       "  \"supportsAdvancedQueries\": true,\n",
       "  \"allowGeometryUpdates\": true,\n",
       "  \"useStandardizedQueries\": true,\n",
       "  \"maxRecordCountFactor\": 1,\n",
       "  \"supportsStatistics\": true,\n",
       "  \"type\": \"Feature Layer\",\n",
       "  \"id\": 0,\n",
       "  \"hasAttachments\": false,\n",
       "  \"typeIdField\": \"\",\n",
       "  \"minScale\": 73957191,\n",
       "  \"copyrightText\": \"\",\n",
       "  \"hasM\": false,\n",
       "  \"displayField\": \"\",\n",
       "  \"supportsCoordinatesQuantization\": true,\n",
       "  \"globalIdField\": \"\",\n",
       "  \"maxScale\": 0,\n",
       "  \"supportsTruncate\": true,\n",
       "  \"tileMaxRecordCount\": 8000,\n",
       "  \"supportsApplyEditsWithGlobalIds\": false,\n",
       "  \"supportedQueryFormats\": \"JSON, geoJSON\",\n",
       "  \"standardMaxRecordCount\": 32000,\n",
       "  \"templates\": [\n",
       "    {\n",
       "      \"drawingTool\": \"esriFeatureEditToolPoint\",\n",
       "      \"name\": \"New Feature\",\n",
       "      \"description\": \"\",\n",
       "      \"prototype\": {\n",
       "        \"attributes\": {\n",
       "          \"port_name\": null,\n",
       "          \"harborsize\": null,\n",
       "          \"country\": null,\n",
       "          \"short_form\": null,\n",
       "          \"longitude\": null,\n",
       "          \"label_position\": null,\n",
       "          \"latitude\": null\n",
       "        }\n",
       "      }\n",
       "    }\n",
       "  ],\n",
       "  \"types\": [],\n",
       "  \"serviceItemId\": \"8196dd3071b3481e8b1fde551da5772f\",\n",
       "  \"maxRecordCount\": 2000,\n",
       "  \"geometryType\": \"esriGeometryPoint\",\n",
       "  \"fields\": [\n",
       "    {\n",
       "      \"sqlType\": \"sqlTypeNVarchar\",\n",
       "      \"name\": \"port_name\",\n",
       "      \"actualType\": \"nvarchar\",\n",
       "      \"domain\": null,\n",
       "      \"defaultValue\": null,\n",
       "      \"length\": 256,\n",
       "      \"alias\": \"port_name\",\n",
       "      \"type\": \"esriFieldTypeString\",\n",
       "      \"nullable\": true,\n",
       "      \"editable\": true\n",
       "    },\n",
       "    {\n",
       "      \"sqlType\": \"sqlTypeNVarchar\",\n",
       "      \"name\": \"country\",\n",
       "      \"actualType\": \"nvarchar\",\n",
       "      \"domain\": null,\n",
       "      \"defaultValue\": null,\n",
       "      \"length\": 256,\n",
       "      \"alias\": \"country\",\n",
       "      \"type\": \"esriFieldTypeString\",\n",
       "      \"nullable\": true,\n",
       "      \"editable\": true\n",
       "    },\n",
       "    {\n",
       "      \"sqlType\": \"sqlTypeFloat\",\n",
       "      \"name\": \"longitude\",\n",
       "      \"actualType\": \"float\",\n",
       "      \"domain\": null,\n",
       "      \"defaultValue\": null,\n",
       "      \"nullable\": true,\n",
       "      \"alias\": \"longitude\",\n",
       "      \"type\": \"esriFieldTypeDouble\",\n",
       "      \"editable\": true\n",
       "    },\n",
       "    {\n",
       "      \"sqlType\": \"sqlTypeFloat\",\n",
       "      \"name\": \"latitude\",\n",
       "      \"actualType\": \"float\",\n",
       "      \"domain\": null,\n",
       "      \"defaultValue\": null,\n",
       "      \"nullable\": true,\n",
       "      \"alias\": \"latitude\",\n",
       "      \"type\": \"esriFieldTypeDouble\",\n",
       "      \"editable\": true\n",
       "    },\n",
       "    {\n",
       "      \"sqlType\": \"sqlTypeNVarchar\",\n",
       "      \"name\": \"harborsize\",\n",
       "      \"actualType\": \"nvarchar\",\n",
       "      \"domain\": null,\n",
       "      \"defaultValue\": null,\n",
       "      \"length\": 256,\n",
       "      \"alias\": \"harborsize\",\n",
       "      \"type\": \"esriFieldTypeString\",\n",
       "      \"nullable\": true,\n",
       "      \"editable\": true\n",
       "    },\n",
       "    {\n",
       "      \"sqlType\": \"sqlTypeNVarchar\",\n",
       "      \"name\": \"label_position\",\n",
       "      \"actualType\": \"nvarchar\",\n",
       "      \"domain\": null,\n",
       "      \"defaultValue\": null,\n",
       "      \"length\": 256,\n",
       "      \"alias\": \"label_position\",\n",
       "      \"type\": \"esriFieldTypeString\",\n",
       "      \"nullable\": true,\n",
       "      \"editable\": true\n",
       "    },\n",
       "    {\n",
       "      \"sqlType\": \"sqlTypeNVarchar\",\n",
       "      \"name\": \"short_form\",\n",
       "      \"actualType\": \"nvarchar\",\n",
       "      \"domain\": null,\n",
       "      \"defaultValue\": null,\n",
       "      \"length\": 256,\n",
       "      \"alias\": \"short_form\",\n",
       "      \"type\": \"esriFieldTypeString\",\n",
       "      \"nullable\": true,\n",
       "      \"editable\": true\n",
       "    },\n",
       "    {\n",
       "      \"sqlType\": \"sqlTypeInteger\",\n",
       "      \"name\": \"FID\",\n",
       "      \"actualType\": \"int\",\n",
       "      \"domain\": null,\n",
       "      \"defaultValue\": null,\n",
       "      \"nullable\": false,\n",
       "      \"alias\": \"FID\",\n",
       "      \"type\": \"esriFieldTypeInteger\",\n",
       "      \"editable\": false\n",
       "    }\n",
       "  ],\n",
       "  \"description\": \"\",\n",
       "  \"indexes\": [\n",
       "    {\n",
       "      \"name\": \"PK__PORTS_WE__C1BEA5A2AE99234D\",\n",
       "      \"description\": \"clustered, unique, primary key\",\n",
       "      \"isAscending\": true,\n",
       "      \"fields\": \"FID\",\n",
       "      \"isUnique\": true\n",
       "    },\n",
       "    {\n",
       "      \"name\": \"PORTS_WEST_USA_PORTS_WEST_USA_Shape_sidx\",\n",
       "      \"description\": \"Shape Index\",\n",
       "      \"isAscending\": false,\n",
       "      \"fields\": \"Shape\",\n",
       "      \"isUnique\": false\n",
       "    }\n",
       "  ],\n",
       "  \"htmlPopupType\": \"esriServerHTMLPopupTypeNone\",\n",
       "  \"supportsRollbackOnFailureParameter\": true,\n",
       "  \"supportsValidateSql\": true,\n",
       "  \"advancedQueryCapabilities\": {\n",
       "    \"supportsReturningQueryExtent\": true,\n",
       "    \"supportsPagination\": true,\n",
       "    \"supportsDistinct\": true,\n",
       "    \"supportsQueryWithResultType\": true,\n",
       "    \"supportsStatistics\": true,\n",
       "    \"supportsSqlExpression\": true,\n",
       "    \"supportsOrderBy\": true,\n",
       "    \"supportsAdvancedQueryRelated\": true,\n",
       "    \"supportsReturningGeometryCentroid\": false,\n",
       "    \"supportsQueryRelatedPagination\": true,\n",
       "    \"supportsQueryWithDistance\": true\n",
       "  },\n",
       "  \"hasZ\": false\n",
       "}"
      ]
     },
     "execution_count": 7,
     "metadata": {},
     "output_type": "execute_result"
    }
   ],
   "source": [
    "ports_layer1 = ports_flc.layers[0]\n",
    "ports_layer1.properties"
   ]
  },
  {
   "cell_type": "markdown",
   "metadata": {},
   "source": [
    "## Update definition of feature service\n",
    "`FeatureLayerCollection.manager` = [`FeatureLayerCollectionManager`](http://esri.github.io/arcgis-python-api/apidoc/html/arcgis.features.managers.html#featurelayercollectionmanager) class which can be used to update the definitions of hosted feature services."
   ]
  },
  {
   "cell_type": "code",
   "execution_count": 8,
   "metadata": {
    "collapsed": false
   },
   "outputs": [
    {
     "data": {
      "text/plain": [
       "arcgis.features.managers.FeatureLayerCollectionManager"
      ]
     },
     "execution_count": 8,
     "metadata": {},
     "output_type": "execute_result"
    }
   ],
   "source": [
    "ports_flc_mgr = ports_flc.manager\n",
    "type(ports_flc_mgr)"
   ]
  },
  {
   "cell_type": "markdown",
   "metadata": {},
   "source": [
    "Both the description and copyright is empty. We can update it by calling the `update_definition()` and passing a dictionary representation of the fields to be updated."
   ]
  },
  {
   "cell_type": "code",
   "execution_count": 17,
   "metadata": {
    "collapsed": false
   },
   "outputs": [
    {
     "data": {
      "text/plain": [
       "{'success': True}"
      ]
     },
     "execution_count": 17,
     "metadata": {},
     "output_type": "execute_result"
    }
   ],
   "source": [
    "update_dict = {'description':'',\n",
    "              'copyrightText':''}\n",
    "ports_flc.manager.update_definition(update_dict)"
   ]
  },
  {
   "cell_type": "markdown",
   "metadata": {},
   "source": [
    "Let us access the service definition once again to see if these fields are updated"
   ]
  },
  {
   "cell_type": "code",
   "execution_count": 10,
   "metadata": {
    "collapsed": false
   },
   "outputs": [
    {
     "data": {
      "text/plain": [
       "'Updated using ArcGIS Python API'"
      ]
     },
     "execution_count": 10,
     "metadata": {},
     "output_type": "execute_result"
    }
   ],
   "source": [
    "ports_flc.properties.description"
   ]
  },
  {
   "cell_type": "code",
   "execution_count": 11,
   "metadata": {
    "collapsed": false
   },
   "outputs": [
    {
     "data": {
      "text/plain": [
       "'hands on class'"
      ]
     },
     "execution_count": 11,
     "metadata": {},
     "output_type": "execute_result"
    }
   ],
   "source": [
    "ports_flc.properties.copyrightText"
   ]
  },
  {
   "cell_type": "markdown",
   "metadata": {},
   "source": [
    "### Turning on / off editing and sync capabilities\n",
    "\n",
    "Capabilities such as editing, sync, query etc. are common to all feature layers in a feature service. Hence you can edit them at the service level\n",
    "\n",
    "Before updating, you need to know the exact values. Refer to the [REST API doc for Feature Services](http://resources.arcgis.com/en/help/arcgis-rest-api/index.html#/Feature_Service/02r3000000z2000000/)"
   ]
  },
  {
   "cell_type": "code",
   "execution_count": 16,
   "metadata": {
    "collapsed": false
   },
   "outputs": [
    {
     "data": {
      "text/plain": [
       "{'success': True}"
      ]
     },
     "execution_count": 16,
     "metadata": {},
     "output_type": "execute_result"
    }
   ],
   "source": [
    "update_dict2 = {\"capabilities\": \"Query\",\n",
    "               \"syncEnabled\": False}\n",
    "ports_flc.manager.update_definition(update_dict2)"
   ]
  },
  {
   "cell_type": "code",
   "execution_count": 13,
   "metadata": {
    "collapsed": false
   },
   "outputs": [
    {
     "data": {
      "text/plain": [
       "'Create,Delete,Query,Update,Editing,Extract'"
      ]
     },
     "execution_count": 13,
     "metadata": {},
     "output_type": "execute_result"
    }
   ],
   "source": [
    "ports_flc.properties.capabilities"
   ]
  },
  {
   "cell_type": "code",
   "execution_count": 14,
   "metadata": {
    "collapsed": false
   },
   "outputs": [
    {
     "data": {
      "text/plain": [
       "False"
      ]
     },
     "execution_count": 14,
     "metadata": {},
     "output_type": "execute_result"
    }
   ],
   "source": [
    "ports_flc.properties.syncEnabled"
   ]
  },
  {
   "cell_type": "markdown",
   "metadata": {},
   "source": [
    "## Update definition of feature layer\n",
    "Say you want to add new columns to the feature layer, you need to do that update at the layer level instead of the service level.\n",
    "\n",
    "Access `FeatureLayer.manager` = [`FeatureLayerManager`](http://esri.github.io/arcgis-python-api/apidoc/html/arcgis.features.managers.html#featurelayermanager) to make edits to the definition of the layer"
   ]
  },
  {
   "cell_type": "code",
   "execution_count": 61,
   "metadata": {
    "collapsed": false
   },
   "outputs": [
    {
     "data": {
      "text/plain": [
       "arcgis.features.managers.FeatureLayerManager"
      ]
     },
     "execution_count": 61,
     "metadata": {},
     "output_type": "execute_result"
    }
   ],
   "source": [
    "ports_layer1_mgr = ports_layer1.manager\n",
    "type(ports_layer1_mgr)"
   ]
  },
  {
   "cell_type": "code",
   "execution_count": 63,
   "metadata": {
    "collapsed": false
   },
   "outputs": [
    {
     "name": "stdout",
     "output_type": "stream",
     "text": [
      "port_name\n",
      "country\n",
      "longitude\n",
      "latitude\n",
      "harborsize\n",
      "label_position\n",
      "short_form\n",
      "FID\n"
     ]
    }
   ],
   "source": [
    "for field in ports_layer1_mgr.properties.fields:\n",
    "    print(field['name'])"
   ]
  },
  {
   "cell_type": "markdown",
   "metadata": {},
   "source": [
    "Let us add a field representing number of ships that can doc at any given time. We will call this `num_docks`.\n",
    "\n",
    "Let us use a numeric field like 'FID' as a template"
   ]
  },
  {
   "cell_type": "code",
   "execution_count": 64,
   "metadata": {
    "collapsed": false
   },
   "outputs": [
    {
     "data": {
      "text/plain": [
       "{\n",
       "  \"sqlType\": \"sqlTypeInteger\",\n",
       "  \"name\": \"FID\",\n",
       "  \"visible\": true,\n",
       "  \"defaultValue\": null,\n",
       "  \"nullable\": false,\n",
       "  \"alias\": \"FID\",\n",
       "  \"domain\": null,\n",
       "  \"actualType\": \"int\",\n",
       "  \"type\": \"esriFieldTypeInteger\",\n",
       "  \"editable\": false\n",
       "}"
      ]
     },
     "execution_count": 64,
     "metadata": {},
     "output_type": "execute_result"
    }
   ],
   "source": [
    "import copy\n",
    "template_field = copy.deepcopy(ports_layer1_mgr.properties.fields[-1]) #its the last field\n",
    "template_field"
   ]
  },
  {
   "cell_type": "code",
   "execution_count": 65,
   "metadata": {
    "collapsed": false
   },
   "outputs": [
    {
     "data": {
      "text/plain": [
       "{\n",
       "  \"sqlType\": \"sqlTypeInteger\",\n",
       "  \"name\": \"num_docks\",\n",
       "  \"visible\": true,\n",
       "  \"defaultValue\": null,\n",
       "  \"nullable\": true,\n",
       "  \"alias\": \"number of docks\",\n",
       "  \"domain\": null,\n",
       "  \"actualType\": \"int\",\n",
       "  \"type\": \"esriFieldTypeInteger\",\n",
       "  \"editable\": true\n",
       "}"
      ]
     },
     "execution_count": 65,
     "metadata": {},
     "output_type": "execute_result"
    }
   ],
   "source": [
    "# edit this field to suit our needs\n",
    "template_field['name'] = 'num_docks'\n",
    "template_field['alias'] = 'number of docks'\n",
    "template_field['nullable'] = True #can be null since this is not primary key\n",
    "template_field['editable'] = True #can edit, but only if edit capability is turned on\n",
    "template_field"
   ]
  },
  {
   "cell_type": "code",
   "execution_count": 70,
   "metadata": {
    "collapsed": false
   },
   "outputs": [
    {
     "data": {
      "text/plain": [
       "8"
      ]
     },
     "execution_count": 70,
     "metadata": {},
     "output_type": "execute_result"
    }
   ],
   "source": [
    "# now compose the update dictionary\n",
    "import copy\n",
    "update_fields = copy.deepcopy(ports_layer1_mgr.properties.fields) #make a copy of all fields\n",
    "len(update_fields)"
   ]
  },
  {
   "cell_type": "code",
   "execution_count": 71,
   "metadata": {
    "collapsed": false
   },
   "outputs": [
    {
     "data": {
      "text/plain": [
       "9"
      ]
     },
     "execution_count": 71,
     "metadata": {},
     "output_type": "execute_result"
    }
   ],
   "source": [
    "update_fields.append(template_field)\n",
    "len(update_fields)"
   ]
  },
  {
   "cell_type": "code",
   "execution_count": 72,
   "metadata": {
    "collapsed": false
   },
   "outputs": [
    {
     "data": {
      "text/plain": [
       "[{\n",
       "   \"sqlType\": \"sqlTypeNVarchar\",\n",
       "   \"name\": \"port_name\",\n",
       "   \"visible\": true,\n",
       "   \"defaultValue\": null,\n",
       "   \"type\": \"esriFieldTypeString\",\n",
       "   \"alias\": \"port_name\",\n",
       "   \"domain\": null,\n",
       "   \"actualType\": \"nvarchar\",\n",
       "   \"length\": 256,\n",
       "   \"nullable\": true,\n",
       "   \"editable\": true\n",
       " }, {\n",
       "   \"sqlType\": \"sqlTypeNVarchar\",\n",
       "   \"name\": \"country\",\n",
       "   \"visible\": true,\n",
       "   \"defaultValue\": null,\n",
       "   \"type\": \"esriFieldTypeString\",\n",
       "   \"alias\": \"country\",\n",
       "   \"domain\": null,\n",
       "   \"actualType\": \"nvarchar\",\n",
       "   \"length\": 256,\n",
       "   \"nullable\": true,\n",
       "   \"editable\": true\n",
       " }, {\n",
       "   \"sqlType\": \"sqlTypeFloat\",\n",
       "   \"name\": \"longitude\",\n",
       "   \"visible\": true,\n",
       "   \"defaultValue\": null,\n",
       "   \"nullable\": true,\n",
       "   \"alias\": \"longitude\",\n",
       "   \"domain\": null,\n",
       "   \"actualType\": \"float\",\n",
       "   \"type\": \"esriFieldTypeDouble\",\n",
       "   \"editable\": true\n",
       " }, {\n",
       "   \"sqlType\": \"sqlTypeFloat\",\n",
       "   \"name\": \"latitude\",\n",
       "   \"visible\": true,\n",
       "   \"defaultValue\": null,\n",
       "   \"nullable\": true,\n",
       "   \"alias\": \"latitude\",\n",
       "   \"domain\": null,\n",
       "   \"actualType\": \"float\",\n",
       "   \"type\": \"esriFieldTypeDouble\",\n",
       "   \"editable\": true\n",
       " }, {\n",
       "   \"sqlType\": \"sqlTypeNVarchar\",\n",
       "   \"name\": \"harborsize\",\n",
       "   \"visible\": true,\n",
       "   \"defaultValue\": null,\n",
       "   \"type\": \"esriFieldTypeString\",\n",
       "   \"alias\": \"harborsize\",\n",
       "   \"domain\": null,\n",
       "   \"actualType\": \"nvarchar\",\n",
       "   \"length\": 256,\n",
       "   \"nullable\": true,\n",
       "   \"editable\": true\n",
       " }, {\n",
       "   \"sqlType\": \"sqlTypeNVarchar\",\n",
       "   \"name\": \"label_position\",\n",
       "   \"visible\": true,\n",
       "   \"defaultValue\": null,\n",
       "   \"type\": \"esriFieldTypeString\",\n",
       "   \"alias\": \"label_position\",\n",
       "   \"domain\": null,\n",
       "   \"actualType\": \"nvarchar\",\n",
       "   \"length\": 256,\n",
       "   \"nullable\": true,\n",
       "   \"editable\": true\n",
       " }, {\n",
       "   \"sqlType\": \"sqlTypeNVarchar\",\n",
       "   \"name\": \"short_form\",\n",
       "   \"visible\": true,\n",
       "   \"defaultValue\": null,\n",
       "   \"type\": \"esriFieldTypeString\",\n",
       "   \"alias\": \"short_form\",\n",
       "   \"domain\": null,\n",
       "   \"actualType\": \"nvarchar\",\n",
       "   \"length\": 256,\n",
       "   \"nullable\": true,\n",
       "   \"editable\": true\n",
       " }, {\n",
       "   \"sqlType\": \"sqlTypeInteger\",\n",
       "   \"name\": \"FID\",\n",
       "   \"visible\": true,\n",
       "   \"defaultValue\": null,\n",
       "   \"nullable\": false,\n",
       "   \"alias\": \"FID\",\n",
       "   \"domain\": null,\n",
       "   \"actualType\": \"int\",\n",
       "   \"type\": \"esriFieldTypeInteger\",\n",
       "   \"editable\": false\n",
       " }, {\n",
       "   \"sqlType\": \"sqlTypeInteger\",\n",
       "   \"name\": \"num_docks\",\n",
       "   \"visible\": true,\n",
       "   \"defaultValue\": null,\n",
       "   \"nullable\": true,\n",
       "   \"alias\": \"number of docks\",\n",
       "   \"domain\": null,\n",
       "   \"actualType\": \"int\",\n",
       "   \"type\": \"esriFieldTypeInteger\",\n",
       "   \"editable\": true\n",
       " }]"
      ]
     },
     "execution_count": 72,
     "metadata": {},
     "output_type": "execute_result"
    }
   ],
   "source": [
    "update_fields"
   ]
  },
  {
   "cell_type": "markdown",
   "metadata": {},
   "source": [
    "Need to make dictionary serializable."
   ]
  },
  {
   "cell_type": "code",
   "execution_count": 73,
   "metadata": {
    "collapsed": false
   },
   "outputs": [
    {
     "data": {
      "text/plain": [
       "arcgis._impl.common._mixins.PropertyMap"
      ]
     },
     "execution_count": 73,
     "metadata": {},
     "output_type": "execute_result"
    }
   ],
   "source": [
    "type(update_fields[0])"
   ]
  },
  {
   "cell_type": "markdown",
   "metadata": {},
   "source": [
    "Simply ready each map into a dictionary"
   ]
  },
  {
   "cell_type": "code",
   "execution_count": 74,
   "metadata": {
    "collapsed": false
   },
   "outputs": [
    {
     "data": {
      "text/plain": [
       "[{'actualType': 'nvarchar',\n",
       "  'alias': 'port_name',\n",
       "  'defaultValue': None,\n",
       "  'domain': None,\n",
       "  'editable': True,\n",
       "  'length': 256,\n",
       "  'name': 'port_name',\n",
       "  'nullable': True,\n",
       "  'sqlType': 'sqlTypeNVarchar',\n",
       "  'type': 'esriFieldTypeString',\n",
       "  'visible': True},\n",
       " {'actualType': 'nvarchar',\n",
       "  'alias': 'country',\n",
       "  'defaultValue': None,\n",
       "  'domain': None,\n",
       "  'editable': True,\n",
       "  'length': 256,\n",
       "  'name': 'country',\n",
       "  'nullable': True,\n",
       "  'sqlType': 'sqlTypeNVarchar',\n",
       "  'type': 'esriFieldTypeString',\n",
       "  'visible': True},\n",
       " {'actualType': 'float',\n",
       "  'alias': 'longitude',\n",
       "  'defaultValue': None,\n",
       "  'domain': None,\n",
       "  'editable': True,\n",
       "  'name': 'longitude',\n",
       "  'nullable': True,\n",
       "  'sqlType': 'sqlTypeFloat',\n",
       "  'type': 'esriFieldTypeDouble',\n",
       "  'visible': True},\n",
       " {'actualType': 'float',\n",
       "  'alias': 'latitude',\n",
       "  'defaultValue': None,\n",
       "  'domain': None,\n",
       "  'editable': True,\n",
       "  'name': 'latitude',\n",
       "  'nullable': True,\n",
       "  'sqlType': 'sqlTypeFloat',\n",
       "  'type': 'esriFieldTypeDouble',\n",
       "  'visible': True},\n",
       " {'actualType': 'nvarchar',\n",
       "  'alias': 'harborsize',\n",
       "  'defaultValue': None,\n",
       "  'domain': None,\n",
       "  'editable': True,\n",
       "  'length': 256,\n",
       "  'name': 'harborsize',\n",
       "  'nullable': True,\n",
       "  'sqlType': 'sqlTypeNVarchar',\n",
       "  'type': 'esriFieldTypeString',\n",
       "  'visible': True},\n",
       " {'actualType': 'nvarchar',\n",
       "  'alias': 'label_position',\n",
       "  'defaultValue': None,\n",
       "  'domain': None,\n",
       "  'editable': True,\n",
       "  'length': 256,\n",
       "  'name': 'label_position',\n",
       "  'nullable': True,\n",
       "  'sqlType': 'sqlTypeNVarchar',\n",
       "  'type': 'esriFieldTypeString',\n",
       "  'visible': True},\n",
       " {'actualType': 'nvarchar',\n",
       "  'alias': 'short_form',\n",
       "  'defaultValue': None,\n",
       "  'domain': None,\n",
       "  'editable': True,\n",
       "  'length': 256,\n",
       "  'name': 'short_form',\n",
       "  'nullable': True,\n",
       "  'sqlType': 'sqlTypeNVarchar',\n",
       "  'type': 'esriFieldTypeString',\n",
       "  'visible': True},\n",
       " {'actualType': 'int',\n",
       "  'alias': 'FID',\n",
       "  'defaultValue': None,\n",
       "  'domain': None,\n",
       "  'editable': False,\n",
       "  'name': 'FID',\n",
       "  'nullable': False,\n",
       "  'sqlType': 'sqlTypeInteger',\n",
       "  'type': 'esriFieldTypeInteger',\n",
       "  'visible': True},\n",
       " {'actualType': 'int',\n",
       "  'alias': 'number of docks',\n",
       "  'defaultValue': None,\n",
       "  'domain': None,\n",
       "  'editable': True,\n",
       "  'name': 'num_docks',\n",
       "  'nullable': True,\n",
       "  'sqlType': 'sqlTypeInteger',\n",
       "  'type': 'esriFieldTypeInteger',\n",
       "  'visible': True}]"
      ]
     },
     "execution_count": 74,
     "metadata": {},
     "output_type": "execute_result"
    }
   ],
   "source": [
    "new_update_fields = []\n",
    "for i in update_fields:\n",
    "    new_update_fields.append(dict(i))\n",
    "\n",
    "new_update_fields"
   ]
  },
  {
   "cell_type": "code",
   "execution_count": 78,
   "metadata": {
    "collapsed": false
   },
   "outputs": [
    {
     "data": {
      "text/plain": [
       "[{'actualType': 'int',\n",
       "  'alias': 'number of docks',\n",
       "  'defaultValue': None,\n",
       "  'domain': None,\n",
       "  'editable': True,\n",
       "  'name': 'num_docks',\n",
       "  'nullable': True,\n",
       "  'sqlType': 'sqlTypeInteger',\n",
       "  'type': 'esriFieldTypeInteger',\n",
       "  'visible': True}]"
      ]
     },
     "execution_count": 78,
     "metadata": {},
     "output_type": "execute_result"
    }
   ],
   "source": [
    "[new_update_fields[-1]]"
   ]
  },
  {
   "cell_type": "code",
   "execution_count": 79,
   "metadata": {
    "collapsed": false
   },
   "outputs": [
    {
     "data": {
      "text/plain": [
       "{'success': True}"
      ]
     },
     "execution_count": 79,
     "metadata": {},
     "output_type": "execute_result"
    }
   ],
   "source": [
    "ports_layer1_mgr.add_to_definition({'fields':[new_update_fields[-1]]})"
   ]
  },
  {
   "cell_type": "code",
   "execution_count": 80,
   "metadata": {
    "collapsed": true
   },
   "outputs": [],
   "source": [
    "ports_layer1._refresh()"
   ]
  },
  {
   "cell_type": "code",
   "execution_count": 81,
   "metadata": {
    "collapsed": false
   },
   "outputs": [
    {
     "data": {
      "text/html": [
       "<div>\n",
       "<table border=\"1\" class=\"dataframe\">\n",
       "  <thead>\n",
       "    <tr style=\"text-align: right;\">\n",
       "      <th></th>\n",
       "      <th>country</th>\n",
       "      <th>harborsize</th>\n",
       "      <th>label_position</th>\n",
       "      <th>latitude</th>\n",
       "      <th>longitude</th>\n",
       "      <th>num_boats</th>\n",
       "      <th>num_docks</th>\n",
       "      <th>port_name</th>\n",
       "      <th>short_form</th>\n",
       "      <th>geometry.x</th>\n",
       "      <th>geometry.y</th>\n",
       "    </tr>\n",
       "    <tr>\n",
       "      <th>FID</th>\n",
       "      <th></th>\n",
       "      <th></th>\n",
       "      <th></th>\n",
       "      <th></th>\n",
       "      <th></th>\n",
       "      <th></th>\n",
       "      <th></th>\n",
       "      <th></th>\n",
       "      <th></th>\n",
       "      <th></th>\n",
       "      <th></th>\n",
       "    </tr>\n",
       "  </thead>\n",
       "  <tbody>\n",
       "    <tr>\n",
       "      <th>1</th>\n",
       "      <td>US</td>\n",
       "      <td>L</td>\n",
       "      <td>SW</td>\n",
       "      <td>37.816667</td>\n",
       "      <td>-122.416667</td>\n",
       "      <td>None</td>\n",
       "      <td>None</td>\n",
       "      <td>SAN FRANCISCO</td>\n",
       "      <td>SFFO</td>\n",
       "      <td>-1.362736e+07</td>\n",
       "      <td>4.553559e+06</td>\n",
       "    </tr>\n",
       "    <tr>\n",
       "      <th>2</th>\n",
       "      <td>US</td>\n",
       "      <td>S</td>\n",
       "      <td>SW</td>\n",
       "      <td>37.783333</td>\n",
       "      <td>-122.266667</td>\n",
       "      <td>None</td>\n",
       "      <td>None</td>\n",
       "      <td>ALAMEDA</td>\n",
       "      <td>NGZ</td>\n",
       "      <td>-1.361066e+07</td>\n",
       "      <td>4.548863e+06</td>\n",
       "    </tr>\n",
       "    <tr>\n",
       "      <th>3</th>\n",
       "      <td>US</td>\n",
       "      <td>L</td>\n",
       "      <td>SW</td>\n",
       "      <td>37.816667</td>\n",
       "      <td>-122.333333</td>\n",
       "      <td>None</td>\n",
       "      <td>None</td>\n",
       "      <td>OAKLAND</td>\n",
       "      <td>OAK</td>\n",
       "      <td>-1.361808e+07</td>\n",
       "      <td>4.553559e+06</td>\n",
       "    </tr>\n",
       "    <tr>\n",
       "      <th>4</th>\n",
       "      <td>US</td>\n",
       "      <td>S</td>\n",
       "      <td>SW</td>\n",
       "      <td>37.916667</td>\n",
       "      <td>-122.366667</td>\n",
       "      <td>None</td>\n",
       "      <td>None</td>\n",
       "      <td>POINT RICHMOND</td>\n",
       "      <td>RIC</td>\n",
       "      <td>-1.362180e+07</td>\n",
       "      <td>4.567660e+06</td>\n",
       "    </tr>\n",
       "    <tr>\n",
       "      <th>5</th>\n",
       "      <td>US</td>\n",
       "      <td>S</td>\n",
       "      <td>SW</td>\n",
       "      <td>38.100000</td>\n",
       "      <td>-122.266667</td>\n",
       "      <td>None</td>\n",
       "      <td>None</td>\n",
       "      <td>MARE ISLAND</td>\n",
       "      <td>None</td>\n",
       "      <td>-1.361066e+07</td>\n",
       "      <td>4.593562e+06</td>\n",
       "    </tr>\n",
       "    <tr>\n",
       "      <th>6</th>\n",
       "      <td>US</td>\n",
       "      <td>S</td>\n",
       "      <td>SW</td>\n",
       "      <td>38.083333</td>\n",
       "      <td>-122.250000</td>\n",
       "      <td>None</td>\n",
       "      <td>None</td>\n",
       "      <td>SOUTH VALLEJO</td>\n",
       "      <td>None</td>\n",
       "      <td>-1.360881e+07</td>\n",
       "      <td>4.591205e+06</td>\n",
       "    </tr>\n",
       "    <tr>\n",
       "      <th>7</th>\n",
       "      <td>US</td>\n",
       "      <td>S</td>\n",
       "      <td>SW</td>\n",
       "      <td>37.950000</td>\n",
       "      <td>-121.300000</td>\n",
       "      <td>None</td>\n",
       "      <td>None</td>\n",
       "      <td>STOCKTON</td>\n",
       "      <td>SCK</td>\n",
       "      <td>-1.350305e+07</td>\n",
       "      <td>4.572365e+06</td>\n",
       "    </tr>\n",
       "    <tr>\n",
       "      <th>8</th>\n",
       "      <td>US</td>\n",
       "      <td>S</td>\n",
       "      <td>SW</td>\n",
       "      <td>38.583333</td>\n",
       "      <td>-121.500000</td>\n",
       "      <td>None</td>\n",
       "      <td>None</td>\n",
       "      <td>SACRAMENTO</td>\n",
       "      <td>SMF</td>\n",
       "      <td>-1.352532e+07</td>\n",
       "      <td>4.662162e+06</td>\n",
       "    </tr>\n",
       "    <tr>\n",
       "      <th>9</th>\n",
       "      <td>US</td>\n",
       "      <td>S</td>\n",
       "      <td>SW</td>\n",
       "      <td>40.800000</td>\n",
       "      <td>-124.183333</td>\n",
       "      <td>None</td>\n",
       "      <td>None</td>\n",
       "      <td>EUREKA</td>\n",
       "      <td>ACV</td>\n",
       "      <td>-1.382403e+07</td>\n",
       "      <td>4.982886e+06</td>\n",
       "    </tr>\n",
       "    <tr>\n",
       "      <th>10</th>\n",
       "      <td>US</td>\n",
       "      <td>M</td>\n",
       "      <td>SW</td>\n",
       "      <td>43.400000</td>\n",
       "      <td>-124.283333</td>\n",
       "      <td>None</td>\n",
       "      <td>None</td>\n",
       "      <td>EMPIRE</td>\n",
       "      <td>None</td>\n",
       "      <td>-1.383516e+07</td>\n",
       "      <td>5.373055e+06</td>\n",
       "    </tr>\n",
       "    <tr>\n",
       "      <th>11</th>\n",
       "      <td>US</td>\n",
       "      <td>S</td>\n",
       "      <td>SW</td>\n",
       "      <td>43.366667</td>\n",
       "      <td>-124.216667</td>\n",
       "      <td>None</td>\n",
       "      <td>None</td>\n",
       "      <td>COOS BAY</td>\n",
       "      <td>None</td>\n",
       "      <td>-1.382774e+07</td>\n",
       "      <td>5.367950e+06</td>\n",
       "    </tr>\n",
       "    <tr>\n",
       "      <th>12</th>\n",
       "      <td>US</td>\n",
       "      <td>M</td>\n",
       "      <td>SW</td>\n",
       "      <td>32.716667</td>\n",
       "      <td>-117.183333</td>\n",
       "      <td>None</td>\n",
       "      <td>None</td>\n",
       "      <td>SAN DIEGO</td>\n",
       "      <td>SAN</td>\n",
       "      <td>-1.304479e+07</td>\n",
       "      <td>3.857756e+06</td>\n",
       "    </tr>\n",
       "    <tr>\n",
       "      <th>13</th>\n",
       "      <td>US</td>\n",
       "      <td>M</td>\n",
       "      <td>SW</td>\n",
       "      <td>33.766667</td>\n",
       "      <td>-118.183333</td>\n",
       "      <td>None</td>\n",
       "      <td>None</td>\n",
       "      <td>LONG BEACH</td>\n",
       "      <td>LGH</td>\n",
       "      <td>-1.315611e+07</td>\n",
       "      <td>3.997514e+06</td>\n",
       "    </tr>\n",
       "    <tr>\n",
       "      <th>14</th>\n",
       "      <td>US</td>\n",
       "      <td>S</td>\n",
       "      <td>SW</td>\n",
       "      <td>36.616667</td>\n",
       "      <td>-121.883333</td>\n",
       "      <td>None</td>\n",
       "      <td>None</td>\n",
       "      <td>MONTEREY</td>\n",
       "      <td>MRY</td>\n",
       "      <td>-1.356799e+07</td>\n",
       "      <td>4.385809e+06</td>\n",
       "    </tr>\n",
       "    <tr>\n",
       "      <th>15</th>\n",
       "      <td>US</td>\n",
       "      <td>L</td>\n",
       "      <td>SW</td>\n",
       "      <td>45.516667</td>\n",
       "      <td>-122.666667</td>\n",
       "      <td>None</td>\n",
       "      <td>None</td>\n",
       "      <td>PORTLAND</td>\n",
       "      <td>None</td>\n",
       "      <td>-1.365519e+07</td>\n",
       "      <td>5.703230e+06</td>\n",
       "    </tr>\n",
       "    <tr>\n",
       "      <th>16</th>\n",
       "      <td>US</td>\n",
       "      <td>S</td>\n",
       "      <td>SW</td>\n",
       "      <td>21.950000</td>\n",
       "      <td>-159.350000</td>\n",
       "      <td>None</td>\n",
       "      <td>None</td>\n",
       "      <td>NAWILIWILI BAY</td>\n",
       "      <td>None</td>\n",
       "      <td>-1.773876e+07</td>\n",
       "      <td>2.505523e+06</td>\n",
       "    </tr>\n",
       "    <tr>\n",
       "      <th>17</th>\n",
       "      <td>US</td>\n",
       "      <td>S</td>\n",
       "      <td>SW</td>\n",
       "      <td>21.900000</td>\n",
       "      <td>-159.583333</td>\n",
       "      <td>None</td>\n",
       "      <td>None</td>\n",
       "      <td>PORT ALLEN</td>\n",
       "      <td>None</td>\n",
       "      <td>-1.776474e+07</td>\n",
       "      <td>2.499523e+06</td>\n",
       "    </tr>\n",
       "    <tr>\n",
       "      <th>18</th>\n",
       "      <td>US</td>\n",
       "      <td>M</td>\n",
       "      <td>SW</td>\n",
       "      <td>21.300000</td>\n",
       "      <td>-157.866667</td>\n",
       "      <td>None</td>\n",
       "      <td>None</td>\n",
       "      <td>HONOLULU</td>\n",
       "      <td>HNL</td>\n",
       "      <td>-1.757364e+07</td>\n",
       "      <td>2.427687e+06</td>\n",
       "    </tr>\n",
       "    <tr>\n",
       "      <th>19</th>\n",
       "      <td>US</td>\n",
       "      <td>S</td>\n",
       "      <td>SW</td>\n",
       "      <td>20.033333</td>\n",
       "      <td>-155.833333</td>\n",
       "      <td>None</td>\n",
       "      <td>None</td>\n",
       "      <td>KAWAIHAE</td>\n",
       "      <td>None</td>\n",
       "      <td>-1.734729e+07</td>\n",
       "      <td>2.276980e+06</td>\n",
       "    </tr>\n",
       "    <tr>\n",
       "      <th>20</th>\n",
       "      <td>US</td>\n",
       "      <td>M</td>\n",
       "      <td>SW</td>\n",
       "      <td>19.733333</td>\n",
       "      <td>-155.066667</td>\n",
       "      <td>None</td>\n",
       "      <td>None</td>\n",
       "      <td>HILO</td>\n",
       "      <td>ITO</td>\n",
       "      <td>-1.726194e+07</td>\n",
       "      <td>2.241467e+06</td>\n",
       "    </tr>\n",
       "    <tr>\n",
       "      <th>21</th>\n",
       "      <td>US</td>\n",
       "      <td>M</td>\n",
       "      <td>SW</td>\n",
       "      <td>45.633333</td>\n",
       "      <td>-122.683333</td>\n",
       "      <td>None</td>\n",
       "      <td>None</td>\n",
       "      <td>VANCOUVER</td>\n",
       "      <td>None</td>\n",
       "      <td>-1.365705e+07</td>\n",
       "      <td>5.721784e+06</td>\n",
       "    </tr>\n",
       "    <tr>\n",
       "      <th>22</th>\n",
       "      <td>US</td>\n",
       "      <td>S</td>\n",
       "      <td>SW</td>\n",
       "      <td>34.055600</td>\n",
       "      <td>-117.182000</td>\n",
       "      <td>None</td>\n",
       "      <td>None</td>\n",
       "      <td>REDLANDS</td>\n",
       "      <td>None</td>\n",
       "      <td>-1.304464e+07</td>\n",
       "      <td>4.036270e+06</td>\n",
       "    </tr>\n",
       "  </tbody>\n",
       "</table>\n",
       "</div>"
      ],
      "text/plain": [
       "    country harborsize label_position   latitude   longitude num_boats  \\\n",
       "FID                                                                      \n",
       "1        US          L             SW  37.816667 -122.416667      None   \n",
       "2        US          S             SW  37.783333 -122.266667      None   \n",
       "3        US          L             SW  37.816667 -122.333333      None   \n",
       "4        US          S             SW  37.916667 -122.366667      None   \n",
       "5        US          S             SW  38.100000 -122.266667      None   \n",
       "6        US          S             SW  38.083333 -122.250000      None   \n",
       "7        US          S             SW  37.950000 -121.300000      None   \n",
       "8        US          S             SW  38.583333 -121.500000      None   \n",
       "9        US          S             SW  40.800000 -124.183333      None   \n",
       "10       US          M             SW  43.400000 -124.283333      None   \n",
       "11       US          S             SW  43.366667 -124.216667      None   \n",
       "12       US          M             SW  32.716667 -117.183333      None   \n",
       "13       US          M             SW  33.766667 -118.183333      None   \n",
       "14       US          S             SW  36.616667 -121.883333      None   \n",
       "15       US          L             SW  45.516667 -122.666667      None   \n",
       "16       US          S             SW  21.950000 -159.350000      None   \n",
       "17       US          S             SW  21.900000 -159.583333      None   \n",
       "18       US          M             SW  21.300000 -157.866667      None   \n",
       "19       US          S             SW  20.033333 -155.833333      None   \n",
       "20       US          M             SW  19.733333 -155.066667      None   \n",
       "21       US          M             SW  45.633333 -122.683333      None   \n",
       "22       US          S             SW  34.055600 -117.182000      None   \n",
       "\n",
       "    num_docks       port_name short_form    geometry.x    geometry.y  \n",
       "FID                                                                   \n",
       "1        None   SAN FRANCISCO       SFFO -1.362736e+07  4.553559e+06  \n",
       "2        None         ALAMEDA        NGZ -1.361066e+07  4.548863e+06  \n",
       "3        None         OAKLAND        OAK -1.361808e+07  4.553559e+06  \n",
       "4        None  POINT RICHMOND        RIC -1.362180e+07  4.567660e+06  \n",
       "5        None     MARE ISLAND       None -1.361066e+07  4.593562e+06  \n",
       "6        None   SOUTH VALLEJO       None -1.360881e+07  4.591205e+06  \n",
       "7        None        STOCKTON        SCK -1.350305e+07  4.572365e+06  \n",
       "8        None      SACRAMENTO        SMF -1.352532e+07  4.662162e+06  \n",
       "9        None          EUREKA        ACV -1.382403e+07  4.982886e+06  \n",
       "10       None          EMPIRE       None -1.383516e+07  5.373055e+06  \n",
       "11       None        COOS BAY       None -1.382774e+07  5.367950e+06  \n",
       "12       None       SAN DIEGO        SAN -1.304479e+07  3.857756e+06  \n",
       "13       None      LONG BEACH        LGH -1.315611e+07  3.997514e+06  \n",
       "14       None        MONTEREY        MRY -1.356799e+07  4.385809e+06  \n",
       "15       None        PORTLAND       None -1.365519e+07  5.703230e+06  \n",
       "16       None  NAWILIWILI BAY       None -1.773876e+07  2.505523e+06  \n",
       "17       None      PORT ALLEN       None -1.776474e+07  2.499523e+06  \n",
       "18       None        HONOLULU        HNL -1.757364e+07  2.427687e+06  \n",
       "19       None        KAWAIHAE       None -1.734729e+07  2.276980e+06  \n",
       "20       None            HILO        ITO -1.726194e+07  2.241467e+06  \n",
       "21       None       VANCOUVER       None -1.365705e+07  5.721784e+06  \n",
       "22       None        REDLANDS       None -1.304464e+07  4.036270e+06  "
      ]
     },
     "execution_count": 81,
     "metadata": {},
     "output_type": "execute_result"
    }
   ],
   "source": [
    "ports_fset = ports_layer1.query()\n",
    "ports_fset.df"
   ]
  },
  {
   "cell_type": "markdown",
   "metadata": {},
   "source": [
    "### Delete fields from feature layer\n",
    "use the `delete_from_definition()` method."
   ]
  },
  {
   "cell_type": "code",
   "execution_count": 82,
   "metadata": {
    "collapsed": false
   },
   "outputs": [
    {
     "data": {
      "text/plain": [
       "{'success': True}"
      ]
     },
     "execution_count": 82,
     "metadata": {},
     "output_type": "execute_result"
    }
   ],
   "source": [
    "fields_to_delete = [{'name':'num_boats',\n",
    "                    'name':'num_docks'}]\n",
    "ports_layer1_mgr.delete_from_definition({'fields':fields_to_delete})"
   ]
  },
  {
   "cell_type": "code",
   "execution_count": null,
   "metadata": {
    "collapsed": true
   },
   "outputs": [],
   "source": []
  }
 ],
 "metadata": {
  "anaconda-cloud": {},
  "kernelspec": {
   "display_name": "Python 3",
   "language": "python",
   "name": "python3"
  },
  "language_info": {
   "codemirror_mode": {
    "name": "ipython",
    "version": 3
   },
   "file_extension": ".py",
   "mimetype": "text/x-python",
   "name": "python",
   "nbconvert_exporter": "python",
   "pygments_lexer": "ipython3",
   "version": "3.5.3"
  }
 },
 "nbformat": 4,
 "nbformat_minor": 0
}
