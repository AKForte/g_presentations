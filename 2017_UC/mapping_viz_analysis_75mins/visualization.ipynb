{
 "cells": [
  {
   "cell_type": "markdown",
   "metadata": {},
   "source": [
    "# Visualization for GIS users\n",
    " 1. Smart mapping - lines - vary by symbol size\n",
    " 2. Smart mapping - polygons - vary by symbol color\n",
    "   - definition queries\n",
    "   - basic plots\n",
    " 3. Smart mapping - points - vary by density\n",
    " 4. Visualizing imagery layers - dynamic raster function\n",
    " 5. Visualizing temporal data"
   ]
  },
  {
   "cell_type": "markdown",
   "metadata": {},
   "source": [
    "## Smart mapping of line features"
   ]
  },
  {
   "cell_type": "code",
   "execution_count": 1,
   "metadata": {
    "collapsed": true
   },
   "outputs": [],
   "source": [
    "from arcgis.gis import *\n",
    "gis = GIS()"
   ]
  },
  {
   "cell_type": "code",
   "execution_count": 2,
   "metadata": {},
   "outputs": [
    {
     "data": {
      "application/vnd.jupyter.widget-view+json": {
       "model_id": "b77b72e8431d4b24bb5ae2d259bf7ca5"
      }
     },
     "metadata": {},
     "output_type": "display_data"
    }
   ],
   "source": [
    "map1 = gis.map('USA',3)\n",
    "map1"
   ]
  },
  {
   "cell_type": "markdown",
   "metadata": {},
   "source": [
    "Let us search for an item titled **USA Freeway System** by **Esri** and add that to the map"
   ]
  },
  {
   "cell_type": "code",
   "execution_count": 4,
   "metadata": {},
   "outputs": [
    {
     "data": {
      "text/plain": [
       "[<Item title:\"USA Freeway System\" type:Feature Layer Collection owner:esri>]"
      ]
     },
     "execution_count": 4,
     "metadata": {},
     "output_type": "execute_result"
    }
   ],
   "source": [
    "search_result = gis.content.search('title:USA freeway system AND owner:esri', \n",
    "                                  item_type = 'Feature Layer')\n",
    "search_result"
   ]
  },
  {
   "cell_type": "code",
   "execution_count": 5,
   "metadata": {
    "collapsed": true
   },
   "outputs": [],
   "source": [
    "freeway_item = search_result[0]\n",
    "map1.add_layer(freeway_item)"
   ]
  },
  {
   "cell_type": "markdown",
   "metadata": {},
   "source": [
    "#### Display the fields"
   ]
  },
  {
   "cell_type": "code",
   "execution_count": 51,
   "metadata": {},
   "outputs": [
    {
     "data": {
      "text/plain": [
       "[<FeatureLayer url:\"https://services.arcgis.com/P3ePLMYs2RVChkJx/arcgis/rest/services/USA_Freeway_System/FeatureServer/1\">,\n",
       " <FeatureLayer url:\"https://services.arcgis.com/P3ePLMYs2RVChkJx/arcgis/rest/services/USA_Freeway_System/FeatureServer/2\">]"
      ]
     },
     "execution_count": 51,
     "metadata": {},
     "output_type": "execute_result"
    }
   ],
   "source": [
    "freeway_item.layers"
   ]
  },
  {
   "cell_type": "code",
   "execution_count": 53,
   "metadata": {},
   "outputs": [
    {
     "name": "stdout",
     "output_type": "stream",
     "text": [
      "https://services.arcgis.com/P3ePLMYs2RVChkJx/arcgis/rest/services/USA_Freeway_System/FeatureServer/1\n",
      "OBJECTID\n",
      "ROUTE_NUM\n",
      "CLASS\n",
      "NUMBER\n",
      "SUFFIX\n",
      "DIST_MILES\n",
      "DIST_KM\n"
     ]
    }
   ],
   "source": [
    "# Use the first layer available on the service.\n",
    "freeway_feature_layer = freeway_item.layers[0]\n",
    "\n",
    "# Print the layer's url and field names.\n",
    "print(freeway_feature_layer.url)\n",
    "for field in freeway_feature_layer.properties['fields']:\n",
    "    print(field['name'])"
   ]
  },
  {
   "cell_type": "code",
   "execution_count": 7,
   "metadata": {},
   "outputs": [],
   "source": [
    "map1.add_layer(freeway_feature_layer, {\"renderer\":\"ClassedSizeRenderer\", \"field_name\": \"DIST_MILES\"})"
   ]
  },
  {
   "cell_type": "code",
   "execution_count": 19,
   "metadata": {
    "collapsed": true
   },
   "outputs": [],
   "source": [
    "# Change map's extent to San Diego, CA\n",
    "map1.center = [32.715, -117.1]"
   ]
  },
  {
   "cell_type": "code",
   "execution_count": 9,
   "metadata": {
    "collapsed": true
   },
   "outputs": [],
   "source": [
    "map1.zoom = 10"
   ]
  },
  {
   "cell_type": "markdown",
   "metadata": {},
   "source": [
    "## Visualizing area features"
   ]
  },
  {
   "cell_type": "code",
   "execution_count": 42,
   "metadata": {},
   "outputs": [],
   "source": [
    "map2 = gis.map('California', 6)"
   ]
  },
  {
   "cell_type": "code",
   "execution_count": 43,
   "metadata": {},
   "outputs": [
    {
     "data": {
      "application/vnd.jupyter.widget-view+json": {
       "model_id": "fc6d720fd0eb44f3bb3c2b69b8e8814d"
      }
     },
     "metadata": {},
     "output_type": "display_data"
    }
   ],
   "source": [
    "map2"
   ]
  },
  {
   "cell_type": "code",
   "execution_count": 55,
   "metadata": {},
   "outputs": [
    {
     "data": {
      "text/plain": [
       "[<Item title:\"USA Counties (Generalized)\" type:Feature Layer Collection owner:esri_dm>,\n",
       " <Item title:\"USA Counties\" type:Feature Layer Collection owner:esri_dm>,\n",
       " <Item title:\"USA Counties (Generalized)\" type:Feature Layer Collection owner:esri_dm>,\n",
       " <Item title:\"USA Counties\" type:Feature Layer Collection owner:esri_dm>]"
      ]
     },
     "execution_count": 55,
     "metadata": {},
     "output_type": "execute_result"
    }
   ],
   "source": [
    "county_search = gis.content.search(\"title:USA counties & owner:esri_dm\", \"feature layer\")\n",
    "county_search"
   ]
  },
  {
   "cell_type": "code",
   "execution_count": 56,
   "metadata": {},
   "outputs": [
    {
     "data": {
      "text/plain": [
       "[<FeatureLayer url:\"https://services.arcgis.com/P3ePLMYs2RVChkJx/arcgis/rest/services/USA_Counties_Generalized/FeatureServer/0\">]"
      ]
     },
     "execution_count": 56,
     "metadata": {},
     "output_type": "execute_result"
    }
   ],
   "source": [
    "county_item = county_search[0]\n",
    "county_item.layers"
   ]
  },
  {
   "cell_type": "code",
   "execution_count": 57,
   "metadata": {},
   "outputs": [
    {
     "name": "stdout",
     "output_type": "stream",
     "text": [
      "FID\n",
      "NAME\n",
      "STATE_NAME\n",
      "POP2010\n",
      "POP10_SQMI\n",
      "POP2012\n",
      "POP12_SQMI\n",
      "WHITE\n",
      "BLACK\n",
      "AMERI_ES\n",
      "ASIAN\n",
      "HAWN_PI\n",
      "HISPANIC\n",
      "OTHER\n",
      "MULT_RACE\n",
      "MALES\n",
      "FEMALES\n",
      "AGE_UNDER5\n",
      "AGE_5_9\n",
      "AGE_10_14\n",
      "AGE_15_19\n",
      "AGE_20_24\n",
      "AGE_25_34\n",
      "AGE_35_44\n",
      "AGE_45_54\n",
      "AGE_55_64\n",
      "AGE_65_74\n",
      "AGE_75_84\n",
      "AGE_85_UP\n",
      "MED_AGE\n",
      "MED_AGE_M\n",
      "MED_AGE_F\n",
      "HOUSEHOLDS\n",
      "AVE_HH_SZ\n",
      "HSEHLD_1_M\n",
      "HSEHLD_1_F\n",
      "MARHH_CHD\n",
      "MARHH_NO_C\n",
      "MHH_CHILD\n",
      "FHH_CHILD\n",
      "FAMILIES\n",
      "AVE_FAM_SZ\n",
      "HSE_UNITS\n",
      "VACANT\n",
      "OWNER_OCC\n",
      "RENTER_OCC\n",
      "NO_FARMS07\n",
      "AVG_SIZE07\n",
      "CROP_ACR07\n",
      "AVG_SALE07\n",
      "SQMI\n"
     ]
    }
   ],
   "source": [
    "county_feature_layer = county_item.layers[0]\n",
    "for field in county_feature_layer.properties.fields:\n",
    "    print(field['name'])"
   ]
  },
  {
   "cell_type": "markdown",
   "metadata": {},
   "source": [
    "#### Use definition expression"
   ]
  },
  {
   "cell_type": "code",
   "execution_count": 50,
   "metadata": {
    "collapsed": true
   },
   "outputs": [],
   "source": [
    "map2.add_layer(county_item, {'type':'FeatureLayer',\n",
    "                             'definition_expression':\"STATE_NAME='California'\"})"
   ]
  },
  {
   "cell_type": "markdown",
   "metadata": {},
   "source": [
    "#### Plot CA population by county"
   ]
  },
  {
   "cell_type": "code",
   "execution_count": 63,
   "metadata": {},
   "outputs": [
    {
     "ename": "Exception",
     "evalue": "Cannot create the SpatialDataFrame, you musthave ArcPy installed or have an autheticated GIS.",
     "output_type": "error",
     "traceback": [
      "\u001b[0;31m---------------------------------------------------------------------------\u001b[0m",
      "\u001b[0;31mException\u001b[0m                                 Traceback (most recent call last)",
      "\u001b[0;32m<ipython-input-63-bfdd4f399e30>\u001b[0m in \u001b[0;36m<module>\u001b[0;34m()\u001b[0m\n\u001b[1;32m      1\u001b[0m \u001b[0mcounty_fset\u001b[0m \u001b[0;34m=\u001b[0m \u001b[0mcounty_feature_layer\u001b[0m\u001b[0;34m.\u001b[0m\u001b[0mquery\u001b[0m\u001b[0;34m(\u001b[0m\u001b[0;34m\"STATE_NAME='California'\"\u001b[0m\u001b[0;34m)\u001b[0m\u001b[0;34m\u001b[0m\u001b[0m\n\u001b[0;32m----> 2\u001b[0;31m \u001b[0mcounty_fset\u001b[0m\u001b[0;34m.\u001b[0m\u001b[0mdf\u001b[0m\u001b[0;34m\u001b[0m\u001b[0m\n\u001b[0m",
      "\u001b[0;32m/Users/atma6951/anaconda/envs/geosaurus_gold/lib/python3.6/site-packages/arcgis/features/feature.py\u001b[0m in \u001b[0;36mdf\u001b[0;34m(self)\u001b[0m\n\u001b[1;32m    460\u001b[0m                 \u001b[0mdf\u001b[0m \u001b[0;34m=\u001b[0m \u001b[0mjson_normalize\u001b[0m\u001b[0;34m(\u001b[0m\u001b[0mattributes\u001b[0m\u001b[0;34m)\u001b[0m\u001b[0;34m\u001b[0m\u001b[0m\n\u001b[1;32m    461\u001b[0m                 \u001b[0mdf\u001b[0m\u001b[0;34m.\u001b[0m\u001b[0mcolumns\u001b[0m \u001b[0;34m=\u001b[0m \u001b[0mdf\u001b[0m\u001b[0;34m.\u001b[0m\u001b[0mcolumns\u001b[0m\u001b[0;34m.\u001b[0m\u001b[0mstr\u001b[0m\u001b[0;34m.\u001b[0m\u001b[0mreplace\u001b[0m\u001b[0;34m(\u001b[0m\u001b[0;34m'attributes.'\u001b[0m\u001b[0;34m,\u001b[0m \u001b[0;34m''\u001b[0m\u001b[0;34m)\u001b[0m\u001b[0;34m\u001b[0m\u001b[0m\n\u001b[0;32m--> 462\u001b[0;31m                 \u001b[0;32mreturn\u001b[0m \u001b[0mSpatialDataFrame\u001b[0m\u001b[0;34m(\u001b[0m\u001b[0mdf\u001b[0m\u001b[0;34m,\u001b[0m \u001b[0mgeometry\u001b[0m\u001b[0;34m=\u001b[0m\u001b[0mgeoms\u001b[0m\u001b[0;34m,\u001b[0m \u001b[0msr\u001b[0m\u001b[0;34m=\u001b[0m\u001b[0msr\u001b[0m\u001b[0;34m)\u001b[0m\u001b[0;34m\u001b[0m\u001b[0m\n\u001b[0m\u001b[1;32m    463\u001b[0m             \u001b[0;32melse\u001b[0m\u001b[0;34m:\u001b[0m\u001b[0;34m\u001b[0m\u001b[0m\n\u001b[1;32m    464\u001b[0m                 \u001b[0;31m#df = pandas.DataFrame.from_dict([f.attributes for f in fs.features])\u001b[0m\u001b[0;34m\u001b[0m\u001b[0;34m\u001b[0m\u001b[0m\n",
      "\u001b[0;32m/Users/atma6951/anaconda/envs/geosaurus_gold/lib/python3.6/site-packages/arcgis/features/_data/geodataset/geodataframe.py\u001b[0m in \u001b[0;36m__init__\u001b[0;34m(self, *args, **kwargs)\u001b[0m\n\u001b[1;32m     86\u001b[0m                      gis._con._auth.lower() == \"anon\")):\n\u001b[1;32m     87\u001b[0m             raise Exception(\"Cannot create the SpatialDataFrame, you must\" +\\\n\u001b[0;32m---> 88\u001b[0;31m                             \"have ArcPy installed or have an autheticated GIS.\")\n\u001b[0m\u001b[1;32m     89\u001b[0m         \u001b[0msr\u001b[0m \u001b[0;34m=\u001b[0m \u001b[0mkwargs\u001b[0m\u001b[0;34m.\u001b[0m\u001b[0mpop\u001b[0m\u001b[0;34m(\u001b[0m\u001b[0;34m'sr'\u001b[0m\u001b[0;34m,\u001b[0m \u001b[0;32mNone\u001b[0m\u001b[0;34m)\u001b[0m\u001b[0;34m\u001b[0m\u001b[0m\n\u001b[1;32m     90\u001b[0m         \u001b[0mgeometry\u001b[0m \u001b[0;34m=\u001b[0m \u001b[0mkwargs\u001b[0m\u001b[0;34m.\u001b[0m\u001b[0mpop\u001b[0m\u001b[0;34m(\u001b[0m\u001b[0;34m'geometry'\u001b[0m\u001b[0;34m,\u001b[0m \u001b[0;32mNone\u001b[0m\u001b[0;34m)\u001b[0m\u001b[0;34m\u001b[0m\u001b[0m\n",
      "\u001b[0;31mException\u001b[0m: Cannot create the SpatialDataFrame, you musthave ArcPy installed or have an autheticated GIS."
     ]
    }
   ],
   "source": [
    "county_fset = county_feature_layer.query(\"STATE_NAME='California'\")\n",
    "county_fset.df"
   ]
  },
  {
   "cell_type": "markdown",
   "metadata": {},
   "source": [
    "#### Smart mapping - symbolize by colors"
   ]
  },
  {
   "cell_type": "code",
   "execution_count": 58,
   "metadata": {},
   "outputs": [
    {
     "data": {
      "application/vnd.jupyter.widget-view+json": {
       "model_id": "3da8e15889364b4dac207a1c0dc7f3bd"
      }
     },
     "metadata": {},
     "output_type": "display_data"
    }
   ],
   "source": [
    "map3 = gis.map('California')\n",
    "map3"
   ]
  },
  {
   "cell_type": "code",
   "execution_count": 60,
   "metadata": {
    "collapsed": true
   },
   "outputs": [],
   "source": [
    "map3.add_layer(county_item, {\"type\":\"FeatureLayer\",\n",
    "                             \"definition_expression\" : \"STATE_NAME='California'\",\n",
    "                             \"renderer\":\"ClassedColorRenderer\",\n",
    "                             \"field_name\":\"POP2010\",\"opacity\":0.7\n",
    "              })"
   ]
  },
  {
   "cell_type": "markdown",
   "metadata": {},
   "source": [
    "## Visualizing location data\n",
    "Point features are the most common type of location data. Smart mapping provides a special visualization technique called **heatmap**. The heatmap renderer is useful when representing the spatial distribution or clustering of points as it represents the relative density of points on a map as smoothly varying sets of colors ranging from cool (low density) to hot (many points).\n",
    "\n",
    "Thus, the sample below visualizes earthquake occurrences in Southern California, using the heatmap renderer"
   ]
  },
  {
   "cell_type": "code",
   "execution_count": null,
   "metadata": {
    "collapsed": true
   },
   "outputs": [],
   "source": [
    "map3 = gis.map('Los Angeles', 8)"
   ]
  },
  {
   "cell_type": "code",
   "execution_count": null,
   "metadata": {
    "collapsed": true
   },
   "outputs": [],
   "source": [
    "map3"
   ]
  },
  {
   "cell_type": "markdown",
   "metadata": {},
   "source": [
    "![location data](http://esri.github.io/arcgis-python-api/notebooks/nbimages/02_SmartMapping_03.PNG)"
   ]
  },
  {
   "cell_type": "code",
   "execution_count": null,
   "metadata": {},
   "outputs": [],
   "source": [
    "map3.add_layer({\"type\":\"FeatureLayer\",\n",
    "                \"url\":\"http://services1.arcgis.com/hLJbHVT9ZrDIzK0I/arcgis/rest/services/EQMagGt4/FeatureServer/0\",\n",
    "                \"renderer\":\"HeatmapRenderer\",\n",
    "                \"opacity\":0.75})"
   ]
  }
 ],
 "metadata": {
  "anaconda-cloud": {},
  "celltoolbar": "Raw Cell Format",
  "kernelspec": {
   "display_name": "Python 3",
   "language": "python",
   "name": "python3"
  },
  "language_info": {
   "codemirror_mode": {
    "name": "ipython",
    "version": 3
   },
   "file_extension": ".py",
   "mimetype": "text/x-python",
   "name": "python",
   "nbconvert_exporter": "python",
   "pygments_lexer": "ipython3",
   "version": "3.6.1"
  }
 },
 "nbformat": 4,
 "nbformat_minor": 1
}
