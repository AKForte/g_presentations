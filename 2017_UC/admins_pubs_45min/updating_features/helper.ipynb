{
 "cells": [
  {
   "cell_type": "code",
   "execution_count": 9,
   "metadata": {
    "collapsed": true
   },
   "outputs": [],
   "source": [
    "from arcgis.gis import *\n",
    "# gis = GIS(\"https://python.playground.esri.com/portal\",\"arcgis_python\",\"amazing_arcgis_123\")\n",
    "gis = GIS(\"https://www.arcgis.com\",\"arcgis_python\",\"P@ssword123\")"
   ]
  },
  {
   "cell_type": "markdown",
   "metadata": {},
   "source": [
    "## Overwriting feature layers helper"
   ]
  },
  {
   "cell_type": "markdown",
   "metadata": {},
   "source": [
    "### delete the csv and service"
   ]
  },
  {
   "cell_type": "code",
   "execution_count": 10,
   "metadata": {},
   "outputs": [
    {
     "data": {
      "text/html": [
       "<div class=\"item_container\" style=\"height: auto; overflow: hidden; border: 1px solid #cfcfcf; border-radius: 2px; background: #f6fafa; line-height: 1.21429em; padding: 10px;\">\n",
       "                    <div class=\"item_left\" style=\"width: 210px; float: left;\">\n",
       "                       <a href='https://geosaurus.maps.arcgis.com/home/item.html?id=8082a9328c944b7eac8bc534131e89f4' target='_blank'>\n",
       "                        <img src='http://static.arcgis.com/images/desktopapp.png' class=\"itemThumbnail\">\n",
       "                       </a>\n",
       "                    </div>\n",
       "\n",
       "                    <div class=\"item_right\"     style=\"float: none; width: auto; overflow: hidden;\">\n",
       "                        <a href='https://geosaurus.maps.arcgis.com/home/item.html?id=8082a9328c944b7eac8bc534131e89f4' target='_blank'><b>USA Capitals spreadsheet UC</b>\n",
       "                        </a>\n",
       "                        <br/><img src='https://geosaurus.maps.arcgis.com/home/js/jsapi/esri/css/images/item_type_icons/layers16.png' style=\"vertical-align:middle;\">CSV by arcgis_python\n",
       "                        <br/>Last Modified: July 13, 2017\n",
       "                        <br/>0 comments, 0 views\n",
       "                    </div>\n",
       "                </div>\n",
       "                "
      ],
      "text/plain": [
       "<Item title:\"USA Capitals spreadsheet UC\" type:CSV owner:arcgis_python>"
      ]
     },
     "execution_count": 10,
     "metadata": {},
     "output_type": "execute_result"
    }
   ],
   "source": [
    "csv_item = gis.content.search('capitals_A1.csv')[0]\n",
    "csv_item"
   ]
  },
  {
   "cell_type": "code",
   "execution_count": 11,
   "metadata": {},
   "outputs": [
    {
     "data": {
      "text/plain": [
       "True"
      ]
     },
     "execution_count": 11,
     "metadata": {},
     "output_type": "execute_result"
    }
   ],
   "source": [
    "csv_item.delete()"
   ]
  },
  {
   "cell_type": "code",
   "execution_count": 12,
   "metadata": {},
   "outputs": [
    {
     "data": {
      "text/html": [
       "<div class=\"item_container\" style=\"height: auto; overflow: hidden; border: 1px solid #cfcfcf; border-radius: 2px; background: #f6fafa; line-height: 1.21429em; padding: 10px;\">\n",
       "                    <div class=\"item_left\" style=\"width: 210px; float: left;\">\n",
       "                       <a href='https://geosaurus.maps.arcgis.com/home/item.html?id=fc5b8f3fd6fa47cf82bf8e16777f0631' target='_blank'>\n",
       "                        <img src='data:image/png;base64,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' width='200' height='133' class=\"itemThumbnail\">\n",
       "                       </a>\n",
       "                    </div>\n",
       "\n",
       "                    <div class=\"item_right\"     style=\"float: none; width: auto; overflow: hidden;\">\n",
       "                        <a href='https://geosaurus.maps.arcgis.com/home/item.html?id=fc5b8f3fd6fa47cf82bf8e16777f0631' target='_blank'><b>USA Capitals spreadsheet 2</b>\n",
       "                        </a>\n",
       "                        <br/><img src='https://geosaurus.maps.arcgis.com/home/js/jsapi/esri/css/images/item_type_icons/featureshosted16.png' style=\"vertical-align:middle;\">Feature Layer Collection by arcgis_python\n",
       "                        <br/>Last Modified: April 27, 2017\n",
       "                        <br/>0 comments, 0 views\n",
       "                    </div>\n",
       "                </div>\n",
       "                "
      ],
      "text/plain": [
       "<Item title:\"USA Capitals spreadsheet 2\" type:Feature Layer Collection owner:arcgis_python>"
      ]
     },
     "execution_count": 12,
     "metadata": {},
     "output_type": "execute_result"
    }
   ],
   "source": [
    "csv_service = gis.content.search('USA Capitals 2', 'Feature Layer')[0]\n",
    "csv_service"
   ]
  },
  {
   "cell_type": "code",
   "execution_count": 13,
   "metadata": {},
   "outputs": [
    {
     "data": {
      "application/vnd.jupyter.widget-view+json": {
       "model_id": "c381bff1416f46b0ad8471dacadcc296"
      }
     },
     "metadata": {},
     "output_type": "display_data"
    }
   ],
   "source": [
    "map1 = gis.map()\n",
    "map1"
   ]
  },
  {
   "cell_type": "code",
   "execution_count": 14,
   "metadata": {
    "collapsed": true
   },
   "outputs": [],
   "source": [
    "map1.add_layer(csv_service)"
   ]
  },
  {
   "cell_type": "code",
   "execution_count": 15,
   "metadata": {},
   "outputs": [
    {
     "data": {
      "text/plain": [
       "True"
      ]
     },
     "execution_count": 15,
     "metadata": {},
     "output_type": "execute_result"
    }
   ],
   "source": [
    "csv_service.delete()"
   ]
  },
  {
   "cell_type": "code",
   "execution_count": null,
   "metadata": {
    "collapsed": true
   },
   "outputs": [],
   "source": []
  }
 ],
 "metadata": {
  "kernelspec": {
   "display_name": "Python 3",
   "language": "python",
   "name": "python3"
  },
  "language_info": {
   "codemirror_mode": {
    "name": "ipython",
    "version": 3
   },
   "file_extension": ".py",
   "mimetype": "text/x-python",
   "name": "python",
   "nbconvert_exporter": "python",
   "pygments_lexer": "ipython3",
   "version": "3.5.3"
  }
 },
 "nbformat": 4,
 "nbformat_minor": 2
}
