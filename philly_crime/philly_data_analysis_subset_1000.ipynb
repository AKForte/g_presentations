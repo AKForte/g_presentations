{
 "cells": [
  {
   "cell_type": "markdown",
   "metadata": {},
   "source": [
    "# General visualization of 1000 crime incidents"
   ]
  },
  {
   "cell_type": "code",
   "execution_count": 1,
   "metadata": {
    "collapsed": true
   },
   "outputs": [],
   "source": [
    "from arcgis.gis import *\n",
    "import pandas as pd\n",
    "import numpy as np\n",
    "import matplotlib.pyplot as plt\n",
    "%matplotlib inline"
   ]
  },
  {
   "cell_type": "code",
   "execution_count": 2,
   "metadata": {},
   "outputs": [],
   "source": [
    "philly_2006 = pd.read_csv(r'D:\\GIS_Data\\Analytics\\PhillyCrime\\Incidents_2006_subset.csv')"
   ]
  },
  {
   "cell_type": "code",
   "execution_count": 3,
   "metadata": {},
   "outputs": [
    {
     "data": {
      "text/html": [
       "<div>\n",
       "<table border=\"1\" class=\"dataframe\">\n",
       "  <thead>\n",
       "    <tr style=\"text-align: right;\">\n",
       "      <th></th>\n",
       "      <th>X</th>\n",
       "      <th>Y</th>\n",
       "      <th>DC_DIST</th>\n",
       "      <th>SECTOR</th>\n",
       "      <th>DISPATCH_DATE_TIME</th>\n",
       "      <th>DISPATCH_DATE</th>\n",
       "      <th>DISPATCH_TIME</th>\n",
       "      <th>HOUR</th>\n",
       "      <th>DC_KEY</th>\n",
       "      <th>LOCATION_BLOCK</th>\n",
       "      <th>UCR_GENERAL</th>\n",
       "      <th>OBJECTID</th>\n",
       "      <th>TEXT_GENERAL_CODE</th>\n",
       "      <th>POINT_X</th>\n",
       "      <th>POINT_Y</th>\n",
       "      <th>GlobalID</th>\n",
       "    </tr>\n",
       "  </thead>\n",
       "  <tbody>\n",
       "    <tr>\n",
       "      <th>0</th>\n",
       "      <td>-75.177031</td>\n",
       "      <td>40.043967</td>\n",
       "      <td>14</td>\n",
       "      <td>J</td>\n",
       "      <td>2006-06-20T20:05:00.000Z</td>\n",
       "      <td>6/20/2006</td>\n",
       "      <td>20:05:00</td>\n",
       "      <td>NaN</td>\n",
       "      <td>2.006140e+11</td>\n",
       "      <td>100 BLOCK E PASTORIUS ST</td>\n",
       "      <td>400</td>\n",
       "      <td>1001</td>\n",
       "      <td>Aggravated Assault No Firearm</td>\n",
       "      <td>-75.177031</td>\n",
       "      <td>40.043967</td>\n",
       "      <td>d76805d2-791e-45ab-a188-c9a3a4612413</td>\n",
       "    </tr>\n",
       "    <tr>\n",
       "      <th>1</th>\n",
       "      <td>-75.178589</td>\n",
       "      <td>39.951086</td>\n",
       "      <td>9</td>\n",
       "      <td>F</td>\n",
       "      <td>2006-04-06T17:39:00.000Z</td>\n",
       "      <td>4/6/2006</td>\n",
       "      <td>17:39:00</td>\n",
       "      <td>NaN</td>\n",
       "      <td>2.006090e+11</td>\n",
       "      <td>2300 BLOCK WALNUT ST</td>\n",
       "      <td>400</td>\n",
       "      <td>1002</td>\n",
       "      <td>Aggravated Assault No Firearm</td>\n",
       "      <td>-75.178589</td>\n",
       "      <td>39.951086</td>\n",
       "      <td>2970c4fb-4fdb-46eb-8094-bf1108753a0a</td>\n",
       "    </tr>\n",
       "    <tr>\n",
       "      <th>2</th>\n",
       "      <td>-75.242987</td>\n",
       "      <td>39.919478</td>\n",
       "      <td>12</td>\n",
       "      <td>F</td>\n",
       "      <td>2006-03-31T21:12:00.000Z</td>\n",
       "      <td>3/31/2006</td>\n",
       "      <td>21:12:00</td>\n",
       "      <td>NaN</td>\n",
       "      <td>2.006120e+11</td>\n",
       "      <td>71ST/WOODLAND AVE</td>\n",
       "      <td>400</td>\n",
       "      <td>1003</td>\n",
       "      <td>Aggravated Assault No Firearm</td>\n",
       "      <td>-75.242987</td>\n",
       "      <td>39.919478</td>\n",
       "      <td>849f3dd1-06ca-4c9e-b49e-f7702a318eac</td>\n",
       "    </tr>\n",
       "    <tr>\n",
       "      <th>3</th>\n",
       "      <td>-75.222908</td>\n",
       "      <td>39.939689</td>\n",
       "      <td>12</td>\n",
       "      <td>Q</td>\n",
       "      <td>2006-08-04T23:05:00.000Z</td>\n",
       "      <td>8/4/2006</td>\n",
       "      <td>23:05:00</td>\n",
       "      <td>NaN</td>\n",
       "      <td>2.006120e+11</td>\n",
       "      <td>S 54TH ST /CHESTER AVE</td>\n",
       "      <td>400</td>\n",
       "      <td>1004</td>\n",
       "      <td>Aggravated Assault No Firearm</td>\n",
       "      <td>-75.222908</td>\n",
       "      <td>39.939689</td>\n",
       "      <td>342dd6a1-1e7f-40e0-a64e-5495af499a9f</td>\n",
       "    </tr>\n",
       "    <tr>\n",
       "      <th>4</th>\n",
       "      <td>-75.238402</td>\n",
       "      <td>39.922713</td>\n",
       "      <td>12</td>\n",
       "      <td>G</td>\n",
       "      <td>2006-08-05T13:03:00.000Z</td>\n",
       "      <td>8/5/2006</td>\n",
       "      <td>13:03:00</td>\n",
       "      <td>NaN</td>\n",
       "      <td>2.006120e+11</td>\n",
       "      <td>S 68TH ST /WOODLAND AVE</td>\n",
       "      <td>400</td>\n",
       "      <td>1005</td>\n",
       "      <td>Aggravated Assault No Firearm</td>\n",
       "      <td>-75.238402</td>\n",
       "      <td>39.922713</td>\n",
       "      <td>14c3958a-1fef-4dfb-ba5f-b34e7e8c6fe0</td>\n",
       "    </tr>\n",
       "  </tbody>\n",
       "</table>\n",
       "</div>"
      ],
      "text/plain": [
       "           X          Y  DC_DIST SECTOR        DISPATCH_DATE_TIME  \\\n",
       "0 -75.177031  40.043967       14      J  2006-06-20T20:05:00.000Z   \n",
       "1 -75.178589  39.951086        9      F  2006-04-06T17:39:00.000Z   \n",
       "2 -75.242987  39.919478       12      F  2006-03-31T21:12:00.000Z   \n",
       "3 -75.222908  39.939689       12      Q  2006-08-04T23:05:00.000Z   \n",
       "4 -75.238402  39.922713       12      G  2006-08-05T13:03:00.000Z   \n",
       "\n",
       "  DISPATCH_DATE DISPATCH_TIME  HOUR        DC_KEY            LOCATION_BLOCK  \\\n",
       "0     6/20/2006      20:05:00   NaN  2.006140e+11  100 BLOCK E PASTORIUS ST   \n",
       "1      4/6/2006      17:39:00   NaN  2.006090e+11      2300 BLOCK WALNUT ST   \n",
       "2     3/31/2006      21:12:00   NaN  2.006120e+11         71ST/WOODLAND AVE   \n",
       "3      8/4/2006      23:05:00   NaN  2.006120e+11    S 54TH ST /CHESTER AVE   \n",
       "4      8/5/2006      13:03:00   NaN  2.006120e+11   S 68TH ST /WOODLAND AVE   \n",
       "\n",
       "   UCR_GENERAL  OBJECTID              TEXT_GENERAL_CODE    POINT_X    POINT_Y  \\\n",
       "0          400      1001  Aggravated Assault No Firearm -75.177031  40.043967   \n",
       "1          400      1002  Aggravated Assault No Firearm -75.178589  39.951086   \n",
       "2          400      1003  Aggravated Assault No Firearm -75.242987  39.919478   \n",
       "3          400      1004  Aggravated Assault No Firearm -75.222908  39.939689   \n",
       "4          400      1005  Aggravated Assault No Firearm -75.238402  39.922713   \n",
       "\n",
       "                               GlobalID  \n",
       "0  d76805d2-791e-45ab-a188-c9a3a4612413  \n",
       "1  2970c4fb-4fdb-46eb-8094-bf1108753a0a  \n",
       "2  849f3dd1-06ca-4c9e-b49e-f7702a318eac  \n",
       "3  342dd6a1-1e7f-40e0-a64e-5495af499a9f  \n",
       "4  14c3958a-1fef-4dfb-ba5f-b34e7e8c6fe0  "
      ]
     },
     "execution_count": 3,
     "metadata": {},
     "output_type": "execute_result"
    }
   ],
   "source": [
    "philly_2006.head()"
   ]
  },
  {
   "cell_type": "code",
   "execution_count": 5,
   "metadata": {},
   "outputs": [
    {
     "data": {
      "text/plain": [
       "(999, 16)"
      ]
     },
     "execution_count": 5,
     "metadata": {},
     "output_type": "execute_result"
    }
   ],
   "source": [
    "philly_2006.shape"
   ]
  },
  {
   "cell_type": "markdown",
   "metadata": {},
   "source": [
    "## Which crime is most likely to occur?"
   ]
  },
  {
   "cell_type": "code",
   "execution_count": 6,
   "metadata": {},
   "outputs": [
    {
     "data": {
      "text/plain": [
       "Thefts                            338\n",
       "Theft from Vehicle                243\n",
       "Motor Vehicle Theft                90\n",
       "Burglary Residential               80\n",
       "Recovered Stolen Motor Vehicle     77\n",
       "Aggravated Assault No Firearm      76\n",
       "Robbery No Firearm                 51\n",
       "Robbery Firearm                    18\n",
       "Aggravated Assault Firearm         18\n",
       "Burglary Non-Residential            7\n",
       "Homicide - Criminal                 1\n",
       "Name: TEXT_GENERAL_CODE, dtype: int64"
      ]
     },
     "execution_count": 6,
     "metadata": {},
     "output_type": "execute_result"
    }
   ],
   "source": [
    "philly_2006.TEXT_GENERAL_CODE.value_counts()"
   ]
  },
  {
   "cell_type": "code",
   "execution_count": 7,
   "metadata": {},
   "outputs": [
    {
     "data": {
      "text/plain": [
       "<matplotlib.axes._subplots.AxesSubplot at 0x1e8eff21278>"
      ]
     },
     "execution_count": 7,
     "metadata": {},
     "output_type": "execute_result"
    },
    {
     "data": {
      "image/png": "[encoded data removed]",
      "text/plain": [
       "<matplotlib.figure.Figure at 0x1e8efbf69b0>"
      ]
     },
     "metadata": {},
     "output_type": "display_data"
    }
   ],
   "source": [
    "philly_2006.TEXT_GENERAL_CODE.value_counts().plot(kind='bar')"
   ]
  },
  {
   "cell_type": "markdown",
   "metadata": {},
   "source": [
    "### Slice time and create the following columns\n",
    "Year, Month, Day, Day_of_week, Hour"
   ]
  },
  {
   "cell_type": "code",
   "execution_count": 4,
   "metadata": {},
   "outputs": [],
   "source": [
    "philly_2006['HOUR'] = [pd.to_datetime(f).hour for f in philly_2006.DISPATCH_DATE_TIME]"
   ]
  },
  {
   "cell_type": "code",
   "execution_count": 14,
   "metadata": {},
   "outputs": [],
   "source": [
    "philly_2006['year'] = [pd.to_datetime(f).date().year for f in philly_2006.DISPATCH_DATE_TIME]"
   ]
  },
  {
   "cell_type": "code",
   "execution_count": 15,
   "metadata": {},
   "outputs": [],
   "source": [
    "philly_2006['month'] = [pd.to_datetime(f).date().month for f in philly_2006.DISPATCH_DATE_TIME]"
   ]
  },
  {
   "cell_type": "code",
   "execution_count": 17,
   "metadata": {},
   "outputs": [],
   "source": [
    "philly_2006['day_of_month'] = \\\n",
    "[pd.to_datetime(f).date().day for f in philly_2006.DISPATCH_DATE_TIME]"
   ]
  },
  {
   "cell_type": "code",
   "execution_count": 28,
   "metadata": {},
   "outputs": [],
   "source": [
    "philly_2006['day_of_week'] = \\\n",
    "[pd.to_datetime(f).weekday_name for f in philly_2006.DISPATCH_DATE_TIME]"
   ]
  },
  {
   "cell_type": "code",
   "execution_count": 30,
   "metadata": {},
   "outputs": [],
   "source": [
    "philly_2006.to_csv(r'D:\\GIS_Data\\Analytics\\PhillyCrime\\Incidents_2006_subset_timed.csv')"
   ]
  },
  {
   "cell_type": "markdown",
   "metadata": {
    "collapsed": true
   },
   "source": [
    "## Find which hour does each crime happen\n",
    "Correlate Theft with hour"
   ]
  },
  {
   "cell_type": "code",
   "execution_count": 51,
   "metadata": {},
   "outputs": [
    {
     "data": {
      "text/plain": [
       "<matplotlib.axes._subplots.AxesSubplot at 0x24c70801c88>"
      ]
     },
     "execution_count": 51,
     "metadata": {},
     "output_type": "execute_result"
    },
    {
     "data": {
      "image/png": "[encoded data removed]",
      "text/plain": [
       "<matplotlib.figure.Figure at 0x24c70764be0>"
      ]
     },
     "metadata": {},
     "output_type": "display_data"
    }
   ],
   "source": [
    "thefts = philly_2006[philly_2006['TEXT_GENERAL_CODE']=='Thefts']\n",
    "xticks = np.arange(0,24) #for the x axis\n",
    "thefts.HOUR.value_counts(sort=False).plot('bar')"
   ]
  },
  {
   "cell_type": "code",
   "execution_count": 52,
   "metadata": {},
   "outputs": [
    {
     "data": {
      "text/plain": [
       "array([ 28, 286,  98,  43, 194, 210, 303, 136, 265,   3, 148, 151,  36,\n",
       "       328, 189, 116, 236, 187, 135, 164, 191, 272, 219, 228,  46,  38,\n",
       "        23, 125,  80, 327,  22, 138, 277, 211, 178, 165, 107,  14, 336,\n",
       "        95, 105, 140,  27,  69, 218, 169, 179,  42, 139, 255, 231,  64,\n",
       "        45, 329,  67, 267, 258, 253,  20, 312, 224, 173, 143, 268,  48,\n",
       "       296, 305,  66,  55, 201,  86, 317,  90, 215, 288, 241, 104, 271,\n",
       "        87, 275,  59, 331, 237,  32, 117,  49, 240,  26, 184, 158, 282,\n",
       "       284, 100, 101, 324, 155, 245, 162, 156,  75, 175,  51, 234, 207,\n",
       "       111, 167,   9, 114, 186, 109, 102,  30,  68, 332,  31, 239, 256,\n",
       "       310, 323, 269, 293, 266, 177, 335, 299,  77, 322, 205, 166,  15,\n",
       "       325, 270, 260, 106, 220,  52, 141, 209, 196,  71, 208, 254, 315,\n",
       "       192,  33,  16, 146,  92, 222,  57,   7, 306,  10, 204, 300, 321,\n",
       "       287, 257, 213, 110, 108, 225, 130, 103, 217,  60, 298,  94,  53,\n",
       "       309, 263,  50, 127, 145, 250,  12,  72,  40,  84, 134, 337, 314,\n",
       "       137, 172,  25,  35, 297, 302, 313,  39, 121,  81,  47,  79, 279,\n",
       "        56, 252, 249,  41,  91, 182, 193,  37, 161, 202, 160, 246, 185,\n",
       "       304, 289, 188, 198, 326, 122, 171, 227, 120, 221, 318, 124, 316,\n",
       "        63, 301, 176, 147, 274, 235, 264, 248, 259,   6, 212,  54, 118,\n",
       "         0, 283, 181, 206,  58, 334, 311, 113, 144, 261,  65,  82, 292,\n",
       "         8, 226, 216,  17,  76, 244,  24,  93,  61, 183,  13,   1, 159,\n",
       "       273,  29, 132, 319,  96,  85, 242, 133, 190,  11,  34, 180, 163,\n",
       "        99, 115, 168, 276, 119,  78, 131, 333, 295, 232, 285, 195, 229,\n",
       "       223, 291, 307, 214, 330,  88, 262, 203, 290, 243, 200,  18, 128,\n",
       "        74,  62, 112, 153, 142,  89, 278,   5, 199, 280, 294,   2,  83,\n",
       "       149, 129, 230, 174, 170,  21, 281,  97, 197,  44, 123, 150,  70,\n",
       "       251, 152, 247, 308,  19, 154, 238, 233, 320,   4, 126, 157,  73])"
      ]
     },
     "execution_count": 52,
     "metadata": {},
     "output_type": "execute_result"
    }
   ],
   "source": [
    "np.random.permutation(len(thefts))"
   ]
  },
  {
   "cell_type": "code",
   "execution_count": null,
   "metadata": {
    "collapsed": true
   },
   "outputs": [],
   "source": []
  }
 ],
 "metadata": {
  "kernelspec": {
   "display_name": "Python 3",
   "language": "python",
   "name": "python3"
  },
  "language_info": {
   "codemirror_mode": {
    "name": "ipython",
    "version": 3
   },
   "file_extension": ".py",
   "mimetype": "text/x-python",
   "name": "python",
   "nbconvert_exporter": "python",
   "pygments_lexer": "ipython3",
   "version": "3.5.3"
  }
 },
 "nbformat": 4,
 "nbformat_minor": 1
}
