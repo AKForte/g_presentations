{
 "cells": [
  {
   "cell_type": "code",
   "execution_count": 2,
   "metadata": {
    "collapsed": false
   },
   "outputs": [],
   "source": [
    "from arcgis.gis import GIS\n",
    "target = GIS(\"https://dev003735.esri.com/portal\",\"admin\",\"esri.agp\")"
   ]
  },
  {
   "cell_type": "code",
   "execution_count": 3,
   "metadata": {
    "collapsed": false
   },
   "outputs": [],
   "source": [
    "users_to_remove = ['adams.powell','allen.price','anderson.bailey','baker.long','brown.rogers']"
   ]
  },
  {
   "cell_type": "code",
   "execution_count": 4,
   "metadata": {
    "collapsed": true
   },
   "outputs": [],
   "source": [
    "groups_to_remove = [\"Central Services\",\n",
    "                    \"Compliance\",\"Customer Service, Finance, Billing and Accounting\",\n",
    "                    \"Demographic Content\"]"
   ]
  },
  {
   "cell_type": "code",
   "execution_count": 7,
   "metadata": {
    "collapsed": false
   },
   "outputs": [
    {
     "name": "stdout",
     "output_type": "stream",
     "text": [
      "adams.powell\n",
      "Brown Rogers response locations\n",
      "AR\n",
      "AR\n",
      "allen.price\n",
      "AR\n",
      "Brown Rogers response locations\n",
      "AR\n",
      "anderson.bailey\n",
      "Brown Rogers response locations\n",
      "AR\n",
      "AR\n",
      "baker.long\n",
      "AR\n",
      "Brown Rogers response locations\n",
      "AR\n",
      "brown.rogers\n",
      "Brown Rogers response locations\n",
      "AR\n",
      "AR\n"
     ]
    }
   ],
   "source": [
    "for user in  users_to_remove:\n",
    "    print(user)\n",
    "    user_obj = target.users.search(user)[0]\n",
    "    for item in user_obj.items():\n",
    "        print(item.title)\n",
    "        item.delete()\n",
    "    user_obj.delete()"
   ]
  },
  {
   "cell_type": "code",
   "execution_count": 8,
   "metadata": {
    "collapsed": false
   },
   "outputs": [
    {
     "data": {
      "text/plain": [
       "[<User username:admin>,\n",
       " <User username:arcgis_python_api>,\n",
       " <User username:esri_boundaries>,\n",
       " <User username:esri_demographics>,\n",
       " <User username:esri_livingatlas>,\n",
       " <User username:esri_nav>,\n",
       " <User username:publisher1>,\n",
       " <User username:system_publisher>]"
      ]
     },
     "execution_count": 8,
     "metadata": {},
     "output_type": "execute_result"
    }
   ],
   "source": [
    "target.users.search()"
   ]
  },
  {
   "cell_type": "code",
   "execution_count": 11,
   "metadata": {
    "collapsed": false
   },
   "outputs": [
    {
     "data": {
      "text/plain": [
       "[<Group title:\"Esri Boundary Layers\" owner:esri_boundaries>,\n",
       " <Group title:\"Esri Demographic Layers\" owner:esri_demographics>,\n",
       " <Group title:\"Featured Maps and Apps\" owner:admin>,\n",
       " <Group title:\"Living Atlas\" owner:esri_livingatlas>,\n",
       " <Group title:\"Living Atlas Analysis Layers\" owner:esri_livingatlas>,\n",
       " <Group title:\"Navigator Maps\" owner:esri_nav>]"
      ]
     },
     "execution_count": 11,
     "metadata": {},
     "output_type": "execute_result"
    }
   ],
   "source": [
    "target.groups.search()"
   ]
  },
  {
   "cell_type": "code",
   "execution_count": 10,
   "metadata": {
    "collapsed": false
   },
   "outputs": [
    {
     "name": "stdout",
     "output_type": "stream",
     "text": [
      "Central Services\n",
      "Compliance\n",
      "Customer Service, Finance, Billing and Accounting\n",
      "Demographic Content\n"
     ]
    }
   ],
   "source": [
    "for g in groups_to_remove:\n",
    "    print(g)\n",
    "    group_obj = target.groups.search(g)[0]\n",
    "    group_obj.delete()"
   ]
  },
  {
   "cell_type": "code",
   "execution_count": null,
   "metadata": {
    "collapsed": true
   },
   "outputs": [],
   "source": []
  }
 ],
 "metadata": {
  "kernelspec": {
   "display_name": "Python 3",
   "language": "python",
   "name": "python3"
  },
  "language_info": {
   "codemirror_mode": {
    "name": "ipython",
    "version": 3
   },
   "file_extension": ".py",
   "mimetype": "text/x-python",
   "name": "python",
   "nbconvert_exporter": "python",
   "pygments_lexer": "ipython3",
   "version": "3.5.3"
  }
 },
 "nbformat": 4,
 "nbformat_minor": 2
}
