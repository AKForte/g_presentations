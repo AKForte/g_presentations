{
 "cells": [
  {
   "cell_type": "markdown",
   "metadata": {},
   "source": [
    "# Overwriting and updating feature layers\n",
    "\n",
    "**Steps**\n",
    " - [Publish the cities feature layer using the initial dataset](Publish-the-cities-feature-layer-using-the-initial-dataset)\n",
    " - [Merge updates from spreadsheets 1 and 2](#Merge-updates-from-spreadsheets-1-and-2)\n",
    "   - [Write the updates to disk](#Write-the-updates-to-disk)\n",
    " - [Overwrite the feature layer](#Overwrite-the-feature-layer)\n",
    "   - [Access the overwritten feature layer](#Access-the-overwritten-feature-layer)\n",
    " - [Update feature layer collection's definition]()\n",
    "   - [Add new columns and new attribute information]()\n",
    " - [Conclusion](#Conclusion)"
   ]
  },
  {
   "cell_type": "code",
   "execution_count": 35,
   "metadata": {
    "collapsed": true
   },
   "outputs": [],
   "source": [
    "# Import libraries\n",
    "from arcgis.gis import GIS\n",
    "from arcgis import features\n",
    "from getpass import getpass #to accept passwords in an interactive fashion\n",
    "import pandas as pd"
   ]
  },
  {
   "cell_type": "code",
   "execution_count": 37,
   "metadata": {},
   "outputs": [
    {
     "name": "stdout",
     "output_type": "stream",
     "text": [
      "········\n"
     ]
    }
   ],
   "source": [
    "# Connect to the GIS\n",
    "password = getpass()\n",
    "gis = GIS(\"https://www.arcgis.com/\",'arcgis_python', password)"
   ]
  },
  {
   "cell_type": "code",
   "execution_count": 38,
   "metadata": {},
   "outputs": [
    {
     "data": {
      "text/html": [
       "GIS @ <a href=\"https://geosaurus.maps.arcgis.com\">https://geosaurus.maps.arcgis.com</a>"
      ],
      "text/plain": [
       "<arcgis.gis.GIS at 0x1134623c8>"
      ]
     },
     "execution_count": 38,
     "metadata": {},
     "output_type": "execute_result"
    }
   ],
   "source": [
    "gis"
   ]
  },
  {
   "cell_type": "markdown",
   "metadata": {},
   "source": [
    "## Publish the cities feature layer using the initial dataset"
   ]
  },
  {
   "cell_type": "code",
   "execution_count": 39,
   "metadata": {},
   "outputs": [
    {
     "data": {
      "text/html": [
       "<div>\n",
       "<style>\n",
       "    .dataframe thead tr:only-child th {\n",
       "        text-align: right;\n",
       "    }\n",
       "\n",
       "    .dataframe thead th {\n",
       "        text-align: left;\n",
       "    }\n",
       "\n",
       "    .dataframe tbody tr th {\n",
       "        vertical-align: top;\n",
       "    }\n",
       "</style>\n",
       "<table border=\"1\" class=\"dataframe\">\n",
       "  <thead>\n",
       "    <tr style=\"text-align: right;\">\n",
       "      <th></th>\n",
       "      <th>city_id</th>\n",
       "      <th>name</th>\n",
       "      <th>state</th>\n",
       "      <th>capital</th>\n",
       "      <th>pop2000</th>\n",
       "      <th>pop2007</th>\n",
       "      <th>longitude</th>\n",
       "      <th>latitude</th>\n",
       "    </tr>\n",
       "  </thead>\n",
       "  <tbody>\n",
       "    <tr>\n",
       "      <th>0</th>\n",
       "      <td>1</td>\n",
       "      <td>Honolulu</td>\n",
       "      <td>HI</td>\n",
       "      <td>State</td>\n",
       "      <td>371657</td>\n",
       "      <td>378587</td>\n",
       "      <td>-157.823436</td>\n",
       "      <td>21.305782</td>\n",
       "    </tr>\n",
       "    <tr>\n",
       "      <th>1</th>\n",
       "      <td>2</td>\n",
       "      <td>Juneau</td>\n",
       "      <td>AK</td>\n",
       "      <td>State</td>\n",
       "      <td>30711</td>\n",
       "      <td>31592</td>\n",
       "      <td>-134.511582</td>\n",
       "      <td>58.351418</td>\n",
       "    </tr>\n",
       "    <tr>\n",
       "      <th>2</th>\n",
       "      <td>3</td>\n",
       "      <td>Boise City</td>\n",
       "      <td>ID</td>\n",
       "      <td>State</td>\n",
       "      <td>185787</td>\n",
       "      <td>203529</td>\n",
       "      <td>-116.237655</td>\n",
       "      <td>43.613736</td>\n",
       "    </tr>\n",
       "    <tr>\n",
       "      <th>3</th>\n",
       "      <td>4</td>\n",
       "      <td>Olympia</td>\n",
       "      <td>WA</td>\n",
       "      <td>State</td>\n",
       "      <td>27514</td>\n",
       "      <td>45523</td>\n",
       "      <td>-122.893073</td>\n",
       "      <td>47.042418</td>\n",
       "    </tr>\n",
       "    <tr>\n",
       "      <th>4</th>\n",
       "      <td>5</td>\n",
       "      <td>Salem</td>\n",
       "      <td>OR</td>\n",
       "      <td>State</td>\n",
       "      <td>136924</td>\n",
       "      <td>152039</td>\n",
       "      <td>-123.029155</td>\n",
       "      <td>44.931109</td>\n",
       "    </tr>\n",
       "  </tbody>\n",
       "</table>\n",
       "</div>"
      ],
      "text/plain": [
       "   city_id        name state capital  pop2000  pop2007   longitude   latitude\n",
       "0        1    Honolulu    HI   State   371657   378587 -157.823436  21.305782\n",
       "1        2      Juneau    AK   State    30711    31592 -134.511582  58.351418\n",
       "2        3  Boise City    ID   State   185787   203529 -116.237655  43.613736\n",
       "3        4     Olympia    WA   State    27514    45523 -122.893073  47.042418\n",
       "4        5       Salem    OR   State   136924   152039 -123.029155  44.931109"
      ]
     },
     "execution_count": 39,
     "metadata": {},
     "output_type": "execute_result"
    }
   ],
   "source": [
    "# read the initial csv\n",
    "csv1 = 'capitals_c1.csv'\n",
    "cities_df_1 = pd.read_csv(csv1)\n",
    "cities_df_1.head()"
   ]
  },
  {
   "cell_type": "code",
   "execution_count": 40,
   "metadata": {},
   "outputs": [
    {
     "data": {
      "text/plain": [
       "(19, 8)"
      ]
     },
     "execution_count": 40,
     "metadata": {},
     "output_type": "execute_result"
    }
   ],
   "source": [
    "# print the number of records in this csv\n",
    "cities_df_1.shape"
   ]
  },
  {
   "cell_type": "code",
   "execution_count": 17,
   "metadata": {},
   "outputs": [
    {
     "data": {
      "text/html": [
       "<div class=\"item_container\" style=\"height: auto; overflow: hidden; border: 1px solid #cfcfcf; border-radius: 2px; background: #f6fafa; line-height: 1.21429em; padding: 10px;\">\n",
       "                    <div class=\"item_left\" style=\"width: 210px; float: left;\">\n",
       "                       <a href='https://geosaurus.maps.arcgis.com/home/item.html?id=eb9c74a2fe4f464e97172db4e39121c2' target='_blank'>\n",
       "                        <img src='http://static.arcgis.com/images/desktopapp.png' class=\"itemThumbnail\">\n",
       "                       </a>\n",
       "                    </div>\n",
       "\n",
       "                    <div class=\"item_right\"     style=\"float: none; width: auto; overflow: hidden;\">\n",
       "                        <a href='https://geosaurus.maps.arcgis.com/home/item.html?id=eb9c74a2fe4f464e97172db4e39121c2' target='_blank'><b>USA Capitals spreadsheet UC 2</b>\n",
       "                        </a>\n",
       "                        <br/><img src='https://geosaurus.maps.arcgis.com/home/js/jsapi/esri/css/images/item_type_icons/layers16.png' style=\"vertical-align:middle;\">CSV by arcgis_python\n",
       "                        <br/>Last Modified: July 13, 2017\n",
       "                        <br/>0 comments, 0 views\n",
       "                    </div>\n",
       "                </div>\n",
       "                "
      ],
      "text/plain": [
       "<Item title:\"USA Capitals spreadsheet UC 2\" type:CSV owner:arcgis_python>"
      ]
     },
     "execution_count": 17,
     "metadata": {},
     "output_type": "execute_result"
    }
   ],
   "source": [
    "# add the csv as an item\n",
    "item_prop = {'title':'USA Capitals spreadsheet UC 2'}\n",
    "csv_item = gis.content.add(item_properties=item_prop, data=csv1)\n",
    "csv_item"
   ]
  },
  {
   "cell_type": "code",
   "execution_count": 18,
   "metadata": {},
   "outputs": [
    {
     "data": {
      "text/html": [
       "<div class=\"item_container\" style=\"height: auto; overflow: hidden; border: 1px solid #cfcfcf; border-radius: 2px; background: #f6fafa; line-height: 1.21429em; padding: 10px;\">\n",
       "                    <div class=\"item_left\" style=\"width: 210px; float: left;\">\n",
       "                       <a href='https://geosaurus.maps.arcgis.com/home/item.html?id=1bfab5bc719b40eeab753e3c63ce874c' target='_blank'>\n",
       "                        <img src='http://static.arcgis.com/images/desktopapp.png' class=\"itemThumbnail\">\n",
       "                       </a>\n",
       "                    </div>\n",
       "\n",
       "                    <div class=\"item_right\"     style=\"float: none; width: auto; overflow: hidden;\">\n",
       "                        <a href='https://geosaurus.maps.arcgis.com/home/item.html?id=1bfab5bc719b40eeab753e3c63ce874c' target='_blank'><b>USA Capitals spreadsheet UC 2</b>\n",
       "                        </a>\n",
       "                        <br/><img src='https://geosaurus.maps.arcgis.com/home/js/jsapi/esri/css/images/item_type_icons/featureshosted16.png' style=\"vertical-align:middle;\">Feature Layer Collection by arcgis_python\n",
       "                        <br/>Last Modified: July 13, 2017\n",
       "                        <br/>0 comments, 0 views\n",
       "                    </div>\n",
       "                </div>\n",
       "                "
      ],
      "text/plain": [
       "<Item title:\"USA Capitals spreadsheet UC 2\" type:Feature Layer Collection owner:arcgis_python>"
      ]
     },
     "execution_count": 18,
     "metadata": {},
     "output_type": "execute_result"
    }
   ],
   "source": [
    "# publish the csv item into a feature layer\n",
    "cities_item = csv_item.publish()\n",
    "cities_item"
   ]
  },
  {
   "cell_type": "code",
   "execution_count": 41,
   "metadata": {},
   "outputs": [
    {
     "data": {
      "application/vnd.jupyter.widget-view+json": {
       "model_id": "9791d64fda834fb2ac206195f7d6b658"
      }
     },
     "metadata": {},
     "output_type": "display_data"
    }
   ],
   "source": [
    "map1 = gis.map('USA')\n",
    "map1"
   ]
  },
  {
   "cell_type": "code",
   "execution_count": 42,
   "metadata": {
    "collapsed": true
   },
   "outputs": [],
   "source": [
    "map1.add_layer(cities_item)"
   ]
  },
  {
   "cell_type": "code",
   "execution_count": 43,
   "metadata": {},
   "outputs": [
    {
     "data": {
      "text/plain": [
       "'https://services7.arcgis.com/JEwYeAy2cc8qOe3o/arcgis/rest/services/USA_Capitals_spreadsheet_UC_2/FeatureServer'"
      ]
     },
     "execution_count": 43,
     "metadata": {},
     "output_type": "execute_result"
    }
   ],
   "source": [
    "cities_item.url"
   ]
  },
  {
   "cell_type": "markdown",
   "metadata": {},
   "source": [
    "## Merge updates from spreadsheet 2 with 1\n",
    "The next set of updates have arrived and are stored in `usa_capitals_2.csv`. We are told it contains corrections for the original set of features and also has new features.\n",
    "\n",
    "Instead of applying the updates one at a time, we will merge both the spreadsheets into a new one."
   ]
  },
  {
   "cell_type": "code",
   "execution_count": 44,
   "metadata": {},
   "outputs": [
    {
     "data": {
      "text/html": [
       "<div>\n",
       "<style>\n",
       "    .dataframe thead tr:only-child th {\n",
       "        text-align: right;\n",
       "    }\n",
       "\n",
       "    .dataframe thead th {\n",
       "        text-align: left;\n",
       "    }\n",
       "\n",
       "    .dataframe tbody tr th {\n",
       "        vertical-align: top;\n",
       "    }\n",
       "</style>\n",
       "<table border=\"1\" class=\"dataframe\">\n",
       "  <thead>\n",
       "    <tr style=\"text-align: right;\">\n",
       "      <th></th>\n",
       "      <th>city_id</th>\n",
       "      <th>name</th>\n",
       "      <th>state</th>\n",
       "      <th>capital</th>\n",
       "      <th>pop2000</th>\n",
       "      <th>pop2007</th>\n",
       "      <th>longitude</th>\n",
       "      <th>latitude</th>\n",
       "    </tr>\n",
       "  </thead>\n",
       "  <tbody>\n",
       "    <tr>\n",
       "      <th>0</th>\n",
       "      <td>20</td>\n",
       "      <td>Baton Rouge</td>\n",
       "      <td>LA</td>\n",
       "      <td>State</td>\n",
       "      <td>227818</td>\n",
       "      <td>228810</td>\n",
       "      <td>-91.140227</td>\n",
       "      <td>30.458091</td>\n",
       "    </tr>\n",
       "    <tr>\n",
       "      <th>1</th>\n",
       "      <td>21</td>\n",
       "      <td>Helena</td>\n",
       "      <td>MT</td>\n",
       "      <td>State</td>\n",
       "      <td>25780</td>\n",
       "      <td>26007</td>\n",
       "      <td>-112.027027</td>\n",
       "      <td>46.595809</td>\n",
       "    </tr>\n",
       "    <tr>\n",
       "      <th>2</th>\n",
       "      <td>22</td>\n",
       "      <td>Bismarck</td>\n",
       "      <td>ND</td>\n",
       "      <td>State</td>\n",
       "      <td>55532</td>\n",
       "      <td>59344</td>\n",
       "      <td>-100.779000</td>\n",
       "      <td>46.813346</td>\n",
       "    </tr>\n",
       "    <tr>\n",
       "      <th>3</th>\n",
       "      <td>23</td>\n",
       "      <td>Pierre</td>\n",
       "      <td>SD</td>\n",
       "      <td>State</td>\n",
       "      <td>13876</td>\n",
       "      <td>14169</td>\n",
       "      <td>-100.336382</td>\n",
       "      <td>44.367964</td>\n",
       "    </tr>\n",
       "    <tr>\n",
       "      <th>4</th>\n",
       "      <td>24</td>\n",
       "      <td>St. Paul</td>\n",
       "      <td>MN</td>\n",
       "      <td>State</td>\n",
       "      <td>287151</td>\n",
       "      <td>291643</td>\n",
       "      <td>-93.114118</td>\n",
       "      <td>44.954364</td>\n",
       "    </tr>\n",
       "  </tbody>\n",
       "</table>\n",
       "</div>"
      ],
      "text/plain": [
       "   city_id         name state capital  pop2000  pop2007   longitude   latitude\n",
       "0       20  Baton Rouge    LA   State   227818   228810  -91.140227  30.458091\n",
       "1       21       Helena    MT   State    25780    26007 -112.027027  46.595809\n",
       "2       22     Bismarck    ND   State    55532    59344 -100.779000  46.813346\n",
       "3       23       Pierre    SD   State    13876    14169 -100.336382  44.367964\n",
       "4       24     St. Paul    MN   State   287151   291643  -93.114118  44.954364"
      ]
     },
     "execution_count": 44,
     "metadata": {},
     "output_type": "execute_result"
    }
   ],
   "source": [
    "# read the second csv set\n",
    "csv2 = 'capitals_A2.csv'\n",
    "cities_df_2 = pd.read_csv(csv2)\n",
    "cities_df_2.head(5)"
   ]
  },
  {
   "cell_type": "code",
   "execution_count": 45,
   "metadata": {},
   "outputs": [
    {
     "data": {
      "text/plain": [
       "(36, 8)"
      ]
     },
     "execution_count": 45,
     "metadata": {},
     "output_type": "execute_result"
    }
   ],
   "source": [
    "# get the dimensions of this csv\n",
    "cities_df_2.shape"
   ]
  },
  {
   "cell_type": "markdown",
   "metadata": {},
   "source": [
    "Let us `append` the spreadsheets 1 and 2 and store it in a DataFrame called `updated_df`. Note, this step introduces duplicate rows that were updated in spreadsheet 2."
   ]
  },
  {
   "cell_type": "code",
   "execution_count": 46,
   "metadata": {},
   "outputs": [
    {
     "data": {
      "text/plain": [
       "(55, 8)"
      ]
     },
     "execution_count": 46,
     "metadata": {},
     "output_type": "execute_result"
    }
   ],
   "source": [
    "updated_df = cities_df_1.append(cities_df_2)\n",
    "updated_df.shape"
   ]
  },
  {
   "cell_type": "markdown",
   "metadata": {},
   "source": [
    "Next, we must drop the duplicate rows. Note, in this sample, the `city_id` column has unique values and is present in all spreadsheets. Thus, we are able to determine duplicate rows using this column and drop them."
   ]
  },
  {
   "cell_type": "code",
   "execution_count": 47,
   "metadata": {},
   "outputs": [
    {
     "data": {
      "text/plain": [
       "(51, 8)"
      ]
     },
     "execution_count": 47,
     "metadata": {},
     "output_type": "execute_result"
    }
   ],
   "source": [
    "updated_df.drop_duplicates(subset='city_id', keep='last', inplace=True)\n",
    "# we specify argument keep = 'last' to retain edits from second spreadsheet\n",
    "updated_df.shape"
   ]
  },
  {
   "cell_type": "markdown",
   "metadata": {},
   "source": [
    "Thus we have dropped 4 rows from spreadsheet 1 and retained the same 4 rows with updated values from spreadsheet 2. Let us see how the DataFrame looks so far:"
   ]
  },
  {
   "cell_type": "code",
   "execution_count": 48,
   "metadata": {},
   "outputs": [
    {
     "data": {
      "text/html": [
       "<div>\n",
       "<style>\n",
       "    .dataframe thead tr:only-child th {\n",
       "        text-align: right;\n",
       "    }\n",
       "\n",
       "    .dataframe thead th {\n",
       "        text-align: left;\n",
       "    }\n",
       "\n",
       "    .dataframe tbody tr th {\n",
       "        vertical-align: top;\n",
       "    }\n",
       "</style>\n",
       "<table border=\"1\" class=\"dataframe\">\n",
       "  <thead>\n",
       "    <tr style=\"text-align: right;\">\n",
       "      <th></th>\n",
       "      <th>city_id</th>\n",
       "      <th>name</th>\n",
       "      <th>state</th>\n",
       "      <th>capital</th>\n",
       "      <th>pop2000</th>\n",
       "      <th>pop2007</th>\n",
       "      <th>longitude</th>\n",
       "      <th>latitude</th>\n",
       "    </tr>\n",
       "  </thead>\n",
       "  <tbody>\n",
       "    <tr>\n",
       "      <th>0</th>\n",
       "      <td>1</td>\n",
       "      <td>Honolulu</td>\n",
       "      <td>HI</td>\n",
       "      <td>State</td>\n",
       "      <td>371657</td>\n",
       "      <td>378587</td>\n",
       "      <td>-157.823436</td>\n",
       "      <td>21.305782</td>\n",
       "    </tr>\n",
       "    <tr>\n",
       "      <th>1</th>\n",
       "      <td>2</td>\n",
       "      <td>Juneau</td>\n",
       "      <td>AK</td>\n",
       "      <td>State</td>\n",
       "      <td>30711</td>\n",
       "      <td>31592</td>\n",
       "      <td>-134.511582</td>\n",
       "      <td>58.351418</td>\n",
       "    </tr>\n",
       "    <tr>\n",
       "      <th>2</th>\n",
       "      <td>3</td>\n",
       "      <td>Boise City</td>\n",
       "      <td>ID</td>\n",
       "      <td>State</td>\n",
       "      <td>185787</td>\n",
       "      <td>203529</td>\n",
       "      <td>-116.237655</td>\n",
       "      <td>43.613736</td>\n",
       "    </tr>\n",
       "    <tr>\n",
       "      <th>4</th>\n",
       "      <td>5</td>\n",
       "      <td>Salem</td>\n",
       "      <td>OR</td>\n",
       "      <td>State</td>\n",
       "      <td>136924</td>\n",
       "      <td>152039</td>\n",
       "      <td>-123.029155</td>\n",
       "      <td>44.931109</td>\n",
       "    </tr>\n",
       "    <tr>\n",
       "      <th>5</th>\n",
       "      <td>6</td>\n",
       "      <td>Carson</td>\n",
       "      <td>NV</td>\n",
       "      <td>State</td>\n",
       "      <td>52457</td>\n",
       "      <td>56641</td>\n",
       "      <td>-119.753873</td>\n",
       "      <td>39.160946</td>\n",
       "    </tr>\n",
       "  </tbody>\n",
       "</table>\n",
       "</div>"
      ],
      "text/plain": [
       "   city_id        name state capital  pop2000  pop2007   longitude   latitude\n",
       "0        1    Honolulu    HI   State   371657   378587 -157.823436  21.305782\n",
       "1        2      Juneau    AK   State    30711    31592 -134.511582  58.351418\n",
       "2        3  Boise City    ID   State   185787   203529 -116.237655  43.613736\n",
       "4        5       Salem    OR   State   136924   152039 -123.029155  44.931109\n",
       "5        6      Carson    NV   State    52457    56641 -119.753873  39.160946"
      ]
     },
     "execution_count": 48,
     "metadata": {},
     "output_type": "execute_result"
    }
   ],
   "source": [
    "updated_df.head(5)"
   ]
  },
  {
   "cell_type": "markdown",
   "metadata": {},
   "source": [
    "### Write the updates to disk\n",
    "Let us create a new folder called `updated_capitals_csv` and write the updated features to a csv with the same name as our first csv file."
   ]
  },
  {
   "cell_type": "code",
   "execution_count": 49,
   "metadata": {
    "collapsed": true
   },
   "outputs": [],
   "source": [
    "updated_df.to_csv('updated_capitals_csv/capitals_c1.csv')"
   ]
  },
  {
   "cell_type": "markdown",
   "metadata": {},
   "source": [
    "## Overwrite the feature layer\n",
    "Let us overwrite the feature layer using the new csv file we just created. To overwrite, we will use the `overwrite()` method."
   ]
  },
  {
   "cell_type": "code",
   "execution_count": 50,
   "metadata": {
    "collapsed": true
   },
   "outputs": [],
   "source": [
    "from arcgis.features import FeatureLayerCollection\n",
    "cities_flayer_collection = FeatureLayerCollection.fromitem(cities_item)"
   ]
  },
  {
   "cell_type": "code",
   "execution_count": 53,
   "metadata": {},
   "outputs": [
    {
     "data": {
      "text/plain": [
       "{'success': True}"
      ]
     },
     "execution_count": 53,
     "metadata": {},
     "output_type": "execute_result"
    }
   ],
   "source": [
    "#call the overwrite() method which can be accessed using the manager property\n",
    "cities_flayer_collection.manager.overwrite('updated_capitals_csv/capitals_c1.csv')"
   ]
  },
  {
   "cell_type": "code",
   "execution_count": 54,
   "metadata": {},
   "outputs": [
    {
     "data": {
      "text/plain": [
       "(51, 10)"
      ]
     },
     "execution_count": 54,
     "metadata": {},
     "output_type": "execute_result"
    }
   ],
   "source": [
    "cities_flayer_collection.layers[0].query().df.shape"
   ]
  },
  {
   "cell_type": "markdown",
   "metadata": {
    "collapsed": true
   },
   "source": [
    "### Access the overwritten feature layer\n",
    "Let us query the feature layer and verify the number of features has increased to `51`."
   ]
  },
  {
   "cell_type": "code",
   "execution_count": 55,
   "metadata": {},
   "outputs": [
    {
     "data": {
      "text/plain": [
       "51"
      ]
     },
     "execution_count": 55,
     "metadata": {},
     "output_type": "execute_result"
    }
   ],
   "source": [
    "cities_flayer = cities_item.layers[0] #there is only 1 layer\n",
    "cities_flayer.query(return_count_only=True) #get the total number of features"
   ]
  },
  {
   "cell_type": "markdown",
   "metadata": {},
   "source": [
    "Let us draw this new layer in map"
   ]
  },
  {
   "cell_type": "code",
   "execution_count": 56,
   "metadata": {},
   "outputs": [
    {
     "data": {
      "application/vnd.jupyter.widget-view+json": {
       "model_id": "03ca19e9b2054bacbb72793281d7f008"
      }
     },
     "metadata": {},
     "output_type": "display_data"
    }
   ],
   "source": [
    "map2 = gis.map(\"USA\")\n",
    "map2"
   ]
  },
  {
   "cell_type": "code",
   "execution_count": 57,
   "metadata": {
    "collapsed": true
   },
   "outputs": [],
   "source": [
    "map2.add_layer(cities_item)"
   ]
  },
  {
   "cell_type": "markdown",
   "metadata": {},
   "source": [
    "As seen from the map, the number of features has increased while the symbology while the attribute columns remain the same as original."
   ]
  },
  {
   "cell_type": "markdown",
   "metadata": {},
   "source": [
    "# Add additional attribute columns to the feature layer"
   ]
  },
  {
   "cell_type": "code",
   "execution_count": 58,
   "metadata": {},
   "outputs": [
    {
     "data": {
      "text/html": [
       "<div>\n",
       "<style>\n",
       "    .dataframe thead tr:only-child th {\n",
       "        text-align: right;\n",
       "    }\n",
       "\n",
       "    .dataframe thead th {\n",
       "        text-align: left;\n",
       "    }\n",
       "\n",
       "    .dataframe tbody tr th {\n",
       "        vertical-align: top;\n",
       "    }\n",
       "</style>\n",
       "<table border=\"1\" class=\"dataframe\">\n",
       "  <thead>\n",
       "    <tr style=\"text-align: right;\">\n",
       "      <th></th>\n",
       "      <th>city_id</th>\n",
       "      <th>name</th>\n",
       "      <th>class</th>\n",
       "      <th>white</th>\n",
       "      <th>black</th>\n",
       "      <th>ameri_es</th>\n",
       "      <th>asian</th>\n",
       "      <th>hawn_pl</th>\n",
       "      <th>hispanic</th>\n",
       "      <th>males</th>\n",
       "      <th>females</th>\n",
       "    </tr>\n",
       "  </thead>\n",
       "  <tbody>\n",
       "    <tr>\n",
       "      <th>0</th>\n",
       "      <td>1</td>\n",
       "      <td>Honolulu</td>\n",
       "      <td>Census Designated Place</td>\n",
       "      <td>73093</td>\n",
       "      <td>6038</td>\n",
       "      <td>689</td>\n",
       "      <td>207588</td>\n",
       "      <td>25457</td>\n",
       "      <td>16229</td>\n",
       "      <td>182628</td>\n",
       "      <td>189029</td>\n",
       "    </tr>\n",
       "    <tr>\n",
       "      <th>1</th>\n",
       "      <td>2</td>\n",
       "      <td>Juneau</td>\n",
       "      <td>City and Borough</td>\n",
       "      <td>22969</td>\n",
       "      <td>248</td>\n",
       "      <td>3496</td>\n",
       "      <td>1438</td>\n",
       "      <td>116</td>\n",
       "      <td>1040</td>\n",
       "      <td>15469</td>\n",
       "      <td>15242</td>\n",
       "    </tr>\n",
       "    <tr>\n",
       "      <th>2</th>\n",
       "      <td>3</td>\n",
       "      <td>Boise City</td>\n",
       "      <td>City</td>\n",
       "      <td>171204</td>\n",
       "      <td>1437</td>\n",
       "      <td>1300</td>\n",
       "      <td>3870</td>\n",
       "      <td>302</td>\n",
       "      <td>8410</td>\n",
       "      <td>92014</td>\n",
       "      <td>93773</td>\n",
       "    </tr>\n",
       "    <tr>\n",
       "      <th>3</th>\n",
       "      <td>4</td>\n",
       "      <td>Olympia</td>\n",
       "      <td>City</td>\n",
       "      <td>36246</td>\n",
       "      <td>805</td>\n",
       "      <td>553</td>\n",
       "      <td>2473</td>\n",
       "      <td>125</td>\n",
       "      <td>1863</td>\n",
       "      <td>20319</td>\n",
       "      <td>22195</td>\n",
       "    </tr>\n",
       "    <tr>\n",
       "      <th>4</th>\n",
       "      <td>5</td>\n",
       "      <td>Salem</td>\n",
       "      <td>City</td>\n",
       "      <td>113746</td>\n",
       "      <td>1750</td>\n",
       "      <td>2064</td>\n",
       "      <td>3304</td>\n",
       "      <td>643</td>\n",
       "      <td>19973</td>\n",
       "      <td>68752</td>\n",
       "      <td>68172</td>\n",
       "    </tr>\n",
       "  </tbody>\n",
       "</table>\n",
       "</div>"
      ],
      "text/plain": [
       "   city_id        name                    class   white  black  ameri_es  \\\n",
       "0        1    Honolulu  Census Designated Place   73093   6038       689   \n",
       "1        2      Juneau         City and Borough   22969    248      3496   \n",
       "2        3  Boise City                     City  171204   1437      1300   \n",
       "3        4     Olympia                     City   36246    805       553   \n",
       "4        5       Salem                     City  113746   1750      2064   \n",
       "\n",
       "    asian  hawn_pl  hispanic   males  females  \n",
       "0  207588    25457     16229  182628   189029  \n",
       "1    1438      116      1040   15469    15242  \n",
       "2    3870      302      8410   92014    93773  \n",
       "3    2473      125      1863   20319    22195  \n",
       "4    3304      643     19973   68752    68172  "
      ]
     },
     "execution_count": 58,
     "metadata": {},
     "output_type": "execute_result"
    }
   ],
   "source": [
    "# read the third csv set\n",
    "csv3 = 'capitals_annex_A.csv'\n",
    "cities_df_3 = pd.read_csv(csv3)\n",
    "cities_df_3.head()"
   ]
  },
  {
   "cell_type": "code",
   "execution_count": 59,
   "metadata": {},
   "outputs": [
    {
     "data": {
      "text/plain": [
       "(51, 11)"
      ]
     },
     "execution_count": 59,
     "metadata": {},
     "output_type": "execute_result"
    }
   ],
   "source": [
    "#find the number of rows in the third csv\n",
    "cities_df_3.shape"
   ]
  },
  {
   "cell_type": "markdown",
   "metadata": {},
   "source": [
    "The columns `City_ID` and `NAME` are common to all 3 spreadsheets. Next let us take a look at how we can append this additional attribute information to our feature layer.\n",
    "\n",
    "#### Inspecting existing fields of the feature layer\n",
    "The `manager` property of the `FeatureLayer` object exposes a set of methods to read and update the properties and definition of feature layers."
   ]
  },
  {
   "cell_type": "code",
   "execution_count": 60,
   "metadata": {},
   "outputs": [
    {
     "name": "stdout",
     "output_type": "stream",
     "text": [
      "city_id\n",
      "name\n",
      "state\n",
      "capital\n",
      "pop2000\n",
      "pop2007\n",
      "longitude\n",
      "latitude\n",
      "FID\n"
     ]
    }
   ],
   "source": [
    "#Get the existing list of fields on the cities feature layer\n",
    "cities_fields = cities_flayer.manager.properties.fields\n",
    "for field in cities_fields:\n",
    "    print(field['name'])"
   ]
  },
  {
   "cell_type": "code",
   "execution_count": 61,
   "metadata": {},
   "outputs": [
    {
     "data": {
      "text/plain": [
       "{\n",
       "  \"visible\": true,\n",
       "  \"type\": \"esriFieldTypeInteger\",\n",
       "  \"sqlType\": \"sqlTypeInteger\",\n",
       "  \"defaultValue\": null,\n",
       "  \"name\": \"city_id\",\n",
       "  \"actualType\": \"int\",\n",
       "  \"domain\": null,\n",
       "  \"nullable\": true,\n",
       "  \"alias\": \"city_id\",\n",
       "  \"editable\": true\n",
       "}"
      ]
     },
     "execution_count": 61,
     "metadata": {},
     "output_type": "execute_result"
    }
   ],
   "source": [
    "#take a look at one of the fields\n",
    "cities_fields[0]"
   ]
  },
  {
   "cell_type": "code",
   "execution_count": 62,
   "metadata": {},
   "outputs": [
    {
     "name": "stdout",
     "output_type": "stream",
     "text": [
      "field.name | field.alias | field.type           | field.sqlType  \n",
      "city_id    | city_id    | esriFieldTypeInteger | sqlTypeInteger \n",
      "name       | name       | esriFieldTypeString  | sqlTypeNVarchar\n",
      "state      | state      | esriFieldTypeString  | sqlTypeNVarchar\n",
      "capital    | capital    | esriFieldTypeString  | sqlTypeNVarchar\n",
      "pop2000    | pop2000    | esriFieldTypeInteger | sqlTypeInteger \n",
      "pop2007    | pop2007    | esriFieldTypeInteger | sqlTypeInteger \n",
      "longitude  | longitude  | esriFieldTypeDouble  | sqlTypeFloat   \n",
      "latitude   | latitude   | esriFieldTypeDouble  | sqlTypeFloat   \n",
      "FID        | FID        | esriFieldTypeInteger | sqlTypeInteger \n"
     ]
    }
   ],
   "source": [
    "#Loop through and print all the fields with details\n",
    "print(\"{:10s} | {:10s} | {:20s} | {:15s}\".format('field.name', 'field.alias', 'field.type', 'field.sqlType'))\n",
    "for field in cities_fields:\n",
    "    print(\"{:10s} | {:10s} | {:20s} | {:15s}\".format(field.name, field.alias, field.type, field.sqlType))"
   ]
  },
  {
   "cell_type": "markdown",
   "metadata": {},
   "source": [
    "### Copy a field and use that as a template to create new fields"
   ]
  },
  {
   "cell_type": "code",
   "execution_count": 63,
   "metadata": {},
   "outputs": [
    {
     "data": {
      "text/plain": [
       "{'actualType': 'int',\n",
       " 'alias': 'city_id',\n",
       " 'defaultValue': None,\n",
       " 'domain': None,\n",
       " 'editable': True,\n",
       " 'name': 'city_id',\n",
       " 'nullable': True,\n",
       " 'sqlType': 'sqlTypeInteger',\n",
       " 'type': 'esriFieldTypeInteger',\n",
       " 'visible': True}"
      ]
     },
     "execution_count": 63,
     "metadata": {},
     "output_type": "execute_result"
    }
   ],
   "source": [
    "from copy import deepcopy\n",
    "# get a template field\n",
    "template_field = dict(deepcopy(cities_fields[0]))\n",
    "template_field"
   ]
  },
  {
   "cell_type": "markdown",
   "metadata": {},
   "source": [
    "#### Get existing fields from the feature layer and find the ones that are new"
   ]
  },
  {
   "cell_type": "code",
   "execution_count": 64,
   "metadata": {},
   "outputs": [
    {
     "data": {
      "text/html": [
       "<div>\n",
       "<style>\n",
       "    .dataframe thead tr:only-child th {\n",
       "        text-align: right;\n",
       "    }\n",
       "\n",
       "    .dataframe thead th {\n",
       "        text-align: left;\n",
       "    }\n",
       "\n",
       "    .dataframe tbody tr th {\n",
       "        vertical-align: top;\n",
       "    }\n",
       "</style>\n",
       "<table border=\"1\" class=\"dataframe\">\n",
       "  <thead>\n",
       "    <tr style=\"text-align: right;\">\n",
       "      <th></th>\n",
       "      <th>FID</th>\n",
       "      <th>capital</th>\n",
       "      <th>city_id</th>\n",
       "      <th>latitude</th>\n",
       "      <th>longitude</th>\n",
       "      <th>name</th>\n",
       "      <th>pop2000</th>\n",
       "      <th>pop2007</th>\n",
       "      <th>state</th>\n",
       "      <th>SHAPE</th>\n",
       "    </tr>\n",
       "  </thead>\n",
       "  <tbody>\n",
       "    <tr>\n",
       "      <th>0</th>\n",
       "      <td>1</td>\n",
       "      <td>State</td>\n",
       "      <td>1</td>\n",
       "      <td>21.305782</td>\n",
       "      <td>-157.823436</td>\n",
       "      <td>Honolulu</td>\n",
       "      <td>371657</td>\n",
       "      <td>378587</td>\n",
       "      <td>HI</td>\n",
       "      <td>{'x': -17568824.5530287, 'y': 2428377.3527147067}</td>\n",
       "    </tr>\n",
       "    <tr>\n",
       "      <th>1</th>\n",
       "      <td>2</td>\n",
       "      <td>State</td>\n",
       "      <td>2</td>\n",
       "      <td>58.351418</td>\n",
       "      <td>-134.511582</td>\n",
       "      <td>Juneau</td>\n",
       "      <td>30711</td>\n",
       "      <td>31592</td>\n",
       "      <td>AK</td>\n",
       "      <td>{'x': -14973760.769509867, 'y': 8041504.674188...</td>\n",
       "    </tr>\n",
       "    <tr>\n",
       "      <th>2</th>\n",
       "      <td>3</td>\n",
       "      <td>State</td>\n",
       "      <td>3</td>\n",
       "      <td>43.613736</td>\n",
       "      <td>-116.237655</td>\n",
       "      <td>Boise City</td>\n",
       "      <td>185787</td>\n",
       "      <td>203529</td>\n",
       "      <td>ID</td>\n",
       "      <td>{'x': -12939516.521076413, 'y': 5405860.248118...</td>\n",
       "    </tr>\n",
       "  </tbody>\n",
       "</table>\n",
       "</div>"
      ],
      "text/plain": [
       "   FID capital  city_id   latitude   longitude        name  pop2000  pop2007  \\\n",
       "0    1   State        1  21.305782 -157.823436    Honolulu   371657   378587   \n",
       "1    2   State        2  58.351418 -134.511582      Juneau    30711    31592   \n",
       "2    3   State        3  43.613736 -116.237655  Boise City   185787   203529   \n",
       "\n",
       "  state                                              SHAPE  \n",
       "0    HI  {'x': -17568824.5530287, 'y': 2428377.3527147067}  \n",
       "1    AK  {'x': -14973760.769509867, 'y': 8041504.674188...  \n",
       "2    ID  {'x': -12939516.521076413, 'y': 5405860.248118...  "
      ]
     },
     "execution_count": 64,
     "metadata": {},
     "output_type": "execute_result"
    }
   ],
   "source": [
    "cities_flayer_fset = cities_flayer.query()\n",
    "cities_flayer_df = cities_flayer_fset.df\n",
    "cities_flayer_df.head(3)"
   ]
  },
  {
   "cell_type": "code",
   "execution_count": 65,
   "metadata": {},
   "outputs": [
    {
     "data": {
      "text/plain": [
       "['ameri_es',\n",
       " 'asian',\n",
       " 'black',\n",
       " 'class',\n",
       " 'females',\n",
       " 'hawn_pl',\n",
       " 'hispanic',\n",
       " 'males',\n",
       " 'white']"
      ]
     },
     "execution_count": 65,
     "metadata": {},
     "output_type": "execute_result"
    }
   ],
   "source": [
    "# get the list of new fields to add from the third spreadsheet, that are not in spread sheets 1,2\n",
    "new_field_names = list(cities_df_3.columns.difference(cities_flayer_df.columns))\n",
    "new_field_names"
   ]
  },
  {
   "cell_type": "markdown",
   "metadata": {},
   "source": [
    "Now loop though each new field name and create a field dictionary using the template we created earlier. Except the field titled `class` all other fields are of type `integer`."
   ]
  },
  {
   "cell_type": "code",
   "execution_count": 66,
   "metadata": {},
   "outputs": [
    {
     "data": {
      "text/plain": [
       "9"
      ]
     },
     "execution_count": 66,
     "metadata": {},
     "output_type": "execute_result"
    }
   ],
   "source": [
    "fields_to_be_added = []\n",
    "for new_field_name in new_field_names:\n",
    "    current_field = deepcopy(template_field)\n",
    "    if new_field_name.lower() == 'class':\n",
    "        current_field['sqlType'] = 'sqlTypeVarchar'\n",
    "        current_field['type'] = 'esriFieldTypeString'\n",
    "        current_field['length'] = 8000\n",
    "        \n",
    "    current_field['name'] = new_field_name.lower()\n",
    "    current_field['alias'] = new_field_name\n",
    "    fields_to_be_added.append(current_field)\n",
    "    \n",
    "len(fields_to_be_added)"
   ]
  },
  {
   "cell_type": "code",
   "execution_count": 67,
   "metadata": {},
   "outputs": [
    {
     "data": {
      "text/plain": [
       "{'actualType': 'int',\n",
       " 'alias': 'class',\n",
       " 'defaultValue': None,\n",
       " 'domain': None,\n",
       " 'editable': True,\n",
       " 'length': 8000,\n",
       " 'name': 'class',\n",
       " 'nullable': True,\n",
       " 'sqlType': 'sqlTypeVarchar',\n",
       " 'type': 'esriFieldTypeString',\n",
       " 'visible': True}"
      ]
     },
     "execution_count": 67,
     "metadata": {},
     "output_type": "execute_result"
    }
   ],
   "source": [
    "#inspect one of the fields\n",
    "fields_to_be_added[3]"
   ]
  },
  {
   "cell_type": "markdown",
   "metadata": {},
   "source": [
    "#### Adding additional fields to the feature layer\n",
    "The list of new fields we composed can be pushed to the server by calling `add_to_definition()` method on the `manager` property."
   ]
  },
  {
   "cell_type": "code",
   "execution_count": 68,
   "metadata": {},
   "outputs": [
    {
     "data": {
      "text/plain": [
       "{'success': True}"
      ]
     },
     "execution_count": 68,
     "metadata": {},
     "output_type": "execute_result"
    }
   ],
   "source": [
    "cities_flayer.manager.add_to_definition({'fields':fields_to_be_added})"
   ]
  },
  {
   "cell_type": "markdown",
   "metadata": {},
   "source": [
    "Thus, we have successfully added new fields to our feature layer. Let us verify the new columns show up:"
   ]
  },
  {
   "cell_type": "code",
   "execution_count": 69,
   "metadata": {},
   "outputs": [
    {
     "data": {
      "text/plain": [
       "18"
      ]
     },
     "execution_count": 69,
     "metadata": {},
     "output_type": "execute_result"
    }
   ],
   "source": [
    "new_cities_fields = cities_flayer.manager.properties.fields\n",
    "len(new_cities_fields)"
   ]
  },
  {
   "cell_type": "code",
   "execution_count": 70,
   "metadata": {},
   "outputs": [
    {
     "name": "stdout",
     "output_type": "stream",
     "text": [
      "city_id    | esriFieldTypeInteger\n",
      "name       | esriFieldTypeString\n",
      "state      | esriFieldTypeString\n",
      "capital    | esriFieldTypeString\n",
      "pop2000    | esriFieldTypeInteger\n",
      "pop2007    | esriFieldTypeInteger\n",
      "longitude  | esriFieldTypeDouble\n",
      "latitude   | esriFieldTypeDouble\n",
      "FID        | esriFieldTypeInteger\n",
      "ameri_es   | esriFieldTypeInteger\n",
      "asian      | esriFieldTypeInteger\n",
      "black      | esriFieldTypeInteger\n",
      "class      | esriFieldTypeString\n",
      "females    | esriFieldTypeInteger\n",
      "hawn_pl    | esriFieldTypeInteger\n",
      "hispanic   | esriFieldTypeInteger\n",
      "males      | esriFieldTypeInteger\n",
      "white      | esriFieldTypeInteger\n"
     ]
    }
   ],
   "source": [
    "for field in new_cities_fields:\n",
    "    print('{:10s} | {:10s}'.format(field.name,field.type))"
   ]
  },
  {
   "cell_type": "markdown",
   "metadata": {},
   "source": [
    "#### Adding attribute values to the new columns\n",
    "Next we can loop through each row in the third csv and add the new attribute values for these newly created columns."
   ]
  },
  {
   "cell_type": "code",
   "execution_count": 71,
   "metadata": {
    "collapsed": true
   },
   "outputs": [],
   "source": [
    "# Run a fresh query on the feature layer so it includes the new features from\n",
    "# csv2 and new columns from csv3\n",
    "cities_fset2 = cities_flayer.query()\n",
    "cities_features2 = cities_fset2.features"
   ]
  },
  {
   "cell_type": "markdown",
   "metadata": {},
   "source": [
    "Loop through each row in the third spreadsheet, find the corresponding feature by matching the `city_id` value and apply the attribute values for the new fields."
   ]
  },
  {
   "cell_type": "code",
   "execution_count": 72,
   "metadata": {},
   "outputs": [
    {
     "name": "stdout",
     "output_type": "stream",
     "text": [
      "1 Adding additional attributes for: Honolulu\n",
      "2 Adding additional attributes for: Juneau\n",
      "3 Adding additional attributes for: Boise City\n",
      "4 Adding additional attributes for: Olympia\n",
      "5 Adding additional attributes for: Salem\n",
      "6 Adding additional attributes for: Carson\n",
      "7 Adding additional attributes for: Sacramento\n",
      "8 Adding additional attributes for: Phoenix\n",
      "9 Adding additional attributes for: Salt Lake City\n",
      "10 Adding additional attributes for: Cheyenne\n",
      "11 Adding additional attributes for: Denver\n",
      "12 Adding additional attributes for: Santa Fe\n",
      "13 Adding additional attributes for: Oklahoma City\n",
      "14 Adding additional attributes for: Topeka\n",
      "15 Adding additional attributes for: Lincoln\n",
      "16 Adding additional attributes for: Des Moines\n",
      "17 Adding additional attributes for: Jefferson City\n",
      "18 Adding additional attributes for: Little Rock\n",
      "19 Adding additional attributes for: Austin\n",
      "20 Adding additional attributes for: Baton Rouge\n",
      "21 Adding additional attributes for: Helena\n",
      "22 Adding additional attributes for: Bismarck\n",
      "23 Adding additional attributes for: Pierre\n",
      "24 Adding additional attributes for: St. Paul\n",
      "25 Adding additional attributes for: Madison\n",
      "26 Adding additional attributes for: Lansing\n",
      "27 Adding additional attributes for: Augusta\n",
      "28 Adding additional attributes for: Montpelier\n",
      "29 Adding additional attributes for: Albany\n",
      "30 Adding additional attributes for: Boston\n",
      "31 Adding additional attributes for: Concord\n",
      "32 Adding additional attributes for: Tallahassee\n",
      "33 Adding additional attributes for: Jackson\n",
      "34 Adding additional attributes for: Nashville\n",
      "35 Adding additional attributes for: Montgomery\n",
      "36 Adding additional attributes for: Springfield\n",
      "37 Adding additional attributes for: Indianapolis\n",
      "38 Adding additional attributes for: Frankfort\n",
      "39 Adding additional attributes for: Columbus\n",
      "40 Adding additional attributes for: Charleston\n",
      "41 Adding additional attributes for: Atlanta\n",
      "42 Adding additional attributes for: Columbia\n",
      "43 Adding additional attributes for: Raleigh\n",
      "44 Adding additional attributes for: Richmond\n",
      "45 Adding additional attributes for: Harrisburg\n",
      "46 Adding additional attributes for: Trenton\n",
      "47 Adding additional attributes for: Dover\n",
      "48 Adding additional attributes for: Washington\n",
      "49 Adding additional attributes for: Annapolis\n",
      "50 Adding additional attributes for: Hartford\n",
      "51 Adding additional attributes for: Providence\n"
     ]
    }
   ],
   "source": [
    "import time\n",
    "features_for_update = []\n",
    "for city_id in cities_df_3['city_id']:\n",
    "    # get the matching row from csv\n",
    "    matching_row = cities_df_3.where(cities_df_3.city_id == city_id).dropna()\n",
    "    \n",
    "    print(str(city_id) + \" Adding additional attributes for: \" + matching_row['name'].values[0])\n",
    "    \n",
    "    # get the feature to be updated\n",
    "    original_feature = [f for f in cities_features2 if f.attributes['city_id'] == city_id][0]\n",
    "    feature_to_be_updated = deepcopy(original_feature)\n",
    "    \n",
    "    # assign the updated values\n",
    "    feature_to_be_updated.attributes['class'] = matching_row['class'].values[0]\n",
    "    feature_to_be_updated.attributes['white'] = int(matching_row['white'])\n",
    "    feature_to_be_updated.attributes['black'] = int(matching_row['black'])\n",
    "    feature_to_be_updated.attributes['ameri_es'] = int(matching_row['ameri_es'])\n",
    "    feature_to_be_updated.attributes['asian'] = int(matching_row['asian'])\n",
    "    feature_to_be_updated.attributes['hawn_pl'] = int(matching_row['hawn_pl'])\n",
    "    feature_to_be_updated.attributes['hispanic'] = int(matching_row['hispanic'])\n",
    "    feature_to_be_updated.attributes['males'] = int(matching_row['males'])\n",
    "    feature_to_be_updated.attributes['females'] = int(matching_row['females'])\n",
    "    \n",
    "    #add this to the list of features to be updated\n",
    "    features_for_update.append(feature_to_be_updated)\n",
    "    time.sleep(0.25)"
   ]
  },
  {
   "cell_type": "code",
   "execution_count": 73,
   "metadata": {},
   "outputs": [
    {
     "data": {
      "text/plain": [
       "{\"attributes\": {\"class\": \"City\", \"pop2000\": 173618, \"hispanic\": 52146, \"females\": 90583, \"pop2007\": 183731, \"city_id\": 51, \"black\": 25243, \"ameri_es\": 1975, \"state\": \"RI\", \"capital\": \"State\", \"white\": 94666, \"FID\": 47, \"latitude\": 41.82355466, \"males\": 83035, \"name\": \"Providence\", \"asian\": 10432, \"hawn_pl\": 270, \"longitude\": -71.42212709}, \"geometry\": {\"x\": -7950674.81903127, \"y\": 5134585.322608613}}"
      ]
     },
     "execution_count": 73,
     "metadata": {},
     "output_type": "execute_result"
    }
   ],
   "source": [
    "# inspect one of the features\n",
    "features_for_update[-1]"
   ]
  },
  {
   "cell_type": "code",
   "execution_count": 74,
   "metadata": {},
   "outputs": [
    {
     "data": {
      "text/plain": [
       "{'addResults': [],\n",
       " 'deleteResults': [],\n",
       " 'updateResults': [{'globalId': None, 'objectId': 1, 'success': True},\n",
       "  {'globalId': None, 'objectId': 2, 'success': True},\n",
       "  {'globalId': None, 'objectId': 3, 'success': True},\n",
       "  {'globalId': None, 'objectId': 50, 'success': True},\n",
       "  {'globalId': None, 'objectId': 4, 'success': True},\n",
       "  {'globalId': None, 'objectId': 5, 'success': True},\n",
       "  {'globalId': None, 'objectId': 6, 'success': True},\n",
       "  {'globalId': None, 'objectId': 7, 'success': True},\n",
       "  {'globalId': None, 'objectId': 8, 'success': True},\n",
       "  {'globalId': None, 'objectId': 48, 'success': True},\n",
       "  {'globalId': None, 'objectId': 9, 'success': True},\n",
       "  {'globalId': None, 'objectId': 10, 'success': True},\n",
       "  {'globalId': None, 'objectId': 49, 'success': True},\n",
       "  {'globalId': None, 'objectId': 11, 'success': True},\n",
       "  {'globalId': None, 'objectId': 12, 'success': True},\n",
       "  {'globalId': None, 'objectId': 51, 'success': True},\n",
       "  {'globalId': None, 'objectId': 13, 'success': True},\n",
       "  {'globalId': None, 'objectId': 14, 'success': True},\n",
       "  {'globalId': None, 'objectId': 15, 'success': True},\n",
       "  {'globalId': None, 'objectId': 16, 'success': True},\n",
       "  {'globalId': None, 'objectId': 17, 'success': True},\n",
       "  {'globalId': None, 'objectId': 18, 'success': True},\n",
       "  {'globalId': None, 'objectId': 19, 'success': True},\n",
       "  {'globalId': None, 'objectId': 20, 'success': True},\n",
       "  {'globalId': None, 'objectId': 21, 'success': True},\n",
       "  {'globalId': None, 'objectId': 22, 'success': True},\n",
       "  {'globalId': None, 'objectId': 23, 'success': True},\n",
       "  {'globalId': None, 'objectId': 24, 'success': True},\n",
       "  {'globalId': None, 'objectId': 25, 'success': True},\n",
       "  {'globalId': None, 'objectId': 26, 'success': True},\n",
       "  {'globalId': None, 'objectId': 27, 'success': True},\n",
       "  {'globalId': None, 'objectId': 28, 'success': True},\n",
       "  {'globalId': None, 'objectId': 29, 'success': True},\n",
       "  {'globalId': None, 'objectId': 30, 'success': True},\n",
       "  {'globalId': None, 'objectId': 31, 'success': True},\n",
       "  {'globalId': None, 'objectId': 32, 'success': True},\n",
       "  {'globalId': None, 'objectId': 33, 'success': True},\n",
       "  {'globalId': None, 'objectId': 34, 'success': True},\n",
       "  {'globalId': None, 'objectId': 35, 'success': True},\n",
       "  {'globalId': None, 'objectId': 36, 'success': True},\n",
       "  {'globalId': None, 'objectId': 37, 'success': True},\n",
       "  {'globalId': None, 'objectId': 38, 'success': True},\n",
       "  {'globalId': None, 'objectId': 39, 'success': True},\n",
       "  {'globalId': None, 'objectId': 40, 'success': True},\n",
       "  {'globalId': None, 'objectId': 41, 'success': True},\n",
       "  {'globalId': None, 'objectId': 42, 'success': True},\n",
       "  {'globalId': None, 'objectId': 43, 'success': True},\n",
       "  {'globalId': None, 'objectId': 44, 'success': True},\n",
       "  {'globalId': None, 'objectId': 45, 'success': True},\n",
       "  {'globalId': None, 'objectId': 46, 'success': True},\n",
       "  {'globalId': None, 'objectId': 47, 'success': True}]}"
      ]
     },
     "execution_count": 74,
     "metadata": {},
     "output_type": "execute_result"
    }
   ],
   "source": [
    "# apply the edits to the feature layer\n",
    "cities_flayer.edit_features(updates= features_for_update)"
   ]
  },
  {
   "cell_type": "markdown",
   "metadata": {},
   "source": [
    "#### Verify the changes made so far\n",
    "Let us run another query on the feature layer and visualize a few rows."
   ]
  },
  {
   "cell_type": "code",
   "execution_count": 75,
   "metadata": {},
   "outputs": [
    {
     "data": {
      "text/html": [
       "<div>\n",
       "<style>\n",
       "    .dataframe thead tr:only-child th {\n",
       "        text-align: right;\n",
       "    }\n",
       "\n",
       "    .dataframe thead th {\n",
       "        text-align: left;\n",
       "    }\n",
       "\n",
       "    .dataframe tbody tr th {\n",
       "        vertical-align: top;\n",
       "    }\n",
       "</style>\n",
       "<table border=\"1\" class=\"dataframe\">\n",
       "  <thead>\n",
       "    <tr style=\"text-align: right;\">\n",
       "      <th></th>\n",
       "      <th>FID</th>\n",
       "      <th>ameri_es</th>\n",
       "      <th>asian</th>\n",
       "      <th>black</th>\n",
       "      <th>capital</th>\n",
       "      <th>city_id</th>\n",
       "      <th>class</th>\n",
       "      <th>females</th>\n",
       "      <th>hawn_pl</th>\n",
       "      <th>hispanic</th>\n",
       "      <th>latitude</th>\n",
       "      <th>longitude</th>\n",
       "      <th>males</th>\n",
       "      <th>name</th>\n",
       "      <th>pop2000</th>\n",
       "      <th>pop2007</th>\n",
       "      <th>state</th>\n",
       "      <th>white</th>\n",
       "      <th>SHAPE</th>\n",
       "    </tr>\n",
       "  </thead>\n",
       "  <tbody>\n",
       "    <tr>\n",
       "      <th>0</th>\n",
       "      <td>1</td>\n",
       "      <td>689</td>\n",
       "      <td>207588</td>\n",
       "      <td>6038</td>\n",
       "      <td>State</td>\n",
       "      <td>1</td>\n",
       "      <td>Census Designated Place</td>\n",
       "      <td>189029</td>\n",
       "      <td>25457</td>\n",
       "      <td>16229</td>\n",
       "      <td>21.305782</td>\n",
       "      <td>-157.823436</td>\n",
       "      <td>182628</td>\n",
       "      <td>Honolulu</td>\n",
       "      <td>371657</td>\n",
       "      <td>378587</td>\n",
       "      <td>HI</td>\n",
       "      <td>73093</td>\n",
       "      <td>{'x': -17568824.5530287, 'y': 2428377.3527147067}</td>\n",
       "    </tr>\n",
       "    <tr>\n",
       "      <th>1</th>\n",
       "      <td>2</td>\n",
       "      <td>3496</td>\n",
       "      <td>1438</td>\n",
       "      <td>248</td>\n",
       "      <td>State</td>\n",
       "      <td>2</td>\n",
       "      <td>City and Borough</td>\n",
       "      <td>15242</td>\n",
       "      <td>116</td>\n",
       "      <td>1040</td>\n",
       "      <td>58.351418</td>\n",
       "      <td>-134.511582</td>\n",
       "      <td>15469</td>\n",
       "      <td>Juneau</td>\n",
       "      <td>30711</td>\n",
       "      <td>31592</td>\n",
       "      <td>AK</td>\n",
       "      <td>22969</td>\n",
       "      <td>{'x': -14973760.769509869, 'y': 8041504.674188...</td>\n",
       "    </tr>\n",
       "    <tr>\n",
       "      <th>2</th>\n",
       "      <td>3</td>\n",
       "      <td>1300</td>\n",
       "      <td>3870</td>\n",
       "      <td>1437</td>\n",
       "      <td>State</td>\n",
       "      <td>3</td>\n",
       "      <td>City</td>\n",
       "      <td>93773</td>\n",
       "      <td>302</td>\n",
       "      <td>8410</td>\n",
       "      <td>43.613736</td>\n",
       "      <td>-116.237655</td>\n",
       "      <td>92014</td>\n",
       "      <td>Boise City</td>\n",
       "      <td>185787</td>\n",
       "      <td>203529</td>\n",
       "      <td>ID</td>\n",
       "      <td>171204</td>\n",
       "      <td>{'x': -12939516.521076413, 'y': 5405860.248118...</td>\n",
       "    </tr>\n",
       "    <tr>\n",
       "      <th>3</th>\n",
       "      <td>4</td>\n",
       "      <td>2064</td>\n",
       "      <td>3304</td>\n",
       "      <td>1750</td>\n",
       "      <td>State</td>\n",
       "      <td>5</td>\n",
       "      <td>City</td>\n",
       "      <td>68172</td>\n",
       "      <td>643</td>\n",
       "      <td>19973</td>\n",
       "      <td>44.931109</td>\n",
       "      <td>-123.029155</td>\n",
       "      <td>68752</td>\n",
       "      <td>Salem</td>\n",
       "      <td>136924</td>\n",
       "      <td>152039</td>\n",
       "      <td>OR</td>\n",
       "      <td>113746</td>\n",
       "      <td>{'x': -13695542.842798928, 'y': 5610682.54410995}</td>\n",
       "    </tr>\n",
       "    <tr>\n",
       "      <th>4</th>\n",
       "      <td>5</td>\n",
       "      <td>1259</td>\n",
       "      <td>930</td>\n",
       "      <td>946</td>\n",
       "      <td>State</td>\n",
       "      <td>6</td>\n",
       "      <td>City</td>\n",
       "      <td>25355</td>\n",
       "      <td>76</td>\n",
       "      <td>7466</td>\n",
       "      <td>39.160946</td>\n",
       "      <td>-119.753873</td>\n",
       "      <td>27102</td>\n",
       "      <td>Carson</td>\n",
       "      <td>52457</td>\n",
       "      <td>56641</td>\n",
       "      <td>NV</td>\n",
       "      <td>44744</td>\n",
       "      <td>{'x': -13330940.118354555, 'y': 4744751.946872...</td>\n",
       "    </tr>\n",
       "  </tbody>\n",
       "</table>\n",
       "</div>"
      ],
      "text/plain": [
       "   FID  ameri_es   asian  black capital  city_id                    class  \\\n",
       "0    1       689  207588   6038   State        1  Census Designated Place   \n",
       "1    2      3496    1438    248   State        2         City and Borough   \n",
       "2    3      1300    3870   1437   State        3                     City   \n",
       "3    4      2064    3304   1750   State        5                     City   \n",
       "4    5      1259     930    946   State        6                     City   \n",
       "\n",
       "   females  hawn_pl  hispanic   latitude   longitude   males        name  \\\n",
       "0   189029    25457     16229  21.305782 -157.823436  182628    Honolulu   \n",
       "1    15242      116      1040  58.351418 -134.511582   15469      Juneau   \n",
       "2    93773      302      8410  43.613736 -116.237655   92014  Boise City   \n",
       "3    68172      643     19973  44.931109 -123.029155   68752       Salem   \n",
       "4    25355       76      7466  39.160946 -119.753873   27102      Carson   \n",
       "\n",
       "   pop2000  pop2007 state   white  \\\n",
       "0   371657   378587    HI   73093   \n",
       "1    30711    31592    AK   22969   \n",
       "2   185787   203529    ID  171204   \n",
       "3   136924   152039    OR  113746   \n",
       "4    52457    56641    NV   44744   \n",
       "\n",
       "                                               SHAPE  \n",
       "0  {'x': -17568824.5530287, 'y': 2428377.3527147067}  \n",
       "1  {'x': -14973760.769509869, 'y': 8041504.674188...  \n",
       "2  {'x': -12939516.521076413, 'y': 5405860.248118...  \n",
       "3  {'x': -13695542.842798928, 'y': 5610682.54410995}  \n",
       "4  {'x': -13330940.118354555, 'y': 4744751.946872...  "
      ]
     },
     "execution_count": 75,
     "metadata": {},
     "output_type": "execute_result"
    }
   ],
   "source": [
    "cities_fset3 = cities_flayer.query()\n",
    "cities_fset3.df.head(5)"
   ]
  },
  {
   "cell_type": "code",
   "execution_count": null,
   "metadata": {
    "collapsed": true
   },
   "outputs": [],
   "source": []
  },
  {
   "cell_type": "markdown",
   "metadata": {},
   "source": [
    "## Conclusion\n",
    "Thus, in this sample, we observed how update a feature layer by overwriting it with new content. This method is a lot simpler than method 1 explained in [Updating features in a feature layer](/python/sample-notebooks/updating-features-in-a-feature-layer/) sample. However, with this simplicity, we compromise on our ability to add new columns or change the schema of the feature layer during the update. Further, if your feature layer was updated after it was published, then those updates get overwritten when you perform the overwrite operation. To retain those edits, [extract the data](/python/guide/checking-out-data-from-feature-layers-using-replicas/#Verify-Extract-capability) from the feature layer, merge your updates with this extract, then overwrite the feature layer."
   ]
  }
 ],
 "metadata": {
  "anaconda-cloud": {},
  "kernelspec": {
   "display_name": "Python 3",
   "language": "python",
   "name": "python3"
  },
  "language_info": {
   "codemirror_mode": {
    "name": "ipython",
    "version": 3
   },
   "file_extension": ".py",
   "mimetype": "text/x-python",
   "name": "python",
   "nbconvert_exporter": "python",
   "pygments_lexer": "ipython3",
   "version": "3.5.3"
  }
 },
 "nbformat": 4,
 "nbformat_minor": 1
}
