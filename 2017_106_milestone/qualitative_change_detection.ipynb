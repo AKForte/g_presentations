{
 "cells": [
  {
   "cell_type": "markdown",
   "metadata": {},
   "source": [
    "## Qualitative change detection - vegetation changes in Redlands after 2015 El Nino\n",
    "\n",
    "Import library and search for Landsat imagery layer"
   ]
  },
  {
   "cell_type": "code",
   "execution_count": 41,
   "metadata": {},
   "outputs": [
    {
     "data": {
      "text/html": [
       "<div class=\"item_container\" style=\"height: auto; overflow: hidden; border: 1px solid #cfcfcf; border-radius: 2px; background: #f6fafa; line-height: 1.21429em; padding: 10px;\">\n",
       "                    <div class=\"item_left\" style=\"width: 210px; float: left;\">\n",
       "                       <a href='https://python.playground.esri.com/portal/home/item.html?id=d9b466d6a9e647ce8d1dd5fe12eb434b' target='_blank'>\n",
       "                        <img src='data:image/png;base64,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' width='200' height='133' class=\"itemThumbnail\">\n",
       "                       </a>\n",
       "                    </div>\n",
       "\n",
       "                    <div class=\"item_right\"     style=\"float: none; width: auto; overflow: hidden;\">\n",
       "                        <a href='https://python.playground.esri.com/portal/home/item.html?id=d9b466d6a9e647ce8d1dd5fe12eb434b' target='_blank'><b>Multispectral Landsat</b>\n",
       "                        </a>\n",
       "                        <br/>Landsat 8 OLI, 30m Multispectral 8 band scenes with visual renderings and indices. Updated daily. Based on the Landsat on AWS collections.<img src='https://python.playground.esri.com/portal/home/js/jsapi/esri/css/images/item_type_icons/imagery16.png' style=\"vertical-align:middle;\">Imagery Layer by esri_livingatlas\n",
       "                        <br/>Last Modified: October 06, 2016\n",
       "                        <br/>0 comments, 0 views\n",
       "                    </div>\n",
       "                </div>\n",
       "                "
      ],
      "text/plain": [
       "<Item title:\"Multispectral Landsat\" type:Imagery Layer owner:esri_livingatlas>"
      ]
     },
     "execution_count": 41,
     "metadata": {},
     "output_type": "execute_result"
    }
   ],
   "source": [
    "from arcgis.gis import GIS\n",
    "gis = GIS('https://python.playground.esri.com/portal', 'arcgis_python', 'amazing_arcgis_123')\n",
    "landsat_item = gis.content.search('Multispectral Landsat', 'Imagery Layer', outside_org=True)[0]\n",
    "landsat = landsat_item.layers[0]\n",
    "landsat_item"
   ]
  },
  {
   "cell_type": "markdown",
   "metadata": {},
   "source": [
    "### Select images of Redlands area"
   ]
  },
  {
   "cell_type": "code",
   "execution_count": 42,
   "metadata": {
    "collapsed": true
   },
   "outputs": [],
   "source": [
    "from arcgis.geocoding import geocode\n",
    "area = geocode('Redlands, CA', out_sr=landsat.properties.spatialReference)[0]"
   ]
  },
  {
   "cell_type": "code",
   "execution_count": 50,
   "metadata": {
    "collapsed": true
   },
   "outputs": [],
   "source": [
    "import arcgis\n",
    "selected = landsat.filter_by(where=\"CloudCover <=0.10\", \n",
    "                   geometry=arcgis.geometry.filters.intersects(area['extent']))"
   ]
  },
  {
   "cell_type": "markdown",
   "metadata": {},
   "source": [
    "You can query the filtered rasters as a FeatureSet:"
   ]
  },
  {
   "cell_type": "code",
   "execution_count": 46,
   "metadata": {
    "collapsed": true
   },
   "outputs": [],
   "source": [
    "fs = selected.query(out_fields=\"AcquisitionDate, CloudCover, WRS_Row, WRS_Path\", \n",
    "              return_geometry=True,\n",
    "              return_distinct_values=False,\n",
    "              order_by_fields=\"AcquisitionDate\")"
   ]
  },
  {
   "cell_type": "markdown",
   "metadata": {},
   "source": [
    "Attributes of the selected rasters can be queried using a Pandas dataframe using the 'df' property of the FeatureSet."
   ]
  },
  {
   "cell_type": "code",
   "execution_count": 65,
   "metadata": {},
   "outputs": [
    {
     "data": {
      "text/html": [
       "<div>\n",
       "<style>\n",
       "    .dataframe thead tr:only-child th {\n",
       "        text-align: right;\n",
       "    }\n",
       "\n",
       "    .dataframe thead th {\n",
       "        text-align: left;\n",
       "    }\n",
       "\n",
       "    .dataframe tbody tr th {\n",
       "        vertical-align: top;\n",
       "    }\n",
       "</style>\n",
       "<table border=\"1\" class=\"dataframe\">\n",
       "  <thead>\n",
       "    <tr style=\"text-align: right;\">\n",
       "      <th></th>\n",
       "      <th>AcquisitionDate</th>\n",
       "      <th>CloudCover</th>\n",
       "      <th>OBJECTID</th>\n",
       "      <th>Shape_Area</th>\n",
       "      <th>Shape_Length</th>\n",
       "      <th>WRS_Path</th>\n",
       "      <th>WRS_Row</th>\n",
       "      <th>SHAPE</th>\n",
       "      <th>Time</th>\n",
       "    </tr>\n",
       "  </thead>\n",
       "  <tbody>\n",
       "    <tr>\n",
       "      <th>17</th>\n",
       "      <td>1436984502287</td>\n",
       "      <td>0.0034</td>\n",
       "      <td>141162</td>\n",
       "      <td>5.135278e+10</td>\n",
       "      <td>906869.659682</td>\n",
       "      <td>40</td>\n",
       "      <td>36</td>\n",
       "      <td>{'rings': [[[-12865050.9115, 4199551.647500001...</td>\n",
       "      <td>2015-07-15 18:21:42.287</td>\n",
       "    </tr>\n",
       "    <tr>\n",
       "      <th>18</th>\n",
       "      <td>1438366906361</td>\n",
       "      <td>0.0311</td>\n",
       "      <td>153033</td>\n",
       "      <td>5.135268e+10</td>\n",
       "      <td>906868.766567</td>\n",
       "      <td>40</td>\n",
       "      <td>36</td>\n",
       "      <td>{'rings': [[[-12863500.5111, 4199529.073600002...</td>\n",
       "      <td>2015-07-31 18:21:46.361</td>\n",
       "    </tr>\n",
       "    <tr>\n",
       "      <th>19</th>\n",
       "      <td>1439749312663</td>\n",
       "      <td>0.0045</td>\n",
       "      <td>160262</td>\n",
       "      <td>5.135266e+10</td>\n",
       "      <td>906868.596576</td>\n",
       "      <td>40</td>\n",
       "      <td>36</td>\n",
       "      <td>{'rings': [[[-12863215.7466, 4199524.9036], [-...</td>\n",
       "      <td>2015-08-16 18:21:52.663</td>\n",
       "    </tr>\n",
       "    <tr>\n",
       "      <th>20</th>\n",
       "      <td>1441131717891</td>\n",
       "      <td>0.0444</td>\n",
       "      <td>166025</td>\n",
       "      <td>5.136519e+10</td>\n",
       "      <td>906973.248614</td>\n",
       "      <td>40</td>\n",
       "      <td>36</td>\n",
       "      <td>{'rings': [[[-12862989.3834, 4199521.189900003...</td>\n",
       "      <td>2015-09-01 18:21:57.891</td>\n",
       "    </tr>\n",
       "    <tr>\n",
       "      <th>21</th>\n",
       "      <td>1442514126299</td>\n",
       "      <td>0.0071</td>\n",
       "      <td>174014</td>\n",
       "      <td>5.135275e+10</td>\n",
       "      <td>906869.452853</td>\n",
       "      <td>40</td>\n",
       "      <td>36</td>\n",
       "      <td>{'rings': [[[-12864683.8771, 4199546.323200002...</td>\n",
       "      <td>2015-09-17 18:22:06.299</td>\n",
       "    </tr>\n",
       "    <tr>\n",
       "      <th>22</th>\n",
       "      <td>1443896530361</td>\n",
       "      <td>0.0059</td>\n",
       "      <td>182444</td>\n",
       "      <td>5.136531e+10</td>\n",
       "      <td>906974.321638</td>\n",
       "      <td>40</td>\n",
       "      <td>36</td>\n",
       "      <td>{'rings': [[[-12864824.5461, 4199547.971500002...</td>\n",
       "      <td>2015-10-03 18:22:10.361</td>\n",
       "    </tr>\n",
       "    <tr>\n",
       "      <th>23</th>\n",
       "      <td>1448043737835</td>\n",
       "      <td>0.0144</td>\n",
       "      <td>207506</td>\n",
       "      <td>5.250596e+10</td>\n",
       "      <td>916751.218356</td>\n",
       "      <td>40</td>\n",
       "      <td>36</td>\n",
       "      <td>{'rings': [[[-12861584.4287, 4198640.915600002...</td>\n",
       "      <td>2015-11-20 18:22:17.835</td>\n",
       "    </tr>\n",
       "    <tr>\n",
       "      <th>24</th>\n",
       "      <td>1454955729355</td>\n",
       "      <td>0.0161</td>\n",
       "      <td>298658</td>\n",
       "      <td>5.137456e+10</td>\n",
       "      <td>907060.468588</td>\n",
       "      <td>40</td>\n",
       "      <td>36</td>\n",
       "      <td>{'rings': [[[-12864564.0423, 4199399.239799999...</td>\n",
       "      <td>2016-02-08 18:22:09.355</td>\n",
       "    </tr>\n",
       "    <tr>\n",
       "      <th>25</th>\n",
       "      <td>1456338122999</td>\n",
       "      <td>0.0125</td>\n",
       "      <td>257053</td>\n",
       "      <td>5.255131e+10</td>\n",
       "      <td>917136.783478</td>\n",
       "      <td>40</td>\n",
       "      <td>36</td>\n",
       "      <td>{'rings': [[[-12860933.7768, 4198654.620399997...</td>\n",
       "      <td>2016-02-24 18:22:02.999</td>\n",
       "    </tr>\n",
       "    <tr>\n",
       "      <th>26</th>\n",
       "      <td>1459102911403</td>\n",
       "      <td>0.0966</td>\n",
       "      <td>283786</td>\n",
       "      <td>5.136752e+10</td>\n",
       "      <td>907008.188067</td>\n",
       "      <td>40</td>\n",
       "      <td>36</td>\n",
       "      <td>{'rings': [[[-12865356.1673, 4199553.7522], [-...</td>\n",
       "      <td>2016-03-27 18:21:51.403</td>\n",
       "    </tr>\n",
       "    <tr>\n",
       "      <th>27</th>\n",
       "      <td>1460485305438</td>\n",
       "      <td>0.0260</td>\n",
       "      <td>278577</td>\n",
       "      <td>5.251323e+10</td>\n",
       "      <td>916815.148095</td>\n",
       "      <td>40</td>\n",
       "      <td>36</td>\n",
       "      <td>{'rings': [[[-12863054.1466, 4198662.965700000...</td>\n",
       "      <td>2016-04-12 18:21:45.438</td>\n",
       "    </tr>\n",
       "  </tbody>\n",
       "</table>\n",
       "</div>"
      ],
      "text/plain": [
       "    AcquisitionDate  CloudCover  OBJECTID    Shape_Area   Shape_Length  \\\n",
       "17    1436984502287      0.0034    141162  5.135278e+10  906869.659682   \n",
       "18    1438366906361      0.0311    153033  5.135268e+10  906868.766567   \n",
       "19    1439749312663      0.0045    160262  5.135266e+10  906868.596576   \n",
       "20    1441131717891      0.0444    166025  5.136519e+10  906973.248614   \n",
       "21    1442514126299      0.0071    174014  5.135275e+10  906869.452853   \n",
       "22    1443896530361      0.0059    182444  5.136531e+10  906974.321638   \n",
       "23    1448043737835      0.0144    207506  5.250596e+10  916751.218356   \n",
       "24    1454955729355      0.0161    298658  5.137456e+10  907060.468588   \n",
       "25    1456338122999      0.0125    257053  5.255131e+10  917136.783478   \n",
       "26    1459102911403      0.0966    283786  5.136752e+10  907008.188067   \n",
       "27    1460485305438      0.0260    278577  5.251323e+10  916815.148095   \n",
       "\n",
       "    WRS_Path  WRS_Row                                              SHAPE  \\\n",
       "17        40       36  {'rings': [[[-12865050.9115, 4199551.647500001...   \n",
       "18        40       36  {'rings': [[[-12863500.5111, 4199529.073600002...   \n",
       "19        40       36  {'rings': [[[-12863215.7466, 4199524.9036], [-...   \n",
       "20        40       36  {'rings': [[[-12862989.3834, 4199521.189900003...   \n",
       "21        40       36  {'rings': [[[-12864683.8771, 4199546.323200002...   \n",
       "22        40       36  {'rings': [[[-12864824.5461, 4199547.971500002...   \n",
       "23        40       36  {'rings': [[[-12861584.4287, 4198640.915600002...   \n",
       "24        40       36  {'rings': [[[-12864564.0423, 4199399.239799999...   \n",
       "25        40       36  {'rings': [[[-12860933.7768, 4198654.620399997...   \n",
       "26        40       36  {'rings': [[[-12865356.1673, 4199553.7522], [-...   \n",
       "27        40       36  {'rings': [[[-12863054.1466, 4198662.965700000...   \n",
       "\n",
       "                      Time  \n",
       "17 2015-07-15 18:21:42.287  \n",
       "18 2015-07-31 18:21:46.361  \n",
       "19 2015-08-16 18:21:52.663  \n",
       "20 2015-09-01 18:21:57.891  \n",
       "21 2015-09-17 18:22:06.299  \n",
       "22 2015-10-03 18:22:10.361  \n",
       "23 2015-11-20 18:22:17.835  \n",
       "24 2016-02-08 18:22:09.355  \n",
       "25 2016-02-24 18:22:02.999  \n",
       "26 2016-03-27 18:21:51.403  \n",
       "27 2016-04-12 18:21:45.438  "
      ]
     },
     "execution_count": 65,
     "metadata": {},
     "output_type": "execute_result"
    }
   ],
   "source": [
    "import pandas as pd\n",
    "df = fs.df\n",
    "df['Time'] = pd.to_datetime(df['AcquisitionDate'], unit='ms')\n",
    "df[(df['Time'] > '2015-07') & (df['Time'] <'2016-05')]"
   ]
  },
  {
   "cell_type": "markdown",
   "metadata": {
    "collapsed": true
   },
   "source": [
    "### Change Detection"
   ]
  },
  {
   "cell_type": "code",
   "execution_count": 58,
   "metadata": {
    "collapsed": true
   },
   "outputs": [],
   "source": [
    "summer_2015 = landsat.filter_by('OBJECTID=160262')\n",
    "spring_2016 = landsat.filter_by('OBJECTID=278577')"
   ]
  },
  {
   "cell_type": "markdown",
   "metadata": {},
   "source": [
    "#### NDVI diff"
   ]
  },
  {
   "cell_type": "code",
   "execution_count": 64,
   "metadata": {
    "collapsed": true
   },
   "outputs": [],
   "source": [
    "ndvi_diff = ndvi(spring_2016, '5 4') - ndvi(summer_2015, '5 4')"
   ]
  },
  {
   "cell_type": "markdown",
   "metadata": {},
   "source": [
    "#### Remap NDVI and apply a colormap"
   ]
  },
  {
   "cell_type": "code",
   "execution_count": 66,
   "metadata": {},
   "outputs": [],
   "source": [
    "threshold = 0.1\n",
    "ndvi_diff_remap = remap(ndvi_diff, input_ranges=[threshold, 1], output_values=[1],\n",
    "                       no_data_ranges=[-1, threshold], astype='u8')\n",
    "\n",
    "ndvi_diff_colormap = colormap(ndvi_diff_remap, colormap=[[1, 124, 252, 0]], astype='u8')"
   ]
  },
  {
   "cell_type": "markdown",
   "metadata": {},
   "source": [
    "The difference image and threshold mask can be visualized using the map widget:"
   ]
  },
  {
   "cell_type": "code",
   "execution_count": 67,
   "metadata": {},
   "outputs": [
    {
     "data": {
      "application/vnd.jupyter.widget-view+json": {
       "model_id": "4801163fe94348fe942dc72ce45bc99f"
      }
     },
     "metadata": {},
     "output_type": "display_data"
    }
   ],
   "source": [
    "redlands_map = gis.map('Redlands, CA')\n",
    "redlands_map.basemap='satellite'\n",
    "redlands_map"
   ]
  },
  {
   "cell_type": "code",
   "execution_count": 69,
   "metadata": {
    "collapsed": true
   },
   "outputs": [],
   "source": [
    "redlands_map.add_layer(ndvi_diff_colormap)"
   ]
  }
 ],
 "metadata": {
  "anaconda-cloud": {},
  "kernelspec": {
   "display_name": "Python 3",
   "language": "python",
   "name": "python3"
  },
  "language_info": {
   "codemirror_mode": {
    "name": "ipython",
    "version": 3
   },
   "file_extension": ".py",
   "mimetype": "text/x-python",
   "name": "python",
   "nbconvert_exporter": "python",
   "pygments_lexer": "ipython3",
   "version": "3.6.2"
  },
  "widgets": {
   "state": {
    "0bb14917ae444251b7499563c218d953": {
     "views": [
      {
       "cell_index": 15
      }
     ]
    },
    "2cc9047a8a594f8684b4669c22bf79a0": {
     "views": [
      {
       "cell_index": 108
      }
     ]
    },
    "4edabc6ef0e24627b42cb0c660bf6604": {
     "views": [
      {
       "cell_index": 63
      }
     ]
    },
    "791da45ff9494ec29cf7830f5b6a7171": {
     "views": [
      {
       "cell_index": 22
      }
     ]
    },
    "900a2ca4f84840c79f24456d96b598bf": {
     "views": [
      {
       "cell_index": 92
      }
     ]
    },
    "caaea9d1204d4689ba62a8acb257b845": {
     "views": [
      {
       "cell_index": 91
      }
     ]
    },
    "ce17c050ebb44e77bf073a6552c3522f": {
     "views": [
      {
       "cell_index": 74
      }
     ]
    }
   },
   "version": "1.2.0"
  }
 },
 "nbformat": 4,
 "nbformat_minor": 2
}
