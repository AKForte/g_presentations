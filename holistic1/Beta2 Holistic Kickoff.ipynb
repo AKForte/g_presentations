{
 "cells": [
  {
   "cell_type": "markdown",
   "metadata": {
    "nbpresent": {
     "id": "13fe5fb0-d8bc-4ba4-a6ce-a72ae805983e"
    }
   },
   "source": [
    "![Python API](./API_Homepage.png)\n",
    "\n",
    "URL: [http://developersdev.arcgis.com/python/](https://developersdev.arcgis.com/python/guide/Overview/)"
   ]
  },
  {
   "cell_type": "markdown",
   "metadata": {
    "nbpresent": {
     "id": "80e6be14-861e-4f3b-9000-ea6e7782cce4"
    }
   },
   "source": [
    "Product vision - Scott & Rohit\n",
    "\n",
    "Today, ArcGIS has grown into a very capable ecosystem of products.\n",
    "\n",
    "**To implement a pythonic API for a GIS.** The API consists of:\n",
    "\n",
    "    - An information model\n",
    "    - Visualization functionality\n",
    "    - Editing functionality\n",
    "    - Information management functionality\n",
    "    - Analysis functionality"
   ]
  },
  {
   "cell_type": "markdown",
   "metadata": {
    "nbpresent": {
     "id": "755eb75d-286a-4767-8484-05fc1175f8ad"
    }
   },
   "source": [
    "# What the API is about\n",
    "\n",
    "Scripting and automation solution for the WebGIS.\n",
    "\n",
    "    - Aggregate users into 4 personas\n",
    "        - GIS Admins\n",
    "        - Scientists\n",
    "        - Publishers\n",
    "        - Power users"
   ]
  },
  {
   "cell_type": "markdown",
   "metadata": {
    "nbpresent": {
     "id": "6c49aeb3-5559-4932-88a7-e83f14f808a9"
    }
   },
   "source": [
    "## What this holistic is about\n",
    "  - Main Goals of the API - *how do we fare?*\n",
    "      - Improve operational efficiency through automation\n",
    "      - Scripting front end to the ArcGIS\n",
    "      - Enable comprehensive geospatial analysis\n",
    "      - \n",
    "      \n",
    "  - Secondary goals of the API - *how do we fare?*\n",
    "      - Lower the barrier of entry to GIS\n",
    "      - Coolness factor\n",
    "      - Intuitive API design for experienced programmers"
   ]
  },
  {
   "cell_type": "markdown",
   "metadata": {
    "collapsed": true,
    "nbpresent": {
     "id": "379821ff-1923-4f5e-924b-c36f393eba71"
    }
   },
   "source": [
    "# Overview of the API\n",
    "\n",
    "    4 Modules\n",
    "      - gis\n",
    "      - lyr\n",
    "      - tools\n",
    "      - viz"
   ]
  },
  {
   "cell_type": "code",
   "execution_count": null,
   "metadata": {
    "collapsed": true
   },
   "outputs": [],
   "source": []
  }
 ],
 "metadata": {
  "anaconda-cloud": {},
  "kernelspec": {
   "display_name": "Python [default]",
   "language": "python",
   "name": "python3"
  },
  "language_info": {
   "codemirror_mode": {
    "name": "ipython",
    "version": 3
   },
   "file_extension": ".py",
   "mimetype": "text/x-python",
   "name": "python",
   "nbconvert_exporter": "python",
   "pygments_lexer": "ipython3",
   "version": "3.5.2"
  },
  "nbpresent": {
   "slides": {
    "0c53edf8-98f9-40e7-8f13-e4f3fdf2d105": {
     "id": "0c53edf8-98f9-40e7-8f13-e4f3fdf2d105",
     "prev": "1741efe9-9d8f-4749-9f55-af721a6b7e8e",
     "regions": {
      "13bfe36c-4a37-43d3-9200-2d81d5fa6d72": {
       "attrs": {
        "height": 1,
        "width": 1,
        "x": 0,
        "y": 0
       },
       "content": {
        "cell": "379821ff-1923-4f5e-924b-c36f393eba71",
        "part": "source"
       },
       "id": "13bfe36c-4a37-43d3-9200-2d81d5fa6d72"
      }
     }
    },
    "1741efe9-9d8f-4749-9f55-af721a6b7e8e": {
     "id": "1741efe9-9d8f-4749-9f55-af721a6b7e8e",
     "prev": "dfec46f6-2e08-44d4-9359-7f6fae36739f",
     "regions": {
      "d236a86e-97da-487f-b93c-38646a3908f9": {
       "attrs": {
        "height": 1,
        "width": 1,
        "x": 0,
        "y": 0
       },
       "content": {
        "cell": "6c49aeb3-5559-4932-88a7-e83f14f808a9",
        "part": "source"
       },
       "id": "d236a86e-97da-487f-b93c-38646a3908f9"
      }
     }
    },
    "dfec46f6-2e08-44d4-9359-7f6fae36739f": {
     "id": "dfec46f6-2e08-44d4-9359-7f6fae36739f",
     "prev": "fdb539c8-1dac-42d9-bba7-b5c3b9f49bde",
     "regions": {
      "f640dfdc-d5f2-46a4-a4bd-b2a51e5e65cb": {
       "attrs": {
        "height": 1,
        "width": 1,
        "x": 0,
        "y": 0
       },
       "content": {
        "cell": "755eb75d-286a-4767-8484-05fc1175f8ad",
        "part": "source"
       },
       "id": "f640dfdc-d5f2-46a4-a4bd-b2a51e5e65cb"
      }
     }
    },
    "fdb539c8-1dac-42d9-bba7-b5c3b9f49bde": {
     "id": "fdb539c8-1dac-42d9-bba7-b5c3b9f49bde",
     "prev": null,
     "regions": {
      "87a5d94c-315c-4a27-b62a-56a97a650644": {
       "attrs": {
        "height": 1,
        "width": 1,
        "x": 0,
        "y": 0
       },
       "content": {
        "cell": "13fe5fb0-d8bc-4ba4-a6ce-a72ae805983e",
        "part": "source"
       },
       "id": "87a5d94c-315c-4a27-b62a-56a97a650644"
      }
     }
    }
   },
   "themes": {
    "default": "9e944242-63b1-44ce-91cc-08de32a33ea4",
    "theme": {
     "55fd92bd-a876-40ed-86de-3bb77021f72e": {
      "backgrounds": {
       "dc7afa04-bf90-40b1-82a5-726e3cff5267": {
        "background-color": "31af15d2-7e15-44c5-ab5e-e04b16a89eff",
        "id": "dc7afa04-bf90-40b1-82a5-726e3cff5267"
       }
      },
      "id": "55fd92bd-a876-40ed-86de-3bb77021f72e",
      "palette": {
       "19cc588f-0593-49c9-9f4b-e4d7cc113b1c": {
        "id": "19cc588f-0593-49c9-9f4b-e4d7cc113b1c",
        "rgb": [
         252,
         252,
         252
        ]
       },
       "31af15d2-7e15-44c5-ab5e-e04b16a89eff": {
        "id": "31af15d2-7e15-44c5-ab5e-e04b16a89eff",
        "rgb": [
         68,
         68,
         68
        ]
       },
       "50f92c45-a630-455b-aec3-788680ec7410": {
        "id": "50f92c45-a630-455b-aec3-788680ec7410",
        "rgb": [
         197,
         226,
         245
        ]
       },
       "c5cc3653-2ee1-402a-aba2-7caae1da4f6c": {
        "id": "c5cc3653-2ee1-402a-aba2-7caae1da4f6c",
        "rgb": [
         43,
         126,
         184
        ]
       },
       "efa7f048-9acb-414c-8b04-a26811511a21": {
        "id": "efa7f048-9acb-414c-8b04-a26811511a21",
        "rgb": [
         25.118061674008803,
         73.60176211453744,
         107.4819383259912
        ]
       }
      },
      "rules": {
       "a": {
        "color": "19cc588f-0593-49c9-9f4b-e4d7cc113b1c"
       },
       "blockquote": {
        "color": "50f92c45-a630-455b-aec3-788680ec7410",
        "font-size": 3
       },
       "code": {
        "font-family": "Anonymous Pro"
       },
       "h1": {
        "color": "19cc588f-0593-49c9-9f4b-e4d7cc113b1c",
        "font-family": "Merriweather",
        "font-size": 8
       },
       "h2": {
        "color": "19cc588f-0593-49c9-9f4b-e4d7cc113b1c",
        "font-family": "Merriweather",
        "font-size": 6
       },
       "h3": {
        "color": "50f92c45-a630-455b-aec3-788680ec7410",
        "font-family": "Lato",
        "font-size": 5.5
       },
       "h4": {
        "color": "c5cc3653-2ee1-402a-aba2-7caae1da4f6c",
        "font-family": "Lato",
        "font-size": 5
       },
       "h5": {
        "font-family": "Lato"
       },
       "h6": {
        "font-family": "Lato"
       },
       "h7": {
        "font-family": "Lato"
       },
       "li": {
        "color": "50f92c45-a630-455b-aec3-788680ec7410",
        "font-size": 3.25
       },
       "pre": {
        "font-family": "Anonymous Pro",
        "font-size": 4
       }
      },
      "text-base": {
       "color": "19cc588f-0593-49c9-9f4b-e4d7cc113b1c",
       "font-family": "Lato",
       "font-size": 4
      }
     },
     "9e944242-63b1-44ce-91cc-08de32a33ea4": {
      "id": "9e944242-63b1-44ce-91cc-08de32a33ea4",
      "palette": {
       "19cc588f-0593-49c9-9f4b-e4d7cc113b1c": {
        "id": "19cc588f-0593-49c9-9f4b-e4d7cc113b1c",
        "rgb": [
         252,
         252,
         252
        ]
       },
       "31af15d2-7e15-44c5-ab5e-e04b16a89eff": {
        "id": "31af15d2-7e15-44c5-ab5e-e04b16a89eff",
        "rgb": [
         68,
         68,
         68
        ]
       },
       "50f92c45-a630-455b-aec3-788680ec7410": {
        "id": "50f92c45-a630-455b-aec3-788680ec7410",
        "rgb": [
         155,
         177,
         192
        ]
       },
       "c5cc3653-2ee1-402a-aba2-7caae1da4f6c": {
        "id": "c5cc3653-2ee1-402a-aba2-7caae1da4f6c",
        "rgb": [
         43,
         126,
         184
        ]
       },
       "efa7f048-9acb-414c-8b04-a26811511a21": {
        "id": "efa7f048-9acb-414c-8b04-a26811511a21",
        "rgb": [
         25.118061674008803,
         73.60176211453744,
         107.4819383259912
        ]
       }
      },
      "rules": {
       "blockquote": {
        "color": "50f92c45-a630-455b-aec3-788680ec7410"
       },
       "code": {
        "font-family": "Anonymous Pro"
       },
       "h1": {
        "color": "c5cc3653-2ee1-402a-aba2-7caae1da4f6c",
        "font-family": "Lato",
        "font-size": 8
       },
       "h2": {
        "color": "c5cc3653-2ee1-402a-aba2-7caae1da4f6c",
        "font-family": "Lato",
        "font-size": 6
       },
       "h3": {
        "color": "50f92c45-a630-455b-aec3-788680ec7410",
        "font-family": "Lato",
        "font-size": 5.5
       },
       "h4": {
        "color": "c5cc3653-2ee1-402a-aba2-7caae1da4f6c",
        "font-family": "Lato",
        "font-size": 5
       },
       "h5": {
        "font-family": "Lato"
       },
       "h6": {
        "font-family": "Lato"
       },
       "h7": {
        "font-family": "Lato"
       },
       "pre": {
        "font-family": "Anonymous Pro",
        "font-size": 4
       }
      },
      "text-base": {
       "font-family": "Merriweather",
       "font-size": 4
      }
     }
    }
   }
  }
 },
 "nbformat": 4,
 "nbformat_minor": 1
}
