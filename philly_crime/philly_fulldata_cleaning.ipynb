{
 "cells": [
  {
   "cell_type": "markdown",
   "metadata": {},
   "source": [
    "# General visualization of 1000 crime incidents"
   ]
  },
  {
   "cell_type": "code",
   "execution_count": 1,
   "metadata": {
    "collapsed": true
   },
   "outputs": [],
   "source": [
    "from arcgis.gis import *\n",
    "import pandas as pd\n",
    "import numpy as np\n",
    "import matplotlib.pyplot as plt\n",
    "%matplotlib inline"
   ]
  },
  {
   "cell_type": "code",
   "execution_count": 2,
   "metadata": {
    "collapsed": false
   },
   "outputs": [],
   "source": [
    "philly_2006 = pd.read_csv(r'E:\\GIS_Data\\Analytics\\PhillyCrime\\crime_combined.csv')"
   ]
  },
  {
   "cell_type": "code",
   "execution_count": 3,
   "metadata": {
    "collapsed": false
   },
   "outputs": [
    {
     "data": {
      "text/html": [
       "<div>\n",
       "<table border=\"1\" class=\"dataframe\">\n",
       "  <thead>\n",
       "    <tr style=\"text-align: right;\">\n",
       "      <th></th>\n",
       "      <th>Dc_Dist</th>\n",
       "      <th>Psa</th>\n",
       "      <th>Dispatch_Date_Time</th>\n",
       "      <th>Dispatch_Date</th>\n",
       "      <th>Dispatch_Time</th>\n",
       "      <th>Hour</th>\n",
       "      <th>Dc_Key</th>\n",
       "      <th>Location_Block</th>\n",
       "      <th>UCR_General</th>\n",
       "      <th>Text_General_Code</th>\n",
       "      <th>Police_Districts</th>\n",
       "      <th>Month</th>\n",
       "      <th>Lon</th>\n",
       "      <th>Lat</th>\n",
       "    </tr>\n",
       "  </thead>\n",
       "  <tbody>\n",
       "    <tr>\n",
       "      <th>0</th>\n",
       "      <td>18</td>\n",
       "      <td>3</td>\n",
       "      <td>2009-10-02 14:24:00</td>\n",
       "      <td>2009-10-02</td>\n",
       "      <td>14:24:00</td>\n",
       "      <td>14</td>\n",
       "      <td>200918067518</td>\n",
       "      <td>S 38TH ST  / MARKETUT ST</td>\n",
       "      <td>800.0</td>\n",
       "      <td>Other Assaults</td>\n",
       "      <td>NaN</td>\n",
       "      <td>2009-10</td>\n",
       "      <td>NaN</td>\n",
       "      <td>NaN</td>\n",
       "    </tr>\n",
       "    <tr>\n",
       "      <th>1</th>\n",
       "      <td>14</td>\n",
       "      <td>1</td>\n",
       "      <td>2009-05-10 00:55:00</td>\n",
       "      <td>2009-05-10</td>\n",
       "      <td>00:55:00</td>\n",
       "      <td>0</td>\n",
       "      <td>200914033994</td>\n",
       "      <td>8500 BLOCK MITCH</td>\n",
       "      <td>2600.0</td>\n",
       "      <td>All Other Offenses</td>\n",
       "      <td>NaN</td>\n",
       "      <td>2009-05</td>\n",
       "      <td>NaN</td>\n",
       "      <td>NaN</td>\n",
       "    </tr>\n",
       "    <tr>\n",
       "      <th>2</th>\n",
       "      <td>25</td>\n",
       "      <td>J</td>\n",
       "      <td>2009-08-07 15:40:00</td>\n",
       "      <td>2009-08-07</td>\n",
       "      <td>15:40:00</td>\n",
       "      <td>15</td>\n",
       "      <td>200925083199</td>\n",
       "      <td>6TH CAMBRIA</td>\n",
       "      <td>800.0</td>\n",
       "      <td>Other Assaults</td>\n",
       "      <td>NaN</td>\n",
       "      <td>2009-08</td>\n",
       "      <td>NaN</td>\n",
       "      <td>NaN</td>\n",
       "    </tr>\n",
       "    <tr>\n",
       "      <th>3</th>\n",
       "      <td>35</td>\n",
       "      <td>D</td>\n",
       "      <td>2009-07-19 01:09:00</td>\n",
       "      <td>2009-07-19</td>\n",
       "      <td>01:09:00</td>\n",
       "      <td>1</td>\n",
       "      <td>200935061008</td>\n",
       "      <td>5500 BLOCK N 5TH ST</td>\n",
       "      <td>1500.0</td>\n",
       "      <td>Weapon Violations</td>\n",
       "      <td>20.0</td>\n",
       "      <td>2009-07</td>\n",
       "      <td>-75.130477</td>\n",
       "      <td>40.036389</td>\n",
       "    </tr>\n",
       "    <tr>\n",
       "      <th>4</th>\n",
       "      <td>9</td>\n",
       "      <td>R</td>\n",
       "      <td>2009-06-25 00:14:00</td>\n",
       "      <td>2009-06-25</td>\n",
       "      <td>00:14:00</td>\n",
       "      <td>0</td>\n",
       "      <td>200909030511</td>\n",
       "      <td>1800 BLOCK WYLIE ST</td>\n",
       "      <td>2600.0</td>\n",
       "      <td>All Other Offenses</td>\n",
       "      <td>8.0</td>\n",
       "      <td>2009-06</td>\n",
       "      <td>-75.166350</td>\n",
       "      <td>39.969532</td>\n",
       "    </tr>\n",
       "  </tbody>\n",
       "</table>\n",
       "</div>"
      ],
      "text/plain": [
       "   Dc_Dist Psa   Dispatch_Date_Time Dispatch_Date Dispatch_Time  Hour  \\\n",
       "0       18   3  2009-10-02 14:24:00    2009-10-02      14:24:00    14   \n",
       "1       14   1  2009-05-10 00:55:00    2009-05-10      00:55:00     0   \n",
       "2       25   J  2009-08-07 15:40:00    2009-08-07      15:40:00    15   \n",
       "3       35   D  2009-07-19 01:09:00    2009-07-19      01:09:00     1   \n",
       "4        9   R  2009-06-25 00:14:00    2009-06-25      00:14:00     0   \n",
       "\n",
       "         Dc_Key            Location_Block  UCR_General   Text_General_Code  \\\n",
       "0  200918067518  S 38TH ST  / MARKETUT ST        800.0      Other Assaults   \n",
       "1  200914033994          8500 BLOCK MITCH       2600.0  All Other Offenses   \n",
       "2  200925083199               6TH CAMBRIA        800.0      Other Assaults   \n",
       "3  200935061008       5500 BLOCK N 5TH ST       1500.0   Weapon Violations   \n",
       "4  200909030511       1800 BLOCK WYLIE ST       2600.0  All Other Offenses   \n",
       "\n",
       "   Police_Districts    Month        Lon        Lat  \n",
       "0               NaN  2009-10        NaN        NaN  \n",
       "1               NaN  2009-05        NaN        NaN  \n",
       "2               NaN  2009-08        NaN        NaN  \n",
       "3              20.0  2009-07 -75.130477  40.036389  \n",
       "4               8.0  2009-06 -75.166350  39.969532  "
      ]
     },
     "execution_count": 3,
     "metadata": {},
     "output_type": "execute_result"
    }
   ],
   "source": [
    "philly_2006.head()"
   ]
  },
  {
   "cell_type": "code",
   "execution_count": 4,
   "metadata": {
    "collapsed": false
   },
   "outputs": [
    {
     "data": {
      "text/plain": [
       "(2219929, 14)"
      ]
     },
     "execution_count": 4,
     "metadata": {},
     "output_type": "execute_result"
    }
   ],
   "source": [
    "philly_2006.shape"
   ]
  },
  {
   "cell_type": "markdown",
   "metadata": {},
   "source": [
    "## Which crime is most likely to occur?"
   ]
  },
  {
   "cell_type": "code",
   "execution_count": 5,
   "metadata": {
    "collapsed": false
   },
   "outputs": [
    {
     "data": {
      "text/plain": [
       "All Other Offenses                         434502\n",
       "Other Assaults                             274763\n",
       "Thefts                                     255653\n",
       "Vandalism/Criminal Mischief                198834\n",
       "Theft from Vehicle                         169883\n",
       "Narcotic / Drug Law Violations             136370\n",
       "Fraud                                      113064\n",
       "Recovered Stolen Motor Vehicle              94461\n",
       "Burglary Residential                        93679\n",
       "Aggravated Assault No Firearm               68416\n",
       "DRIVING UNDER THE INFLUENCE                 53253\n",
       "Robbery No Firearm                          51546\n",
       "Motor Vehicle Theft                         46340\n",
       "Robbery Firearm                             40321\n",
       "Disorderly Conduct                          40001\n",
       "Aggravated Assault Firearm                  27706\n",
       "Burglary Non-Residential                    23115\n",
       "Weapon Violations                           18873\n",
       "Other Sex Offenses (Not Commercialized)     15190\n",
       "Prostitution and Commercialized Vice        12754\n",
       "Rape                                        11734\n",
       "Vagrancy/Loitering                           6776\n",
       "Arson                                        5637\n",
       "Liquor Law Violations                        5413\n",
       "Forgery and Counterfeiting                   4824\n",
       "Embezzlement                                 4751\n",
       "Public Drunkenness                           4592\n",
       "Homicide - Criminal                          3409\n",
       "Offenses Against Family and Children         1788\n",
       "Gambling Violations                           920\n",
       "Receiving Stolen Property                     780\n",
       "Homicide - Justifiable                         42\n",
       "Homicide - Gross Negligence                    12\n",
       "Name: Text_General_Code, dtype: int64"
      ]
     },
     "execution_count": 5,
     "metadata": {},
     "output_type": "execute_result"
    }
   ],
   "source": [
    "philly_2006.Text_General_Code.value_counts()"
   ]
  },
  {
   "cell_type": "code",
   "execution_count": 7,
   "metadata": {
    "collapsed": false
   },
   "outputs": [
    {
     "data": {
      "text/plain": [
       "<matplotlib.axes._subplots.AxesSubplot at 0x1944fdaf4e0>"
      ]
     },
     "execution_count": 7,
     "metadata": {},
     "output_type": "execute_result"
    },
    {
     "data": {
      "image/png": "[encoded data removed]",
      "text/plain": [
       "<matplotlib.figure.Figure at 0x1946d668518>"
      ]
     },
     "metadata": {},
     "output_type": "display_data"
    }
   ],
   "source": [
    "philly_2006.Text_General_Code.value_counts().plot(kind='bar')"
   ]
  },
  {
   "cell_type": "markdown",
   "metadata": {},
   "source": [
    "### Slice time and create the following columns\n",
    "Year, Month, Day, Day_of_week, Hour"
   ]
  },
  {
   "cell_type": "code",
   "execution_count": 6,
   "metadata": {
    "collapsed": false
   },
   "outputs": [],
   "source": [
    "philly_2006['Hour'] = [pd.to_datetime(f).hour for f in philly_2006.Dispatch_Date_Time]"
   ]
  },
  {
   "cell_type": "code",
   "execution_count": 7,
   "metadata": {
    "collapsed": false
   },
   "outputs": [],
   "source": [
    "philly_2006['year'] = [pd.to_datetime(f).date().year for f in philly_2006.Dispatch_Date_Time]"
   ]
  },
  {
   "cell_type": "code",
   "execution_count": 8,
   "metadata": {
    "collapsed": false
   },
   "outputs": [],
   "source": [
    "philly_2006['month'] = [pd.to_datetime(f).date().month for f in philly_2006.Dispatch_Date_Time]"
   ]
  },
  {
   "cell_type": "code",
   "execution_count": 9,
   "metadata": {
    "collapsed": false
   },
   "outputs": [],
   "source": [
    "philly_2006['day_of_month'] = \\\n",
    "[pd.to_datetime(f).date().day for f in philly_2006.Dispatch_Date_Time]"
   ]
  },
  {
   "cell_type": "code",
   "execution_count": 10,
   "metadata": {
    "collapsed": false
   },
   "outputs": [],
   "source": [
    "philly_2006['day_of_week'] = \\\n",
    "[pd.to_datetime(f).weekday_name for f in philly_2006.Dispatch_Date_Time]"
   ]
  },
  {
   "cell_type": "markdown",
   "metadata": {},
   "source": [
    "Let us save this dataset into a csv file for future use."
   ]
  },
  {
   "cell_type": "code",
   "execution_count": 11,
   "metadata": {
    "collapsed": false
   },
   "outputs": [],
   "source": [
    "philly_2006.to_csv(r'E:\\GIS_Data\\Analytics\\PhillyCrime\\crime_combined_temporal.csv')"
   ]
  },
  {
   "cell_type": "markdown",
   "metadata": {
    "collapsed": true
   },
   "source": [
    "## Get a subset of 100k rows\n"
   ]
  },
  {
   "cell_type": "code",
   "execution_count": 12,
   "metadata": {
    "collapsed": true
   },
   "outputs": [],
   "source": [
    "random_index = np.random.permutation(len(philly_2006))[:100000]"
   ]
  },
  {
   "cell_type": "code",
   "execution_count": 13,
   "metadata": {
    "collapsed": true
   },
   "outputs": [],
   "source": [
    "philly_random_subset = philly_2006.take(random_index)"
   ]
  },
  {
   "cell_type": "code",
   "execution_count": 14,
   "metadata": {
    "collapsed": false
   },
   "outputs": [
    {
     "data": {
      "text/plain": [
       "(100000, 18)"
      ]
     },
     "execution_count": 14,
     "metadata": {},
     "output_type": "execute_result"
    }
   ],
   "source": [
    "philly_random_subset.shape"
   ]
  },
  {
   "cell_type": "code",
   "execution_count": 15,
   "metadata": {
    "collapsed": true
   },
   "outputs": [],
   "source": [
    "philly_random_subset.to_csv(r'E:\\GIS_Data\\Analytics\\PhillyCrime\\crime_rnd_100k.csv')"
   ]
  },
  {
   "cell_type": "markdown",
   "metadata": {},
   "source": [
    "### Set aside 30% of this for test and remaining 70% for train"
   ]
  },
  {
   "cell_type": "code",
   "execution_count": 16,
   "metadata": {
    "collapsed": false
   },
   "outputs": [
    {
     "data": {
      "text/plain": [
       "(30000, 18)"
      ]
     },
     "execution_count": 16,
     "metadata": {},
     "output_type": "execute_result"
    }
   ],
   "source": [
    "test_rnd_index = np.random.permutation(len(philly_random_subset))[:30000]\n",
    "philly_test_subset = philly_random_subset.take(test_rnd_index)\n",
    "philly_test_subset.shape"
   ]
  },
  {
   "cell_type": "code",
   "execution_count": 17,
   "metadata": {
    "collapsed": true
   },
   "outputs": [],
   "source": [
    "philly_test_subset.to_csv(r'E:\\GIS_Data\\Analytics\\PhillyCrime\\crime_test_30k.csv')"
   ]
  },
  {
   "cell_type": "code",
   "execution_count": 18,
   "metadata": {
    "collapsed": false
   },
   "outputs": [
    {
     "data": {
      "text/plain": [
       "(70000, 18)"
      ]
     },
     "execution_count": 18,
     "metadata": {},
     "output_type": "execute_result"
    }
   ],
   "source": [
    "train_rnd_index = np.random.permutation(len(philly_random_subset))[:70000]\n",
    "philly_train_subset = philly_random_subset.take(train_rnd_index)\n",
    "philly_train_subset.shape"
   ]
  },
  {
   "cell_type": "code",
   "execution_count": 19,
   "metadata": {
    "collapsed": true
   },
   "outputs": [],
   "source": [
    "philly_train_subset.to_csv(r'E:\\GIS_Data\\Analytics\\PhillyCrime\\crime_train_70k.csv')"
   ]
  },
  {
   "cell_type": "code",
   "execution_count": null,
   "metadata": {
    "collapsed": true
   },
   "outputs": [],
   "source": []
  }
 ],
 "metadata": {
  "kernelspec": {
   "display_name": "Python 3",
   "language": "python",
   "name": "python3"
  },
  "language_info": {
   "codemirror_mode": {
    "name": "ipython",
    "version": 3
   },
   "file_extension": ".py",
   "mimetype": "text/x-python",
   "name": "python",
   "nbconvert_exporter": "python",
   "pygments_lexer": "ipython3",
   "version": "3.5.2"
  }
 },
 "nbformat": 4,
 "nbformat_minor": 1
}
