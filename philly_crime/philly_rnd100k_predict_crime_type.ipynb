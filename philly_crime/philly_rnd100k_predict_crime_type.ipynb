{
 "cells": [
  {
   "cell_type": "markdown",
   "metadata": {},
   "source": [
    "# Predicting crime type\n",
    "## SVC"
   ]
  },
  {
   "cell_type": "code",
   "execution_count": 1,
   "metadata": {
    "collapsed": true
   },
   "outputs": [],
   "source": [
    "import pandas as pd\n",
    "import numpy as np\n",
    "import matplotlib.pyplot as plt\n",
    "%matplotlib inline\n",
    "from sklearn import svm"
   ]
  },
  {
   "cell_type": "code",
   "execution_count": 28,
   "metadata": {
    "collapsed": true
   },
   "outputs": [],
   "source": [
    "philly_train= pd.read_csv(r'D:\\GIS_Data\\Analytics\\PhillyCrime\\crime_train_70k.csv')\n",
    "philly_test = pd.read_csv(r'D:\\GIS_Data\\Analytics\\PhillyCrime\\crime_test_30k.csv')"
   ]
  },
  {
   "cell_type": "code",
   "execution_count": 29,
   "metadata": {
    "collapsed": false
   },
   "outputs": [
    {
     "data": {
      "text/html": [
       "<div>\n",
       "<table border=\"1\" class=\"dataframe\">\n",
       "  <thead>\n",
       "    <tr style=\"text-align: right;\">\n",
       "      <th></th>\n",
       "      <th>Unnamed: 0</th>\n",
       "      <th>Dc_Dist</th>\n",
       "      <th>Psa</th>\n",
       "      <th>Dispatch_Date_Time</th>\n",
       "      <th>Dispatch_Date</th>\n",
       "      <th>Dispatch_Time</th>\n",
       "      <th>Hour</th>\n",
       "      <th>Dc_Key</th>\n",
       "      <th>Location_Block</th>\n",
       "      <th>UCR_General</th>\n",
       "      <th>Text_General_Code</th>\n",
       "      <th>Police_Districts</th>\n",
       "      <th>Month</th>\n",
       "      <th>Lon</th>\n",
       "      <th>Lat</th>\n",
       "      <th>year</th>\n",
       "      <th>month</th>\n",
       "      <th>day_of_month</th>\n",
       "      <th>day_of_week</th>\n",
       "    </tr>\n",
       "  </thead>\n",
       "  <tbody>\n",
       "    <tr>\n",
       "      <th>0</th>\n",
       "      <td>1279097</td>\n",
       "      <td>19</td>\n",
       "      <td>R</td>\n",
       "      <td>2006-07-24 20:23:00</td>\n",
       "      <td>2006-07-24</td>\n",
       "      <td>20:23:00</td>\n",
       "      <td>20</td>\n",
       "      <td>200619056612</td>\n",
       "      <td>100 BLOCK N WILTON ST</td>\n",
       "      <td>1400.0</td>\n",
       "      <td>Vandalism/Criminal Mischief</td>\n",
       "      <td>15.0</td>\n",
       "      <td>2006-07</td>\n",
       "      <td>-75.225069</td>\n",
       "      <td>39.963023</td>\n",
       "      <td>2006</td>\n",
       "      <td>7</td>\n",
       "      <td>24</td>\n",
       "      <td>Monday</td>\n",
       "    </tr>\n",
       "    <tr>\n",
       "      <th>1</th>\n",
       "      <td>599246</td>\n",
       "      <td>19</td>\n",
       "      <td>2</td>\n",
       "      <td>2015-10-19 17:59:00</td>\n",
       "      <td>2015-10-19</td>\n",
       "      <td>17:59:00</td>\n",
       "      <td>17</td>\n",
       "      <td>201519106433</td>\n",
       "      <td>5200 BLOCK ARCH ST</td>\n",
       "      <td>2600.0</td>\n",
       "      <td>All Other Offenses</td>\n",
       "      <td>15.0</td>\n",
       "      <td>2015-10</td>\n",
       "      <td>-75.224556</td>\n",
       "      <td>39.961613</td>\n",
       "      <td>2015</td>\n",
       "      <td>10</td>\n",
       "      <td>19</td>\n",
       "      <td>Monday</td>\n",
       "    </tr>\n",
       "    <tr>\n",
       "      <th>2</th>\n",
       "      <td>822437</td>\n",
       "      <td>39</td>\n",
       "      <td>2</td>\n",
       "      <td>2015-01-30 00:19:00</td>\n",
       "      <td>2015-01-30</td>\n",
       "      <td>00:19:00</td>\n",
       "      <td>0</td>\n",
       "      <td>201539007526</td>\n",
       "      <td>N 16TH ST / W BUTLER ST</td>\n",
       "      <td>1400.0</td>\n",
       "      <td>Vandalism/Criminal Mischief</td>\n",
       "      <td>21.0</td>\n",
       "      <td>2015-01</td>\n",
       "      <td>-75.154110</td>\n",
       "      <td>40.011255</td>\n",
       "      <td>2015</td>\n",
       "      <td>1</td>\n",
       "      <td>30</td>\n",
       "      <td>Friday</td>\n",
       "    </tr>\n",
       "    <tr>\n",
       "      <th>3</th>\n",
       "      <td>1613454</td>\n",
       "      <td>15</td>\n",
       "      <td>H</td>\n",
       "      <td>2007-12-13 22:37:00</td>\n",
       "      <td>2007-12-13</td>\n",
       "      <td>22:37:00</td>\n",
       "      <td>22</td>\n",
       "      <td>200715133954</td>\n",
       "      <td>FILLMORE PL / TACKAWANNA ST</td>\n",
       "      <td>2600.0</td>\n",
       "      <td>All Other Offenses</td>\n",
       "      <td>11.0</td>\n",
       "      <td>2007-12</td>\n",
       "      <td>-75.076508</td>\n",
       "      <td>40.015810</td>\n",
       "      <td>2007</td>\n",
       "      <td>12</td>\n",
       "      <td>13</td>\n",
       "      <td>Thursday</td>\n",
       "    </tr>\n",
       "    <tr>\n",
       "      <th>4</th>\n",
       "      <td>369146</td>\n",
       "      <td>25</td>\n",
       "      <td>3</td>\n",
       "      <td>2011-12-28 16:49:00</td>\n",
       "      <td>2011-12-28</td>\n",
       "      <td>16:49:00</td>\n",
       "      <td>16</td>\n",
       "      <td>201125108841</td>\n",
       "      <td>3400 BLOCK REACH ST</td>\n",
       "      <td>500.0</td>\n",
       "      <td>Burglary Residential</td>\n",
       "      <td>18.0</td>\n",
       "      <td>2011-12</td>\n",
       "      <td>-75.115211</td>\n",
       "      <td>40.000785</td>\n",
       "      <td>2011</td>\n",
       "      <td>12</td>\n",
       "      <td>28</td>\n",
       "      <td>Wednesday</td>\n",
       "    </tr>\n",
       "  </tbody>\n",
       "</table>\n",
       "</div>"
      ],
      "text/plain": [
       "   Unnamed: 0  Dc_Dist Psa   Dispatch_Date_Time Dispatch_Date Dispatch_Time  \\\n",
       "0     1279097       19   R  2006-07-24 20:23:00    2006-07-24      20:23:00   \n",
       "1      599246       19   2  2015-10-19 17:59:00    2015-10-19      17:59:00   \n",
       "2      822437       39   2  2015-01-30 00:19:00    2015-01-30      00:19:00   \n",
       "3     1613454       15   H  2007-12-13 22:37:00    2007-12-13      22:37:00   \n",
       "4      369146       25   3  2011-12-28 16:49:00    2011-12-28      16:49:00   \n",
       "\n",
       "   Hour        Dc_Key               Location_Block  UCR_General  \\\n",
       "0    20  200619056612        100 BLOCK N WILTON ST       1400.0   \n",
       "1    17  201519106433           5200 BLOCK ARCH ST       2600.0   \n",
       "2     0  201539007526      N 16TH ST / W BUTLER ST       1400.0   \n",
       "3    22  200715133954  FILLMORE PL / TACKAWANNA ST       2600.0   \n",
       "4    16  201125108841          3400 BLOCK REACH ST        500.0   \n",
       "\n",
       "             Text_General_Code  Police_Districts    Month        Lon  \\\n",
       "0  Vandalism/Criminal Mischief              15.0  2006-07 -75.225069   \n",
       "1           All Other Offenses              15.0  2015-10 -75.224556   \n",
       "2  Vandalism/Criminal Mischief              21.0  2015-01 -75.154110   \n",
       "3           All Other Offenses              11.0  2007-12 -75.076508   \n",
       "4         Burglary Residential              18.0  2011-12 -75.115211   \n",
       "\n",
       "         Lat  year  month  day_of_month day_of_week  \n",
       "0  39.963023  2006      7            24      Monday  \n",
       "1  39.961613  2015     10            19      Monday  \n",
       "2  40.011255  2015      1            30      Friday  \n",
       "3  40.015810  2007     12            13    Thursday  \n",
       "4  40.000785  2011     12            28   Wednesday  "
      ]
     },
     "execution_count": 29,
     "metadata": {},
     "output_type": "execute_result"
    }
   ],
   "source": [
    "philly_train.head()"
   ]
  },
  {
   "cell_type": "code",
   "execution_count": 30,
   "metadata": {
    "collapsed": false
   },
   "outputs": [
    {
     "data": {
      "text/plain": [
       "(70000, 19)"
      ]
     },
     "execution_count": 30,
     "metadata": {},
     "output_type": "execute_result"
    }
   ],
   "source": [
    "philly_train.shape"
   ]
  },
  {
   "cell_type": "code",
   "execution_count": 31,
   "metadata": {
    "collapsed": false
   },
   "outputs": [],
   "source": [
    "philly_train_labels = philly_train['Text_General_Code']"
   ]
  },
  {
   "cell_type": "code",
   "execution_count": 35,
   "metadata": {
    "collapsed": false
   },
   "outputs": [
    {
     "data": {
      "text/plain": [
       "(70000, 19)"
      ]
     },
     "execution_count": 35,
     "metadata": {},
     "output_type": "execute_result"
    }
   ],
   "source": [
    "philly_train.apply(lambda x : pd.to_numeric(x, errors='ignore'))\n",
    "philly_train.shape"
   ]
  },
  {
   "cell_type": "code",
   "execution_count": 36,
   "metadata": {
    "collapsed": false
   },
   "outputs": [
    {
     "data": {
      "text/html": [
       "<div>\n",
       "<table border=\"1\" class=\"dataframe\">\n",
       "  <thead>\n",
       "    <tr style=\"text-align: right;\">\n",
       "      <th></th>\n",
       "      <th>Unnamed: 0</th>\n",
       "      <th>Dc_Dist</th>\n",
       "      <th>Psa</th>\n",
       "      <th>Dispatch_Date_Time</th>\n",
       "      <th>Dispatch_Date</th>\n",
       "      <th>Dispatch_Time</th>\n",
       "      <th>Hour</th>\n",
       "      <th>Dc_Key</th>\n",
       "      <th>Location_Block</th>\n",
       "      <th>UCR_General</th>\n",
       "      <th>Text_General_Code</th>\n",
       "      <th>Police_Districts</th>\n",
       "      <th>Month</th>\n",
       "      <th>Lon</th>\n",
       "      <th>Lat</th>\n",
       "      <th>year</th>\n",
       "      <th>month</th>\n",
       "      <th>day_of_month</th>\n",
       "      <th>day_of_week</th>\n",
       "    </tr>\n",
       "  </thead>\n",
       "  <tbody>\n",
       "    <tr>\n",
       "      <th>0</th>\n",
       "      <td>1279097</td>\n",
       "      <td>19</td>\n",
       "      <td>R</td>\n",
       "      <td>2006-07-24 20:23:00</td>\n",
       "      <td>2006-07-24</td>\n",
       "      <td>20:23:00</td>\n",
       "      <td>20</td>\n",
       "      <td>200619056612</td>\n",
       "      <td>100 BLOCK N WILTON ST</td>\n",
       "      <td>1400.0</td>\n",
       "      <td>Vandalism/Criminal Mischief</td>\n",
       "      <td>15.0</td>\n",
       "      <td>2006-07</td>\n",
       "      <td>-75.225069</td>\n",
       "      <td>39.963023</td>\n",
       "      <td>2006</td>\n",
       "      <td>7</td>\n",
       "      <td>24</td>\n",
       "      <td>Monday</td>\n",
       "    </tr>\n",
       "    <tr>\n",
       "      <th>1</th>\n",
       "      <td>599246</td>\n",
       "      <td>19</td>\n",
       "      <td>2</td>\n",
       "      <td>2015-10-19 17:59:00</td>\n",
       "      <td>2015-10-19</td>\n",
       "      <td>17:59:00</td>\n",
       "      <td>17</td>\n",
       "      <td>201519106433</td>\n",
       "      <td>5200 BLOCK ARCH ST</td>\n",
       "      <td>2600.0</td>\n",
       "      <td>All Other Offenses</td>\n",
       "      <td>15.0</td>\n",
       "      <td>2015-10</td>\n",
       "      <td>-75.224556</td>\n",
       "      <td>39.961613</td>\n",
       "      <td>2015</td>\n",
       "      <td>10</td>\n",
       "      <td>19</td>\n",
       "      <td>Monday</td>\n",
       "    </tr>\n",
       "    <tr>\n",
       "      <th>2</th>\n",
       "      <td>822437</td>\n",
       "      <td>39</td>\n",
       "      <td>2</td>\n",
       "      <td>2015-01-30 00:19:00</td>\n",
       "      <td>2015-01-30</td>\n",
       "      <td>00:19:00</td>\n",
       "      <td>0</td>\n",
       "      <td>201539007526</td>\n",
       "      <td>N 16TH ST / W BUTLER ST</td>\n",
       "      <td>1400.0</td>\n",
       "      <td>Vandalism/Criminal Mischief</td>\n",
       "      <td>21.0</td>\n",
       "      <td>2015-01</td>\n",
       "      <td>-75.154110</td>\n",
       "      <td>40.011255</td>\n",
       "      <td>2015</td>\n",
       "      <td>1</td>\n",
       "      <td>30</td>\n",
       "      <td>Friday</td>\n",
       "    </tr>\n",
       "    <tr>\n",
       "      <th>3</th>\n",
       "      <td>1613454</td>\n",
       "      <td>15</td>\n",
       "      <td>H</td>\n",
       "      <td>2007-12-13 22:37:00</td>\n",
       "      <td>2007-12-13</td>\n",
       "      <td>22:37:00</td>\n",
       "      <td>22</td>\n",
       "      <td>200715133954</td>\n",
       "      <td>FILLMORE PL / TACKAWANNA ST</td>\n",
       "      <td>2600.0</td>\n",
       "      <td>All Other Offenses</td>\n",
       "      <td>11.0</td>\n",
       "      <td>2007-12</td>\n",
       "      <td>-75.076508</td>\n",
       "      <td>40.015810</td>\n",
       "      <td>2007</td>\n",
       "      <td>12</td>\n",
       "      <td>13</td>\n",
       "      <td>Thursday</td>\n",
       "    </tr>\n",
       "    <tr>\n",
       "      <th>4</th>\n",
       "      <td>369146</td>\n",
       "      <td>25</td>\n",
       "      <td>3</td>\n",
       "      <td>2011-12-28 16:49:00</td>\n",
       "      <td>2011-12-28</td>\n",
       "      <td>16:49:00</td>\n",
       "      <td>16</td>\n",
       "      <td>201125108841</td>\n",
       "      <td>3400 BLOCK REACH ST</td>\n",
       "      <td>500.0</td>\n",
       "      <td>Burglary Residential</td>\n",
       "      <td>18.0</td>\n",
       "      <td>2011-12</td>\n",
       "      <td>-75.115211</td>\n",
       "      <td>40.000785</td>\n",
       "      <td>2011</td>\n",
       "      <td>12</td>\n",
       "      <td>28</td>\n",
       "      <td>Wednesday</td>\n",
       "    </tr>\n",
       "  </tbody>\n",
       "</table>\n",
       "</div>"
      ],
      "text/plain": [
       "   Unnamed: 0  Dc_Dist Psa   Dispatch_Date_Time Dispatch_Date Dispatch_Time  \\\n",
       "0     1279097       19   R  2006-07-24 20:23:00    2006-07-24      20:23:00   \n",
       "1      599246       19   2  2015-10-19 17:59:00    2015-10-19      17:59:00   \n",
       "2      822437       39   2  2015-01-30 00:19:00    2015-01-30      00:19:00   \n",
       "3     1613454       15   H  2007-12-13 22:37:00    2007-12-13      22:37:00   \n",
       "4      369146       25   3  2011-12-28 16:49:00    2011-12-28      16:49:00   \n",
       "\n",
       "   Hour        Dc_Key               Location_Block  UCR_General  \\\n",
       "0    20  200619056612        100 BLOCK N WILTON ST       1400.0   \n",
       "1    17  201519106433           5200 BLOCK ARCH ST       2600.0   \n",
       "2     0  201539007526      N 16TH ST / W BUTLER ST       1400.0   \n",
       "3    22  200715133954  FILLMORE PL / TACKAWANNA ST       2600.0   \n",
       "4    16  201125108841          3400 BLOCK REACH ST        500.0   \n",
       "\n",
       "             Text_General_Code  Police_Districts    Month        Lon  \\\n",
       "0  Vandalism/Criminal Mischief              15.0  2006-07 -75.225069   \n",
       "1           All Other Offenses              15.0  2015-10 -75.224556   \n",
       "2  Vandalism/Criminal Mischief              21.0  2015-01 -75.154110   \n",
       "3           All Other Offenses              11.0  2007-12 -75.076508   \n",
       "4         Burglary Residential              18.0  2011-12 -75.115211   \n",
       "\n",
       "         Lat  year  month  day_of_month day_of_week  \n",
       "0  39.963023  2006      7            24      Monday  \n",
       "1  39.961613  2015     10            19      Monday  \n",
       "2  40.011255  2015      1            30      Friday  \n",
       "3  40.015810  2007     12            13    Thursday  \n",
       "4  40.000785  2011     12            28   Wednesday  "
      ]
     },
     "execution_count": 36,
     "metadata": {},
     "output_type": "execute_result"
    }
   ],
   "source": [
    "philly_train.head()"
   ]
  },
  {
   "cell_type": "code",
   "execution_count": 25,
   "metadata": {
    "collapsed": true
   },
   "outputs": [],
   "source": [
    "# del philly_train['day_of_week']\n",
    "# del philly_train['Location_Block']\n",
    "# del philly_train['Dispatch_Date_Time']\n",
    "# del philly_train['Dispatch_Date']\n",
    "# del philly_train['Dispatch_Time']\n",
    "# del philly_train['Dc_Key']\n",
    "del philly_train['Month']"
   ]
  },
  {
   "cell_type": "code",
   "execution_count": 20,
   "metadata": {
    "collapsed": false
   },
   "outputs": [
    {
     "data": {
      "text/plain": [
       "0    Vandalism/Criminal Mischief\n",
       "1             All Other Offenses\n",
       "2    Vandalism/Criminal Mischief\n",
       "3             All Other Offenses\n",
       "4           Burglary Residential\n",
       "Name: Text_General_Code, dtype: object"
      ]
     },
     "execution_count": 20,
     "metadata": {},
     "output_type": "execute_result"
    }
   ],
   "source": [
    "philly_train_labels.head()"
   ]
  },
  {
   "cell_type": "code",
   "execution_count": 21,
   "metadata": {
    "collapsed": false
   },
   "outputs": [
    {
     "data": {
      "text/plain": [
       "(70000,)"
      ]
     },
     "execution_count": 21,
     "metadata": {},
     "output_type": "execute_result"
    }
   ],
   "source": [
    "philly_train_labels.shape"
   ]
  },
  {
   "cell_type": "markdown",
   "metadata": {},
   "source": [
    "## Train"
   ]
  },
  {
   "cell_type": "code",
   "execution_count": 26,
   "metadata": {
    "collapsed": false
   },
   "outputs": [
    {
     "ename": "ValueError",
     "evalue": "could not convert string to float: 'S'",
     "output_type": "error",
     "traceback": [
      "\u001b[0;31m---------------------------------------------------------------------------\u001b[0m",
      "\u001b[0;31mValueError\u001b[0m                                Traceback (most recent call last)",
      "\u001b[0;32m<ipython-input-26-e9e335bef8ea>\u001b[0m in \u001b[0;36m<module>\u001b[0;34m()\u001b[0m\n\u001b[1;32m      1\u001b[0m \u001b[0msvc\u001b[0m \u001b[0;34m=\u001b[0m \u001b[0msvm\u001b[0m\u001b[0;34m.\u001b[0m\u001b[0mSVC\u001b[0m\u001b[0;34m(\u001b[0m\u001b[0mkernel\u001b[0m\u001b[0;34m=\u001b[0m\u001b[0;34m'linear'\u001b[0m\u001b[0;34m)\u001b[0m \u001b[0;31m#linear to start with\u001b[0m\u001b[0;34m\u001b[0m\u001b[0m\n\u001b[0;32m----> 2\u001b[0;31m \u001b[0msvc\u001b[0m\u001b[0;34m.\u001b[0m\u001b[0mfit\u001b[0m\u001b[0;34m(\u001b[0m\u001b[0mphilly_train\u001b[0m\u001b[0;34m,\u001b[0m \u001b[0mphilly_train_labels\u001b[0m\u001b[0;34m)\u001b[0m\u001b[0;34m\u001b[0m\u001b[0m\n\u001b[0m",
      "\u001b[0;32mC:\\Anaconda3\\envs\\geosaurus_gold\\lib\\site-packages\\sklearn\\svm\\base.py\u001b[0m in \u001b[0;36mfit\u001b[0;34m(self, X, y, sample_weight)\u001b[0m\n\u001b[1;32m    149\u001b[0m         \u001b[0mself\u001b[0m\u001b[0;34m.\u001b[0m\u001b[0m_sparse\u001b[0m \u001b[0;34m=\u001b[0m \u001b[0msparse\u001b[0m \u001b[0;32mand\u001b[0m \u001b[0;32mnot\u001b[0m \u001b[0mcallable\u001b[0m\u001b[0;34m(\u001b[0m\u001b[0mself\u001b[0m\u001b[0;34m.\u001b[0m\u001b[0mkernel\u001b[0m\u001b[0;34m)\u001b[0m\u001b[0;34m\u001b[0m\u001b[0m\n\u001b[1;32m    150\u001b[0m \u001b[0;34m\u001b[0m\u001b[0m\n\u001b[0;32m--> 151\u001b[0;31m         \u001b[0mX\u001b[0m\u001b[0;34m,\u001b[0m \u001b[0my\u001b[0m \u001b[0;34m=\u001b[0m \u001b[0mcheck_X_y\u001b[0m\u001b[0;34m(\u001b[0m\u001b[0mX\u001b[0m\u001b[0;34m,\u001b[0m \u001b[0my\u001b[0m\u001b[0;34m,\u001b[0m \u001b[0mdtype\u001b[0m\u001b[0;34m=\u001b[0m\u001b[0mnp\u001b[0m\u001b[0;34m.\u001b[0m\u001b[0mfloat64\u001b[0m\u001b[0;34m,\u001b[0m \u001b[0morder\u001b[0m\u001b[0;34m=\u001b[0m\u001b[0;34m'C'\u001b[0m\u001b[0;34m,\u001b[0m \u001b[0maccept_sparse\u001b[0m\u001b[0;34m=\u001b[0m\u001b[0;34m'csr'\u001b[0m\u001b[0;34m)\u001b[0m\u001b[0;34m\u001b[0m\u001b[0m\n\u001b[0m\u001b[1;32m    152\u001b[0m         \u001b[0my\u001b[0m \u001b[0;34m=\u001b[0m \u001b[0mself\u001b[0m\u001b[0;34m.\u001b[0m\u001b[0m_validate_targets\u001b[0m\u001b[0;34m(\u001b[0m\u001b[0my\u001b[0m\u001b[0;34m)\u001b[0m\u001b[0;34m\u001b[0m\u001b[0m\n\u001b[1;32m    153\u001b[0m \u001b[0;34m\u001b[0m\u001b[0m\n",
      "\u001b[0;32mC:\\Anaconda3\\envs\\geosaurus_gold\\lib\\site-packages\\sklearn\\utils\\validation.py\u001b[0m in \u001b[0;36mcheck_X_y\u001b[0;34m(X, y, accept_sparse, dtype, order, copy, force_all_finite, ensure_2d, allow_nd, multi_output, ensure_min_samples, ensure_min_features, y_numeric, warn_on_dtype, estimator)\u001b[0m\n\u001b[1;32m    519\u001b[0m     X = check_array(X, accept_sparse, dtype, order, copy, force_all_finite,\n\u001b[1;32m    520\u001b[0m                     \u001b[0mensure_2d\u001b[0m\u001b[0;34m,\u001b[0m \u001b[0mallow_nd\u001b[0m\u001b[0;34m,\u001b[0m \u001b[0mensure_min_samples\u001b[0m\u001b[0;34m,\u001b[0m\u001b[0;34m\u001b[0m\u001b[0m\n\u001b[0;32m--> 521\u001b[0;31m                     ensure_min_features, warn_on_dtype, estimator)\n\u001b[0m\u001b[1;32m    522\u001b[0m     \u001b[0;32mif\u001b[0m \u001b[0mmulti_output\u001b[0m\u001b[0;34m:\u001b[0m\u001b[0;34m\u001b[0m\u001b[0m\n\u001b[1;32m    523\u001b[0m         y = check_array(y, 'csr', force_all_finite=True, ensure_2d=False,\n",
      "\u001b[0;32mC:\\Anaconda3\\envs\\geosaurus_gold\\lib\\site-packages\\sklearn\\utils\\validation.py\u001b[0m in \u001b[0;36mcheck_array\u001b[0;34m(array, accept_sparse, dtype, order, copy, force_all_finite, ensure_2d, allow_nd, ensure_min_samples, ensure_min_features, warn_on_dtype, estimator)\u001b[0m\n\u001b[1;32m    380\u001b[0m                                       force_all_finite)\n\u001b[1;32m    381\u001b[0m     \u001b[0;32melse\u001b[0m\u001b[0;34m:\u001b[0m\u001b[0;34m\u001b[0m\u001b[0m\n\u001b[0;32m--> 382\u001b[0;31m         \u001b[0marray\u001b[0m \u001b[0;34m=\u001b[0m \u001b[0mnp\u001b[0m\u001b[0;34m.\u001b[0m\u001b[0marray\u001b[0m\u001b[0;34m(\u001b[0m\u001b[0marray\u001b[0m\u001b[0;34m,\u001b[0m \u001b[0mdtype\u001b[0m\u001b[0;34m=\u001b[0m\u001b[0mdtype\u001b[0m\u001b[0;34m,\u001b[0m \u001b[0morder\u001b[0m\u001b[0;34m=\u001b[0m\u001b[0morder\u001b[0m\u001b[0;34m,\u001b[0m \u001b[0mcopy\u001b[0m\u001b[0;34m=\u001b[0m\u001b[0mcopy\u001b[0m\u001b[0;34m)\u001b[0m\u001b[0;34m\u001b[0m\u001b[0m\n\u001b[0m\u001b[1;32m    383\u001b[0m \u001b[0;34m\u001b[0m\u001b[0m\n\u001b[1;32m    384\u001b[0m         \u001b[0;32mif\u001b[0m \u001b[0mensure_2d\u001b[0m\u001b[0;34m:\u001b[0m\u001b[0;34m\u001b[0m\u001b[0m\n",
      "\u001b[0;31mValueError\u001b[0m: could not convert string to float: 'S'"
     ]
    }
   ],
   "source": [
    "svc = svm.SVC(kernel='linear') #linear to start with\n",
    "svc.fit(philly_train, philly_train_labels)"
   ]
  },
  {
   "cell_type": "code",
   "execution_count": null,
   "metadata": {
    "collapsed": true
   },
   "outputs": [],
   "source": []
  }
 ],
 "metadata": {
  "kernelspec": {
   "display_name": "Python 3",
   "language": "python",
   "name": "python3"
  },
  "language_info": {
   "codemirror_mode": {
    "name": "ipython",
    "version": 3
   },
   "file_extension": ".py",
   "mimetype": "text/x-python",
   "name": "python",
   "nbconvert_exporter": "python",
   "pygments_lexer": "ipython3",
   "version": "3.5.2"
  }
 },
 "nbformat": 4,
 "nbformat_minor": 0
}
