{
 "cells": [
  {
   "cell_type": "markdown",
   "metadata": {},
   "source": [
    "# Import csv data into the GIS\n",
    "We have downloaded, extracted and filtered the csv files to include only those values with positive probability for hail cells. In this notebook\n",
    " - import csv into a fgdb as a feature class\n",
    " - project the csv from geographic to projected coordinate system\n",
    " - modify the time field to make it more readable\n",
    " - clip and extract data for just the USA boundaries"
   ]
  },
  {
   "cell_type": "code",
   "execution_count": 1,
   "metadata": {
    "collapsed": true
   },
   "outputs": [],
   "source": [
    "import arcpy\n",
    "from glob import glob\n",
    "from pathlib import Path"
   ]
  },
  {
   "cell_type": "markdown",
   "metadata": {},
   "source": [
    "## Import CSV data"
   ]
  },
  {
   "cell_type": "code",
   "execution_count": 2,
   "metadata": {
    "collapsed": false
   },
   "outputs": [
    {
     "data": {
      "text/plain": [
       "20"
      ]
     },
     "execution_count": 2,
     "metadata": {},
     "output_type": "execute_result"
    }
   ],
   "source": [
    "csv_list = glob(r'E:\\GIS_Data\\Analytics\\Georgia_hailstones\\filtered_csv\\*.csv')\n",
    "len(csv_list)"
   ]
  },
  {
   "cell_type": "code",
   "execution_count": 3,
   "metadata": {
    "collapsed": false
   },
   "outputs": [
    {
     "data": {
      "text/plain": [
       "'hail_1997'"
      ]
     },
     "execution_count": 3,
     "metadata": {},
     "output_type": "execute_result"
    }
   ],
   "source": [
    "p = Path(csv_list[0])\n",
    "p.stem.split(\"_\")[0].replace(\"-\",\"_\")"
   ]
  },
  {
   "cell_type": "code",
   "execution_count": 4,
   "metadata": {
    "collapsed": false,
    "scrolled": true
   },
   "outputs": [
    {
     "name": "stdout",
     "output_type": "stream",
     "text": [
      "Reading hail-1997_filtered.csv |  copying  | done\n",
      "Reading hail-1998_filtered.csv |  copying  | done\n",
      "Reading hail-1999_filtered.csv |  copying  | done\n",
      "Reading hail-2000_filtered.csv |  copying  | done\n",
      "Reading hail-2001_filtered.csv |  copying  | done\n",
      "Reading hail-2002_filtered.csv |  copying  | done\n",
      "Reading hail-2003_filtered.csv |  copying  | done\n",
      "Reading hail-2004_filtered.csv |  copying  | done\n",
      "Reading hail-2005_filtered.csv |  copying  | done\n",
      "Reading hail-2006_filtered.csv |  copying  | done\n",
      "Reading hail-2007_filtered.csv |  copying  | done\n",
      "Reading hail-2008_filtered.csv |  copying  | done\n",
      "Reading hail-2009_filtered.csv |  copying  | done\n",
      "Reading hail-2010_filtered.csv |  copying  | done\n",
      "Reading hail-2011_filtered.csv |  copying  | done\n",
      "Reading hail-2012_filtered.csv |  copying  | done\n",
      "Reading hail-2013_filtered.csv |  copying  | done\n",
      "Reading hail-2014_filtered.csv |  copying  | done\n",
      "Reading hail-2015_filtered.csv |  copying  | done\n",
      "Reading hail-2016_filtered.csv |  copying  | done\n"
     ]
    }
   ],
   "source": [
    "arcpy.env.workspace = r\"E:\\GIS_Data\\Analytics\\Georgia_hailstones\\filtered_csv\\\\\"\n",
    "out_gdb = 'E:\\GIS_Data\\Analytics\\Georgia_hailstones\\decades_data_pro\\decades_data_pro.gdb'\n",
    "for csv in csv_list:\n",
    "    p = Path(csv)\n",
    "    print(\"Reading \" + p.name, end=\" | \")\n",
    "    out_layer_name = p.stem.split(\"_\")[0]\n",
    "    out_layer_name_ = out_layer_name.replace(\"-\",\"_\")\n",
    "    out_layer_file = r'E:\\GIS_Data\\Analytics\\Georgia_hailstones\\filtered_csv\\\\' + out_layer_name + \".lyrx\"\n",
    "    \n",
    "    arcpy.MakeXYEventLayer_management(csv, in_x_field='LON', in_y_field='LAT', \n",
    "                                      out_layer=out_layer_name)\n",
    "    \n",
    "    arcpy.SaveToLayerFile_management(out_layer_name, out_layer_file)\n",
    "    \n",
    "    print(\" copying \", end=\" | \")\n",
    "    arcpy.CopyFeatures_management(out_layer_file, out_gdb + \"\\\\\" + out_layer_name_)\n",
    "    print(\"done\")"
   ]
  }
 ],
 "metadata": {
  "anaconda-cloud": {},
  "kernelspec": {
   "display_name": "Python [conda env:arcgispro-py3]",
   "language": "python",
   "name": "conda-env-arcgispro-py3-py"
  },
  "language_info": {
   "codemirror_mode": {
    "name": "ipython",
    "version": 3
   },
   "file_extension": ".py",
   "mimetype": "text/x-python",
   "name": "python",
   "nbconvert_exporter": "python",
   "pygments_lexer": "ipython3",
   "version": "3.5.3"
  }
 },
 "nbformat": 4,
 "nbformat_minor": 2
}
