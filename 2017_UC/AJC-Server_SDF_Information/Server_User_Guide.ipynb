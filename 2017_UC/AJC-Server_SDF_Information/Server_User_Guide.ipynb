{
 "cells": [
  {
   "cell_type": "markdown",
   "metadata": {},
   "source": [
    "# Working with Federated Servers\n",
    "\n",
    "If the GIS is the work horse for managing content, users and items for the ArcGIS Online/Portal product, then the Server module is the entry into the management of services, users, and other system properties for **ArcGIS Server**.\n",
    "<hr/>\n",
    "\n",
    "### Getting Help with Server\n",
    "\n",
    "You can print a list of help associated with the Server object at anytime by doing the following from ipython or command line."
   ]
  },
  {
   "cell_type": "code",
   "execution_count": null,
   "metadata": {
    "collapsed": false
   },
   "outputs": [],
   "source": [
    "from arcgis.gis.server import Server\n",
    "help(Server)"
   ]
  },
  {
   "cell_type": "markdown",
   "metadata": {},
   "source": [
    "### Login as Administrator for Enterprise GIS\n",
    "\n",
    "The Enterprise GIS is accessed by logining into the Enterprise GIS via the **GIS** object and accessed off of the admin property.\n",
    "\n",
    "\n",
    "*Note: server access is only exposed for Enterprise GIS not ArcGIS Online*"
   ]
  },
  {
   "cell_type": "code",
   "execution_count": 1,
   "metadata": {
    "collapsed": false
   },
   "outputs": [],
   "source": [
    "from arcgis.gis import GIS\n",
    "gis = GIS('https://python.playground.esri.com/portal',\n",
    "          username='arcgis_python',\n",
    "          password='amazing_arcgis_123',\n",
    "          verify_cert=False)"
   ]
  },
  {
   "cell_type": "markdown",
   "metadata": {},
   "source": [
    "### Access the admin Property and Servers"
   ]
  },
  {
   "cell_type": "code",
   "execution_count": 2,
   "metadata": {
    "collapsed": true
   },
   "outputs": [],
   "source": [
    "admin = gis.admin\n",
    "servers = admin.servers"
   ]
  },
  {
   "cell_type": "markdown",
   "metadata": {},
   "source": [
    "The server administration property provides a wealth of interaction with federated servers.\n",
    "\n",
    "<div>\n",
    "    <img src=\"staticimgs/ServerManager.png\" alt=\"sm\" align=\"left\"/>\n",
    "</div>"
   ]
  },
  {
   "cell_type": "markdown",
   "metadata": {},
   "source": [
    "### Listing Servers\n",
    "\n",
    "Seeing what is registered with Enterprise GIS is the first step into working with the GIS server infrastructure.\n",
    "\n",
    "- list() provides a list of Server objects.\n"
   ]
  },
  {
   "cell_type": "code",
   "execution_count": 3,
   "metadata": {
    "collapsed": false
   },
   "outputs": [
    {
     "data": {
      "text/plain": [
       "[<Server at https://python.playground.esri.com/server>,\n",
       " <Server at https://python-ga.playground.esri.com/server>,\n",
       " <Server at https://python-ra.playground.esri.com/arcgis>]"
      ]
     },
     "execution_count": 3,
     "metadata": {},
     "output_type": "execute_result"
    }
   ],
   "source": [
    "servers.list()"
   ]
  },
  {
   "cell_type": "markdown",
   "metadata": {},
   "source": [
    "### Finding Server by Role/Function\n",
    "\n",
    "When working with the Enterprise infrastructure, servers can be designated roles or functions and can be found by those roles.  \n",
    "\n",
    "For example instead of listing all servers, administrators could find a server by it's role of a HOSTING_SERVER.\n"
   ]
  },
  {
   "cell_type": "code",
   "execution_count": 6,
   "metadata": {
    "collapsed": false
   },
   "outputs": [
    {
     "data": {
      "text/plain": [
       "[<Server at https://python.playground.esri.com/server>]"
      ]
     },
     "execution_count": 6,
     "metadata": {},
     "output_type": "execute_result"
    }
   ],
   "source": [
    "servers.get(role=\"HOSTING_SERVER\")"
   ]
  },
  {
   "cell_type": "markdown",
   "metadata": {},
   "source": [
    "### Verifying Server Status\n",
    "\n",
    "- helps ensures stable server environment\n",
    "- finds invalid/down servers\n",
    "- True means all is well with the system, False means 1 or more servers is down."
   ]
  },
  {
   "cell_type": "code",
   "execution_count": 10,
   "metadata": {
    "collapsed": false
   },
   "outputs": [
    {
     "data": {
      "text/plain": [
       "True"
      ]
     },
     "execution_count": 10,
     "metadata": {},
     "output_type": "execute_result"
    }
   ],
   "source": [
    "servers.validate()"
   ]
  },
  {
   "cell_type": "markdown",
   "metadata": {},
   "source": [
    "### Server Management\n",
    "\n",
    "Server management is the entry point to work with the administration server side of your enterprise.  The server object allows users to access the following:\n",
    "\n",
    "- logs\n",
    "- datastores\n",
    "- machines\n",
    "- services\n",
    "- usage statistics\n",
    "- system operations\n",
    "\n",
    "Each operation contains tools specific to a section of server.\n",
    "\n",
    "To access the servers, use either the list() or get() off of the gis.admin.servers property.\n"
   ]
  },
  {
   "cell_type": "code",
   "execution_count": 8,
   "metadata": {
    "collapsed": true
   },
   "outputs": [],
   "source": [
    "hosting_server = servers.get(role=\"HOSTING_SERVER\")[0]"
   ]
  },
  {
   "cell_type": "markdown",
   "metadata": {},
   "source": [
    "Each Server object allows for rich interaction between the administrator and the server itself.  \n",
    "<div>\n",
    "    <img src=\"staticimgs/ServerObjectProperties.png\" alt=\"sm\" align=\"left\"/>\n",
    "</div>"
   ]
  },
  {
   "cell_type": "markdown",
   "metadata": {},
   "source": [
    "#### Working with Logs\n",
    "\n",
    "Logs provide the information from the ArcGIS Server and help administrators trouble shoot problems."
   ]
  },
  {
   "cell_type": "code",
   "execution_count": 9,
   "metadata": {
    "collapsed": true
   },
   "outputs": [],
   "source": [
    "import datetime\n",
    "import pandas as pd\n",
    "now = datetime.datetime.now()\n",
    "start_time = now - datetime.timedelta(days=10)\n",
    "# Accesing the logs property\n",
    "logs = hosting_server.logs"
   ]
  },
  {
   "cell_type": "markdown",
   "metadata": {},
   "source": [
    "##### Example Query and Filtering Log Messages"
   ]
  },
  {
   "cell_type": "code",
   "execution_count": 10,
   "metadata": {
    "collapsed": false
   },
   "outputs": [
    {
     "data": {
      "text/html": [
       "<div>\n",
       "<style>\n",
       "    .dataframe thead tr:only-child th {\n",
       "        text-align: right;\n",
       "    }\n",
       "\n",
       "    .dataframe thead th {\n",
       "        text-align: left;\n",
       "    }\n",
       "\n",
       "    .dataframe tbody tr th {\n",
       "        vertical-align: top;\n",
       "    }\n",
       "</style>\n",
       "<table border=\"1\" class=\"dataframe\">\n",
       "  <thead>\n",
       "    <tr style=\"text-align: right;\">\n",
       "      <th></th>\n",
       "      <th>code</th>\n",
       "      <th>message</th>\n",
       "    </tr>\n",
       "  </thead>\n",
       "  <tbody>\n",
       "    <tr>\n",
       "      <th>0</th>\n",
       "      <td>20010</td>\n",
       "      <td>Error executing tool. CreateBuffers Job ID: j6...</td>\n",
       "    </tr>\n",
       "    <tr>\n",
       "      <th>1</th>\n",
       "      <td>500000</td>\n",
       "      <td>Table not registered [db_60vw8.hsu_a635a.Fire_...</td>\n",
       "    </tr>\n",
       "    <tr>\n",
       "      <th>2</th>\n",
       "      <td>500000</td>\n",
       "      <td>Portal request createService failed with error...</td>\n",
       "    </tr>\n",
       "    <tr>\n",
       "      <th>3</th>\n",
       "      <td>20010</td>\n",
       "      <td>Error executing tool. CreateBuffers Job ID: j6...</td>\n",
       "    </tr>\n",
       "    <tr>\n",
       "      <th>4</th>\n",
       "      <td>500000</td>\n",
       "      <td>Table not registered [db_60vw8.hsu_a635a.Fire_...</td>\n",
       "    </tr>\n",
       "  </tbody>\n",
       "</table>\n",
       "</div>"
      ],
      "text/plain": [
       "     code                                            message\n",
       "0   20010  Error executing tool. CreateBuffers Job ID: j6...\n",
       "1  500000  Table not registered [db_60vw8.hsu_a635a.Fire_...\n",
       "2  500000  Portal request createService failed with error...\n",
       "3   20010  Error executing tool. CreateBuffers Job ID: j6...\n",
       "4  500000  Table not registered [db_60vw8.hsu_a635a.Fire_..."
      ]
     },
     "execution_count": 10,
     "metadata": {},
     "output_type": "execute_result"
    }
   ],
   "source": [
    "res = logs.query(start_time=start_time)['logMessages']\n",
    "df = pd.DataFrame.from_records(res)\n",
    "df[['code', 'message']].head()"
   ]
  },
  {
   "cell_type": "markdown",
   "metadata": {},
   "source": [
    "### Server Usage\n",
    "\n",
    "- helps manage system resources \n",
    "- find high use servers and services\n"
   ]
  },
  {
   "cell_type": "code",
   "execution_count": 11,
   "metadata": {
    "collapsed": true
   },
   "outputs": [],
   "source": [
    "usage = hosting_server.usage"
   ]
  },
  {
   "cell_type": "markdown",
   "metadata": {},
   "source": [
    "Usage reports can be accessed using the **list()** operation. "
   ]
  },
  {
   "cell_type": "code",
   "execution_count": 12,
   "metadata": {
    "collapsed": true
   },
   "outputs": [],
   "source": [
    "report = usage.list()[0]"
   ]
  },
  {
   "cell_type": "markdown",
   "metadata": {},
   "source": [
    "##### Example: Visualizing Service Usage"
   ]
  },
  {
   "cell_type": "code",
   "execution_count": 13,
   "metadata": {
    "collapsed": true
   },
   "outputs": [],
   "source": [
    "from datetime import datetime\n",
    "import numpy as np\n",
    "import matplotlib.pyplot as plt\n",
    "import pandas as pd\n",
    "import matplotlib.ticker as ticker"
   ]
  },
  {
   "cell_type": "code",
   "execution_count": 14,
   "metadata": {
    "collapsed": false
   },
   "outputs": [
    {
     "data": {
      "image/png": "[encoded data removed]",
      "text/plain": [
       "<matplotlib.figure.Figure at 0x140f3935d68>"
      ]
     },
     "metadata": {},
     "output_type": "display_data"
    }
   ],
   "source": [
    "data = report.query()\n",
    "data_y = data['report']['report-data'][0][0]['data']\n",
    "data_x = [pd.to_datetime(datetime.fromtimestamp(d//1000)) \\\n",
    "          for d in data['report']['time-slices']]\n",
    "df = pd.DataFrame(list(zip(data_x, data_y)), columns=[\"date\", \"count\"])\n",
    "q = df['count'].isnull() # change NaN values to 0\n",
    "df.loc[q, 'count'] = 0\n",
    "df.index = df['date']\n",
    "df['count'] = df['count'] \n",
    "\n",
    "ax = df.plot(kind='bar', x=df['date'])\n",
    "ticklabels = ['']*len(df.index)\n",
    "ticklabels[::4] = [item.strftime('%b %d') for item in df.index[::4]]\n",
    "ax.xaxis.set_major_formatter(ticker.FixedFormatter(ticklabels))\n",
    "plt.gcf().autofmt_xdate()\n",
    "plt.show()"
   ]
  },
  {
   "cell_type": "markdown",
   "metadata": {},
   "source": [
    "#### Creating Quick Reports\n",
    "\n",
    "Quick reports are useful for administrators who want to get a one shot set of data.  This information is generated on the fly on ArcGIS Server, and allows for report generation for services or server information that may not be monitored all the time.  \n",
    "\n",
    "\n",
    "***Note***\n",
    "\n",
    "***On the fly reports that are deleted right after data is returned***\n",
    "\n",
    "The quick report supports various time spans:\n",
    "\n",
    "- LAST_DAY - 24 hours from your current time\n",
    "- LAST_WEEK - 7 days from your current date\n",
    "- LAST_MONTH - 31 days from your current date\n",
    "- LAST_YEAR - 365 days from your current date\n",
    "\n",
    "Reporting Queries are made by specifying the resource you want to monitor.  For example, administrators who want to monitor a specific folder, **HOSTED**, would set the query to: services/Hosted.  The default is to monitor all services.\n",
    "\n",
    "Quick report metrics are:\n",
    "\n",
    "- RequestCount - the number of requests received\n",
    "- RequestsFailed - the number of requests that failed\n",
    "- RequestsTimedOut - the number of requests that timed out\n",
    "- RequestMaxResponseTime - the maximum response time\n",
    "- RequestAvgResponseTime - the average response time\n",
    "- ServiceActiveInstances - the maximum number of active (running) service instances sampled at 1 minute intervals, for a specified service"
   ]
  },
  {
   "cell_type": "code",
   "execution_count": 18,
   "metadata": {
    "collapsed": true
   },
   "outputs": [],
   "source": [
    "data = usage.quick_report(since=\"LAST_YEAR\", metrics=\"RequestCount\")"
   ]
  },
  {
   "cell_type": "markdown",
   "metadata": {},
   "source": [
    "##### Example: Visualizing Quick Report Data"
   ]
  },
  {
   "cell_type": "code",
   "execution_count": 19,
   "metadata": {
    "collapsed": false
   },
   "outputs": [
    {
     "data": {
      "image/png": "[encoded data removed]",
      "text/plain": [
       "<matplotlib.figure.Figure at 0x140f40c2dd8>"
      ]
     },
     "metadata": {},
     "output_type": "display_data"
    }
   ],
   "source": [
    "data_y = data['report']['report-data'][0][0]['data']\n",
    "data_x = [pd.to_datetime(datetime.fromtimestamp(d//1000)) \\\n",
    "          for d in data['report']['time-slices']]\n",
    "df = pd.DataFrame(list(zip(data_x, data_y)), columns=[\"date\", \"count\"])\n",
    "q = df['count'].isnull() # change NaN values to 0\n",
    "df.loc[q, 'count'] = 0\n",
    "df.index = df['date']\n",
    "df['count'] = df['count'] \n",
    "\n",
    "ax = df.plot(kind='bar', x=df['date'])\n",
    "ticklabels = ['']*len(df.index)\n",
    "ticklabels[::4] = [item.strftime('%b %d') for item in df.index[::4]]\n",
    "ax.xaxis.set_major_formatter(ticker.FixedFormatter(ticklabels))\n",
    "plt.gcf().autofmt_xdate()\n",
    "plt.show()"
   ]
  },
  {
   "cell_type": "markdown",
   "metadata": {},
   "source": [
    "#### Service Management\n",
    "\n",
    "Services provide information to user and it is essential that these services can be managed and maintained as effeciently as possible. \n",
    "\n",
    "- Accessed off of server\n",
    "- Allows for editting of server properties\n",
    "    - enabling extensions \n",
    "    - starting/stopping/deleting services\n",
    "- Creating/Deleting Folders \n"
   ]
  },
  {
   "cell_type": "markdown",
   "metadata": {},
   "source": [
    "<div>\n",
    "    <img src=\"staticimgs/SingleServerProps.png\" alt=\"sm\" align=\"left\"/>\n",
    "</div>"
   ]
  },
  {
   "cell_type": "code",
   "execution_count": 20,
   "metadata": {
    "collapsed": true
   },
   "outputs": [],
   "source": [
    "services = hosting_server.services"
   ]
  },
  {
   "cell_type": "markdown",
   "metadata": {},
   "source": [
    "##### Example: Creating/Deleting a Folder"
   ]
  },
  {
   "cell_type": "code",
   "execution_count": 25,
   "metadata": {
    "collapsed": false
   },
   "outputs": [
    {
     "data": {
      "text/plain": [
       "['Hosted', 'System', 'Utilities', '/']"
      ]
     },
     "execution_count": 25,
     "metadata": {},
     "output_type": "execute_result"
    }
   ],
   "source": [
    "services.folders"
   ]
  },
  {
   "cell_type": "code",
   "execution_count": 26,
   "metadata": {
    "collapsed": false
   },
   "outputs": [
    {
     "data": {
      "text/plain": [
       "True"
      ]
     },
     "execution_count": 26,
     "metadata": {},
     "output_type": "execute_result"
    }
   ],
   "source": [
    "services.create_folder(folder=\"TEST_FOLDER\")"
   ]
  },
  {
   "cell_type": "code",
   "execution_count": 27,
   "metadata": {
    "collapsed": false
   },
   "outputs": [
    {
     "data": {
      "text/plain": [
       "['Hosted', 'System', 'TEST_FOLDER', 'Utilities', '/']"
      ]
     },
     "execution_count": 27,
     "metadata": {},
     "output_type": "execute_result"
    }
   ],
   "source": [
    "services.folders"
   ]
  },
  {
   "cell_type": "code",
   "execution_count": 28,
   "metadata": {
    "collapsed": false
   },
   "outputs": [
    {
     "data": {
      "text/plain": [
       "True"
      ]
     },
     "execution_count": 28,
     "metadata": {},
     "output_type": "execute_result"
    }
   ],
   "source": [
    "services.delete_folder(folder=\"TEST_FOLDER\")"
   ]
  },
  {
   "cell_type": "code",
   "execution_count": 29,
   "metadata": {
    "collapsed": false
   },
   "outputs": [
    {
     "data": {
      "text/plain": [
       "['Hosted', 'System', 'Utilities', '/']"
      ]
     },
     "execution_count": 29,
     "metadata": {},
     "output_type": "execute_result"
    }
   ],
   "source": [
    "services.folders"
   ]
  },
  {
   "cell_type": "markdown",
   "metadata": {},
   "source": [
    "#### Working with Individual Services\n",
    "\n",
    "Services are accessed by a folder.  The root folder is the default folder.  "
   ]
  },
  {
   "cell_type": "code",
   "execution_count": 41,
   "metadata": {
    "collapsed": false
   },
   "outputs": [
    {
     "data": {
      "text/plain": [
       "[<Service at https://python.playground.esri.com/server/admin/services/elevation_270m.ImageServer>,\n",
       " <Service at https://python.playground.esri.com/server/admin/services/human_modification_index.ImageServer>,\n",
       " <Service at https://python.playground.esri.com/server/admin/services/ImgSrv_Landast_Montana2015.ImageServer>,\n",
       " <Service at https://python.playground.esri.com/server/admin/services/SampleWorldCities.MapServer>]"
      ]
     },
     "execution_count": 41,
     "metadata": {},
     "output_type": "execute_result"
    }
   ],
   "source": [
    "services = hosting_server.services.list()\n",
    "services"
   ]
  },
  {
   "cell_type": "markdown",
   "metadata": {},
   "source": [
    "#### Example: Listing Services in a Folder\n"
   ]
  },
  {
   "cell_type": "code",
   "execution_count": 31,
   "metadata": {
    "collapsed": false
   },
   "outputs": [
    {
     "data": {
      "text/plain": [
       "[<Service at https://python.playground.esri.com/server/admin/services/System/CachingControllers.GPServer>,\n",
       " <Service at https://python.playground.esri.com/server/admin/services/System/CachingTools.GPServer>,\n",
       " <Service at https://python.playground.esri.com/server/admin/services/System/CachingToolsEx.GPServer>,\n",
       " <Service at https://python.playground.esri.com/server/admin/services/System/DistributedWorker.GPServer>,\n",
       " <Service at https://python.playground.esri.com/server/admin/services/System/DynamicMappingHost.MapServer>,\n",
       " <Service at https://python.playground.esri.com/server/admin/services/System/GeoAnalyticsManagement.GPServer>,\n",
       " <Service at https://python.playground.esri.com/server/admin/services/System/GeoAnalyticsTools.GPServer>,\n",
       " <Service at https://python.playground.esri.com/server/admin/services/System/PublishingTools.GPServer>,\n",
       " <Service at https://python.playground.esri.com/server/admin/services/System/PublishingToolsEx.GPServer>,\n",
       " <Service at https://python.playground.esri.com/server/admin/services/System/RasterAnalysisTools.GPServer>,\n",
       " <Service at https://python.playground.esri.com/server/admin/services/System/RasterProcessing.ImageServer>,\n",
       " <Service at https://python.playground.esri.com/server/admin/services/System/RasterRendering.ImageServer>,\n",
       " <Service at https://python.playground.esri.com/server/admin/services/System/ReportingTools.GPServer>,\n",
       " <Service at https://python.playground.esri.com/server/admin/services/System/SceneCachingControllers.GPServer>,\n",
       " <Service at https://python.playground.esri.com/server/admin/services/System/SceneCachingTools.GPServer>,\n",
       " <Service at https://python.playground.esri.com/server/admin/services/System/SpatialAnalysisTools.GPServer>,\n",
       " <Service at https://python.playground.esri.com/server/admin/services/System/SyncTools.GPServer>]"
      ]
     },
     "execution_count": 31,
     "metadata": {},
     "output_type": "execute_result"
    }
   ],
   "source": [
    "services = hosting_server.services.list(folder='System')\n",
    "services"
   ]
  },
  {
   "cell_type": "markdown",
   "metadata": {},
   "source": [
    "#### Starting/Stopping a Service"
   ]
  },
  {
   "cell_type": "code",
   "execution_count": 34,
   "metadata": {
    "collapsed": false
   },
   "outputs": [
    {
     "data": {
      "text/plain": [
       "{'configuredState': 'STARTED', 'realTimeState': 'STARTED'}"
      ]
     },
     "execution_count": 34,
     "metadata": {},
     "output_type": "execute_result"
    }
   ],
   "source": [
    "services = hosting_server.services.list()\n",
    "service = services[0]\n",
    "service.status"
   ]
  },
  {
   "cell_type": "code",
   "execution_count": 35,
   "metadata": {
    "collapsed": false
   },
   "outputs": [
    {
     "data": {
      "text/plain": [
       "{'configuredState': 'STOPPED', 'realTimeState': 'STOPPED'}"
      ]
     },
     "execution_count": 35,
     "metadata": {},
     "output_type": "execute_result"
    }
   ],
   "source": [
    "service.stop()\n",
    "service.status"
   ]
  },
  {
   "cell_type": "code",
   "execution_count": 36,
   "metadata": {
    "collapsed": false
   },
   "outputs": [
    {
     "data": {
      "text/plain": [
       "{'configuredState': 'STARTED', 'realTimeState': 'STARTED'}"
      ]
     },
     "execution_count": 36,
     "metadata": {},
     "output_type": "execute_result"
    }
   ],
   "source": [
    "service.start()\n",
    "service.status"
   ]
  },
  {
   "cell_type": "markdown",
   "metadata": {},
   "source": [
    "#### Editting the Service Properties\n",
    "\n",
    "Service properties allow administrators to adjust the default properties on any service.\n",
    "\n",
    "##### Example: Disabling KML Service End Point"
   ]
  },
  {
   "cell_type": "code",
   "execution_count": 47,
   "metadata": {
    "collapsed": true
   },
   "outputs": [],
   "source": [
    "ms = services[3]\n",
    "properties = dict(ms.properties)\n",
    "for ext in properties['extensions']:\n",
    "    if ext['typeName'].lower() == \"kmlserver\":\n",
    "        ext['enabled'] = 'false'"
   ]
  },
  {
   "cell_type": "code",
   "execution_count": 49,
   "metadata": {
    "collapsed": false
   },
   "outputs": [
    {
     "data": {
      "text/plain": [
       "True"
      ]
     },
     "execution_count": 49,
     "metadata": {},
     "output_type": "execute_result"
    }
   ],
   "source": [
    "ms.edit(properties)"
   ]
  },
  {
   "cell_type": "markdown",
   "metadata": {},
   "source": [
    "#### Deleting Services\n",
    "\n",
    "Services can be deleted by invoking **service.delete()**.  This operation is **not reversible**.  Use with caution."
   ]
  }
 ],
 "metadata": {
  "kernelspec": {
   "display_name": "Python 3",
   "language": "python",
   "name": "python3"
  },
  "language_info": {
   "codemirror_mode": {
    "name": "ipython",
    "version": 3
   },
   "file_extension": ".py",
   "mimetype": "text/x-python",
   "name": "python",
   "nbconvert_exporter": "python",
   "pygments_lexer": "ipython3",
   "version": "3.5.3"
  }
 },
 "nbformat": 4,
 "nbformat_minor": 2
}
