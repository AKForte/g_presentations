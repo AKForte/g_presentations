{
 "cells": [
  {
   "cell_type": "markdown",
   "metadata": {},
   "source": [
    "## Connect to the GIS"
   ]
  },
  {
   "cell_type": "code",
   "execution_count": 3,
   "metadata": {
    "collapsed": true
   },
   "outputs": [],
   "source": [
    "from arcgis.gis import GIS\n",
    "gis = GIS(\"https://dev003735.esri.com/portal\", \"arcgis_python_api\", \"sharing.1\")"
   ]
  },
  {
   "cell_type": "markdown",
   "metadata": {},
   "source": [
    "# Visualize the aggregate result"
   ]
  },
  {
   "cell_type": "code",
   "execution_count": 4,
   "metadata": {
    "collapsed": false
   },
   "outputs": [
    {
     "data": {
      "text/html": [
       "<div class=\"item_container\" style=\"height: auto; overflow: hidden; border: 1px solid #cfcfcf; border-radius: 2px; background: #f6fafa; line-height: 1.21429em; padding: 10px;\">\n",
       "                    <div class=\"item_left\" style=\"width: 210px; float: left;\">\n",
       "                       <a href='https://dev003735.esri.com/portal/home/item.html?id=67b44dea4867480f954cd094bd60cd3d' target='_blank'>\n",
       "                        <img src='https://dev003735.esri.com/portal/portalimages/desktopapp.png' class=\"itemThumbnail\">\n",
       "                       </a>\n",
       "                    </div>\n",
       "\n",
       "                    <div class=\"item_right\"     style=\"float: none; width: auto; overflow: hidden;\">\n",
       "                        <a href='https://dev003735.esri.com/portal/home/item.html?id=67b44dea4867480f954cd094bd60cd3d' target='_blank'><b>Reconstructed_Tracks_ME5KI6</b>\n",
       "                        </a>\n",
       "                        <br/>Reconstructed Tracks_ME5KI6<img src='https://dev003735.esri.com/portal/home/js/jsapi/esri/css/images/item_type_icons/featureshosted16.png' style=\"vertical-align:middle;\">Feature Layer Collection by arcgis_python_api\n",
       "                        <br/>Last Modified: January 19, 2017\n",
       "                        <br/>0 comments, 0 views\n",
       "                    </div>\n",
       "                </div>\n",
       "                "
      ],
      "text/plain": [
       "<Item title:\"Reconstructed_Tracks_ME5KI6\" type:Feature Service owner:arcgis_python_api>"
      ]
     },
     "execution_count": 4,
     "metadata": {},
     "output_type": "execute_result"
    }
   ],
   "source": [
    "agg_result = gis.content.search(\"Reconstructed_Tracks_ME5KI6\")[0]\n",
    "agg_result"
   ]
  },
  {
   "cell_type": "code",
   "execution_count": 5,
   "metadata": {
    "collapsed": true
   },
   "outputs": [],
   "source": [
    "map1 = gis.map()\n",
    "map1"
   ]
  },
  {
   "cell_type": "code",
   "execution_count": 6,
   "metadata": {
    "collapsed": true
   },
   "outputs": [],
   "source": [
    "map1.add_layer(agg_result)"
   ]
  },
  {
   "cell_type": "code",
   "execution_count": 7,
   "metadata": {
    "collapsed": true
   },
   "outputs": [],
   "source": [
    "# display hurricanes during any 20 years\n",
    "map1.start_time = '1842'\n",
    "map1.end_time = '1862'"
   ]
  },
  {
   "cell_type": "markdown",
   "metadata": {},
   "source": [
    "## Analyze the attribute info"
   ]
  },
  {
   "cell_type": "code",
   "execution_count": 8,
   "metadata": {
    "collapsed": false
   },
   "outputs": [
    {
     "data": {
      "text/plain": [
       "[<FeatureLayer url:\"http://Dev003735.esri.com/server/rest/services/Hosted/Reconstructed_Tracks_ME5KI6/FeatureServer/0\">]"
      ]
     },
     "execution_count": 8,
     "metadata": {},
     "output_type": "execute_result"
    }
   ],
   "source": [
    "agg_result_FL = agg_result.layers\n",
    "agg_result_FL"
   ]
  },
  {
   "cell_type": "code",
   "execution_count": 9,
   "metadata": {
    "collapsed": false
   },
   "outputs": [
    {
     "data": {
      "text/html": [
       "<div>\n",
       "<table border=\"1\" class=\"dataframe\">\n",
       "  <thead>\n",
       "    <tr style=\"text-align: right;\">\n",
       "      <th></th>\n",
       "      <th>ANY_basin</th>\n",
       "      <th>ANY_center</th>\n",
       "      <th>ANY_iso_time</th>\n",
       "      <th>ANY_name</th>\n",
       "      <th>ANY_nature</th>\n",
       "      <th>ANY_size</th>\n",
       "      <th>ANY_sub_basin</th>\n",
       "      <th>ANY_track_type</th>\n",
       "      <th>COUNT</th>\n",
       "      <th>COUNT_Wind</th>\n",
       "      <th>...</th>\n",
       "      <th>VAR_latitude</th>\n",
       "      <th>VAR_longitude</th>\n",
       "      <th>VAR_num</th>\n",
       "      <th>VAR_pres_wmo1</th>\n",
       "      <th>VAR_pres_wmo_</th>\n",
       "      <th>VAR_season</th>\n",
       "      <th>VAR_wind_wmo1</th>\n",
       "      <th>VAR_wind_wmo_</th>\n",
       "      <th>globalid</th>\n",
       "      <th>serial_num</th>\n",
       "    </tr>\n",
       "    <tr>\n",
       "      <th>OBJECTID</th>\n",
       "      <th></th>\n",
       "      <th></th>\n",
       "      <th></th>\n",
       "      <th></th>\n",
       "      <th></th>\n",
       "      <th></th>\n",
       "      <th></th>\n",
       "      <th></th>\n",
       "      <th></th>\n",
       "      <th></th>\n",
       "      <th></th>\n",
       "      <th></th>\n",
       "      <th></th>\n",
       "      <th></th>\n",
       "      <th></th>\n",
       "      <th></th>\n",
       "      <th></th>\n",
       "      <th></th>\n",
       "      <th></th>\n",
       "      <th></th>\n",
       "      <th></th>\n",
       "    </tr>\n",
       "  </thead>\n",
       "  <tbody>\n",
       "    <tr>\n",
       "      <th>3</th>\n",
       "      <td>SI</td>\n",
       "      <td>reunion</td>\n",
       "      <td>1848-03-01 06:00:00</td>\n",
       "      <td>XXXX848001</td>\n",
       "      <td>NR</td>\n",
       "      <td>0</td>\n",
       "      <td>MM</td>\n",
       "      <td>main</td>\n",
       "      <td>7.0</td>\n",
       "      <td>7.0</td>\n",
       "      <td>...</td>\n",
       "      <td>83.445714</td>\n",
       "      <td>60.349524</td>\n",
       "      <td>0.0</td>\n",
       "      <td>0.0</td>\n",
       "      <td>0.0</td>\n",
       "      <td>0.0</td>\n",
       "      <td>0.000000</td>\n",
       "      <td>0.000000</td>\n",
       "      <td>{FFDE68E6-A361-453A-B3F4-D21AFC7D17BD}</td>\n",
       "      <td>1848061S12075</td>\n",
       "    </tr>\n",
       "    <tr>\n",
       "      <th>7</th>\n",
       "      <td>NA</td>\n",
       "      <td>atcf</td>\n",
       "      <td>1851-06-25 00:00:00</td>\n",
       "      <td>NOT NAMED</td>\n",
       "      <td>TS</td>\n",
       "      <td>80000</td>\n",
       "      <td>MM</td>\n",
       "      <td>main</td>\n",
       "      <td>13.0</td>\n",
       "      <td>13.0</td>\n",
       "      <td>...</td>\n",
       "      <td>1.067436</td>\n",
       "      <td>3.646667</td>\n",
       "      <td>0.0</td>\n",
       "      <td>0.0</td>\n",
       "      <td>0.0</td>\n",
       "      <td>0.0</td>\n",
       "      <td>323.355511</td>\n",
       "      <td>291.025641</td>\n",
       "      <td>{487CF759-5773-4F29-B8BD-22FCE2F880CB}</td>\n",
       "      <td>1851176N28265</td>\n",
       "    </tr>\n",
       "    <tr>\n",
       "      <th>11</th>\n",
       "      <td>NA</td>\n",
       "      <td>atcf</td>\n",
       "      <td>1852-09-05 00:00:00</td>\n",
       "      <td>NOT NAMED</td>\n",
       "      <td>TS</td>\n",
       "      <td>70000</td>\n",
       "      <td>MM</td>\n",
       "      <td>main</td>\n",
       "      <td>8.0</td>\n",
       "      <td>8.0</td>\n",
       "      <td>...</td>\n",
       "      <td>1.009821</td>\n",
       "      <td>9.245714</td>\n",
       "      <td>0.0</td>\n",
       "      <td>0.0</td>\n",
       "      <td>0.0</td>\n",
       "      <td>0.0</td>\n",
       "      <td>231.490314</td>\n",
       "      <td>164.285714</td>\n",
       "      <td>{40F3F9A4-DDA3-4FF2-8B59-D6CC54101002}</td>\n",
       "      <td>1852249N17296</td>\n",
       "    </tr>\n",
       "    <tr>\n",
       "      <th>15</th>\n",
       "      <td>NA</td>\n",
       "      <td>atcf</td>\n",
       "      <td>1852-10-06 00:00:00</td>\n",
       "      <td>NOT NAMED</td>\n",
       "      <td>TS</td>\n",
       "      <td>90000</td>\n",
       "      <td>MM</td>\n",
       "      <td>main</td>\n",
       "      <td>24.0</td>\n",
       "      <td>24.0</td>\n",
       "      <td>...</td>\n",
       "      <td>57.113261</td>\n",
       "      <td>33.289837</td>\n",
       "      <td>0.0</td>\n",
       "      <td>0.0</td>\n",
       "      <td>0.0</td>\n",
       "      <td>0.0</td>\n",
       "      <td>153.194247</td>\n",
       "      <td>277.536232</td>\n",
       "      <td>{C297FB08-7D0A-4B8A-A3F9-93D3ED2B9BBA}</td>\n",
       "      <td>1852280N17286</td>\n",
       "    </tr>\n",
       "    <tr>\n",
       "      <th>19</th>\n",
       "      <td>NA</td>\n",
       "      <td>atcf</td>\n",
       "      <td>1853-10-19 00:00:00</td>\n",
       "      <td>NOT NAMED</td>\n",
       "      <td>TS</td>\n",
       "      <td>70000</td>\n",
       "      <td>MM</td>\n",
       "      <td>main</td>\n",
       "      <td>14.0</td>\n",
       "      <td>14.0</td>\n",
       "      <td>...</td>\n",
       "      <td>2.359176</td>\n",
       "      <td>0.708791</td>\n",
       "      <td>0.0</td>\n",
       "      <td>0.0</td>\n",
       "      <td>0.0</td>\n",
       "      <td>0.0</td>\n",
       "      <td>11.312133</td>\n",
       "      <td>43.956044</td>\n",
       "      <td>{72D7A03C-B818-42BD-BCC0-51B09DE75E86}</td>\n",
       "      <td>1853292N28282</td>\n",
       "    </tr>\n",
       "  </tbody>\n",
       "</table>\n",
       "<p>5 rows × 94 columns</p>\n",
       "</div>"
      ],
      "text/plain": [
       "         ANY_basin ANY_center         ANY_iso_time    ANY_name ANY_nature  \\\n",
       "OBJECTID                                                                    \n",
       "3               SI    reunion  1848-03-01 06:00:00  XXXX848001         NR   \n",
       "7               NA       atcf  1851-06-25 00:00:00   NOT NAMED         TS   \n",
       "11              NA       atcf  1852-09-05 00:00:00   NOT NAMED         TS   \n",
       "15              NA       atcf  1852-10-06 00:00:00   NOT NAMED         TS   \n",
       "19              NA       atcf  1853-10-19 00:00:00   NOT NAMED         TS   \n",
       "\n",
       "         ANY_size ANY_sub_basin ANY_track_type  COUNT  COUNT_Wind  \\\n",
       "OBJECTID                                                            \n",
       "3               0            MM           main    7.0         7.0   \n",
       "7           80000            MM           main   13.0        13.0   \n",
       "11          70000            MM           main    8.0         8.0   \n",
       "15          90000            MM           main   24.0        24.0   \n",
       "19          70000            MM           main   14.0        14.0   \n",
       "\n",
       "              ...        VAR_latitude  VAR_longitude  VAR_num  VAR_pres_wmo1  \\\n",
       "OBJECTID      ...                                                              \n",
       "3             ...           83.445714      60.349524      0.0            0.0   \n",
       "7             ...            1.067436       3.646667      0.0            0.0   \n",
       "11            ...            1.009821       9.245714      0.0            0.0   \n",
       "15            ...           57.113261      33.289837      0.0            0.0   \n",
       "19            ...            2.359176       0.708791      0.0            0.0   \n",
       "\n",
       "          VAR_pres_wmo_  VAR_season  VAR_wind_wmo1  VAR_wind_wmo_  \\\n",
       "OBJECTID                                                            \n",
       "3                   0.0         0.0       0.000000       0.000000   \n",
       "7                   0.0         0.0     323.355511     291.025641   \n",
       "11                  0.0         0.0     231.490314     164.285714   \n",
       "15                  0.0         0.0     153.194247     277.536232   \n",
       "19                  0.0         0.0      11.312133      43.956044   \n",
       "\n",
       "                                        globalid     serial_num  \n",
       "OBJECTID                                                         \n",
       "3         {FFDE68E6-A361-453A-B3F4-D21AFC7D17BD}  1848061S12075  \n",
       "7         {487CF759-5773-4F29-B8BD-22FCE2F880CB}  1851176N28265  \n",
       "11        {40F3F9A4-DDA3-4FF2-8B59-D6CC54101002}  1852249N17296  \n",
       "15        {C297FB08-7D0A-4B8A-A3F9-93D3ED2B9BBA}  1852280N17286  \n",
       "19        {72D7A03C-B818-42BD-BCC0-51B09DE75E86}  1853292N28282  \n",
       "\n",
       "[5 rows x 94 columns]"
      ]
     },
     "execution_count": 9,
     "metadata": {},
     "output_type": "execute_result"
    }
   ],
   "source": [
    "query_result = agg_result_FL[0].query(out_fields = \"*\", returnGeometry = False)\n",
    "att_data_frame = query_result.df\n",
    "att_data_frame.head()"
   ]
  },
  {
   "cell_type": "code",
   "execution_count": 10,
   "metadata": {
    "collapsed": false,
    "scrolled": true
   },
   "outputs": [
    {
     "data": {
      "text/plain": [
       "(568, 94)"
      ]
     },
     "execution_count": 10,
     "metadata": {},
     "output_type": "execute_result"
    }
   ],
   "source": [
    "att_data_frame.shape"
   ]
  },
  {
   "cell_type": "code",
   "execution_count": 11,
   "metadata": {
    "collapsed": false
   },
   "outputs": [
    {
     "data": {
      "text/plain": [
       "Index(['ANY_basin', 'ANY_center', 'ANY_iso_time', 'ANY_name', 'ANY_nature',\n",
       "       'ANY_size', 'ANY_sub_basin', 'ANY_track_type', 'COUNT', 'COUNT_Wind',\n",
       "       'COUNT_basin', 'COUNT_center', 'COUNT_iso_time', 'COUNT_latitude',\n",
       "       'COUNT_longitude', 'COUNT_name', 'COUNT_nature', 'COUNT_num',\n",
       "       'COUNT_pres_wmo1', 'COUNT_pres_wmo_', 'COUNT_season', 'COUNT_size',\n",
       "       'COUNT_sub_basin', 'COUNT_track_type', 'COUNT_wind_wmo1',\n",
       "       'COUNT_wind_wmo_', 'END_DATETIME', 'MAX_Wind', 'MAX_latitude',\n",
       "       'MAX_longitude', 'MAX_num', 'MAX_pres_wmo1', 'MAX_pres_wmo_',\n",
       "       'MAX_season', 'MAX_wind_wmo1', 'MAX_wind_wmo_', 'MEAN_Wind',\n",
       "       'MEAN_latitude', 'MEAN_longitude', 'MEAN_num', 'MEAN_pres_wmo1',\n",
       "       'MEAN_pres_wmo_', 'MEAN_season', 'MEAN_wind_wmo1', 'MEAN_wind_wmo_',\n",
       "       'MIN_Wind', 'MIN_latitude', 'MIN_longitude', 'MIN_num', 'MIN_pres_wmo1',\n",
       "       'MIN_pres_wmo_', 'MIN_season', 'MIN_wind_wmo1', 'MIN_wind_wmo_',\n",
       "       'RANGE_Wind', 'RANGE_latitude', 'RANGE_longitude', 'RANGE_num',\n",
       "       'RANGE_pres_wmo1', 'RANGE_pres_wmo_', 'RANGE_season', 'RANGE_wind_wmo1',\n",
       "       'RANGE_wind_wmo_', 'SD_Wind', 'SD_latitude', 'SD_longitude', 'SD_num',\n",
       "       'SD_pres_wmo1', 'SD_pres_wmo_', 'SD_season', 'SD_wind_wmo1',\n",
       "       'SD_wind_wmo_', 'START_DATETIME', 'SUM_Wind', 'SUM_latitude',\n",
       "       'SUM_longitude', 'SUM_num', 'SUM_pres_wmo1', 'SUM_pres_wmo_',\n",
       "       'SUM_season', 'SUM_wind_wmo1', 'SUM_wind_wmo_', 'TRACK_DURATION',\n",
       "       'VAR_Wind', 'VAR_latitude', 'VAR_longitude', 'VAR_num', 'VAR_pres_wmo1',\n",
       "       'VAR_pres_wmo_', 'VAR_season', 'VAR_wind_wmo1', 'VAR_wind_wmo_',\n",
       "       'globalid', 'serial_num'],\n",
       "      dtype='object')"
      ]
     },
     "execution_count": 11,
     "metadata": {},
     "output_type": "execute_result"
    }
   ],
   "source": [
    "att_data_frame.columns"
   ]
  },
  {
   "cell_type": "markdown",
   "metadata": {},
   "source": [
    "## Has the number of hurricanes increased over time?"
   ]
  },
  {
   "cell_type": "code",
   "execution_count": 12,
   "metadata": {
    "collapsed": false
   },
   "outputs": [
    {
     "data": {
      "text/plain": [
       "<Container object of 51 artists>"
      ]
     },
     "execution_count": 12,
     "metadata": {},
     "output_type": "execute_result"
    },
    {
     "data": {
      "image/png": "[encoded data removed]",
      "text/plain": [
       "<matplotlib.figure.Figure at 0x836f85a048>"
      ]
     },
     "metadata": {},
     "output_type": "display_data"
    }
   ],
   "source": [
    "sorted_df = att_data_frame.sort_values('MEAN_season')\n",
    "hurricane_freq = sorted_df.groupby('MEAN_season').count()\n",
    "\n",
    "%matplotlib inline\n",
    "import matplotlib.pyplot as plt\n",
    "import numpy as np\n",
    "\n",
    "x = np.asarray(hurricane_freq.axes[0])\n",
    "y = np.asarray(hurricane_freq['COUNT'])\n",
    "fig, ax = plt.subplots()\n",
    "ax.bar(x, y)"
   ]
  },
  {
   "cell_type": "markdown",
   "metadata": {},
   "source": [
    "### Fit a trend line"
   ]
  },
  {
   "cell_type": "code",
   "execution_count": 13,
   "metadata": {
    "collapsed": false
   },
   "outputs": [
    {
     "name": "stdout",
     "output_type": "stream",
     "text": [
      "[  8.51067944e-02  -1.48434647e+02]\n"
     ]
    },
    {
     "data": {
      "image/png": "[encoded data removed]",
      "text/plain": [
       "<matplotlib.figure.Figure at 0x836f85a048>"
      ]
     },
     "execution_count": 13,
     "metadata": {},
     "output_type": "execute_result"
    }
   ],
   "source": [
    "fit1 = np.polyfit(x, y, deg=1)\n",
    "print(fit1)\n",
    "\n",
    "ax.plot(x, x*fit1[0] + fit1[1], color='red', linewidth=4)\n",
    "\n",
    "fig"
   ]
  },
  {
   "cell_type": "markdown",
   "metadata": {},
   "source": [
    "# Has the duration of hurricanes increased over time?"
   ]
  },
  {
   "cell_type": "code",
   "execution_count": 14,
   "metadata": {
    "collapsed": false
   },
   "outputs": [
    {
     "data": {
      "text/plain": [
       "<matplotlib.collections.PathCollection at 0x836f78f7f0>"
      ]
     },
     "execution_count": 14,
     "metadata": {},
     "output_type": "execute_result"
    },
    {
     "data": {
      "image/png": "[encoded data removed]",
      "text/plain": [
       "<matplotlib.figure.Figure at 0x836f7874e0>"
      ]
     },
     "metadata": {},
     "output_type": "display_data"
    }
   ],
   "source": [
    "intensity_df = sorted_df[['MEAN_season', 'MAX_wind_wmo_','VAR_pres_wmo1', 'TRACK_DURATION']]\n",
    "np_season = np.asarray(intensity_df['MEAN_season'])\n",
    "np_duration = np.asarray(intensity_df['TRACK_DURATION'] / (1000*60*60*24))\n",
    "\n",
    "fig2, ax2 = plt.subplots()\n",
    "ax2.scatter(np_season, np_duration, color='green')"
   ]
  },
  {
   "cell_type": "code",
   "execution_count": 15,
   "metadata": {
    "collapsed": false
   },
   "outputs": [
    {
     "name": "stdout",
     "output_type": "stream",
     "text": [
      "[  7.77924491e-02  -1.39884370e+02]\n"
     ]
    },
    {
     "data": {
      "image/png": "[encoded data removed]",
      "text/plain": [
       "<matplotlib.figure.Figure at 0x836f7874e0>"
      ]
     },
     "execution_count": 15,
     "metadata": {},
     "output_type": "execute_result"
    }
   ],
   "source": [
    "fit2_1 = np.polyfit(np_season, np_duration, deg=1)\n",
    "ax2.plot(np_season, np_season * fit2_1[0] + fit2_1[1], linewidth=4, color='red')\n",
    "print(fit2_1)\n",
    "\n",
    "fig2"
   ]
  },
  {
   "cell_type": "code",
   "execution_count": null,
   "metadata": {
    "collapsed": true
   },
   "outputs": [],
   "source": []
  }
 ],
 "metadata": {
  "anaconda-cloud": {},
  "kernelspec": {
   "display_name": "Python 3",
   "language": "python",
   "name": "python3"
  },
  "language_info": {
   "codemirror_mode": {
    "name": "ipython",
    "version": 3
   },
   "file_extension": ".py",
   "mimetype": "text/x-python",
   "name": "python",
   "nbconvert_exporter": "python",
   "pygments_lexer": "ipython3",
   "version": "3.5.2"
  },
  "widgets": {
   "state": {
    "dd6b31142503447baf89476cd7cddc19": {
     "views": [
      {
       "cell_index": 4
      }
     ]
    }
   },
   "version": "1.2.0"
  }
 },
 "nbformat": 4,
 "nbformat_minor": 0
}
