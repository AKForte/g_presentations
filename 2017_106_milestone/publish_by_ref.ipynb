{
 "cells": [
  {
   "cell_type": "markdown",
   "metadata": {},
   "source": [
    "# Publishing services to a federated server by reference\n",
    "#### Import library and connect to the ArcGIS Enterprise"
   ]
  },
  {
   "cell_type": "code",
   "execution_count": 1,
   "metadata": {},
   "outputs": [
    {
     "name": "stdout",
     "output_type": "stream",
     "text": [
      "Enter password: ········\n"
     ]
    }
   ],
   "source": [
    "from arcgis.gis import GIS\n",
    "gis = GIS(\"https://dev005219.esri.com/portal\",'admin')"
   ]
  },
  {
   "cell_type": "markdown",
   "metadata": {},
   "source": [
    "### Inspect the list of servers"
   ]
  },
  {
   "cell_type": "code",
   "execution_count": 5,
   "metadata": {},
   "outputs": [
    {
     "data": {
      "text/plain": [
       "[<Server at https://Dev005219.esri.com:6443/arcgis/admin>]"
      ]
     },
     "execution_count": 5,
     "metadata": {},
     "output_type": "execute_result"
    }
   ],
   "source": [
    "server_list = gis.admin.servers.list()\n",
    "server_list"
   ]
  },
  {
   "cell_type": "markdown",
   "metadata": {},
   "source": [
    "### Inspect services on the server"
   ]
  },
  {
   "cell_type": "code",
   "execution_count": 11,
   "metadata": {},
   "outputs": [
    {
     "data": {
      "text/plain": [
       "[<Service at https://Dev005219.esri.com:6443/arcgis/admin/services/SampleWorldCities.MapServer>]"
      ]
     },
     "execution_count": 11,
     "metadata": {},
     "output_type": "execute_result"
    }
   ],
   "source": [
    "server1 = server_list[0]\n",
    "server1.services.list()\n",
    "# server1.services.list(folder='Hosted')"
   ]
  },
  {
   "cell_type": "markdown",
   "metadata": {},
   "source": [
    "#### Inspect data stores on the server"
   ]
  },
  {
   "cell_type": "code",
   "execution_count": 16,
   "metadata": {},
   "outputs": [
    {
     "name": "stdout",
     "output_type": "stream",
     "text": [
      "egdb | /enterpriseDatabases/AGSDataStore_ds_ktdsimmo\n",
      "nosql | /nosqlDatabases/AGSDataStore_nosqldb_tcs_jnyfdw7q\n"
     ]
    }
   ],
   "source": [
    "data_store_list = server1.datastores.list()\n",
    "for data_store in data_store_list:\n",
    "    print(data_store.properties.type + \" | \" + data_store.properties.path)"
   ]
  },
  {
   "cell_type": "markdown",
   "metadata": {},
   "source": [
    "#### Register a new data store"
   ]
  },
  {
   "cell_type": "code",
   "execution_count": 28,
   "metadata": {},
   "outputs": [
    {
     "data": {
      "text/plain": [
       "<Datastore title:\"https://Dev005219.esri.com:6443/arcgis/admin/data/items/fileShares/heart_health\" type:\"folder\">"
      ]
     },
     "execution_count": 28,
     "metadata": {},
     "output_type": "execute_result"
    }
   ],
   "source": [
    "heart_health_data = server1.datastores.add_folder(name='heart_health', \n",
    "                              server_path=\"\\\\\\\\qalab_server\\\\pydata\\\\v106\\\\geosaurus\\\\data_prep\\\\SDs\\\\by_ref\")\n",
    "heart_health_data"
   ]
  },
  {
   "cell_type": "code",
   "execution_count": 29,
   "metadata": {},
   "outputs": [
    {
     "data": {
      "text/plain": [
       "{\n",
       "  \"path\": \"/fileShares/heart_health\",\n",
       "  \"type\": \"folder\",\n",
       "  \"info\": {\n",
       "    \"path\": \"\\\\\\\\qalab_server\\\\pydata\\\\v106\\\\geosaurus\\\\data_prep\\\\SDs\\\\by_ref\",\n",
       "    \"dataStoreConnectionType\": \"shared\"\n",
       "  },\n",
       "  \"id\": \"870d1b15-54a7-4fb6-9b95-9d676c898eb0\"\n",
       "}"
      ]
     },
     "execution_count": 29,
     "metadata": {},
     "output_type": "execute_result"
    }
   ],
   "source": [
    "#inspect the properties\n",
    "heart_health_data.properties"
   ]
  },
  {
   "cell_type": "code",
   "execution_count": 30,
   "metadata": {},
   "outputs": [
    {
     "data": {
      "text/plain": [
       "True"
      ]
     },
     "execution_count": 30,
     "metadata": {},
     "output_type": "execute_result"
    }
   ],
   "source": [
    "#validate data store\n",
    "heart_health_data.validate()"
   ]
  },
  {
   "cell_type": "markdown",
   "metadata": {},
   "source": [
    "## Publish SD file to the server"
   ]
  },
  {
   "cell_type": "code",
   "execution_count": null,
   "metadata": {
    "collapsed": true
   },
   "outputs": [],
   "source": [
    "server1.services."
   ]
  }
 ],
 "metadata": {
  "kernelspec": {
   "display_name": "Python 3",
   "language": "python",
   "name": "python3"
  },
  "language_info": {
   "codemirror_mode": {
    "name": "ipython",
    "version": 3
   },
   "file_extension": ".py",
   "mimetype": "text/x-python",
   "name": "python",
   "nbconvert_exporter": "python",
   "pygments_lexer": "ipython3",
   "version": "3.5.2"
  }
 },
 "nbformat": 4,
 "nbformat_minor": 1
}
