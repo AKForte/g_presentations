{
 "cells": [
  {
   "cell_type": "markdown",
   "metadata": {},
   "source": [
    "# Create hotspots for houston dataset\n",
    "\n",
    "### Connect to GIS and search for input data"
   ]
  },
  {
   "cell_type": "code",
   "execution_count": 1,
   "metadata": {
    "collapsed": false
   },
   "outputs": [
    {
     "name": "stdout",
     "output_type": "stream",
     "text": [
      "········\n"
     ]
    }
   ],
   "source": [
    "from arcgis.gis import *\n",
    "from getpass import getpass\n",
    "pass1 = getpass()"
   ]
  },
  {
   "cell_type": "code",
   "execution_count": 2,
   "metadata": {
    "collapsed": false
   },
   "outputs": [
    {
     "data": {
      "text/plain": [
       "[<Item title:\"bigDataFileShares_hurricanes_1m_168yrs\" type:Big Data File Share owner:admin>,\n",
       " <Item title:\"bigDataFileShares_californiapoints\" type:Big Data File Share owner:admin>,\n",
       " <Item title:\"bigDataFileShares_NYC_taxi\" type:Big Data File Share owner:admin>,\n",
       " <Item title:\"bigDataFileShares_NYCdata2\" type:Big Data File Share owner:arcgis_python_api>,\n",
       " <Item title:\"bigDataFileShares_hurricanes\" type:Big Data File Share owner:admin>,\n",
       " <Item title:\"bigDataFileShares_Houston_crime\" type:Big Data File Share owner:admin>,\n",
       " <Item title:\"bigDataFileShares_Chicago_accidents\" type:Big Data File Share owner:admin>,\n",
       " <Item title:\"bigDataFileShares_hurricanes_all\" type:Big Data File Share owner:admin>,\n",
       " <Item title:\"bigDataFileShares_NYCdata\" type:Big Data File Share owner:admin>]"
      ]
     },
     "execution_count": 2,
     "metadata": {},
     "output_type": "execute_result"
    }
   ],
   "source": [
    "gis = GIS(\"https://dev003246.esri.com/portal\",\"admin\",pass1)\n",
    "sr = gis.content.search(\"\", item_type=\"big data file share\")\n",
    "sr"
   ]
  },
  {
   "cell_type": "code",
   "execution_count": 3,
   "metadata": {
    "collapsed": false
   },
   "outputs": [
    {
     "data": {
      "text/html": [
       "<div class=\"item_container\" style=\"height: auto; overflow: hidden; border: 1px solid #cfcfcf; border-radius: 2px; background: #f6fafa; line-height: 1.21429em; padding: 10px;\">\n",
       "                    <div class=\"item_left\" style=\"width: 210px; float: left;\">\n",
       "                       <a href='https://dev003246.esri.com/portal/home/item.html?id=a622d7a499f74fedb42d60fdca186c39' target='_blank'>\n",
       "                        <img src='https://dev003246.esri.com/portal/portalimages/desktopapp.png' class=\"itemThumbnail\">\n",
       "                       </a>\n",
       "                    </div>\n",
       "\n",
       "                    <div class=\"item_right\"     style=\"float: none; width: auto; overflow: hidden;\">\n",
       "                        <a href='https://dev003246.esri.com/portal/home/item.html?id=a622d7a499f74fedb42d60fdca186c39' target='_blank'><b>bigDataFileShares_Houston_crime</b>\n",
       "                        </a>\n",
       "                        <br/><img src='https://dev003246.esri.com/portal/home/js/jsapi/esri/css/images/item_type_icons/layers16.png' style=\"vertical-align:middle;\">Big Data File Share by admin\n",
       "                        <br/>Last Modified: February 25, 2017\n",
       "                        <br/>0 comments, 0 views\n",
       "                    </div>\n",
       "                </div>\n",
       "                "
      ],
      "text/plain": [
       "<Item title:\"bigDataFileShares_Houston_crime\" type:Big Data File Share owner:admin>"
      ]
     },
     "execution_count": 3,
     "metadata": {},
     "output_type": "execute_result"
    }
   ],
   "source": [
    "houston_bdfs_item = sr[5]\n",
    "houston_bdfs_item"
   ]
  },
  {
   "cell_type": "code",
   "execution_count": 6,
   "metadata": {
    "collapsed": false
   },
   "outputs": [
    {
     "data": {
      "text/plain": [
       "<Layer url:\"https://dev003247.esri.com/gax/rest/services/DataStoreCatalogs/bigDataFileShares_Houston_crime/BigDataCatalogServer/crimes\">"
      ]
     },
     "execution_count": 6,
     "metadata": {},
     "output_type": "execute_result"
    }
   ],
   "source": [
    "houston_bdfs_item.layers\n",
    "houston_crime = houston_bdfs_item.layers[0]\n",
    "houston_crime"
   ]
  },
  {
   "cell_type": "markdown",
   "metadata": {},
   "source": [
    "## Run hotspot GA tool"
   ]
  },
  {
   "cell_type": "code",
   "execution_count": 5,
   "metadata": {
    "collapsed": true
   },
   "outputs": [],
   "source": [
    "from arcgis.geoanalytics import analyze_patterns\n",
    "arcgis.env.process_spatial_reference=3857"
   ]
  },
  {
   "cell_type": "code",
   "execution_count": 7,
   "metadata": {
    "collapsed": false
   },
   "outputs": [
    {
     "name": "stdout",
     "output_type": "stream",
     "text": [
      "Submitted.\n",
      "Executing...\n",
      "Executing (FindHotSpots): FindHotSpots \"Feature Set\" 0.5 Miles 5 Miles # # # # {\"itemProperties\":{\"itemId\":\"ac8354c7685d47d6853ea610015473ad\"},\"serviceProperties\":{\"name\":\"Hotspot_Analysis_8I9SQ2\",\"serviceUrl\":\"http://Dev003246.esri.com/server/rest/services/Hosted/Hotspot_Analysis_8I9SQ2/FeatureServer\"}} {\"processSR\":{\"wkid\":3857}}\n",
      "Start Time: Wed Mar 01 11:13:23 2017\n",
      "Using URL based GPRecordSet param: https://dev003247.esri.com/gax/rest/services/DataStoreCatalogs/bigDataFileShares_Houston_crime/BigDataCatalogServer/crimes?token=F_de3Ow4SUb2D4wduzP9GrtCMgKQ6HnbsyiMKdWBK937l18Vo0RfKgC8MXrcr7nK-e-YNbKu2LgMoH6xCegQpIb7KqQMiPPFLiT9d_TnoHFx45-nPIrk6IWHNubqSapdXHRho7DmR0HEwFOxn9YvIjzrqLCxy4c_A8Wa1VJI2ZQ.\n",
      "{\"messageCode\":\"BD_101033\",\"message\":\"'pointLayer' will be projected into the processing spatial reference.\",\"params\":{\"paramName\":\"pointLayer\"}}\n",
      "{\"messageCode\":\"BD_101028\",\"message\":\"Starting new distributed job with 25 tasks.\",\"params\":{\"totalTasks\":\"25\"}}\n",
      "{\"messageCode\":\"BD_101029\",\"message\":\"1/25 distributed tasks completed.\",\"params\":{\"completedTasks\":\"1\",\"totalTasks\":\"25\"}}\n",
      "{\"messageCode\":\"BD_101029\",\"message\":\"7/25 distributed tasks completed.\",\"params\":{\"completedTasks\":\"7\",\"totalTasks\":\"25\"}}\n",
      "{\"messageCode\":\"BD_101029\",\"message\":\"13/25 distributed tasks completed.\",\"params\":{\"completedTasks\":\"13\",\"totalTasks\":\"25\"}}\n",
      "{\"messageCode\":\"BD_101029\",\"message\":\"20/25 distributed tasks completed.\",\"params\":{\"completedTasks\":\"20\",\"totalTasks\":\"25\"}}\n",
      "{\"messageCode\":\"BD_101029\",\"message\":\"25/25 distributed tasks completed.\",\"params\":{\"completedTasks\":\"25\",\"totalTasks\":\"25\"}}\n",
      "{\"messageCode\":\"BD_101028\",\"message\":\"Starting new distributed job with 33 tasks.\",\"params\":{\"totalTasks\":\"33\"}}\n",
      "{\"messageCode\":\"BD_101029\",\"message\":\"7/33 distributed tasks completed.\",\"params\":{\"completedTasks\":\"7\",\"totalTasks\":\"33\"}}\n",
      "{\"messageCode\":\"BD_101029\",\"message\":\"16/33 distributed tasks completed.\",\"params\":{\"completedTasks\":\"16\",\"totalTasks\":\"33\"}}\n",
      "{\"messageCode\":\"BD_101029\",\"message\":\"33/33 distributed tasks completed.\",\"params\":{\"completedTasks\":\"33\",\"totalTasks\":\"33\"}}\n",
      "{\"messageCode\":\"BD_101028\",\"message\":\"Starting new distributed job with 29 tasks.\",\"params\":{\"totalTasks\":\"29\"}}\n",
      "{\"messageCode\":\"BD_101029\",\"message\":\"4/29 distributed tasks completed.\",\"params\":{\"completedTasks\":\"4\",\"totalTasks\":\"29\"}}\n",
      "Finished writing\n",
      "  extent = Some(Envelope: [-95.91236201797044, -0.0023815559174865386, 0.0026843619705219, 30.10429641939476])\n",
      "  interval = None\n",
      "  count = 3210\n",
      "{\"messageCode\":\"BD_0\",\"message\":\"Feature service layer created: http://Dev003246.esri.com/server/rest/services/Hosted/Hotspot_Analysis_8I9SQ2/FeatureServer/0\",\"params\":{\"serviceUrl\":\"http://Dev003246.esri.com/server/rest/services/Hosted/Hotspot_Analysis_8I9SQ2/FeatureServer/0\"}}\n"
     ]
    }
   ],
   "source": [
    "hotspot1 = analyze_patterns.find_hot_spots(houston_crime, bin_size=0.5, \n",
    "                                           bin_size_unit= 'Miles',\n",
    "                                          neighborhood_distance=5,\n",
    "                                           neighborhood_distance_unit='Miles')"
   ]
  },
  {
   "cell_type": "code",
   "execution_count": 13,
   "metadata": {
    "collapsed": false
   },
   "outputs": [
    {
     "name": "stdout",
     "output_type": "stream",
     "text": [
      "Submitted.\n",
      "Executing...\n",
      "Executing (FindHotSpots): FindHotSpots \"Feature Set\" 0.5 Miles 15 Miles # # # # {\"itemProperties\":{\"itemId\":\"3a2023bc3ce448779d252933094dec2a\"},\"serviceProperties\":{\"name\":\"hstn_htspt_bin05_n15\",\"serviceUrl\":\"http://Dev003246.esri.com/server/rest/services/Hosted/hstn_htspt_bin05_n15/FeatureServer\"}} {\"processSR\":{\"wkid\":3857}}\n",
      "Start Time: Wed Mar 01 11:26:35 2017\n",
      "Using URL based GPRecordSet param: https://dev003247.esri.com/gax/rest/services/DataStoreCatalogs/bigDataFileShares_Houston_crime/BigDataCatalogServer/crimes?token=F_de3Ow4SUb2D4wduzP9GrtCMgKQ6HnbsyiMKdWBK937l18Vo0RfKgC8MXrcr7nK-e-YNbKu2LgMoH6xCegQpIb7KqQMiPPFLiT9d_TnoHFx45-nPIrk6IWHNubqSapdXHRho7DmR0HEwFOxn9YvIjzrqLCxy4c_A8Wa1VJI2ZQ.\n",
      "{\"messageCode\":\"BD_101033\",\"message\":\"'pointLayer' will be projected into the processing spatial reference.\",\"params\":{\"paramName\":\"pointLayer\"}}\n",
      "{\"messageCode\":\"BD_101028\",\"message\":\"Starting new distributed job with 25 tasks.\",\"params\":{\"totalTasks\":\"25\"}}\n",
      "{\"messageCode\":\"BD_101029\",\"message\":\"1/25 distributed tasks completed.\",\"params\":{\"completedTasks\":\"1\",\"totalTasks\":\"25\"}}\n",
      "{\"messageCode\":\"BD_101029\",\"message\":\"10/25 distributed tasks completed.\",\"params\":{\"completedTasks\":\"10\",\"totalTasks\":\"25\"}}\n",
      "{\"messageCode\":\"BD_101029\",\"message\":\"21/25 distributed tasks completed.\",\"params\":{\"completedTasks\":\"21\",\"totalTasks\":\"25\"}}\n",
      "{\"messageCode\":\"BD_101029\",\"message\":\"25/25 distributed tasks completed.\",\"params\":{\"completedTasks\":\"25\",\"totalTasks\":\"25\"}}\n",
      "{\"messageCode\":\"BD_101028\",\"message\":\"Starting new distributed job with 33 tasks.\",\"params\":{\"totalTasks\":\"33\"}}\n",
      "{\"messageCode\":\"BD_101029\",\"message\":\"7/33 distributed tasks completed.\",\"params\":{\"completedTasks\":\"7\",\"totalTasks\":\"33\"}}\n",
      "{\"messageCode\":\"BD_101029\",\"message\":\"16/33 distributed tasks completed.\",\"params\":{\"completedTasks\":\"16\",\"totalTasks\":\"33\"}}\n",
      "{\"messageCode\":\"BD_101029\",\"message\":\"33/33 distributed tasks completed.\",\"params\":{\"completedTasks\":\"33\",\"totalTasks\":\"33\"}}\n",
      "{\"messageCode\":\"BD_101028\",\"message\":\"Starting new distributed job with 29 tasks.\",\"params\":{\"totalTasks\":\"29\"}}\n",
      "  extent = Some(Envelope: [-95.91236201797044, -0.0023815559174865386, 0.0026843619705219, 30.10429641939476])\n",
      "  interval = None\n",
      "  count = 3210\n",
      "{\"messageCode\":\"BD_0\",\"message\":\"Feature service layer created: http://Dev003246.esri.com/server/rest/services/Hosted/hstn_htspt_bin05_n15/FeatureServer/0\",\"params\":{\"serviceUrl\":\"http://Dev003246.esri.com/server/rest/services/Hosted/hstn_htspt_bin05_n15/FeatureServer/0\"}}\n",
      "Succeeded at Wed Mar 01 11:27:15 2017 (Elapsed Time: 40.83 seconds)\n"
     ]
    }
   ],
   "source": [
    "hotspot2 = analyze_patterns.find_hot_spots(houston_crime, bin_size=0.5,\n",
    "                                           bin_size_unit= 'Miles',\n",
    "                                          neighborhood_distance=15,\n",
    "                                           neighborhood_distance_unit='Miles', output_name='hstn_htspt_bin05_n15')"
   ]
  },
  {
   "cell_type": "code",
   "execution_count": 14,
   "metadata": {
    "collapsed": false
   },
   "outputs": [
    {
     "name": "stdout",
     "output_type": "stream",
     "text": [
      "Submitted.\n",
      "Executing...\n",
      "Executing (FindHotSpots): FindHotSpots \"Feature Set\" 0.1 Miles 1 Miles # # # # {\"itemProperties\":{\"itemId\":\"b9fc9068501a44adad74aa203dfde2d9\"},\"serviceProperties\":{\"name\":\"hstn_htspt_bin01_n1\",\"serviceUrl\":\"http://Dev003246.esri.com/server/rest/services/Hosted/hstn_htspt_bin01_n1/FeatureServer\"}} {\"processSR\":{\"wkid\":3857}}\n",
      "Start Time: Wed Mar 01 11:31:32 2017\n",
      "Using URL based GPRecordSet param: https://dev003247.esri.com/gax/rest/services/DataStoreCatalogs/bigDataFileShares_Houston_crime/BigDataCatalogServer/crimes?token=F_de3Ow4SUb2D4wduzP9GrtCMgKQ6HnbsyiMKdWBK937l18Vo0RfKgC8MXrcr7nK-e-YNbKu2LgMoH6xCegQpIb7KqQMiPPFLiT9d_TnoHFx45-nPIrk6IWHNubqSapdXHRho7DmR0HEwFOxn9YvIjzrqLCxy4c_A8Wa1VJI2ZQ.\n",
      "{\"messageCode\":\"BD_101033\",\"message\":\"'pointLayer' will be projected into the processing spatial reference.\",\"params\":{\"paramName\":\"pointLayer\"}}\n",
      "{\"messageCode\":\"BD_101028\",\"message\":\"Starting new distributed job with 25 tasks.\",\"params\":{\"totalTasks\":\"25\"}}\n",
      "{\"messageCode\":\"BD_101029\",\"message\":\"1/25 distributed tasks completed.\",\"params\":{\"completedTasks\":\"1\",\"totalTasks\":\"25\"}}\n",
      "{\"messageCode\":\"BD_101029\",\"message\":\"10/25 distributed tasks completed.\",\"params\":{\"completedTasks\":\"10\",\"totalTasks\":\"25\"}}\n",
      "{\"messageCode\":\"BD_101029\",\"message\":\"19/25 distributed tasks completed.\",\"params\":{\"completedTasks\":\"19\",\"totalTasks\":\"25\"}}\n",
      "{\"messageCode\":\"BD_101029\",\"message\":\"25/25 distributed tasks completed.\",\"params\":{\"completedTasks\":\"25\",\"totalTasks\":\"25\"}}\n",
      "{\"messageCode\":\"BD_101028\",\"message\":\"Starting new distributed job with 33 tasks.\",\"params\":{\"totalTasks\":\"33\"}}\n",
      "{\"messageCode\":\"BD_101029\",\"message\":\"7/33 distributed tasks completed.\",\"params\":{\"completedTasks\":\"7\",\"totalTasks\":\"33\"}}\n",
      "{\"messageCode\":\"BD_101029\",\"message\":\"16/33 distributed tasks completed.\",\"params\":{\"completedTasks\":\"16\",\"totalTasks\":\"33\"}}\n",
      "{\"messageCode\":\"BD_101029\",\"message\":\"33/33 distributed tasks completed.\",\"params\":{\"completedTasks\":\"33\",\"totalTasks\":\"33\"}}\n",
      "{\"messageCode\":\"BD_101028\",\"message\":\"Starting new distributed job with 29 tasks.\",\"params\":{\"totalTasks\":\"29\"}}\n",
      "{\"messageCode\":\"BD_101029\",\"message\":\"4/29 distributed tasks completed.\",\"params\":{\"completedTasks\":\"4\",\"totalTasks\":\"29\"}}\n",
      "Finished writing\n",
      "  extent = Some(Envelope: [-95.91019346616443, -2.1300411215440616E-4, 5.158101645137669E-4, 30.10242035746936])\n",
      "  interval = None\n",
      "  count = 31382\n",
      "{\"messageCode\":\"BD_0\",\"message\":\"Feature service layer created: http://Dev003246.esri.com/server/rest/services/Hosted/hstn_htspt_bin01_n1/FeatureServer/0\",\"params\":{\"serviceUrl\":\"http://Dev003246.esri.com/server/rest/services/Hosted/hstn_htspt_bin01_n1/FeatureServer/0\"}}\n"
     ]
    }
   ],
   "source": [
    "hotspot3 = analyze_patterns.find_hot_spots(houston_crime, bin_size=0.1,\n",
    "                                           bin_size_unit= 'Miles',\n",
    "                                          neighborhood_distance=1,\n",
    "                                           neighborhood_distance_unit='Miles', output_name='hstn_htspt_bin01_n1')"
   ]
  },
  {
   "cell_type": "code",
   "execution_count": 15,
   "metadata": {
    "collapsed": false
   },
   "outputs": [
    {
     "name": "stdout",
     "output_type": "stream",
     "text": [
      "Submitted.\n",
      "Executing...\n",
      "Executing (FindHotSpots): FindHotSpots \"Feature Set\" 0.5 Miles 1 Miles # # # # {\"itemProperties\":{\"itemId\":\"310635d8b1c74559b9390b039c8378d5\"},\"serviceProperties\":{\"name\":\"hstn_htspt_bin05_n1\",\"serviceUrl\":\"http://Dev003246.esri.com/server/rest/services/Hosted/hstn_htspt_bin05_n1/FeatureServer\"}} {\"processSR\":{\"wkid\":3857}}\n",
      "Start Time: Wed Mar 01 11:34:20 2017\n",
      "Using URL based GPRecordSet param: https://dev003247.esri.com/gax/rest/services/DataStoreCatalogs/bigDataFileShares_Houston_crime/BigDataCatalogServer/crimes?token=F_de3Ow4SUb2D4wduzP9GrtCMgKQ6HnbsyiMKdWBK937l18Vo0RfKgC8MXrcr7nK-e-YNbKu2LgMoH6xCegQpIb7KqQMiPPFLiT9d_TnoHFx45-nPIrk6IWHNubqSapdXHRho7DmR0HEwFOxn9YvIjzrqLCxy4c_A8Wa1VJI2ZQ.\n",
      "{\"messageCode\":\"BD_101033\",\"message\":\"'pointLayer' will be projected into the processing spatial reference.\",\"params\":{\"paramName\":\"pointLayer\"}}\n",
      "{\"messageCode\":\"BD_101028\",\"message\":\"Starting new distributed job with 25 tasks.\",\"params\":{\"totalTasks\":\"25\"}}\n",
      "{\"messageCode\":\"BD_101029\",\"message\":\"1/25 distributed tasks completed.\",\"params\":{\"completedTasks\":\"1\",\"totalTasks\":\"25\"}}\n",
      "{\"messageCode\":\"BD_101029\",\"message\":\"10/25 distributed tasks completed.\",\"params\":{\"completedTasks\":\"10\",\"totalTasks\":\"25\"}}\n",
      "{\"messageCode\":\"BD_101029\",\"message\":\"24/25 distributed tasks completed.\",\"params\":{\"completedTasks\":\"24\",\"totalTasks\":\"25\"}}\n",
      "{\"messageCode\":\"BD_101029\",\"message\":\"25/25 distributed tasks completed.\",\"params\":{\"completedTasks\":\"25\",\"totalTasks\":\"25\"}}\n",
      "{\"messageCode\":\"BD_101028\",\"message\":\"Starting new distributed job with 33 tasks.\",\"params\":{\"totalTasks\":\"33\"}}\n",
      "{\"messageCode\":\"BD_101029\",\"message\":\"7/33 distributed tasks completed.\",\"params\":{\"completedTasks\":\"7\",\"totalTasks\":\"33\"}}\n",
      "{\"messageCode\":\"BD_101029\",\"message\":\"19/33 distributed tasks completed.\",\"params\":{\"completedTasks\":\"19\",\"totalTasks\":\"33\"}}\n",
      "{\"messageCode\":\"BD_101029\",\"message\":\"33/33 distributed tasks completed.\",\"params\":{\"completedTasks\":\"33\",\"totalTasks\":\"33\"}}\n",
      "{\"messageCode\":\"BD_101028\",\"message\":\"Starting new distributed job with 29 tasks.\",\"params\":{\"totalTasks\":\"29\"}}\n",
      "{\"messageCode\":\"BD_101029\",\"message\":\"4/29 distributed tasks completed.\",\"params\":{\"completedTasks\":\"4\",\"totalTasks\":\"29\"}}\n",
      "Finished writing\n",
      "  extent = Some(Envelope: [-95.91236201797044, -0.0023815559174865386, 0.0026843619705219, 30.10429641939476])\n",
      "  interval = None\n",
      "  count = 3210\n",
      "{\"messageCode\":\"BD_0\",\"message\":\"Feature service layer created: http://Dev003246.esri.com/server/rest/services/Hosted/hstn_htspt_bin05_n1/FeatureServer/0\",\"params\":{\"serviceUrl\":\"http://Dev003246.esri.com/server/rest/services/Hosted/hstn_htspt_bin05_n1/FeatureServer/0\"}}\n"
     ]
    }
   ],
   "source": [
    "hotspot4 = analyze_patterns.find_hot_spots(houston_crime, bin_size=0.5,\n",
    "                                           bin_size_unit= 'Miles',\n",
    "                                          neighborhood_distance=1,\n",
    "                                           neighborhood_distance_unit='Miles', output_name='hstn_htspt_bin05_n1')"
   ]
  },
  {
   "cell_type": "code",
   "execution_count": 16,
   "metadata": {
    "collapsed": false
   },
   "outputs": [
    {
     "name": "stdout",
     "output_type": "stream",
     "text": [
      "Submitted.\n",
      "Executing...\n",
      "Executing (FindHotSpots): FindHotSpots \"Feature Set\" 0.5 Miles 2.5 Miles # # # # {\"itemProperties\":{\"itemId\":\"f909ad52f85641978665448db06f5eff\"},\"serviceProperties\":{\"name\":\"hstn_htspt_bin05_n2_5\",\"serviceUrl\":\"http://Dev003246.esri.com/server/rest/services/Hosted/hstn_htspt_bin05_n2_5/FeatureServer\"}} {\"processSR\":{\"wkid\":3857}}\n",
      "Start Time: Wed Mar 01 11:41:39 2017\n",
      "Using URL based GPRecordSet param: https://dev003247.esri.com/gax/rest/services/DataStoreCatalogs/bigDataFileShares_Houston_crime/BigDataCatalogServer/crimes?token=F_de3Ow4SUb2D4wduzP9GrtCMgKQ6HnbsyiMKdWBK937l18Vo0RfKgC8MXrcr7nK-e-YNbKu2LgMoH6xCegQpIb7KqQMiPPFLiT9d_TnoHFx45-nPIrk6IWHNubqSapdXHRho7DmR0HEwFOxn9YvIjzrqLCxy4c_A8Wa1VJI2ZQ.\n",
      "{\"messageCode\":\"BD_101033\",\"message\":\"'pointLayer' will be projected into the processing spatial reference.\",\"params\":{\"paramName\":\"pointLayer\"}}\n",
      "{\"messageCode\":\"BD_101028\",\"message\":\"Starting new distributed job with 25 tasks.\",\"params\":{\"totalTasks\":\"25\"}}\n",
      "{\"messageCode\":\"BD_101029\",\"message\":\"1/25 distributed tasks completed.\",\"params\":{\"completedTasks\":\"1\",\"totalTasks\":\"25\"}}\n",
      "{\"messageCode\":\"BD_101029\",\"message\":\"10/25 distributed tasks completed.\",\"params\":{\"completedTasks\":\"10\",\"totalTasks\":\"25\"}}\n",
      "{\"messageCode\":\"BD_101029\",\"message\":\"19/25 distributed tasks completed.\",\"params\":{\"completedTasks\":\"19\",\"totalTasks\":\"25\"}}\n",
      "{\"messageCode\":\"BD_101029\",\"message\":\"25/25 distributed tasks completed.\",\"params\":{\"completedTasks\":\"25\",\"totalTasks\":\"25\"}}\n",
      "{\"messageCode\":\"BD_101028\",\"message\":\"Starting new distributed job with 33 tasks.\",\"params\":{\"totalTasks\":\"33\"}}\n",
      "{\"messageCode\":\"BD_101029\",\"message\":\"7/33 distributed tasks completed.\",\"params\":{\"completedTasks\":\"7\",\"totalTasks\":\"33\"}}\n",
      "{\"messageCode\":\"BD_101029\",\"message\":\"19/33 distributed tasks completed.\",\"params\":{\"completedTasks\":\"19\",\"totalTasks\":\"33\"}}\n",
      "{\"messageCode\":\"BD_101029\",\"message\":\"33/33 distributed tasks completed.\",\"params\":{\"completedTasks\":\"33\",\"totalTasks\":\"33\"}}\n",
      "{\"messageCode\":\"BD_101028\",\"message\":\"Starting new distributed job with 29 tasks.\",\"params\":{\"totalTasks\":\"29\"}}\n",
      "{\"messageCode\":\"BD_101029\",\"message\":\"4/29 distributed tasks completed.\",\"params\":{\"completedTasks\":\"4\",\"totalTasks\":\"29\"}}\n",
      "  interval = None\n",
      "  count = 3210\n",
      "{\"messageCode\":\"BD_0\",\"message\":\"Feature service layer created: http://Dev003246.esri.com/server/rest/services/Hosted/hstn_htspt_bin05_n2_5/FeatureServer/0\",\"params\":{\"serviceUrl\":\"http://Dev003246.esri.com/server/rest/services/Hosted/hstn_htspt_bin05_n2_5/FeatureServer/0\"}}\n",
      "Succeeded at Wed Mar 01 11:42:18 2017 (Elapsed Time: 39.02 seconds)\n"
     ]
    }
   ],
   "source": [
    "hotspot5 = analyze_patterns.find_hot_spots(houston_crime, bin_size=0.5,\n",
    "                                           bin_size_unit= 'Miles',\n",
    "                                          neighborhood_distance=2.5,\n",
    "                                           neighborhood_distance_unit='Miles', output_name='hstn_htspt_bin05_n2_5')"
   ]
  },
  {
   "cell_type": "code",
   "execution_count": null,
   "metadata": {
    "collapsed": true
   },
   "outputs": [],
   "source": []
  }
 ],
 "metadata": {
  "anaconda-cloud": {},
  "kernelspec": {
   "display_name": "Python [conda env:geosaurus_gold]",
   "language": "python",
   "name": "conda-env-geosaurus_gold-py"
  },
  "language_info": {
   "codemirror_mode": {
    "name": "ipython",
    "version": 3
   },
   "file_extension": ".py",
   "mimetype": "text/x-python",
   "name": "python",
   "nbconvert_exporter": "python",
   "pygments_lexer": "ipython3",
   "version": "3.5.2"
  }
 },
 "nbformat": 4,
 "nbformat_minor": 1
}
