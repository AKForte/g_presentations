{
 "cells": [
  {
   "cell_type": "markdown",
   "metadata": {
    "slideshow": {
     "slide_type": "slide"
    }
   },
   "source": [
    "<center><h1>ArcGIS API for Python API</h1></center>\n",
    "<center><h3>for Developers, Administrators, Content managers</h4></center>\n",
    "<br><br>\n",
    "<center><h4>Atma Mani, Rohit Singh</h4>\n",
    "<img src= https://encrypted-tbn0.gstatic.com/images?q=tbn:ANd9GcQDZTs7IDnAJx-OrAbEaPnsNNhO4iw8MUHazBD7Dm3MzSPwgpkU></center>"
   ]
  },
  {
   "cell_type": "markdown",
   "metadata": {
    "slideshow": {
     "slide_type": "slide"
    }
   },
   "source": [
    "<center><h1>What is the Python API -- ROHIT</h1></center>\n",
    "\n",
    " - User personas for ArcGIS API for Python\n",
    " - Python API for GIS administration\n",
    " - Python API for GIS content management\n",
    " - User stories, usage stats and growth"
   ]
  },
  {
   "cell_type": "markdown",
   "metadata": {
    "slideshow": {
     "slide_type": "slide"
    }
   },
   "source": [
    "<center><h1>User personas for ArcGIS API for Python</h1></center>\n",
    "<br>\n",
    "<center><img src='helper_files/3_user_personas_2.png' style=\"height:500px\"></center>"
   ]
  },
  {
   "cell_type": "markdown",
   "metadata": {
    "slideshow": {
     "slide_type": "skip"
    }
   },
   "source": [
    "slide - 3 bullets of what the API is"
   ]
  },
  {
   "cell_type": "markdown",
   "metadata": {
    "slideshow": {
     "slide_type": "slide"
    }
   },
   "source": [
    "<center><h1>Python API for GIS Administration</h1></center>\n",
    "### demo collaboration"
   ]
  },
  {
   "cell_type": "markdown",
   "metadata": {
    "slideshow": {
     "slide_type": "notes"
    }
   },
   "source": [
    "**Story**:\n",
    "The IT Admin of the city of Flint, Michigan is told that a team of GIS personnel is starting on a water quality project. They need a new ArcGIS Enterprise to work out of. They would be performing field data collection. After analyzing the data, they would share it to the concenred public, journalists and citizen scientists. The admin has to ensure the logistics."
   ]
  },
  {
   "cell_type": "markdown",
   "metadata": {
    "slideshow": {
     "slide_type": "fragment"
    }
   },
   "source": [
    "Using Python API and ArcGIS Chef cookbooks, perform a fully automated Enterprise setup\n",
    " - show time lapsed video of chef, python api running and creating a full enterprise stack on a single machine\n",
    " - finish with customized portal home app (with appropriate banners, title)\n",
    " - show integration with **Zapier** to send sms / email after job completion"
   ]
  },
  {
   "cell_type": "markdown",
   "metadata": {
    "slideshow": {
     "slide_type": "notes"
    }
   },
   "source": [
    "The admin was able to run the scripts and without any manual intervention was able to set up a full stack over night, even before the water quality team could walk into the office. Each team member has a login with their org credentials, has groups and even data in their accounts. They can get to work immediately."
   ]
  },
  {
   "cell_type": "markdown",
   "metadata": {
    "slideshow": {
     "slide_type": "slide"
    }
   },
   "source": [
    "<center><h1> Python API for content management </h1></center>\n",
    "<br>\n",
    "<center><h2>fire map updating automation </h2></center>"
   ]
  },
  {
   "cell_type": "code",
   "execution_count": 2,
   "metadata": {
    "collapsed": true,
    "slideshow": {
     "slide_type": "skip"
    }
   },
   "outputs": [],
   "source": [
    "from IPython.display import Video"
   ]
  },
  {
   "cell_type": "code",
   "execution_count": 3,
   "metadata": {
    "slideshow": {
     "slide_type": "fragment"
    }
   },
   "outputs": [
    {
     "data": {
      "text/html": [
       "<video src=\"./helper_files/webgis_chef_ff_1.mp4\" controls>\n",
       "      Your browser does not support the <code>video</code> element.\n",
       "    </video>"
      ],
      "text/plain": [
       "<IPython.core.display.Video object>"
      ]
     },
     "execution_count": 3,
     "metadata": {},
     "output_type": "execute_result"
    }
   ],
   "source": [
    "Video('./helper_files/webgis_chef_ff_1.mp4')"
   ]
  },
  {
   "cell_type": "code",
   "execution_count": 4,
   "metadata": {
    "slideshow": {
     "slide_type": "subslide"
    }
   },
   "outputs": [
    {
     "data": {
      "text/html": [
       "<video src=\"./helper_files/webgis_base_state_1.mov\" controls>\n",
       "      Your browser does not support the <code>video</code> element.\n",
       "    </video>"
      ],
      "text/plain": [
       "<IPython.core.display.Video object>"
      ]
     },
     "execution_count": 4,
     "metadata": {},
     "output_type": "execute_result"
    }
   ],
   "source": [
    "Video('./helper_files/webgis_base_state_1.mov')"
   ]
  },
  {
   "cell_type": "markdown",
   "metadata": {
    "slideshow": {
     "slide_type": "notes"
    }
   },
   "source": [
    "**story**: The water quality team needs some base data for their analysis. These are available in another older, mature Enterprise. Instead of duplicating the content, the content manager can set up a **portal to portal** collaboration and determine those layers and maps that need to show up on the new water quality Enterprise.\n",
    "\n",
    "Using the Python API, the content manager can set this **collaboration** easily with a very few lines of code."
   ]
  },
  {
   "cell_type": "markdown",
   "metadata": {
    "slideshow": {
     "slide_type": "slide"
    }
   },
   "source": [
    "<center><h2>Enterprise to ArcGIS Online sync </h2></center>"
   ]
  },
  {
   "cell_type": "markdown",
   "metadata": {
    "slideshow": {
     "slide_type": "notes"
    }
   },
   "source": [
    "**story**: The water quality team has made significant progress and is ready to share the phase 1 results with the public. The content manager has determined the best way to do this is to share the layers via ArcGIS Online. This way the admin does not have to worry about scalability and security.\n",
    "\n",
    "Using the Python API, the publisher can easily write a small script that **synchronizes** data between the on-premise water quality Enterprise and the public-facing ArcGIS Online feature layer. This script can be scheduled to run on a periodic basis to ensure the public always has up-to-date information."
   ]
  },
  {
   "cell_type": "markdown",
   "metadata": {
    "slideshow": {
     "slide_type": "slide"
    }
   },
   "source": [
    "# Python API usage patterns\n",
    "## Download stats, Developers site traffic"
   ]
  },
  {
   "cell_type": "code",
   "execution_count": 13,
   "metadata": {
    "collapsed": true,
    "slideshow": {
     "slide_type": "skip"
    }
   },
   "outputs": [],
   "source": [
    "import matplotlib.pyplot as plt\n",
    "import seaborn as sns\n",
    "import pandas as pd\n",
    "%matplotlib inline"
   ]
  },
  {
   "cell_type": "code",
   "execution_count": 25,
   "metadata": {
    "slideshow": {
     "slide_type": "skip"
    }
   },
   "outputs": [
    {
     "data": {
      "text/plain": [
       "arcgis                 5803\n",
       "arcgispro               795\n",
       "arcgis-server-linux      53\n",
       "R-ArcGIS Bridge          16\n",
       "dtype: int64"
      ]
     },
     "execution_count": 25,
     "metadata": {},
     "output_type": "execute_result"
    }
   ],
   "source": [
    "download_stats = [5803, 795, 53, 16]\n",
    "labels = ['Python API', 'ArcGIS Pro', 'arcgis-server-linux', 'R-ArcGIS Bridge']\n",
    "conda_download_stats = pd.Series(data=download_stats, index=labels)\n",
    "ss"
   ]
  },
  {
   "cell_type": "markdown",
   "metadata": {
    "slideshow": {
     "slide_type": "subslide"
    }
   },
   "source": [
    "## API download stats from anaconda repository"
   ]
  },
  {
   "cell_type": "code",
   "execution_count": 28,
   "metadata": {
    "slideshow": {
     "slide_type": "fragment"
    }
   },
   "outputs": [
    {
     "data": {
      "text/plain": [
       "<matplotlib.axes._subplots.AxesSubplot at 0x114a44b00>"
      ]
     },
     "execution_count": 28,
     "metadata": {},
     "output_type": "execute_result"
    },
    {
     "data": {
      "image/png": "[encoded data removed]",
      "text/plain": [
       "<matplotlib.figure.Figure at 0x114a4d198>"
      ]
     },
     "metadata": {},
     "output_type": "display_data"
    }
   ],
   "source": [
    "conda_download_stats.plot.barh(title='Conda download stats', grid=True, fontsize=15, figsize=(10,5))"
   ]
  },
  {
   "cell_type": "markdown",
   "metadata": {
    "slideshow": {
     "slide_type": "subslide"
    }
   },
   "source": [
    "## Web traffic to Developers.arcgis.com/python"
   ]
  },
  {
   "cell_type": "code",
   "execution_count": null,
   "metadata": {
    "collapsed": true,
    "slideshow": {
     "slide_type": "skip"
    }
   },
   "outputs": [],
   "source": [
    "traffic_rate = [30197, 14660, 14340]\n",
    "labels = ['All guide pages', 'Home page', 'Sample notebooks']\n",
    "\n",
    "# chage this to admins, content, analysts\n",
    "topic_traffic = [7113, 11485, 4218, 4863]\n",
    "topic = ['Installation', 'API basics', 'GIS admin',\n",
    "         'Geocoding & Analysis']\n",
    "\n",
    "#todo - notebooks.esri.com get traffic from Bill M"
   ]
  },
  {
   "cell_type": "markdown",
   "metadata": {
    "slideshow": {
     "slide_type": "subslide"
    }
   },
   "source": [
    "## Customer use cases\n",
    "twitter as well as GeoNet"
   ]
  },
  {
   "cell_type": "markdown",
   "metadata": {},
   "source": [
    "## Tour of website\n",
    "how to get it\n",
    "docker - status?\n",
    "notebooks.esri.com - stats\n",
    "github"
   ]
  },
  {
   "cell_type": "markdown",
   "metadata": {
    "slideshow": {
     "slide_type": "subslide"
    }
   },
   "source": [
    "## Pre-con survey feedback"
   ]
  },
  {
   "cell_type": "markdown",
   "metadata": {},
   "source": [
    "## Release plan"
   ]
  },
  {
   "cell_type": "code",
   "execution_count": 25,
   "metadata": {},
   "outputs": [
    {
     "name": "stdout",
     "output_type": "stream",
     "text": [
      "yo!!ii\n"
     ]
    }
   ],
   "source": [
    "%run hello.py"
   ]
  },
  {
   "cell_type": "code",
   "execution_count": 26,
   "metadata": {
    "collapsed": true
   },
   "outputs": [],
   "source": [
    "import requests"
   ]
  },
  {
   "cell_type": "code",
   "execution_count": 36,
   "metadata": {},
   "outputs": [
    {
     "name": "stdout",
     "output_type": "stream",
     "text": [
      "Time stamp: 2017_6_6_8_20_0\n"
     ]
    },
    {
     "data": {
      "text/plain": [
       "b'{\"status\": \"success\", \"attempt\": \"5936c820-e789-43b9-81ea-e2d5168ce4b0\", \"id\": \"824388a2-2edf-4372-bf50-7ecba622b5e2\", \"request_id\": \"7gjrml3ZaK70tThO\"}'"
      ]
     },
     "execution_count": 36,
     "metadata": {},
     "output_type": "execute_result"
    }
   ],
   "source": [
    "import datetime\n",
    "t = datetime.datetime.now()\n",
    "time_stamp = str.format(\"Time stamp: {0}_{1}_{2}_{3}_{4}_{5}\", str(t.year),\n",
    "              str(t.month), str(t.day), str(t.hour), str(t.minute), str(t.second))\n",
    "print(time_stamp)\n",
    "resp = requests.post('https://hooks.zapier.com/hooks/catch/1693520/9z75q1/',\n",
    "                     data={'text':'finding delay. Post triggerd at: ' + time_stamp})\n",
    "resp.content"
   ]
  },
  {
   "cell_type": "code",
   "execution_count": 35,
   "metadata": {},
   "outputs": [
    {
     "data": {
      "text/plain": [
       "'Time stamp: 2017_6_6_8_19_48'"
      ]
     },
     "execution_count": 35,
     "metadata": {},
     "output_type": "execute_result"
    }
   ],
   "source": [
    "import datetime\n",
    "t = datetime.datetime.now()\n",
    "time_stamp = str.format(\"Time stamp: {0}_{1}_{2}_{3}_{4}_{5}\", str(t.year),\n",
    "              str(t.month), str(t.day), str(t.hour), str(t.minute), str(t.second))\n",
    "time_stamp"
   ]
  },
  {
   "cell_type": "code",
   "execution_count": null,
   "metadata": {
    "collapsed": true
   },
   "outputs": [],
   "source": []
  }
 ],
 "metadata": {
  "celltoolbar": "Slideshow",
  "kernelspec": {
   "display_name": "Python 3",
   "language": "python",
   "name": "python3"
  },
  "language_info": {
   "codemirror_mode": {
    "name": "ipython",
    "version": 3
   },
   "file_extension": ".py",
   "mimetype": "text/x-python",
   "name": "python",
   "nbconvert_exporter": "python",
   "pygments_lexer": "ipython3",
   "version": "3.5.3"
  }
 },
 "nbformat": 4,
 "nbformat_minor": 1
}
