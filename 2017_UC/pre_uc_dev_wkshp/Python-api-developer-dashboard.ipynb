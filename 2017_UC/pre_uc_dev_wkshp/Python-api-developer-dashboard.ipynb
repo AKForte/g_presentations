{
 "cells": [
  {
   "cell_type": "markdown",
   "metadata": {
    "extensions": {
     "jupyter_dashboards": {
      "version": 1,
      "views": {
       "grid_default": {
        "col": 0,
        "height": 2,
        "hidden": false,
        "row": 0,
        "width": 12
       },
       "report_default": {
        "hidden": false
       }
      }
     }
    }
   },
   "source": [
    "# <center> Earthquakes over time dashboard </center>"
   ]
  },
  {
   "cell_type": "markdown",
   "metadata": {
    "extensions": {
     "jupyter_dashboards": {
      "version": 1,
      "views": {
       "grid_default": {
        "col": 5,
        "height": 4,
        "hidden": true,
        "row": 15,
        "width": 7
       },
       "report_default": {
        "hidden": false
       }
      }
     }
    }
   },
   "source": [
    "This notebook demonstrates how developers can quickly build dashboard style apps using Jupyter notebook and ArcGIS API for Python. To run this you need `jupyter-dashboard` installed in your `conda` environment."
   ]
  },
  {
   "cell_type": "code",
   "execution_count": 28,
   "metadata": {
    "collapsed": true,
    "extensions": {
     "jupyter_dashboards": {
      "version": 1,
      "views": {
       "grid_default": {
        "hidden": true
       },
       "report_default": {
        "hidden": true
       }
      }
     }
    }
   },
   "outputs": [],
   "source": [
    "#import libraries\n",
    "from arcgis.gis import *\n",
    "import matplotlib.pyplot as plt\n",
    "import seaborn as sns\n",
    "import numpy as np\n",
    "import pandas as pd\n",
    "%matplotlib notebook\n",
    "from datetime import datetime\n",
    "from dateutil import parser\n",
    "from ipykernel.pylab.backend_inline import flush_figures"
   ]
  },
  {
   "cell_type": "markdown",
   "metadata": {
    "collapsed": true,
    "extensions": {
     "jupyter_dashboards": {
      "version": 1,
      "views": {
       "grid_default": {
        "col": 4,
        "height": 4,
        "hidden": true,
        "row": 0,
        "width": 4
       },
       "report_default": {
        "hidden": false
       }
      }
     }
    }
   },
   "source": [
    "## Access earthquakes feature layer"
   ]
  },
  {
   "cell_type": "code",
   "execution_count": 2,
   "metadata": {
    "extensions": {
     "jupyter_dashboards": {
      "version": 1,
      "views": {
       "grid_default": {
        "col": 0,
        "height": 12,
        "hidden": true,
        "row": 4,
        "width": 4
       },
       "report_default": {
        "hidden": false
       }
      }
     }
    }
   },
   "outputs": [
    {
     "data": {
      "text/html": [
       "<div class=\"item_container\" style=\"height: auto; overflow: hidden; border: 1px solid #cfcfcf; border-radius: 2px; background: #f6fafa; line-height: 1.21429em; padding: 10px;\">\n",
       "                    <div class=\"item_left\" style=\"width: 210px; float: left;\">\n",
       "                       <a href='https://python.playground.esri.com/portal/home/item.html?id=e3e8c73b04424524adb7216f6433b746' target='_blank'>\n",
       "                        <img src='data:image/png;base64,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' width='200' height='133' class=\"itemThumbnail\">\n",
       "                       </a>\n",
       "                    </div>\n",
       "\n",
       "                    <div class=\"item_right\"     style=\"float: none; width: auto; overflow: hidden;\">\n",
       "                        <a href='https://python.playground.esri.com/portal/home/item.html?id=e3e8c73b04424524adb7216f6433b746' target='_blank'><b>earthquakes_2</b>\n",
       "                        </a>\n",
       "                        <br/>Major earthquake information<img src='https://python.playground.esri.com/portal/home/js/jsapi/esri/css/images/item_type_icons/featureshosted16.png' style=\"vertical-align:middle;\">Feature Layer Collection by arcgis_python\n",
       "                        <br/>Last Modified: July 03, 2017\n",
       "                        <br/>0 comments, 2 views\n",
       "                    </div>\n",
       "                </div>\n",
       "                "
      ],
      "text/plain": [
       "<Item title:\"earthquakes_2\" type:Feature Layer Collection owner:arcgis_python>"
      ]
     },
     "execution_count": 2,
     "metadata": {},
     "output_type": "execute_result"
    }
   ],
   "source": [
    "gis = GIS(\"https://python.playground.esri.com/portal\",\"arcgis_python\",\"amazing_arcgis_123\")\n",
    "eq_item = gis.content.search(\"title:earthquakes2 & owner:arcgis_python\", \"feature layer\")[0]\n",
    "eq_item"
   ]
  },
  {
   "cell_type": "code",
   "execution_count": 3,
   "metadata": {
    "extensions": {
     "jupyter_dashboards": {
      "version": 1,
      "views": {
       "grid_default": {
        "col": 0,
        "height": 9,
        "hidden": true,
        "row": 6,
        "width": 12
       },
       "report_default": {
        "hidden": false
       }
      }
     }
    }
   },
   "outputs": [
    {
     "data": {
      "text/html": [
       "<div>\n",
       "<table border=\"1\" class=\"dataframe\">\n",
       "  <thead>\n",
       "    <tr style=\"text-align: right;\">\n",
       "      <th></th>\n",
       "      <th>datetime</th>\n",
       "      <th>depth</th>\n",
       "      <th>distance</th>\n",
       "      <th>eventid</th>\n",
       "      <th>gap</th>\n",
       "      <th>latitude</th>\n",
       "      <th>longitude</th>\n",
       "      <th>magnitude</th>\n",
       "      <th>magtype</th>\n",
       "      <th>nbstations</th>\n",
       "      <th>objectid</th>\n",
       "      <th>occurrence_time</th>\n",
       "      <th>rms</th>\n",
       "      <th>source</th>\n",
       "      <th>SHAPE</th>\n",
       "    </tr>\n",
       "  </thead>\n",
       "  <tbody>\n",
       "    <tr>\n",
       "      <th>0</th>\n",
       "      <td>1898/06/29 18:36:00.00</td>\n",
       "      <td>0.0</td>\n",
       "      <td>None</td>\n",
       "      <td>None</td>\n",
       "      <td>None</td>\n",
       "      <td>52.00</td>\n",
       "      <td>172.0</td>\n",
       "      <td>7.6</td>\n",
       "      <td>ML</td>\n",
       "      <td>0.0</td>\n",
       "      <td>1</td>\n",
       "      <td>-2256528240000</td>\n",
       "      <td>None</td>\n",
       "      <td>AK</td>\n",
       "      <td>{'x': 172, 'y': 52}</td>\n",
       "    </tr>\n",
       "    <tr>\n",
       "      <th>1</th>\n",
       "      <td>1898/10/11 16:37:32.70</td>\n",
       "      <td>0.0</td>\n",
       "      <td>None</td>\n",
       "      <td>None</td>\n",
       "      <td>None</td>\n",
       "      <td>50.71</td>\n",
       "      <td>-179.5</td>\n",
       "      <td>6.9</td>\n",
       "      <td>ML</td>\n",
       "      <td>0.0</td>\n",
       "      <td>2</td>\n",
       "      <td>-2247549747000</td>\n",
       "      <td>None</td>\n",
       "      <td>AK</td>\n",
       "      <td>{'x': -179.5, 'y': 50.70999999999998}</td>\n",
       "    </tr>\n",
       "    <tr>\n",
       "      <th>2</th>\n",
       "      <td>1899/07/14 13:32:00.00</td>\n",
       "      <td>0.0</td>\n",
       "      <td>None</td>\n",
       "      <td>None</td>\n",
       "      <td>None</td>\n",
       "      <td>60.00</td>\n",
       "      <td>-150.0</td>\n",
       "      <td>7.2</td>\n",
       "      <td>ML</td>\n",
       "      <td>0.0</td>\n",
       "      <td>3</td>\n",
       "      <td>-2223714480000</td>\n",
       "      <td>None</td>\n",
       "      <td>AK</td>\n",
       "      <td>{'x': -150, 'y': 60}</td>\n",
       "    </tr>\n",
       "    <tr>\n",
       "      <th>3</th>\n",
       "      <td>1899/09/04 00:22:00.00</td>\n",
       "      <td>25.0</td>\n",
       "      <td>None</td>\n",
       "      <td>None</td>\n",
       "      <td>None</td>\n",
       "      <td>60.00</td>\n",
       "      <td>-142.0</td>\n",
       "      <td>8.3</td>\n",
       "      <td>ML</td>\n",
       "      <td>0.0</td>\n",
       "      <td>4</td>\n",
       "      <td>-2219269080000</td>\n",
       "      <td>None</td>\n",
       "      <td>AK</td>\n",
       "      <td>{'x': -142, 'y': 60}</td>\n",
       "    </tr>\n",
       "    <tr>\n",
       "      <th>4</th>\n",
       "      <td>1899/09/04 04:40:00.00</td>\n",
       "      <td>0.0</td>\n",
       "      <td>None</td>\n",
       "      <td>None</td>\n",
       "      <td>None</td>\n",
       "      <td>60.00</td>\n",
       "      <td>-142.0</td>\n",
       "      <td>6.9</td>\n",
       "      <td>ML</td>\n",
       "      <td>0.0</td>\n",
       "      <td>5</td>\n",
       "      <td>-2219253600000</td>\n",
       "      <td>None</td>\n",
       "      <td>AK</td>\n",
       "      <td>{'x': -142, 'y': 60}</td>\n",
       "    </tr>\n",
       "  </tbody>\n",
       "</table>\n",
       "</div>"
      ],
      "text/plain": [
       "                 datetime  depth distance eventid   gap  latitude  longitude  \\\n",
       "0  1898/06/29 18:36:00.00    0.0     None    None  None     52.00      172.0   \n",
       "1  1898/10/11 16:37:32.70    0.0     None    None  None     50.71     -179.5   \n",
       "2  1899/07/14 13:32:00.00    0.0     None    None  None     60.00     -150.0   \n",
       "3  1899/09/04 00:22:00.00   25.0     None    None  None     60.00     -142.0   \n",
       "4  1899/09/04 04:40:00.00    0.0     None    None  None     60.00     -142.0   \n",
       "\n",
       "   magnitude magtype  nbstations  objectid  occurrence_time   rms source  \\\n",
       "0        7.6      ML         0.0         1   -2256528240000  None     AK   \n",
       "1        6.9      ML         0.0         2   -2247549747000  None     AK   \n",
       "2        7.2      ML         0.0         3   -2223714480000  None     AK   \n",
       "3        8.3      ML         0.0         4   -2219269080000  None     AK   \n",
       "4        6.9      ML         0.0         5   -2219253600000  None     AK   \n",
       "\n",
       "                                   SHAPE  \n",
       "0                    {'x': 172, 'y': 52}  \n",
       "1  {'x': -179.5, 'y': 50.70999999999998}  \n",
       "2                   {'x': -150, 'y': 60}  \n",
       "3                   {'x': -142, 'y': 60}  \n",
       "4                   {'x': -142, 'y': 60}  "
      ]
     },
     "execution_count": 3,
     "metadata": {},
     "output_type": "execute_result"
    }
   ],
   "source": [
    "eq_flayer = eq_item.layers[0]\n",
    "eq_fset = eq_flayer.query()\n",
    "eq_df = eq_fset.df\n",
    "eq_df.head()"
   ]
  },
  {
   "cell_type": "code",
   "execution_count": 4,
   "metadata": {
    "extensions": {
     "jupyter_dashboards": {
      "version": 1,
      "views": {
       "grid_default": {
        "col": 8,
        "height": 4,
        "hidden": true,
        "row": 0,
        "width": 4
       },
       "report_default": {
        "hidden": false
       }
      }
     }
    }
   },
   "outputs": [
    {
     "data": {
      "text/plain": [
       "(77037, 15)"
      ]
     },
     "execution_count": 4,
     "metadata": {},
     "output_type": "execute_result"
    }
   ],
   "source": [
    "eq_df.shape"
   ]
  },
  {
   "cell_type": "code",
   "execution_count": 5,
   "metadata": {
    "extensions": {
     "jupyter_dashboards": {
      "version": 1,
      "views": {
       "grid_default": {
        "col": 4,
        "height": 4,
        "hidden": true,
        "row": 4,
        "width": 4
       },
       "report_default": {
        "hidden": false
       }
      }
     }
    }
   },
   "outputs": [
    {
     "data": {
      "text/plain": [
       "arcgis.features._data.geodataset.geodataframe.SpatialDataFrame"
      ]
     },
     "execution_count": 5,
     "metadata": {},
     "output_type": "execute_result"
    }
   ],
   "source": [
    "type(eq_df)"
   ]
  },
  {
   "cell_type": "markdown",
   "metadata": {
    "extensions": {
     "jupyter_dashboards": {
      "version": 1,
      "views": {
       "grid_default": {
        "col": 8,
        "height": 4,
        "hidden": true,
        "row": 4,
        "width": 4
       },
       "report_default": {
        "hidden": false
       }
      }
     }
    }
   },
   "source": [
    "#### Parse datetime_ column to Python DateTime obj"
   ]
  },
  {
   "cell_type": "code",
   "execution_count": 6,
   "metadata": {
    "collapsed": true,
    "extensions": {
     "jupyter_dashboards": {
      "version": 1,
      "views": {
       "grid_default": {
        "hidden": true
       },
       "report_default": {
        "hidden": true
       }
      }
     }
    }
   },
   "outputs": [],
   "source": [
    "eq_df['new_datetime'] = eq_df['datetime'].apply(lambda x: parser.parse(x))"
   ]
  },
  {
   "cell_type": "code",
   "execution_count": 28,
   "metadata": {
    "collapsed": true,
    "extensions": {
     "jupyter_dashboards": {
      "version": 1,
      "views": {
       "grid_default": {
        "hidden": true
       },
       "report_default": {
        "hidden": true
       }
      }
     }
    }
   },
   "outputs": [],
   "source": [
    "# eq_df.to_csv('earthquakes_newdt.csv')"
   ]
  },
  {
   "cell_type": "markdown",
   "metadata": {
    "extensions": {
     "jupyter_dashboards": {
      "version": 1,
      "views": {
       "grid_default": {
        "col": 4,
        "height": 4,
        "hidden": true,
        "row": 4,
        "width": 4
       },
       "report_default": {
        "hidden": false
       }
      }
     }
    }
   },
   "source": [
    "### Plot the number and intensity of hurricanes over time"
   ]
  },
  {
   "cell_type": "code",
   "execution_count": 7,
   "metadata": {
    "collapsed": true,
    "extensions": {
     "jupyter_dashboards": {
      "version": 1,
      "views": {
       "grid_default": {
        "hidden": true
       },
       "report_default": {
        "hidden": true
       }
      }
     }
    }
   },
   "outputs": [],
   "source": [
    "eq_years = eq_df['new_datetime'].apply(lambda x : x.year)\n",
    "eq_df['years'] = eq_years"
   ]
  },
  {
   "cell_type": "code",
   "execution_count": 51,
   "metadata": {
    "extensions": {
     "jupyter_dashboards": {
      "version": 1,
      "views": {
       "grid_default": {
        "col": 0,
        "height": 17,
        "hidden": true,
        "row": 4,
        "width": 6
       },
       "report_default": {
        "hidden": false
       }
      }
     }
    }
   },
   "outputs": [
    {
     "data": {
      "text/plain": [
       "<seaborn.axisgrid.JointGrid at 0x11ef904a8>"
      ]
     },
     "execution_count": 51,
     "metadata": {},
     "output_type": "execute_result"
    },
    {
     "data": {
      "image/png": "[encoded data removed]",
      "text/plain": [
       "<matplotlib.figure.Figure at 0x11ef90860>"
      ]
     },
     "metadata": {},
     "output_type": "display_data"
    }
   ],
   "source": [
    "g1 = sns.jointplot(eq_years, eq_df['magnitude'], size=8, space=0)\n",
    "g1.set_axis_labels(xlabel='years', ylabel='magnitude')\n",
    "g1"
   ]
  },
  {
   "cell_type": "code",
   "execution_count": 50,
   "metadata": {
    "extensions": {
     "jupyter_dashboards": {
      "version": 1,
      "views": {
       "grid_default": {
        "col": 6,
        "height": 17,
        "hidden": true,
        "row": 4,
        "width": 6
       },
       "report_default": {
        "hidden": false
       }
      }
     }
    }
   },
   "outputs": [
    {
     "data": {
      "text/plain": [
       "<seaborn.axisgrid.JointGrid at 0x12131e1d0>"
      ]
     },
     "execution_count": 50,
     "metadata": {},
     "output_type": "execute_result"
    },
    {
     "data": {
      "image/png": "[encoded data removed]",
      "text/plain": [
       "<matplotlib.figure.Figure at 0x12131e400>"
      ]
     },
     "metadata": {},
     "output_type": "display_data"
    }
   ],
   "source": [
    "g2 = sns.jointplot(eq_years, eq_df['magnitude'], kind='kde', size=8)\n",
    "g2.set_axis_labels(xlabel='years', ylabel= 'magnitude')\n",
    "g2"
   ]
  },
  {
   "cell_type": "markdown",
   "metadata": {
    "extensions": {
     "jupyter_dashboards": {
      "version": 1,
      "views": {
       "grid_default": {
        "col": 8,
        "height": 4,
        "hidden": true,
        "row": 4,
        "width": 4
       },
       "report_default": {
        "hidden": false
       }
      }
     }
    }
   },
   "source": [
    "## Get finer picture"
   ]
  },
  {
   "cell_type": "code",
   "execution_count": 8,
   "metadata": {
    "collapsed": true,
    "extensions": {
     "jupyter_dashboards": {
      "version": 1,
      "views": {
       "grid_default": {
        "hidden": true
       },
       "report_default": {
        "hidden": true
       }
      }
     }
    }
   },
   "outputs": [],
   "source": [
    "from ipywidgets import widgets, interact, Layout"
   ]
  },
  {
   "cell_type": "code",
   "execution_count": 9,
   "metadata": {
    "collapsed": true,
    "extensions": {
     "jupyter_dashboards": {
      "version": 1,
      "views": {
       "grid_default": {
        "hidden": true
       },
       "report_default": {}
      }
     }
    }
   },
   "outputs": [],
   "source": [
    "lyt=Layout(width='100%')\n",
    "w2 = widgets.IntRangeSlider(\n",
    "    value=[1980, 1990],\n",
    "    min=1900,\n",
    "    max=2010,\n",
    "    step=1,\n",
    "    description='Intervals',\n",
    "    disabled=False,\n",
    "    continuous_update=False,\n",
    "    orientation='horizontal',\n",
    "    readout=True,\n",
    "    readout_format='i',\n",
    "    width='800px',\n",
    "    layout = lyt\n",
    ")"
   ]
  },
  {
   "cell_type": "markdown",
   "metadata": {
    "extensions": {
     "jupyter_dashboards": {
      "version": 1,
      "views": {
       "grid_default": {
        "col": 4,
        "height": 4,
        "hidden": true,
        "row": 4,
        "width": 4
       },
       "report_default": {
        "hidden": false
       }
      }
     }
    }
   },
   "source": [
    "## Throw in the map"
   ]
  },
  {
   "cell_type": "code",
   "execution_count": 33,
   "metadata": {
    "extensions": {
     "jupyter_dashboards": {
      "version": 1,
      "views": {
       "grid_default": {
        "col": 0,
        "height": 15,
        "hidden": false,
        "row": 2,
        "width": null
       },
       "report_default": {}
      }
     }
    }
   },
   "outputs": [
    {
     "data": {
      "application/vnd.jupyter.widget-view+json": {
       "model_id": "4aac20c58624451ea18d8890feb65789"
      }
     },
     "metadata": {},
     "output_type": "display_data"
    }
   ],
   "source": [
    "classed_size_map = gis.map()\n",
    "heat_map = gis.map()\n",
    "\n",
    "classed_size_map.add_layer(eq_item.layers[0], {'renderer':'ClassedSizeRenderer',\n",
    "                                   'field_name':'magnitude',\n",
    "                                   'opacity':0.5})\n",
    "\n",
    "heat_map.add_layer(eq_item.layers[0], {'renderer':'HeatmapRenderer',\n",
    "                                   'field_name':'magnitude',\n",
    "                                   'opacity':0.5})\n",
    "from ipywidgets import *\n",
    "\n",
    "classed_size_map.layout=Layout(flex='1 1', padding='10px')\n",
    "heat_map.layout=Layout(flex='1 1', padding='10px')\n",
    "\n",
    "box = HBox([classed_size_map, heat_map])\n",
    "box"
   ]
  },
  {
   "cell_type": "code",
   "execution_count": 47,
   "metadata": {
    "extensions": {
     "jupyter_dashboards": {
      "version": 1,
      "views": {
       "grid_default": {
        "col": 0,
        "height": 16,
        "hidden": false,
        "row": 19,
        "width": 12
       },
       "report_default": {}
      }
     }
    }
   },
   "outputs": [
    {
     "data": {
      "application/javascript": [
       "/* Put everything inside the global mpl namespace */\n",
       "window.mpl = {};\n",
       "\n",
       "\n",
       "mpl.get_websocket_type = function() {\n",
       "    if (typeof(WebSocket) !== 'undefined') {\n",
       "        return WebSocket;\n",
       "    } else if (typeof(MozWebSocket) !== 'undefined') {\n",
       "        return MozWebSocket;\n",
       "    } else {\n",
       "        alert('Your browser does not have WebSocket support.' +\n",
       "              'Please try Chrome, Safari or Firefox ≥ 6. ' +\n",
       "              'Firefox 4 and 5 are also supported but you ' +\n",
       "              'have to enable WebSockets in about:config.');\n",
       "    };\n",
       "}\n",
       "\n",
       "mpl.figure = function(figure_id, websocket, ondownload, parent_element) {\n",
       "    this.id = figure_id;\n",
       "\n",
       "    this.ws = websocket;\n",
       "\n",
       "    this.supports_binary = (this.ws.binaryType != undefined);\n",
       "\n",
       "    if (!this.supports_binary) {\n",
       "        var warnings = document.getElementById(\"mpl-warnings\");\n",
       "        if (warnings) {\n",
       "            warnings.style.display = 'block';\n",
       "            warnings.textContent = (\n",
       "                \"This browser does not support binary websocket messages. \" +\n",
       "                    \"Performance may be slow.\");\n",
       "        }\n",
       "    }\n",
       "\n",
       "    this.imageObj = new Image();\n",
       "\n",
       "    this.context = undefined;\n",
       "    this.message = undefined;\n",
       "    this.canvas = undefined;\n",
       "    this.rubberband_canvas = undefined;\n",
       "    this.rubberband_context = undefined;\n",
       "    this.format_dropdown = undefined;\n",
       "\n",
       "    this.image_mode = 'full';\n",
       "\n",
       "    this.root = $('<div/>');\n",
       "    this._root_extra_style(this.root)\n",
       "    this.root.attr('style', 'display: inline-block');\n",
       "\n",
       "    $(parent_element).append(this.root);\n",
       "\n",
       "    this._init_header(this);\n",
       "    this._init_canvas(this);\n",
       "    this._init_toolbar(this);\n",
       "\n",
       "    var fig = this;\n",
       "\n",
       "    this.waiting = false;\n",
       "\n",
       "    this.ws.onopen =  function () {\n",
       "            fig.send_message(\"supports_binary\", {value: fig.supports_binary});\n",
       "            fig.send_message(\"send_image_mode\", {});\n",
       "            if (mpl.ratio != 1) {\n",
       "                fig.send_message(\"set_dpi_ratio\", {'dpi_ratio': mpl.ratio});\n",
       "            }\n",
       "            fig.send_message(\"refresh\", {});\n",
       "        }\n",
       "\n",
       "    this.imageObj.onload = function() {\n",
       "            if (fig.image_mode == 'full') {\n",
       "                // Full images could contain transparency (where diff images\n",
       "                // almost always do), so we need to clear the canvas so that\n",
       "                // there is no ghosting.\n",
       "                fig.context.clearRect(0, 0, fig.canvas.width, fig.canvas.height);\n",
       "            }\n",
       "            fig.context.drawImage(fig.imageObj, 0, 0);\n",
       "        };\n",
       "\n",
       "    this.imageObj.onunload = function() {\n",
       "        this.ws.close();\n",
       "    }\n",
       "\n",
       "    this.ws.onmessage = this._make_on_message_function(this);\n",
       "\n",
       "    this.ondownload = ondownload;\n",
       "}\n",
       "\n",
       "mpl.figure.prototype._init_header = function() {\n",
       "    var titlebar = $(\n",
       "        '<div class=\"ui-dialog-titlebar ui-widget-header ui-corner-all ' +\n",
       "        'ui-helper-clearfix\"/>');\n",
       "    var titletext = $(\n",
       "        '<div class=\"ui-dialog-title\" style=\"width: 100%; ' +\n",
       "        'text-align: center; padding: 3px;\"/>');\n",
       "    titlebar.append(titletext)\n",
       "    this.root.append(titlebar);\n",
       "    this.header = titletext[0];\n",
       "}\n",
       "\n",
       "\n",
       "\n",
       "mpl.figure.prototype._canvas_extra_style = function(canvas_div) {\n",
       "\n",
       "}\n",
       "\n",
       "\n",
       "mpl.figure.prototype._root_extra_style = function(canvas_div) {\n",
       "\n",
       "}\n",
       "\n",
       "mpl.figure.prototype._init_canvas = function() {\n",
       "    var fig = this;\n",
       "\n",
       "    var canvas_div = $('<div/>');\n",
       "\n",
       "    canvas_div.attr('style', 'position: relative; clear: both; outline: 0');\n",
       "\n",
       "    function canvas_keyboard_event(event) {\n",
       "        return fig.key_event(event, event['data']);\n",
       "    }\n",
       "\n",
       "    canvas_div.keydown('key_press', canvas_keyboard_event);\n",
       "    canvas_div.keyup('key_release', canvas_keyboard_event);\n",
       "    this.canvas_div = canvas_div\n",
       "    this._canvas_extra_style(canvas_div)\n",
       "    this.root.append(canvas_div);\n",
       "\n",
       "    var canvas = $('<canvas/>');\n",
       "    canvas.addClass('mpl-canvas');\n",
       "    canvas.attr('style', \"left: 0; top: 0; z-index: 0; outline: 0\")\n",
       "\n",
       "    this.canvas = canvas[0];\n",
       "    this.context = canvas[0].getContext(\"2d\");\n",
       "\n",
       "    var backingStore = this.context.backingStorePixelRatio ||\n",
       "\tthis.context.webkitBackingStorePixelRatio ||\n",
       "\tthis.context.mozBackingStorePixelRatio ||\n",
       "\tthis.context.msBackingStorePixelRatio ||\n",
       "\tthis.context.oBackingStorePixelRatio ||\n",
       "\tthis.context.backingStorePixelRatio || 1;\n",
       "\n",
       "    mpl.ratio = (window.devicePixelRatio || 1) / backingStore;\n",
       "\n",
       "    var rubberband = $('<canvas/>');\n",
       "    rubberband.attr('style', \"position: absolute; left: 0; top: 0; z-index: 1;\")\n",
       "\n",
       "    var pass_mouse_events = true;\n",
       "\n",
       "    canvas_div.resizable({\n",
       "        start: function(event, ui) {\n",
       "            pass_mouse_events = false;\n",
       "        },\n",
       "        resize: function(event, ui) {\n",
       "            fig.request_resize(ui.size.width, ui.size.height);\n",
       "        },\n",
       "        stop: function(event, ui) {\n",
       "            pass_mouse_events = true;\n",
       "            fig.request_resize(ui.size.width, ui.size.height);\n",
       "        },\n",
       "    });\n",
       "\n",
       "    function mouse_event_fn(event) {\n",
       "        if (pass_mouse_events)\n",
       "            return fig.mouse_event(event, event['data']);\n",
       "    }\n",
       "\n",
       "    rubberband.mousedown('button_press', mouse_event_fn);\n",
       "    rubberband.mouseup('button_release', mouse_event_fn);\n",
       "    // Throttle sequential mouse events to 1 every 20ms.\n",
       "    rubberband.mousemove('motion_notify', mouse_event_fn);\n",
       "\n",
       "    rubberband.mouseenter('figure_enter', mouse_event_fn);\n",
       "    rubberband.mouseleave('figure_leave', mouse_event_fn);\n",
       "\n",
       "    canvas_div.on(\"wheel\", function (event) {\n",
       "        event = event.originalEvent;\n",
       "        event['data'] = 'scroll'\n",
       "        if (event.deltaY < 0) {\n",
       "            event.step = 1;\n",
       "        } else {\n",
       "            event.step = -1;\n",
       "        }\n",
       "        mouse_event_fn(event);\n",
       "    });\n",
       "\n",
       "    canvas_div.append(canvas);\n",
       "    canvas_div.append(rubberband);\n",
       "\n",
       "    this.rubberband = rubberband;\n",
       "    this.rubberband_canvas = rubberband[0];\n",
       "    this.rubberband_context = rubberband[0].getContext(\"2d\");\n",
       "    this.rubberband_context.strokeStyle = \"#000000\";\n",
       "\n",
       "    this._resize_canvas = function(width, height) {\n",
       "        // Keep the size of the canvas, canvas container, and rubber band\n",
       "        // canvas in synch.\n",
       "        canvas_div.css('width', width)\n",
       "        canvas_div.css('height', height)\n",
       "\n",
       "        canvas.attr('width', width * mpl.ratio);\n",
       "        canvas.attr('height', height * mpl.ratio);\n",
       "        canvas.attr('style', 'width: ' + width + 'px; height: ' + height + 'px;');\n",
       "\n",
       "        rubberband.attr('width', width);\n",
       "        rubberband.attr('height', height);\n",
       "    }\n",
       "\n",
       "    // Set the figure to an initial 600x600px, this will subsequently be updated\n",
       "    // upon first draw.\n",
       "    this._resize_canvas(600, 600);\n",
       "\n",
       "    // Disable right mouse context menu.\n",
       "    $(this.rubberband_canvas).bind(\"contextmenu\",function(e){\n",
       "        return false;\n",
       "    });\n",
       "\n",
       "    function set_focus () {\n",
       "        canvas.focus();\n",
       "        canvas_div.focus();\n",
       "    }\n",
       "\n",
       "    window.setTimeout(set_focus, 100);\n",
       "}\n",
       "\n",
       "mpl.figure.prototype._init_toolbar = function() {\n",
       "    var fig = this;\n",
       "\n",
       "    var nav_element = $('<div/>')\n",
       "    nav_element.attr('style', 'width: 100%');\n",
       "    this.root.append(nav_element);\n",
       "\n",
       "    // Define a callback function for later on.\n",
       "    function toolbar_event(event) {\n",
       "        return fig.toolbar_button_onclick(event['data']);\n",
       "    }\n",
       "    function toolbar_mouse_event(event) {\n",
       "        return fig.toolbar_button_onmouseover(event['data']);\n",
       "    }\n",
       "\n",
       "    for(var toolbar_ind in mpl.toolbar_items) {\n",
       "        var name = mpl.toolbar_items[toolbar_ind][0];\n",
       "        var tooltip = mpl.toolbar_items[toolbar_ind][1];\n",
       "        var image = mpl.toolbar_items[toolbar_ind][2];\n",
       "        var method_name = mpl.toolbar_items[toolbar_ind][3];\n",
       "\n",
       "        if (!name) {\n",
       "            // put a spacer in here.\n",
       "            continue;\n",
       "        }\n",
       "        var button = $('<button/>');\n",
       "        button.addClass('ui-button ui-widget ui-state-default ui-corner-all ' +\n",
       "                        'ui-button-icon-only');\n",
       "        button.attr('role', 'button');\n",
       "        button.attr('aria-disabled', 'false');\n",
       "        button.click(method_name, toolbar_event);\n",
       "        button.mouseover(tooltip, toolbar_mouse_event);\n",
       "\n",
       "        var icon_img = $('<span/>');\n",
       "        icon_img.addClass('ui-button-icon-primary ui-icon');\n",
       "        icon_img.addClass(image);\n",
       "        icon_img.addClass('ui-corner-all');\n",
       "\n",
       "        var tooltip_span = $('<span/>');\n",
       "        tooltip_span.addClass('ui-button-text');\n",
       "        tooltip_span.html(tooltip);\n",
       "\n",
       "        button.append(icon_img);\n",
       "        button.append(tooltip_span);\n",
       "\n",
       "        nav_element.append(button);\n",
       "    }\n",
       "\n",
       "    var fmt_picker_span = $('<span/>');\n",
       "\n",
       "    var fmt_picker = $('<select/>');\n",
       "    fmt_picker.addClass('mpl-toolbar-option ui-widget ui-widget-content');\n",
       "    fmt_picker_span.append(fmt_picker);\n",
       "    nav_element.append(fmt_picker_span);\n",
       "    this.format_dropdown = fmt_picker[0];\n",
       "\n",
       "    for (var ind in mpl.extensions) {\n",
       "        var fmt = mpl.extensions[ind];\n",
       "        var option = $(\n",
       "            '<option/>', {selected: fmt === mpl.default_extension}).html(fmt);\n",
       "        fmt_picker.append(option)\n",
       "    }\n",
       "\n",
       "    // Add hover states to the ui-buttons\n",
       "    $( \".ui-button\" ).hover(\n",
       "        function() { $(this).addClass(\"ui-state-hover\");},\n",
       "        function() { $(this).removeClass(\"ui-state-hover\");}\n",
       "    );\n",
       "\n",
       "    var status_bar = $('<span class=\"mpl-message\"/>');\n",
       "    nav_element.append(status_bar);\n",
       "    this.message = status_bar[0];\n",
       "}\n",
       "\n",
       "mpl.figure.prototype.request_resize = function(x_pixels, y_pixels) {\n",
       "    // Request matplotlib to resize the figure. Matplotlib will then trigger a resize in the client,\n",
       "    // which will in turn request a refresh of the image.\n",
       "    this.send_message('resize', {'width': x_pixels, 'height': y_pixels});\n",
       "}\n",
       "\n",
       "mpl.figure.prototype.send_message = function(type, properties) {\n",
       "    properties['type'] = type;\n",
       "    properties['figure_id'] = this.id;\n",
       "    this.ws.send(JSON.stringify(properties));\n",
       "}\n",
       "\n",
       "mpl.figure.prototype.send_draw_message = function() {\n",
       "    if (!this.waiting) {\n",
       "        this.waiting = true;\n",
       "        this.ws.send(JSON.stringify({type: \"draw\", figure_id: this.id}));\n",
       "    }\n",
       "}\n",
       "\n",
       "\n",
       "mpl.figure.prototype.handle_save = function(fig, msg) {\n",
       "    var format_dropdown = fig.format_dropdown;\n",
       "    var format = format_dropdown.options[format_dropdown.selectedIndex].value;\n",
       "    fig.ondownload(fig, format);\n",
       "}\n",
       "\n",
       "\n",
       "mpl.figure.prototype.handle_resize = function(fig, msg) {\n",
       "    var size = msg['size'];\n",
       "    if (size[0] != fig.canvas.width || size[1] != fig.canvas.height) {\n",
       "        fig._resize_canvas(size[0], size[1]);\n",
       "        fig.send_message(\"refresh\", {});\n",
       "    };\n",
       "}\n",
       "\n",
       "mpl.figure.prototype.handle_rubberband = function(fig, msg) {\n",
       "    var x0 = msg['x0'] / mpl.ratio;\n",
       "    var y0 = (fig.canvas.height - msg['y0']) / mpl.ratio;\n",
       "    var x1 = msg['x1'] / mpl.ratio;\n",
       "    var y1 = (fig.canvas.height - msg['y1']) / mpl.ratio;\n",
       "    x0 = Math.floor(x0) + 0.5;\n",
       "    y0 = Math.floor(y0) + 0.5;\n",
       "    x1 = Math.floor(x1) + 0.5;\n",
       "    y1 = Math.floor(y1) + 0.5;\n",
       "    var min_x = Math.min(x0, x1);\n",
       "    var min_y = Math.min(y0, y1);\n",
       "    var width = Math.abs(x1 - x0);\n",
       "    var height = Math.abs(y1 - y0);\n",
       "\n",
       "    fig.rubberband_context.clearRect(\n",
       "        0, 0, fig.canvas.width, fig.canvas.height);\n",
       "\n",
       "    fig.rubberband_context.strokeRect(min_x, min_y, width, height);\n",
       "}\n",
       "\n",
       "mpl.figure.prototype.handle_figure_label = function(fig, msg) {\n",
       "    // Updates the figure title.\n",
       "    fig.header.textContent = msg['label'];\n",
       "}\n",
       "\n",
       "mpl.figure.prototype.handle_cursor = function(fig, msg) {\n",
       "    var cursor = msg['cursor'];\n",
       "    switch(cursor)\n",
       "    {\n",
       "    case 0:\n",
       "        cursor = 'pointer';\n",
       "        break;\n",
       "    case 1:\n",
       "        cursor = 'default';\n",
       "        break;\n",
       "    case 2:\n",
       "        cursor = 'crosshair';\n",
       "        break;\n",
       "    case 3:\n",
       "        cursor = 'move';\n",
       "        break;\n",
       "    }\n",
       "    fig.rubberband_canvas.style.cursor = cursor;\n",
       "}\n",
       "\n",
       "mpl.figure.prototype.handle_message = function(fig, msg) {\n",
       "    fig.message.textContent = msg['message'];\n",
       "}\n",
       "\n",
       "mpl.figure.prototype.handle_draw = function(fig, msg) {\n",
       "    // Request the server to send over a new figure.\n",
       "    fig.send_draw_message();\n",
       "}\n",
       "\n",
       "mpl.figure.prototype.handle_image_mode = function(fig, msg) {\n",
       "    fig.image_mode = msg['mode'];\n",
       "}\n",
       "\n",
       "mpl.figure.prototype.updated_canvas_event = function() {\n",
       "    // Called whenever the canvas gets updated.\n",
       "    this.send_message(\"ack\", {});\n",
       "}\n",
       "\n",
       "// A function to construct a web socket function for onmessage handling.\n",
       "// Called in the figure constructor.\n",
       "mpl.figure.prototype._make_on_message_function = function(fig) {\n",
       "    return function socket_on_message(evt) {\n",
       "        if (evt.data instanceof Blob) {\n",
       "            /* FIXME: We get \"Resource interpreted as Image but\n",
       "             * transferred with MIME type text/plain:\" errors on\n",
       "             * Chrome.  But how to set the MIME type?  It doesn't seem\n",
       "             * to be part of the websocket stream */\n",
       "            evt.data.type = \"image/png\";\n",
       "\n",
       "            /* Free the memory for the previous frames */\n",
       "            if (fig.imageObj.src) {\n",
       "                (window.URL || window.webkitURL).revokeObjectURL(\n",
       "                    fig.imageObj.src);\n",
       "            }\n",
       "\n",
       "            fig.imageObj.src = (window.URL || window.webkitURL).createObjectURL(\n",
       "                evt.data);\n",
       "            fig.updated_canvas_event();\n",
       "            fig.waiting = false;\n",
       "            return;\n",
       "        }\n",
       "        else if (typeof evt.data === 'string' && evt.data.slice(0, 21) == \"data:image/png;base64\") {\n",
       "            fig.imageObj.src = evt.data;\n",
       "            fig.updated_canvas_event();\n",
       "            fig.waiting = false;\n",
       "            return;\n",
       "        }\n",
       "\n",
       "        var msg = JSON.parse(evt.data);\n",
       "        var msg_type = msg['type'];\n",
       "\n",
       "        // Call the  \"handle_{type}\" callback, which takes\n",
       "        // the figure and JSON message as its only arguments.\n",
       "        try {\n",
       "            var callback = fig[\"handle_\" + msg_type];\n",
       "        } catch (e) {\n",
       "            console.log(\"No handler for the '\" + msg_type + \"' message type: \", msg);\n",
       "            return;\n",
       "        }\n",
       "\n",
       "        if (callback) {\n",
       "            try {\n",
       "                // console.log(\"Handling '\" + msg_type + \"' message: \", msg);\n",
       "                callback(fig, msg);\n",
       "            } catch (e) {\n",
       "                console.log(\"Exception inside the 'handler_\" + msg_type + \"' callback:\", e, e.stack, msg);\n",
       "            }\n",
       "        }\n",
       "    };\n",
       "}\n",
       "\n",
       "// from http://stackoverflow.com/questions/1114465/getting-mouse-location-in-canvas\n",
       "mpl.findpos = function(e) {\n",
       "    //this section is from http://www.quirksmode.org/js/events_properties.html\n",
       "    var targ;\n",
       "    if (!e)\n",
       "        e = window.event;\n",
       "    if (e.target)\n",
       "        targ = e.target;\n",
       "    else if (e.srcElement)\n",
       "        targ = e.srcElement;\n",
       "    if (targ.nodeType == 3) // defeat Safari bug\n",
       "        targ = targ.parentNode;\n",
       "\n",
       "    // jQuery normalizes the pageX and pageY\n",
       "    // pageX,Y are the mouse positions relative to the document\n",
       "    // offset() returns the position of the element relative to the document\n",
       "    var x = e.pageX - $(targ).offset().left;\n",
       "    var y = e.pageY - $(targ).offset().top;\n",
       "\n",
       "    return {\"x\": x, \"y\": y};\n",
       "};\n",
       "\n",
       "/*\n",
       " * return a copy of an object with only non-object keys\n",
       " * we need this to avoid circular references\n",
       " * http://stackoverflow.com/a/24161582/3208463\n",
       " */\n",
       "function simpleKeys (original) {\n",
       "  return Object.keys(original).reduce(function (obj, key) {\n",
       "    if (typeof original[key] !== 'object')\n",
       "        obj[key] = original[key]\n",
       "    return obj;\n",
       "  }, {});\n",
       "}\n",
       "\n",
       "mpl.figure.prototype.mouse_event = function(event, name) {\n",
       "    var canvas_pos = mpl.findpos(event)\n",
       "\n",
       "    if (name === 'button_press')\n",
       "    {\n",
       "        this.canvas.focus();\n",
       "        this.canvas_div.focus();\n",
       "    }\n",
       "\n",
       "    var x = canvas_pos.x * mpl.ratio;\n",
       "    var y = canvas_pos.y * mpl.ratio;\n",
       "\n",
       "    this.send_message(name, {x: x, y: y, button: event.button,\n",
       "                             step: event.step,\n",
       "                             guiEvent: simpleKeys(event)});\n",
       "\n",
       "    /* This prevents the web browser from automatically changing to\n",
       "     * the text insertion cursor when the button is pressed.  We want\n",
       "     * to control all of the cursor setting manually through the\n",
       "     * 'cursor' event from matplotlib */\n",
       "    event.preventDefault();\n",
       "    return false;\n",
       "}\n",
       "\n",
       "mpl.figure.prototype._key_event_extra = function(event, name) {\n",
       "    // Handle any extra behaviour associated with a key event\n",
       "}\n",
       "\n",
       "mpl.figure.prototype.key_event = function(event, name) {\n",
       "\n",
       "    // Prevent repeat events\n",
       "    if (name == 'key_press')\n",
       "    {\n",
       "        if (event.which === this._key)\n",
       "            return;\n",
       "        else\n",
       "            this._key = event.which;\n",
       "    }\n",
       "    if (name == 'key_release')\n",
       "        this._key = null;\n",
       "\n",
       "    var value = '';\n",
       "    if (event.ctrlKey && event.which != 17)\n",
       "        value += \"ctrl+\";\n",
       "    if (event.altKey && event.which != 18)\n",
       "        value += \"alt+\";\n",
       "    if (event.shiftKey && event.which != 16)\n",
       "        value += \"shift+\";\n",
       "\n",
       "    value += 'k';\n",
       "    value += event.which.toString();\n",
       "\n",
       "    this._key_event_extra(event, name);\n",
       "\n",
       "    this.send_message(name, {key: value,\n",
       "                             guiEvent: simpleKeys(event)});\n",
       "    return false;\n",
       "}\n",
       "\n",
       "mpl.figure.prototype.toolbar_button_onclick = function(name) {\n",
       "    if (name == 'download') {\n",
       "        this.handle_save(this, null);\n",
       "    } else {\n",
       "        this.send_message(\"toolbar_button\", {name: name});\n",
       "    }\n",
       "};\n",
       "\n",
       "mpl.figure.prototype.toolbar_button_onmouseover = function(tooltip) {\n",
       "    this.message.textContent = tooltip;\n",
       "};\n",
       "mpl.toolbar_items = [[\"Home\", \"Reset original view\", \"fa fa-home icon-home\", \"home\"], [\"Back\", \"Back to  previous view\", \"fa fa-arrow-left icon-arrow-left\", \"back\"], [\"Forward\", \"Forward to next view\", \"fa fa-arrow-right icon-arrow-right\", \"forward\"], [\"\", \"\", \"\", \"\"], [\"Pan\", \"Pan axes with left mouse, zoom with right\", \"fa fa-arrows icon-move\", \"pan\"], [\"Zoom\", \"Zoom to rectangle\", \"fa fa-square-o icon-check-empty\", \"zoom\"], [\"\", \"\", \"\", \"\"], [\"Download\", \"Download plot\", \"fa fa-floppy-o icon-save\", \"download\"]];\n",
       "\n",
       "mpl.extensions = [\"eps\", \"jpeg\", \"pdf\", \"png\", \"ps\", \"raw\", \"svg\", \"tif\"];\n",
       "\n",
       "mpl.default_extension = \"png\";var comm_websocket_adapter = function(comm) {\n",
       "    // Create a \"websocket\"-like object which calls the given IPython comm\n",
       "    // object with the appropriate methods. Currently this is a non binary\n",
       "    // socket, so there is still some room for performance tuning.\n",
       "    var ws = {};\n",
       "\n",
       "    ws.close = function() {\n",
       "        comm.close()\n",
       "    };\n",
       "    ws.send = function(m) {\n",
       "        //console.log('sending', m);\n",
       "        comm.send(m);\n",
       "    };\n",
       "    // Register the callback with on_msg.\n",
       "    comm.on_msg(function(msg) {\n",
       "        //console.log('receiving', msg['content']['data'], msg);\n",
       "        // Pass the mpl event to the overriden (by mpl) onmessage function.\n",
       "        ws.onmessage(msg['content']['data'])\n",
       "    });\n",
       "    return ws;\n",
       "}\n",
       "\n",
       "mpl.mpl_figure_comm = function(comm, msg) {\n",
       "    // This is the function which gets called when the mpl process\n",
       "    // starts-up an IPython Comm through the \"matplotlib\" channel.\n",
       "\n",
       "    var id = msg.content.data.id;\n",
       "    // Get hold of the div created by the display call when the Comm\n",
       "    // socket was opened in Python.\n",
       "    var element = $(\"#\" + id);\n",
       "    var ws_proxy = comm_websocket_adapter(comm)\n",
       "\n",
       "    function ondownload(figure, format) {\n",
       "        window.open(figure.imageObj.src);\n",
       "    }\n",
       "\n",
       "    var fig = new mpl.figure(id, ws_proxy,\n",
       "                           ondownload,\n",
       "                           element.get(0));\n",
       "\n",
       "    // Call onopen now - mpl needs it, as it is assuming we've passed it a real\n",
       "    // web socket which is closed, not our websocket->open comm proxy.\n",
       "    ws_proxy.onopen();\n",
       "\n",
       "    fig.parent_element = element.get(0);\n",
       "    fig.cell_info = mpl.find_output_cell(\"<div id='\" + id + \"'></div>\");\n",
       "    if (!fig.cell_info) {\n",
       "        console.error(\"Failed to find cell for figure\", id, fig);\n",
       "        return;\n",
       "    }\n",
       "\n",
       "    var output_index = fig.cell_info[2]\n",
       "    var cell = fig.cell_info[0];\n",
       "\n",
       "};\n",
       "\n",
       "mpl.figure.prototype.handle_close = function(fig, msg) {\n",
       "    var width = fig.canvas.width/mpl.ratio\n",
       "    fig.root.unbind('remove')\n",
       "\n",
       "    // Update the output cell to use the data from the current canvas.\n",
       "    fig.push_to_output();\n",
       "    var dataURL = fig.canvas.toDataURL();\n",
       "    // Re-enable the keyboard manager in IPython - without this line, in FF,\n",
       "    // the notebook keyboard shortcuts fail.\n",
       "    IPython.keyboard_manager.enable()\n",
       "    $(fig.parent_element).html('<img src=\"' + dataURL + '\" width=\"' + width + '\">');\n",
       "    fig.close_ws(fig, msg);\n",
       "}\n",
       "\n",
       "mpl.figure.prototype.close_ws = function(fig, msg){\n",
       "    fig.send_message('closing', msg);\n",
       "    // fig.ws.close()\n",
       "}\n",
       "\n",
       "mpl.figure.prototype.push_to_output = function(remove_interactive) {\n",
       "    // Turn the data on the canvas into data in the output cell.\n",
       "    var width = this.canvas.width/mpl.ratio\n",
       "    var dataURL = this.canvas.toDataURL();\n",
       "    this.cell_info[1]['text/html'] = '<img src=\"' + dataURL + '\" width=\"' + width + '\">';\n",
       "}\n",
       "\n",
       "mpl.figure.prototype.updated_canvas_event = function() {\n",
       "    // Tell IPython that the notebook contents must change.\n",
       "    IPython.notebook.set_dirty(true);\n",
       "    this.send_message(\"ack\", {});\n",
       "    var fig = this;\n",
       "    // Wait a second, then push the new image to the DOM so\n",
       "    // that it is saved nicely (might be nice to debounce this).\n",
       "    setTimeout(function () { fig.push_to_output() }, 1000);\n",
       "}\n",
       "\n",
       "mpl.figure.prototype._init_toolbar = function() {\n",
       "    var fig = this;\n",
       "\n",
       "    var nav_element = $('<div/>')\n",
       "    nav_element.attr('style', 'width: 100%');\n",
       "    this.root.append(nav_element);\n",
       "\n",
       "    // Define a callback function for later on.\n",
       "    function toolbar_event(event) {\n",
       "        return fig.toolbar_button_onclick(event['data']);\n",
       "    }\n",
       "    function toolbar_mouse_event(event) {\n",
       "        return fig.toolbar_button_onmouseover(event['data']);\n",
       "    }\n",
       "\n",
       "    for(var toolbar_ind in mpl.toolbar_items){\n",
       "        var name = mpl.toolbar_items[toolbar_ind][0];\n",
       "        var tooltip = mpl.toolbar_items[toolbar_ind][1];\n",
       "        var image = mpl.toolbar_items[toolbar_ind][2];\n",
       "        var method_name = mpl.toolbar_items[toolbar_ind][3];\n",
       "\n",
       "        if (!name) { continue; };\n",
       "\n",
       "        var button = $('<button class=\"btn btn-default\" href=\"#\" title=\"' + name + '\"><i class=\"fa ' + image + ' fa-lg\"></i></button>');\n",
       "        button.click(method_name, toolbar_event);\n",
       "        button.mouseover(tooltip, toolbar_mouse_event);\n",
       "        nav_element.append(button);\n",
       "    }\n",
       "\n",
       "    // Add the status bar.\n",
       "    var status_bar = $('<span class=\"mpl-message\" style=\"text-align:right; float: right;\"/>');\n",
       "    nav_element.append(status_bar);\n",
       "    this.message = status_bar[0];\n",
       "\n",
       "    // Add the close button to the window.\n",
       "    var buttongrp = $('<div class=\"btn-group inline pull-right\"></div>');\n",
       "    var button = $('<button class=\"btn btn-mini btn-primary\" href=\"#\" title=\"Stop Interaction\"><i class=\"fa fa-power-off icon-remove icon-large\"></i></button>');\n",
       "    button.click(function (evt) { fig.handle_close(fig, {}); } );\n",
       "    button.mouseover('Stop Interaction', toolbar_mouse_event);\n",
       "    buttongrp.append(button);\n",
       "    var titlebar = this.root.find($('.ui-dialog-titlebar'));\n",
       "    titlebar.prepend(buttongrp);\n",
       "}\n",
       "\n",
       "mpl.figure.prototype._root_extra_style = function(el){\n",
       "    var fig = this\n",
       "    el.on(\"remove\", function(){\n",
       "\tfig.close_ws(fig, {});\n",
       "    });\n",
       "}\n",
       "\n",
       "mpl.figure.prototype._canvas_extra_style = function(el){\n",
       "    // this is important to make the div 'focusable\n",
       "    el.attr('tabindex', 0)\n",
       "    // reach out to IPython and tell the keyboard manager to turn it's self\n",
       "    // off when our div gets focus\n",
       "\n",
       "    // location in version 3\n",
       "    if (IPython.notebook.keyboard_manager) {\n",
       "        IPython.notebook.keyboard_manager.register_events(el);\n",
       "    }\n",
       "    else {\n",
       "        // location in version 2\n",
       "        IPython.keyboard_manager.register_events(el);\n",
       "    }\n",
       "\n",
       "}\n",
       "\n",
       "mpl.figure.prototype._key_event_extra = function(event, name) {\n",
       "    var manager = IPython.notebook.keyboard_manager;\n",
       "    if (!manager)\n",
       "        manager = IPython.keyboard_manager;\n",
       "\n",
       "    // Check for shift+enter\n",
       "    if (event.shiftKey && event.which == 13) {\n",
       "        this.canvas_div.blur();\n",
       "        // select the cell after this one\n",
       "        var index = IPython.notebook.find_cell_index(this.cell_info[0]);\n",
       "        IPython.notebook.select(index + 1);\n",
       "    }\n",
       "}\n",
       "\n",
       "mpl.figure.prototype.handle_save = function(fig, msg) {\n",
       "    fig.ondownload(fig, null);\n",
       "}\n",
       "\n",
       "\n",
       "mpl.find_output_cell = function(html_output) {\n",
       "    // Return the cell and output element which can be found *uniquely* in the notebook.\n",
       "    // Note - this is a bit hacky, but it is done because the \"notebook_saving.Notebook\"\n",
       "    // IPython event is triggered only after the cells have been serialised, which for\n",
       "    // our purposes (turning an active figure into a static one), is too late.\n",
       "    var cells = IPython.notebook.get_cells();\n",
       "    var ncells = cells.length;\n",
       "    for (var i=0; i<ncells; i++) {\n",
       "        var cell = cells[i];\n",
       "        if (cell.cell_type === 'code'){\n",
       "            for (var j=0; j<cell.output_area.outputs.length; j++) {\n",
       "                var data = cell.output_area.outputs[j];\n",
       "                if (data.data) {\n",
       "                    // IPython >= 3 moved mimebundle to data attribute of output\n",
       "                    data = data.data;\n",
       "                }\n",
       "                if (data['text/html'] == html_output) {\n",
       "                    return [cell, data, j];\n",
       "                }\n",
       "            }\n",
       "        }\n",
       "    }\n",
       "}\n",
       "\n",
       "// Register the function which deals with the matplotlib target/channel.\n",
       "// The kernel may be null if the page has been refreshed.\n",
       "if (IPython.notebook.kernel != null) {\n",
       "    IPython.notebook.kernel.comm_manager.register_target('matplotlib', mpl.mpl_figure_comm);\n",
       "}\n"
      ],
      "text/plain": [
       "<IPython.core.display.Javascript object>"
      ]
     },
     "metadata": {},
     "output_type": "display_data"
    },
    {
     "data": {
      "text/html": [
       "<img src=\"data:image/png;base64,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\" width=\"786\">"
      ],
      "text/plain": [
       "<IPython.core.display.HTML object>"
      ]
     },
     "metadata": {},
     "output_type": "display_data"
    }
   ],
   "source": [
    "from IPython.display import clear_output\n",
    "fig = plt.figure()"
   ]
  },
  {
   "cell_type": "code",
   "execution_count": 48,
   "metadata": {
    "collapsed": true,
    "extensions": {
     "jupyter_dashboards": {
      "version": 1,
      "views": {
       "grid_default": {
        "hidden": true
       },
       "report_default": {}
      }
     }
    }
   },
   "outputs": [],
   "source": [
    "def update_maps(x):\n",
    "    #set the map's time extent\n",
    "    start_time = str('1/1/{} UTC'.format(x[0]))\n",
    "    end_time = str('1/1//{} UTC'.format(x[1]))\n",
    "    classed_size_map.set_time_extent(start_time, end_time)\n",
    "    heat_map.set_time_extent(start_time, end_time)\n",
    "    \n",
    "    #update the scatter plot\n",
    "    filtered_df = eq_df[(eq_df['years']>=x[0]) & (eq_df['years']<=x[1])]\n",
    "    clear_output()\n",
    "    ax = fig.add_axes([0,0,1,1])\n",
    "    ax.scatter(filtered_df['years'],filtered_df['magnitude'])\n",
    "#     ax.set_xlabel('years')\n",
    "#     ax.set_ylabel('magnitude')\n",
    "    plt.xlabel('years')\n",
    "    plt.ylabel('magnitude')\n",
    "    plt.title('Earthquakes - years vs magnitude')\n",
    "    plt.tight_layout\n",
    "#     fig.canvas.draw()"
   ]
  },
  {
   "cell_type": "code",
   "execution_count": 49,
   "metadata": {
    "extensions": {
     "jupyter_dashboards": {
      "version": 1,
      "views": {
       "grid_default": {
        "col": 0,
        "height": 2,
        "hidden": false,
        "row": 17,
        "width": 12
       },
       "report_default": {}
      }
     }
    }
   },
   "outputs": [
    {
     "data": {
      "application/vnd.jupyter.widget-view+json": {
       "model_id": "ece4d6078a944f4bb36298da851e7da9"
      }
     },
     "metadata": {},
     "output_type": "display_data"
    }
   ],
   "source": [
    "interact(update_maps, x=w2);"
   ]
  },
  {
   "cell_type": "code",
   "execution_count": null,
   "metadata": {
    "collapsed": true,
    "extensions": {
     "jupyter_dashboards": {
      "version": 1,
      "views": {
       "grid_default": {
        "hidden": true
       },
       "report_default": {}
      }
     }
    }
   },
   "outputs": [],
   "source": []
  }
 ],
 "metadata": {
  "extensions": {
   "jupyter_dashboards": {
    "activeView": "grid_default",
    "version": 1,
    "views": {
     "grid_default": {
      "cellMargin": 10,
      "defaultCellHeight": 20,
      "maxColumns": 12,
      "name": "grid",
      "type": "grid"
     },
     "report_default": {
      "name": "report",
      "type": "report"
     }
    }
   }
  },
  "kernelspec": {
   "display_name": "Python 3",
   "language": "python",
   "name": "python3"
  },
  "language_info": {
   "codemirror_mode": {
    "name": "ipython",
    "version": 3
   },
   "file_extension": ".py",
   "mimetype": "text/x-python",
   "name": "python",
   "nbconvert_exporter": "python",
   "pygments_lexer": "ipython3",
   "version": "3.6.1"
  }
 },
 "nbformat": 4,
 "nbformat_minor": 2
}
