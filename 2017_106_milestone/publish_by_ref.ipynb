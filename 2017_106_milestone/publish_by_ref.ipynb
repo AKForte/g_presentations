{
 "cells": [
  {
   "cell_type": "markdown",
   "metadata": {},
   "source": [
    "# Publishing services to a federated server by reference\n",
    "#### Import library and connect to the ArcGIS Enterprise"
   ]
  },
  {
   "cell_type": "code",
   "execution_count": 1,
   "metadata": {},
   "outputs": [
    {
     "name": "stdout",
     "output_type": "stream",
     "text": [
      "Enter password: ········\n"
     ]
    }
   ],
   "source": [
    "from arcgis.gis import GIS\n",
    "gis = GIS(\"https://dev005219.esri.com/portal\",'admin', verify_cert=False)"
   ]
  },
  {
   "cell_type": "markdown",
   "metadata": {},
   "source": [
    "### Inspect the list of servers"
   ]
  },
  {
   "cell_type": "code",
   "execution_count": null,
   "metadata": {},
   "outputs": [],
   "source": [
    "server_list = gis.admin.servers.list()\n",
    "server_list"
   ]
  },
  {
   "cell_type": "markdown",
   "metadata": {},
   "source": [
    "### Inspect services on the server"
   ]
  },
  {
   "cell_type": "code",
   "execution_count": null,
   "metadata": {},
   "outputs": [],
   "source": [
    "server1 = server_list[0]\n",
    "\n",
    "server1.services.list(folder=['Hosted'])"
   ]
  },
  {
   "cell_type": "markdown",
   "metadata": {},
   "source": [
    "#### Inspect data stores on the server"
   ]
  },
  {
   "cell_type": "code",
   "execution_count": null,
   "metadata": {},
   "outputs": [],
   "source": [
    "data_store_list = server1.datastores.list()\n",
    "for data_store in data_store_list:\n",
    "    print(data_store.properties.type + \" | \" + data_store.properties.path)"
   ]
  },
  {
   "cell_type": "markdown",
   "metadata": {},
   "source": [
    "#### Register a new data store"
   ]
  },
  {
   "cell_type": "code",
   "execution_count": null,
   "metadata": {},
   "outputs": [],
   "source": [
    "heart_health_data = server1.datastores.add_folder(name='heart_health', \n",
    "                              server_path=\"\\\\\\\\qalab_server\\\\pydata\\\\v106\\\\geosaurus\\\\data_prep\\\\SDs\\\\by_ref\")\n",
    "heart_health_data"
   ]
  },
  {
   "cell_type": "code",
   "execution_count": null,
   "metadata": {},
   "outputs": [],
   "source": [
    "#validate data store\n",
    "heart_health_data.validate()"
   ]
  },
  {
   "cell_type": "markdown",
   "metadata": {},
   "source": [
    "## Publish SD file to the server"
   ]
  },
  {
   "cell_type": "code",
   "execution_count": null,
   "metadata": {},
   "outputs": [],
   "source": [
    "server1.services.publish_sd('/Users/atma6951/Documents/GIS_data/file_formats/sd/heart_attacks_byref.sd')"
   ]
  },
  {
   "cell_type": "markdown",
   "metadata": {
    "collapsed": true
   },
   "source": [
    "### Consume the map image layer"
   ]
  },
  {
   "cell_type": "code",
   "execution_count": 11,
   "metadata": {},
   "outputs": [
    {
     "data": {
      "text/html": [
       "<div class=\"item_container\" style=\"height: auto; overflow: hidden; border: 1px solid #cfcfcf; border-radius: 2px; background: #f6fafa; line-height: 1.21429em; padding: 10px;\">\n",
       "                    <div class=\"item_left\" style=\"width: 210px; float: left;\">\n",
       "                       <a href='https://dev005219.esri.com/portal/home/item.html?id=3396c97f01994fae84e00646b9c2545c' target='_blank'>\n",
       "                        <img src='data:image/png;base64,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' width='200' height='133' class=\"itemThumbnail\">\n",
       "                       </a>\n",
       "                    </div>\n",
       "\n",
       "                    <div class=\"item_right\"     style=\"float: none; width: auto; overflow: hidden;\">\n",
       "                        <a href='https://dev005219.esri.com/portal/home/item.html?id=3396c97f01994fae84e00646b9c2545c' target='_blank'><b>heart_attacks_byref</b>\n",
       "                        </a>\n",
       "                        <br/>Has input map layers for building an querying a kernel density map and other raster map<img src='https://dev005219.esri.com/portal/home/js/jsapi/esri/css/images/item_type_icons/mapimages16.png' style=\"vertical-align:middle;\">Map Image Layer by admin\n",
       "                        <br/>Last Modified: September 07, 2017\n",
       "                        <br/>0 comments, 0 views\n",
       "                    </div>\n",
       "                </div>\n",
       "                "
      ],
      "text/plain": [
       "<Item title:\"heart_attacks_byref\" type:Map Image Layer owner:admin>"
      ]
     },
     "execution_count": 11,
     "metadata": {},
     "output_type": "execute_result"
    }
   ],
   "source": [
    "gis.content.search(\"heart attacks\")[0]"
   ]
  },
  {
   "cell_type": "code",
   "execution_count": null,
   "metadata": {
    "collapsed": true
   },
   "outputs": [],
   "source": []
  }
 ],
 "metadata": {
  "kernelspec": {
   "display_name": "Python 3",
   "language": "python",
   "name": "python3"
  },
  "language_info": {
   "codemirror_mode": {
    "name": "ipython",
    "version": 3
   },
   "file_extension": ".py",
   "mimetype": "text/x-python",
   "name": "python",
   "nbconvert_exporter": "python",
   "pygments_lexer": "ipython3",
   "version": "3.6.2"
  }
 },
 "nbformat": 4,
 "nbformat_minor": 1
}
