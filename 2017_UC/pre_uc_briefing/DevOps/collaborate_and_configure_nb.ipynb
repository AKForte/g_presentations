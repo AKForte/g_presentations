{
 "cells": [
  {
   "cell_type": "markdown",
   "metadata": {},
   "source": [
    "# Collaborate and configure a distributed GIS"
   ]
  },
  {
   "cell_type": "markdown",
   "metadata": {},
   "source": [
    "## Preliminary steps\n",
    "Import the Python API library"
   ]
  },
  {
   "cell_type": "code",
   "execution_count": null,
   "metadata": {
    "collapsed": true
   },
   "outputs": [],
   "source": [
    "from arcgis.gis import *\n",
    "import os\n",
    "from zipfile import ZipFile\n",
    "import json\n",
    "download_path = '/Users/atma6951/Documents/temp/e_configs'"
   ]
  },
  {
   "cell_type": "markdown",
   "metadata": {},
   "source": [
    "Connect with city GIS and Dept. GIS"
   ]
  },
  {
   "cell_type": "code",
   "execution_count": null,
   "metadata": {
    "collapsed": true
   },
   "outputs": [],
   "source": [
    "city_gis = GIS(\"https://dev005219.esri.com/portal\",admin_username, admin_password)\n",
    "dept_gis = GIS(city_url, admin_username, admin_password)"
   ]
  },
  {
   "cell_type": "markdown",
   "metadata": {},
   "source": [
    "## Start collaboration"
   ]
  },
  {
   "cell_type": "markdown",
   "metadata": {
    "collapsed": true
   },
   "source": [
    "### Create a collaboration with city GIS as host"
   ]
  },
  {
   "cell_type": "markdown",
   "metadata": {
    "heading_collapsed": true
   },
   "source": [
    "#### collab parameters"
   ]
  },
  {
   "cell_type": "code",
   "execution_count": null,
   "metadata": {
    "collapsed": true,
    "hidden": true
   },
   "outputs": [],
   "source": [
    "city_collab_group = city_gis.groups.search('title:City {} dept. collaboration'.\n",
    "                                               format(city_name.replace(\"_\",\" \")))\n",
    "collab_name = 'LA ' + city_name.replace(\"_\", \" \") + \" collab\"\n",
    "collab_description = \"Distributed GIS and data sharing initiative\"+\n",
    "                        \"between LA city and its constituent departments\"\n",
    "collab_wksp = 'LA ' + city_name.replace(\"_\", \" \") + \" wksp\"\n",
    "collab_wksp_desc = 'Workspace to share data'"
   ]
  },
  {
   "cell_type": "markdown",
   "metadata": {},
   "source": [
    "####"
   ]
  },
  {
   "cell_type": "code",
   "execution_count": null,
   "metadata": {
    "collapsed": true
   },
   "outputs": [],
   "source": [
    "city_collab = city_gis.collaborations.create(collab_name, collab_description, collab_wksp,\n",
    "                                         collab_wksp_desc, county_collab_group[0].id,\n",
    "                                         \"Administrator\", \"Administrator\", \"admin@dmail.com\")"
   ]
  },
  {
   "cell_type": "markdown",
   "metadata": {},
   "source": [
    "### Invite dept. GIS to the collaboration"
   ]
  },
  {
   "cell_type": "code",
   "execution_count": null,
   "metadata": {
    "collapsed": true
   },
   "outputs": [],
   "source": [
    "city_collab_wksp = city_collab.workspaces[0]\n",
    "config_json = [{city_collab_wksp['id']:\"sendAndReceive\"}]\n",
    "\n",
    "city_collab_invite = city_collab.invite_participant(dept_gis._url, config_json, 24)"
   ]
  },
  {
   "cell_type": "markdown",
   "metadata": {},
   "source": [
    "### Create a group for collaboration in dept. GIS"
   ]
  },
  {
   "cell_type": "markdown",
   "metadata": {
    "heading_collapsed": true
   },
   "source": [
    "#### intermediate - create group"
   ]
  },
  {
   "cell_type": "code",
   "execution_count": null,
   "metadata": {
    "collapsed": true,
    "hidden": true
   },
   "outputs": [],
   "source": [
    "title = 'LA city GIS collaboration'\n",
    "tags = 'data, sharing, open data, sync'\n",
    "description = 'Group enabling GIS collaboration with the city of Los Angeles'\n",
    "snippet = 'This group contains content shared by and with the GIS of city of Los Angeles'\n",
    "\n",
    "collab_group = dept_gis.groups.create(title, tags, description, snippet, access='public',\n",
    "                                      thumbnail='collab_group.png')"
   ]
  },
  {
   "cell_type": "markdown",
   "metadata": {},
   "source": [
    "### Accept invitation in dept. GIS"
   ]
  },
  {
   "cell_type": "code",
   "execution_count": null,
   "metadata": {
    "collapsed": true
   },
   "outputs": [],
   "source": [
    "dept_accept_response = dept_gis.collaborations.accept_invitation('Administrator', \n",
    "                                                                 'Administrator', \n",
    "                                                                 \"admin@domain.com\",\n",
    "                                              invitation_file=city_collab_invite)\n",
    "\n",
    "#generate response file\n",
    "dept_collab = dept_gis.collaborations.collaborations[0]\n",
    "invite_response_file = dept_collab.export_invitation(os.getcwd())\n",
    "\n",
    "#add group to collaboration workspace\n",
    "dept_collab_wksp = dept_collab.workspaces[0]\n",
    "group_add_result = dept_collab.add_group_to_workspace(collab_group, dept_collab_wksp)"
   ]
  },
  {
   "cell_type": "markdown",
   "metadata": {},
   "source": [
    "### Accept response back in City GIS"
   ]
  },
  {
   "cell_type": "code",
   "execution_count": null,
   "metadata": {
    "collapsed": true
   },
   "outputs": [],
   "source": [
    "city_accept_status = city_collab.import_invitation_response(invite_response_file)"
   ]
  },
  {
   "cell_type": "markdown",
   "metadata": {},
   "source": [
    "## Style and configure the dept. GIS"
   ]
  },
  {
   "cell_type": "markdown",
   "metadata": {
    "heading_collapsed": true
   },
   "source": [
    "### Get config file"
   ]
  },
  {
   "cell_type": "code",
   "execution_count": null,
   "metadata": {
    "collapsed": true,
    "hidden": true
   },
   "outputs": [],
   "source": [
    "gsr = dept_gis.groups.search(\"title: LA city GIS collaboration\", max_groups=1)\n",
    "config_item = [i for i in dept_collab_group.content() if i.title.endswith(\"config\")][0]\n",
    "\n",
    "#download config file\n",
    "config_file = config_item.download(download_path)\n",
    "\n",
    "#extract config\n",
    "zf = ZipFile(config_file)\n",
    "zf.extractall(download_path)"
   ]
  },
  {
   "cell_type": "markdown",
   "metadata": {},
   "source": [
    "### Set logo, banner, background"
   ]
  },
  {
   "cell_type": "code",
   "execution_count": null,
   "metadata": {
    "collapsed": true
   },
   "outputs": [],
   "source": [
    "dept_gis.ux.set_logo(download_path + '/logo.png')\n",
    "\n",
    "dept_gis.ux.set_background(download_path + \"/background.png\")\n",
    "\n",
    "dept_gis.ux.set_banner(download_path + \"/banner.png\")"
   ]
  },
  {
   "cell_type": "markdown",
   "metadata": {
    "heading_collapsed": true
   },
   "source": [
    "### Set name, description, extent, featured content"
   ]
  },
  {
   "cell_type": "code",
   "execution_count": null,
   "metadata": {
    "collapsed": true,
    "hidden": true
   },
   "outputs": [],
   "source": [
    "dept_gis.ux.set_name_description(city_name.replace(\"_\", \" \").title() + \" dept GIS\",\n",
    "                                     \"Distributed GIS between city govt. and departments\")\n",
    "\n",
    "dept_gis.update_properties({'defaultExtent': config_dict['extent']})\n",
    "\n",
    "param_dict = {\"homePageFeaturedContent\":\"id:{}\".format(collab_group.groupid),\n",
    "                  \"homePageFeaturedContentCount\":12}\n",
    "dept_gis.update_properties(param_dict)"
   ]
  },
  {
   "cell_type": "markdown",
   "metadata": {
    "hidden": true
   },
   "source": [
    "This is the end of configuration. The script proceeds to repeat this for the next department."
   ]
  }
 ],
 "metadata": {
  "kernelspec": {
   "display_name": "Python 3",
   "language": "python",
   "name": "python3"
  },
  "language_info": {
   "codemirror_mode": {
    "name": "ipython",
    "version": 3
   },
   "file_extension": ".py",
   "mimetype": "text/x-python",
   "name": "python",
   "nbconvert_exporter": "python",
   "pygments_lexer": "ipython3",
   "version": "3.5.3"
  }
 },
 "nbformat": 4,
 "nbformat_minor": 2
}
