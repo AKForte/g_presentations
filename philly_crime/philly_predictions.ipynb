{
 "cells": [
  {
   "cell_type": "markdown",
   "metadata": {},
   "source": [
    "# Can you predict crime?\n",
    "Yes, since it follows a pattern\n",
    "\n",
    "## Prediction type 1: Given a place what is the probability that a theft will occur?\n",
    "**Apporach**: Perform geographically weighted logistic regression to generate a surface. This prediction surface depicts what is the likelyhood of theft happening in that place.\n",
    "\n",
    "## Prediction type 1a: Given a place, what is the probability for each crime to occur?\n",
    "**Approach**: Perform the regression to generate surfaces for each crime type. Pick that crime which has the max probability of all surfaces. That is the crime most likely to occur.\n",
    "\n",
    "## Prediction type 2: Given a crime, where is it most likely to occur?\n",
    "**Approach**: From the same regression surface, pick the coordinate pair that has the highest likelihood.\n",
    "\n",
    "## Notes:\n",
    "To simply the surface problem, we should generalize into hex bins or polygons.\n",
    " \n",
    " - The prediciton surface is not intelligent as it does not consider any other parameter / feature. It just is a regression\n",
    " - To bring in other features, use a learning algorithm\n",
    " - To enrich features, say with demographic data, we need to aggregate the crime into hex bins and the census data into the same hex bin"
   ]
  },
  {
   "cell_type": "code",
   "execution_count": null,
   "metadata": {
    "collapsed": true
   },
   "outputs": [],
   "source": []
  }
 ],
 "metadata": {
  "kernelspec": {
   "display_name": "Python 3",
   "language": "python",
   "name": "python3"
  },
  "language_info": {
   "codemirror_mode": {
    "name": "ipython",
    "version": 3
   },
   "file_extension": ".py",
   "mimetype": "text/x-python",
   "name": "python",
   "nbconvert_exporter": "python",
   "pygments_lexer": "ipython3",
   "version": "3.5.2"
  }
 },
 "nbformat": 4,
 "nbformat_minor": 0
}
