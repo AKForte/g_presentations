{
 "cells": [
  {
   "cell_type": "markdown",
   "metadata": {},
   "source": [
    "# Data preparation notebook\n",
    "\n",
    "## Download csv files from data source.\n",
    "The data is fetched from NCDC weather portal's `ftp` endpoint. Data will be downloaded as zipped csv files, extracted into a known folder."
   ]
  },
  {
   "cell_type": "code",
   "execution_count": 2,
   "metadata": {
    "collapsed": false
   },
   "outputs": [],
   "source": [
    "import requests\n",
    "import ftplib"
   ]
  },
  {
   "cell_type": "markdown",
   "metadata": {},
   "source": [
    "Establish connection to ftp site"
   ]
  },
  {
   "cell_type": "code",
   "execution_count": 7,
   "metadata": {
    "collapsed": false
   },
   "outputs": [
    {
     "data": {
      "text/plain": [
       "'230-****** WARNING ** WARNING ** WARNING ** WARNING ** WARNING ******\\n ** This is a United States Department of Commerce computer     **\\n ** system, which may be accessed and used only for             **\\n ** official Government business by authorized personnel.       **\\n ** Unauthorized access or use of this computer system may      **\\n ** subject violators to criminal, civil, and/or administrative **\\n ** action.  All information on this computer system may be     **\\n ** intercepted, recorded, read, copied, and disclosed by and   **\\n ** to authorized personnel for official purposes, including    **\\n ** criminal investigations.  Access or use of this computer    **\\n ** system by any person, whether authorized or unauthorized,   **\\n ** constitutes consent to these terms.                         **\\n ****** WARNING ** WARNING ** WARNING ** WARNING ** WARNING ******\\n230 Anonymous access granted, restrictions apply'"
      ]
     },
     "execution_count": 7,
     "metadata": {},
     "output_type": "execute_result"
    }
   ],
   "source": [
    "ftp = ftplib.FTP('ftp.ncdc.noaa.gov')\n",
    "ftp.login()"
   ]
  },
  {
   "cell_type": "markdown",
   "metadata": {},
   "source": [
    "Change directory to download dir"
   ]
  },
  {
   "cell_type": "code",
   "execution_count": 11,
   "metadata": {
    "collapsed": false
   },
   "outputs": [
    {
     "data": {
      "text/plain": [
       "'/pub/data/swdi/database-csv/v2'"
      ]
     },
     "execution_count": 11,
     "metadata": {},
     "output_type": "execute_result"
    }
   ],
   "source": [
    "ftp.cwd('/pub/data/swdi/database-csv/v2/')\n",
    "ftp.pwd()"
   ]
  },
  {
   "cell_type": "markdown",
   "metadata": {},
   "source": [
    "Get the list of files names. Filter only those files that start with 'hail' in their file name"
   ]
  },
  {
   "cell_type": "code",
   "execution_count": 31,
   "metadata": {
    "collapsed": false
   },
   "outputs": [
    {
     "data": {
      "text/plain": [
       "['hail-2013.csv.gz',\n",
       " 'hail-2015.csv.gz',\n",
       " 'hail-201704.csv.gz',\n",
       " 'hail-2014.csv.gz',\n",
       " 'hail-201705.csv.gz',\n",
       " 'hail-201701.csv.gz',\n",
       " 'hail-1995.csv.gz',\n",
       " 'hail-1996.csv.gz',\n",
       " 'hail-1997.csv.gz',\n",
       " 'hail-1998.csv.gz',\n",
       " 'hail-1999.csv.gz',\n",
       " 'hail-2000.csv.gz',\n",
       " 'hail-2001.csv.gz',\n",
       " 'hail-2002.csv.gz',\n",
       " 'hail-2003.csv.gz',\n",
       " 'hail-2004.csv.gz',\n",
       " 'hail-2005.csv.gz',\n",
       " 'hail-2008.csv.gz',\n",
       " 'hail-2007.csv.gz',\n",
       " 'hail-2006.csv.gz',\n",
       " 'hail-2009.csv.gz',\n",
       " 'hail-2010.csv.gz',\n",
       " 'hail-2011.csv.gz',\n",
       " 'hail-2012.csv.gz',\n",
       " 'hail-201702.csv.gz',\n",
       " 'hail-201703.csv.gz',\n",
       " 'hail-2016.csv.gz']"
      ]
     },
     "execution_count": 31,
     "metadata": {},
     "output_type": "execute_result"
    }
   ],
   "source": [
    "all_files= ftp.nlst()\n",
    "hail_files = [i for i in all_files if i.startswith('hail')]\n",
    "hail_files"
   ]
  },
  {
   "cell_type": "markdown",
   "metadata": {},
   "source": [
    "Download the files to data dir `E:\\gis_data\\analytics\\georgia_hail\\raw`"
   ]
  },
  {
   "cell_type": "code",
   "execution_count": 32,
   "metadata": {
    "collapsed": false,
    "scrolled": true
   },
   "outputs": [
    {
     "name": "stdout",
     "output_type": "stream",
     "text": [
      "Downloading hail-2013.csv.gz |  finished\n",
      "Downloading hail-2015.csv.gz |  finished\n",
      "Downloading hail-201704.csv.gz |  finished\n",
      "Downloading hail-2014.csv.gz |  finished\n",
      "Downloading hail-201705.csv.gz |  finished\n",
      "Downloading hail-201701.csv.gz |  finished\n",
      "Downloading hail-1995.csv.gz |  finished\n",
      "Downloading hail-1996.csv.gz |  finished\n",
      "Downloading hail-1997.csv.gz |  finished\n",
      "Downloading hail-1998.csv.gz |  finished\n",
      "Downloading hail-1999.csv.gz |  finished\n",
      "Downloading hail-2000.csv.gz |  finished\n",
      "Downloading hail-2001.csv.gz |  finished\n",
      "Downloading hail-2002.csv.gz |  finished\n",
      "Downloading hail-2003.csv.gz |  finished\n",
      "Downloading hail-2004.csv.gz |  finished\n",
      "Downloading hail-2005.csv.gz |  finished\n",
      "Downloading hail-2008.csv.gz |  finished\n",
      "Downloading hail-2007.csv.gz |  finished\n",
      "Downloading hail-2006.csv.gz |  finished\n",
      "Downloading hail-2009.csv.gz |  finished\n",
      "Downloading hail-2010.csv.gz |  finished\n",
      "Downloading hail-2011.csv.gz |  finished\n",
      "Downloading hail-2012.csv.gz |  finished\n",
      "Downloading hail-201702.csv.gz |  finished\n",
      "Downloading hail-201703.csv.gz |  finished\n",
      "Downloading hail-2016.csv.gz |  finished\n"
     ]
    }
   ],
   "source": [
    "for filename in hail_files:\n",
    "    print(\"Downloading \" + filename, end=\" | \")\n",
    "    with open(r'E:\\GIS_Data\\Analytics\\Georgia_hailstones\\raw\\\\' \n",
    "              + filename + \".csv.gz\", \"wb\") as file_handle:\n",
    "        ftp.retrbinary(\"RETR \" + filename, file_handle.write)\n",
    "    print(\" finished\")"
   ]
  },
  {
   "cell_type": "markdown",
   "metadata": {},
   "source": [
    "## Extract the downloaded csv files"
   ]
  },
  {
   "cell_type": "code",
   "execution_count": 43,
   "metadata": {
    "collapsed": true
   },
   "outputs": [],
   "source": [
    "from glob import glob\n",
    "import os\n",
    "import pathlib\n",
    "import gzip"
   ]
  },
  {
   "cell_type": "code",
   "execution_count": 34,
   "metadata": {
    "collapsed": false
   },
   "outputs": [
    {
     "data": {
      "text/plain": [
       "['E:\\\\GIS_Data\\\\Analytics\\\\Georgia_hailstones\\\\raw\\\\hail-1995.csv.gz.csv.gz',\n",
       " 'E:\\\\GIS_Data\\\\Analytics\\\\Georgia_hailstones\\\\raw\\\\hail-1996.csv.gz.csv.gz',\n",
       " 'E:\\\\GIS_Data\\\\Analytics\\\\Georgia_hailstones\\\\raw\\\\hail-1997.csv.gz.csv.gz',\n",
       " 'E:\\\\GIS_Data\\\\Analytics\\\\Georgia_hailstones\\\\raw\\\\hail-1998.csv.gz.csv.gz',\n",
       " 'E:\\\\GIS_Data\\\\Analytics\\\\Georgia_hailstones\\\\raw\\\\hail-1999.csv.gz.csv.gz',\n",
       " 'E:\\\\GIS_Data\\\\Analytics\\\\Georgia_hailstones\\\\raw\\\\hail-2000.csv.gz.csv.gz',\n",
       " 'E:\\\\GIS_Data\\\\Analytics\\\\Georgia_hailstones\\\\raw\\\\hail-2001.csv.gz.csv.gz',\n",
       " 'E:\\\\GIS_Data\\\\Analytics\\\\Georgia_hailstones\\\\raw\\\\hail-2002.csv.gz.csv.gz',\n",
       " 'E:\\\\GIS_Data\\\\Analytics\\\\Georgia_hailstones\\\\raw\\\\hail-2003.csv.gz.csv.gz',\n",
       " 'E:\\\\GIS_Data\\\\Analytics\\\\Georgia_hailstones\\\\raw\\\\hail-2004.csv.gz.csv.gz',\n",
       " 'E:\\\\GIS_Data\\\\Analytics\\\\Georgia_hailstones\\\\raw\\\\hail-2005.csv.gz.csv.gz',\n",
       " 'E:\\\\GIS_Data\\\\Analytics\\\\Georgia_hailstones\\\\raw\\\\hail-2006.csv.gz.csv.gz',\n",
       " 'E:\\\\GIS_Data\\\\Analytics\\\\Georgia_hailstones\\\\raw\\\\hail-2007.csv.gz.csv.gz',\n",
       " 'E:\\\\GIS_Data\\\\Analytics\\\\Georgia_hailstones\\\\raw\\\\hail-2008.csv.gz.csv.gz',\n",
       " 'E:\\\\GIS_Data\\\\Analytics\\\\Georgia_hailstones\\\\raw\\\\hail-2009.csv.gz.csv.gz',\n",
       " 'E:\\\\GIS_Data\\\\Analytics\\\\Georgia_hailstones\\\\raw\\\\hail-2010.csv.gz.csv.gz',\n",
       " 'E:\\\\GIS_Data\\\\Analytics\\\\Georgia_hailstones\\\\raw\\\\hail-2011.csv.gz.csv.gz',\n",
       " 'E:\\\\GIS_Data\\\\Analytics\\\\Georgia_hailstones\\\\raw\\\\hail-2012.csv.gz.csv.gz',\n",
       " 'E:\\\\GIS_Data\\\\Analytics\\\\Georgia_hailstones\\\\raw\\\\hail-2013.csv.gz.csv.gz',\n",
       " 'E:\\\\GIS_Data\\\\Analytics\\\\Georgia_hailstones\\\\raw\\\\hail-2014.csv.gz.csv.gz',\n",
       " 'E:\\\\GIS_Data\\\\Analytics\\\\Georgia_hailstones\\\\raw\\\\hail-2015.csv.gz.csv.gz',\n",
       " 'E:\\\\GIS_Data\\\\Analytics\\\\Georgia_hailstones\\\\raw\\\\hail-2016.csv.gz.csv.gz',\n",
       " 'E:\\\\GIS_Data\\\\Analytics\\\\Georgia_hailstones\\\\raw\\\\hail-201701.csv.gz.csv.gz',\n",
       " 'E:\\\\GIS_Data\\\\Analytics\\\\Georgia_hailstones\\\\raw\\\\hail-201702.csv.gz.csv.gz',\n",
       " 'E:\\\\GIS_Data\\\\Analytics\\\\Georgia_hailstones\\\\raw\\\\hail-201703.csv.gz.csv.gz',\n",
       " 'E:\\\\GIS_Data\\\\Analytics\\\\Georgia_hailstones\\\\raw\\\\hail-201704.csv.gz.csv.gz',\n",
       " 'E:\\\\GIS_Data\\\\Analytics\\\\Georgia_hailstones\\\\raw\\\\hail-201705.csv.gz.csv.gz']"
      ]
     },
     "execution_count": 34,
     "metadata": {},
     "output_type": "execute_result"
    }
   ],
   "source": [
    "file_list = glob(r\"E:\\GIS_Data\\Analytics\\Georgia_hailstones\\raw\\*.csv.gz\")\n",
    "file_list"
   ]
  },
  {
   "cell_type": "code",
   "execution_count": 44,
   "metadata": {
    "collapsed": false
   },
   "outputs": [
    {
     "data": {
      "text/plain": [
       "'hail-1995.csv.gz.csv.gz'"
      ]
     },
     "execution_count": 44,
     "metadata": {},
     "output_type": "execute_result"
    }
   ],
   "source": [
    "p = pathlib.Path(file_list[0])\n",
    "p.name"
   ]
  },
  {
   "cell_type": "code",
   "execution_count": 47,
   "metadata": {
    "collapsed": false
   },
   "outputs": [
    {
     "data": {
      "text/plain": [
       "'hail-1995.csv.gz.csv'"
      ]
     },
     "execution_count": 47,
     "metadata": {},
     "output_type": "execute_result"
    }
   ],
   "source": [
    "p.stem"
   ]
  },
  {
   "cell_type": "code",
   "execution_count": 50,
   "metadata": {
    "collapsed": false
   },
   "outputs": [
    {
     "name": "stdout",
     "output_type": "stream",
     "text": [
      "Extracting hail-1995.csv.gz.csv.gz | contents read  |  finished\n",
      "Extracting hail-1996.csv.gz.csv.gz | contents read  |  finished\n",
      "Extracting hail-1997.csv.gz.csv.gz | contents read  |  finished\n",
      "Extracting hail-1998.csv.gz.csv.gz | contents read  |  finished\n",
      "Extracting hail-1999.csv.gz.csv.gz | contents read  |  finished\n",
      "Extracting hail-2000.csv.gz.csv.gz | contents read  |  finished\n",
      "Extracting hail-2001.csv.gz.csv.gz | contents read  |  finished\n",
      "Extracting hail-2002.csv.gz.csv.gz | contents read  |  finished\n",
      "Extracting hail-2003.csv.gz.csv.gz | contents read  |  finished\n",
      "Extracting hail-2004.csv.gz.csv.gz | contents read  |  finished\n",
      "Extracting hail-2005.csv.gz.csv.gz | contents read  |  finished\n",
      "Extracting hail-2006.csv.gz.csv.gz | contents read  |  finished\n",
      "Extracting hail-2007.csv.gz.csv.gz | contents read  |  finished\n",
      "Extracting hail-2008.csv.gz.csv.gz | contents read  |  finished\n",
      "Extracting hail-2009.csv.gz.csv.gz | contents read  |  finished\n",
      "Extracting hail-2010.csv.gz.csv.gz | contents read  |  finished\n",
      "Extracting hail-2011.csv.gz.csv.gz | contents read  |  finished\n",
      "Extracting hail-2012.csv.gz.csv.gz | contents read  |  finished\n",
      "Extracting hail-2013.csv.gz.csv.gz | contents read  |  finished\n",
      "Extracting hail-2014.csv.gz.csv.gz | contents read  |  finished\n",
      "Extracting hail-2015.csv.gz.csv.gz | contents read  |  finished\n",
      "Extracting hail-2016.csv.gz.csv.gz | contents read  |  finished\n",
      "Extracting hail-201701.csv.gz.csv.gz | contents read  |  finished\n",
      "Extracting hail-201702.csv.gz.csv.gz | contents read  |  finished\n",
      "Extracting hail-201703.csv.gz.csv.gz | contents read  |  finished\n",
      "Extracting hail-201704.csv.gz.csv.gz | contents read  |  finished\n",
      "Extracting hail-201705.csv.gz.csv.gz | contents read  |  finished\n"
     ]
    }
   ],
   "source": [
    "for current_file in file_list:\n",
    "    path_file = pathlib.Path(current_file)\n",
    "    print(\"Extracting \" + path_file.name, end=\" | \")\n",
    "    \n",
    "    with gzip.open(current_file, 'rb') as archive:\n",
    "        file_contents = archive.read()\n",
    "        print(\"contents read \", end= \" | \")\n",
    "\n",
    "        #write to disk\n",
    "        with open(r'E:\\GIS_Data\\Analytics\\Georgia_hailstones\\raw\\extracted\\\\' + \n",
    "                  path_file.stem, 'wb') as output_file:\n",
    "            output_file.write(file_contents)\n",
    "       \n",
    "    print(\" finished\")"
   ]
  },
  {
   "cell_type": "code",
   "execution_count": null,
   "metadata": {
    "collapsed": true
   },
   "outputs": [],
   "source": []
  }
 ],
 "metadata": {
  "anaconda-cloud": {},
  "kernelspec": {
   "display_name": "Python [conda env:geosaurus_gold]",
   "language": "python",
   "name": "conda-env-geosaurus_gold-py"
  },
  "language_info": {
   "codemirror_mode": {
    "name": "ipython",
    "version": 3
   },
   "file_extension": ".py",
   "mimetype": "text/x-python",
   "name": "python",
   "nbconvert_exporter": "python",
   "pygments_lexer": "ipython3",
   "version": "3.5.2"
  }
 },
 "nbformat": 4,
 "nbformat_minor": 1
}
