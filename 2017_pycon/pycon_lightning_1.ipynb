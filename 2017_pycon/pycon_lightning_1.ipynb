{
 "cells": [
  {
   "cell_type": "markdown",
   "metadata": {
    "slideshow": {
     "slide_type": "slide"
    }
   },
   "source": [
    "<center><h1> A Python API for your GeoSpatial needs </h1></center>\n",
    "<center><h2> [https://developers.arcgis.com/python]() </h2></center>\n",
    "<center><h3> Atma Mani             amani@esri.com  </h3></center>\n",
    "![](https://developers.arcgis.com/assets/img/python-graphics/python.png)"
   ]
  },
  {
   "cell_type": "markdown",
   "metadata": {
    "slideshow": {
     "slide_type": "slide"
    }
   },
   "source": [
    "### About 80% of all data has a geospatial component"
   ]
  },
  {
   "cell_type": "markdown",
   "metadata": {
    "slideshow": {
     "slide_type": "fragment"
    }
   },
   "source": [
    "#### Where do you go to analyse such data?"
   ]
  },
  {
   "cell_type": "markdown",
   "metadata": {
    "slideshow": {
     "slide_type": "fragment"
    }
   },
   "source": [
    "<center><h1> ArcGIS </h1></center>\n",
    "<center><img src=https://pbs.twimg.com/media/C4xV_EsVUAAAxPD.jpg style=\"height:228px;\">\n",
    "\n",
    "ArcGIS provides powerful tools for mapping and spatial reasoning so you can explore data and share location-based insights."
   ]
  },
  {
   "cell_type": "markdown",
   "metadata": {
    "slideshow": {
     "slide_type": "slide"
    }
   },
   "source": [
    "<center><h1>ArcGIS API for Python</h1></center>\n",
    "<center><img src=http://esri.github.io/arcgis-python-api/notebooks/nbimages/guide_getstarted_InstallAndSetup_02.PNG \n",
    "style=\"height:400px;\"></center>\n",
    "\n",
    "**ArcGIS API for Python** is a new, object-oriented API from ArcGIS that is easy to learn, intuitive and plays well with open source Python libraries. I am sure you will fall in love with the beautiful, interactive map widget for Jupyter notebooks."
   ]
  },
  {
   "cell_type": "markdown",
   "metadata": {
    "slideshow": {
     "slide_type": "skip"
    }
   },
   "source": [
    "A Python API for GIS. Extremely easy to learn. Powerful with rich analytical and viz tools."
   ]
  },
  {
   "cell_type": "code",
   "execution_count": 1,
   "metadata": {
    "collapsed": true,
    "slideshow": {
     "slide_type": "skip"
    }
   },
   "outputs": [],
   "source": [
    "from arcgis.gis import *\n",
    "gis = GIS(\"https://geosaurus.maps.arcgis.com\",\"amani_geosaurus\",\"coldbrew<>1\")"
   ]
  },
  {
   "cell_type": "markdown",
   "metadata": {
    "slideshow": {
     "slide_type": "slide"
    }
   },
   "source": [
    "To display a map, just type:"
   ]
  },
  {
   "cell_type": "code",
   "execution_count": 5,
   "metadata": {
    "collapsed": false,
    "slideshow": {
     "slide_type": "fragment"
    }
   },
   "outputs": [
    {
     "data": {
      "application/vnd.jupyter.widget-view+json": {
       "model_id": "15ffe28800a04bc8806986c4c99e532b"
      }
     },
     "metadata": {},
     "output_type": "display_data"
    }
   ],
   "source": [
    "from arcgis.gis import *\n",
    "\n",
    "map1 = gis.map(\"Palm Springs, CA\")\n",
    "map1"
   ]
  },
  {
   "cell_type": "markdown",
   "metadata": {
    "slideshow": {
     "slide_type": "fragment"
    }
   },
   "source": [
    "<center><img src=\"http://esri.github.io/arcgis-python-api/notebooks/nbimages/02_Using_GIS_01.PNG\" style=\"height:400px;\"></center>"
   ]
  },
  {
   "cell_type": "markdown",
   "metadata": {
    "slideshow": {
     "slide_type": "slide"
    }
   },
   "source": [
    "Now lets take a look at some of the common functionalities that is possible with the API:\n",
    "\n",
    "# Geocode\n",
    "Geocode - turn address / place names to co-ordinates.\n",
    "The ArcGIS World Geocoding service that powers the Geocoding module of the API is versatile. You can specify single line address, multi-line, POI names and go town with category filtering and envelope definition. We will keep things a bit simple here"
   ]
  },
  {
   "cell_type": "code",
   "execution_count": 5,
   "metadata": {
    "collapsed": true,
    "slideshow": {
     "slide_type": "subslide"
    }
   },
   "outputs": [],
   "source": [
    "from arcgis.geocoding import geocode\n",
    "geocode_results = geocode(\"Oregon convention center\")\n",
    "pycon = geocode_results[1]"
   ]
  },
  {
   "cell_type": "code",
   "execution_count": 6,
   "metadata": {
    "collapsed": false,
    "slideshow": {
     "slide_type": "fragment"
    }
   },
   "outputs": [
    {
     "name": "stdout",
     "output_type": "stream",
     "text": [
      "{'y': 45.528279719000466, 'x': -122.6617093219997}\n",
      "777 NE Martin Luther King Jr Blvd, Portland, Oregon\n"
     ]
    }
   ],
   "source": [
    "print(pycon['location'])\n",
    "print(pycon['attributes']['Place_addr'])"
   ]
  },
  {
   "cell_type": "code",
   "execution_count": 7,
   "metadata": {
    "collapsed": false,
    "slideshow": {
     "slide_type": "fragment"
    }
   },
   "outputs": [
    {
     "data": {
      "application/vnd.jupyter.widget-view+json": {
       "model_id": "4aaa636b6e99484998d57ac2c5dff9f9"
      }
     },
     "metadata": {},
     "output_type": "display_data"
    }
   ],
   "source": [
    "map2 = gis.map(pycon['address'], zoomlevel=15)\n",
    "map2.draw(pycon['location'])\n",
    "map2"
   ]
  },
  {
   "cell_type": "markdown",
   "metadata": {
    "slideshow": {
     "slide_type": "fragment"
    }
   },
   "source": [
    "<center><img src=\"01_geocode_1.png\"></center>"
   ]
  },
  {
   "cell_type": "markdown",
   "metadata": {
    "slideshow": {
     "slide_type": "slide"
    }
   },
   "source": [
    "## Category name search\n",
    "Now let us see how to search for restaurants around the convention center"
   ]
  },
  {
   "cell_type": "code",
   "execution_count": 8,
   "metadata": {
    "collapsed": false,
    "slideshow": {
     "slide_type": "fragment"
    }
   },
   "outputs": [
    {
     "data": {
      "application/vnd.jupyter.widget-view+json": {
       "model_id": "313721d6d0e0441ca76bbe278deb91d0"
      }
     },
     "metadata": {},
     "output_type": "display_data"
    }
   ],
   "source": [
    "map3 = gis.map(pycon['address'], zoomlevel=14)\n",
    "map3.draw(pycon['location'])\n",
    "map3"
   ]
  },
  {
   "cell_type": "code",
   "execution_count": 9,
   "metadata": {
    "collapsed": true,
    "slideshow": {
     "slide_type": "fragment"
    }
   },
   "outputs": [],
   "source": [
    "restaurants = geocode('restaurant', search_extent = pycon['extent'], max_locations=10)\n",
    "for r in restaurants:\n",
    "    content_string = \"Phone: {} Address: {}\".format(r['attributes']['Phone'], r['attributes']['Place_addr'])\n",
    "    popup = {'title':r['attributes']['PlaceName'] + \" | \" + r['attributes']['Type'],\n",
    "            'content':content_string}\n",
    "    symbol_design = {'type':\"esriSMS\", 'style':'esriSMSDiamond', 'color':[ 50, 50, 255, 150 ]}\n",
    "    map3.draw(r['location'], popup, symbol=symbol_design)"
   ]
  },
  {
   "cell_type": "markdown",
   "metadata": {
    "slideshow": {
     "slide_type": "fragment"
    }
   },
   "source": [
    "<center><img src=\"02_geocode_2.png\" style=\"height:300px\"></center>"
   ]
  },
  {
   "cell_type": "markdown",
   "metadata": {
    "slideshow": {
     "slide_type": "slide"
    }
   },
   "source": [
    "You dont have to stop with listing the restaurants. If you like one, you can find the directions to it as well."
   ]
  },
  {
   "cell_type": "code",
   "execution_count": 10,
   "metadata": {
    "collapsed": true,
    "slideshow": {
     "slide_type": "fragment"
    }
   },
   "outputs": [],
   "source": [
    "ice_cream = restaurants[6]\n",
    "from arcgis.features.use_proximity import plan_routes\n",
    "import time"
   ]
  },
  {
   "cell_type": "code",
   "execution_count": 11,
   "metadata": {
    "collapsed": false
   },
   "outputs": [
    {
     "name": "stderr",
     "output_type": "stream",
     "text": [
      "{\"code\" : 0, \"messageCode\":\"GPEXT_016\",\"message\": \"Invalid layer object.\", \"params\":{}}\n",
      "{\"code\" : 0, \"messageCode\":\"GPEXT_016\",\"message\": \"Invalid layer object.\", \"params\":{}}\n",
      "{\"messageCode\": \"AO_100063\", \"message\": \"PlanRoutes failed.\"}\n",
      "{\"messageCode\": \"AO_100063\", \"message\": \"PlanRoutes failed.\"}\n",
      "Failed to execute (PlanRoutes).\n",
      "Failed to execute (PlanRoutes).\n",
      "Failed.\n",
      "Failed.\n"
     ]
    },
    {
     "ename": "Exception",
     "evalue": "Job failed.",
     "output_type": "error",
     "traceback": [
      "\u001b[0;31m---------------------------------------------------------------------------\u001b[0m",
      "\u001b[0;31mException\u001b[0m                                 Traceback (most recent call last)",
      "\u001b[0;32m<ipython-input-11-a3b2dfb8ae75>\u001b[0m in \u001b[0;36m<module>\u001b[0;34m()\u001b[0m\n\u001b[1;32m      1\u001b[0m pr = plan_routes(stops_layer=ice_cream['location'],route_count=1, max_stops_per_route=1, \n\u001b[0;32m----> 2\u001b[0;31m             route_start_time=time.time(), start_layer=pycon['location'])\n\u001b[0m",
      "\u001b[0;32m/Users/atma6951/anaconda/envs/geosaurus_gold_py35/lib/python3.5/site-packages/arcgis/features/use_proximity.py\u001b[0m in \u001b[0;36mplan_routes\u001b[0;34m(stops_layer, route_count, max_stops_per_route, route_start_time, start_layer, start_layer_route_id_field, return_to_start, end_layer, end_layer_route_id_field, travel_mode, stop_service_time, max_route_time, output_name, context, gis)\u001b[0m\n\u001b[1;32m    327\u001b[0m         \u001b[0mmax_route_time\u001b[0m\u001b[0;34m,\u001b[0m\u001b[0;34m\u001b[0m\u001b[0m\n\u001b[1;32m    328\u001b[0m         \u001b[0moutput_name\u001b[0m\u001b[0;34m,\u001b[0m\u001b[0;34m\u001b[0m\u001b[0m\n\u001b[0;32m--> 329\u001b[0;31m         context)\n\u001b[0m",
      "\u001b[0;32m/Users/atma6951/anaconda/envs/geosaurus_gold_py35/lib/python3.5/site-packages/arcgis/_impl/tools.py\u001b[0m in \u001b[0;36mplan_routes\u001b[0;34m(self, stops_layer, route_count, max_stops_per_route, route_start_time, start_layer, start_layer_route_id_field, return_to_start, end_layer, end_layer_route_id_field, travel_mode, stop_service_time, max_route_time, output_name, context)\u001b[0m\n\u001b[1;32m   1966\u001b[0m         \u001b[0mtask_url\u001b[0m\u001b[0;34m,\u001b[0m \u001b[0mjob_info\u001b[0m \u001b[0;34m=\u001b[0m \u001b[0msuper\u001b[0m\u001b[0;34m(\u001b[0m\u001b[0;34m)\u001b[0m\u001b[0;34m.\u001b[0m\u001b[0m_analysis_job\u001b[0m\u001b[0;34m(\u001b[0m\u001b[0mtask\u001b[0m\u001b[0;34m,\u001b[0m \u001b[0mparams\u001b[0m\u001b[0;34m)\u001b[0m\u001b[0;34m\u001b[0m\u001b[0m\n\u001b[1;32m   1967\u001b[0m \u001b[0;34m\u001b[0m\u001b[0m\n\u001b[0;32m-> 1968\u001b[0;31m         \u001b[0mjob_info\u001b[0m \u001b[0;34m=\u001b[0m \u001b[0msuper\u001b[0m\u001b[0;34m(\u001b[0m\u001b[0;34m)\u001b[0m\u001b[0;34m.\u001b[0m\u001b[0m_analysis_job_status\u001b[0m\u001b[0;34m(\u001b[0m\u001b[0mtask_url\u001b[0m\u001b[0;34m,\u001b[0m \u001b[0mjob_info\u001b[0m\u001b[0;34m)\u001b[0m\u001b[0;34m\u001b[0m\u001b[0m\n\u001b[0m\u001b[1;32m   1969\u001b[0m         \u001b[0mjob_values\u001b[0m \u001b[0;34m=\u001b[0m \u001b[0msuper\u001b[0m\u001b[0;34m(\u001b[0m\u001b[0;34m)\u001b[0m\u001b[0;34m.\u001b[0m\u001b[0m_analysis_job_results\u001b[0m\u001b[0;34m(\u001b[0m\u001b[0mtask_url\u001b[0m\u001b[0;34m,\u001b[0m \u001b[0mjob_info\u001b[0m\u001b[0;34m)\u001b[0m\u001b[0;34m\u001b[0m\u001b[0m\n\u001b[1;32m   1970\u001b[0m         \u001b[0;31m#print(job_values)\u001b[0m\u001b[0;34m\u001b[0m\u001b[0;34m\u001b[0m\u001b[0m\n",
      "\u001b[0;32m/Users/atma6951/anaconda/envs/geosaurus_gold_py35/lib/python3.5/site-packages/arcgis/_impl/tools.py\u001b[0m in \u001b[0;36m_analysis_job_status\u001b[0;34m(self, task_url, job_info)\u001b[0m\n\u001b[1;32m    183\u001b[0m \u001b[0;34m\u001b[0m\u001b[0m\n\u001b[1;32m    184\u001b[0m                     \u001b[0;32mif\u001b[0m \u001b[0mjob_response\u001b[0m\u001b[0;34m.\u001b[0m\u001b[0mget\u001b[0m\u001b[0;34m(\u001b[0m\u001b[0;34m\"jobStatus\"\u001b[0m\u001b[0;34m)\u001b[0m \u001b[0;34m==\u001b[0m \u001b[0;34m\"esriJobFailed\"\u001b[0m\u001b[0;34m:\u001b[0m\u001b[0;34m\u001b[0m\u001b[0m\n\u001b[0;32m--> 185\u001b[0;31m                         \u001b[0;32mraise\u001b[0m \u001b[0mException\u001b[0m\u001b[0;34m(\u001b[0m\u001b[0;34m\"Job failed.\"\u001b[0m\u001b[0;34m)\u001b[0m\u001b[0;34m\u001b[0m\u001b[0m\n\u001b[0m\u001b[1;32m    186\u001b[0m                     \u001b[0;32melif\u001b[0m \u001b[0mjob_response\u001b[0m\u001b[0;34m.\u001b[0m\u001b[0mget\u001b[0m\u001b[0;34m(\u001b[0m\u001b[0;34m\"jobStatus\"\u001b[0m\u001b[0;34m)\u001b[0m \u001b[0;34m==\u001b[0m \u001b[0;34m\"esriJobCancelled\"\u001b[0m\u001b[0;34m:\u001b[0m\u001b[0;34m\u001b[0m\u001b[0m\n\u001b[1;32m    187\u001b[0m                         \u001b[0;32mraise\u001b[0m \u001b[0mException\u001b[0m\u001b[0;34m(\u001b[0m\u001b[0;34m\"Job cancelled.\"\u001b[0m\u001b[0;34m)\u001b[0m\u001b[0;34m\u001b[0m\u001b[0m\n",
      "\u001b[0;31mException\u001b[0m: Job failed."
     ]
    }
   ],
   "source": [
    "pr = plan_routes(stops_layer=ice_cream['location'],route_count=1, max_stops_per_route=1, \n",
    "            route_start_time=time.time(), start_layer=pycon['location'])"
   ]
  },
  {
   "cell_type": "code",
   "execution_count": null,
   "metadata": {
    "collapsed": true
   },
   "outputs": [],
   "source": []
  }
 ],
 "metadata": {
  "celltoolbar": "Slideshow",
  "kernelspec": {
   "display_name": "Python 3",
   "language": "python",
   "name": "python3"
  },
  "language_info": {
   "codemirror_mode": {
    "name": "ipython",
    "version": 3
   },
   "file_extension": ".py",
   "mimetype": "text/x-python",
   "name": "python",
   "nbconvert_exporter": "python",
   "pygments_lexer": "ipython3",
   "version": "3.5.2"
  }
 },
 "nbformat": 4,
 "nbformat_minor": 2
}
